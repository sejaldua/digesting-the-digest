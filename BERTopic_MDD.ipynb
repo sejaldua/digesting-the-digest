{
  "nbformat": 4,
  "nbformat_minor": 0,
  "metadata": {
    "colab": {
      "name": "BERTopic-MDD.ipynb",
      "provenance": [],
      "collapsed_sections": [],
      "toc_visible": true,
      "include_colab_link": true
    },
    "kernelspec": {
      "name": "python3",
      "display_name": "Python 3"
    },
    "accelerator": "GPU",
    "widgets": {
      "application/vnd.jupyter.widget-state+json": {
        "3934ea3697e045b7adb735a84fa14306": {
          "model_module": "@jupyter-widgets/controls",
          "model_name": "HBoxModel",
          "model_module_version": "1.5.0",
          "state": {
            "_view_name": "HBoxView",
            "_dom_classes": [],
            "_model_name": "HBoxModel",
            "_view_module": "@jupyter-widgets/controls",
            "_model_module_version": "1.5.0",
            "_view_count": null,
            "_view_module_version": "1.5.0",
            "box_style": "",
            "layout": "IPY_MODEL_7e2883a5105e472ba579152a8f564327",
            "_model_module": "@jupyter-widgets/controls",
            "children": [
              "IPY_MODEL_c69751a317574305ae8225ccaecec477",
              "IPY_MODEL_3d73ad39a80b4cd1acf28267926247d0",
              "IPY_MODEL_c38ab9ef70614dd6bd50a2e56edc9949"
            ]
          }
        },
        "7e2883a5105e472ba579152a8f564327": {
          "model_module": "@jupyter-widgets/base",
          "model_name": "LayoutModel",
          "model_module_version": "1.2.0",
          "state": {
            "_view_name": "LayoutView",
            "grid_template_rows": null,
            "right": null,
            "justify_content": null,
            "_view_module": "@jupyter-widgets/base",
            "overflow": null,
            "_model_module_version": "1.2.0",
            "_view_count": null,
            "flex_flow": null,
            "width": null,
            "min_width": null,
            "border": null,
            "align_items": null,
            "bottom": null,
            "_model_module": "@jupyter-widgets/base",
            "top": null,
            "grid_column": null,
            "overflow_y": null,
            "overflow_x": null,
            "grid_auto_flow": null,
            "grid_area": null,
            "grid_template_columns": null,
            "flex": null,
            "_model_name": "LayoutModel",
            "justify_items": null,
            "grid_row": null,
            "max_height": null,
            "align_content": null,
            "visibility": null,
            "align_self": null,
            "height": null,
            "min_height": null,
            "padding": null,
            "grid_auto_rows": null,
            "grid_gap": null,
            "max_width": null,
            "order": null,
            "_view_module_version": "1.2.0",
            "grid_template_areas": null,
            "object_position": null,
            "object_fit": null,
            "grid_auto_columns": null,
            "margin": null,
            "display": null,
            "left": null
          }
        },
        "c69751a317574305ae8225ccaecec477": {
          "model_module": "@jupyter-widgets/controls",
          "model_name": "HTMLModel",
          "model_module_version": "1.5.0",
          "state": {
            "_view_name": "HTMLView",
            "style": "IPY_MODEL_499b1b11f598438c98dcbb50c65e6876",
            "_dom_classes": [],
            "description": "",
            "_model_name": "HTMLModel",
            "placeholder": "​",
            "_view_module": "@jupyter-widgets/controls",
            "_model_module_version": "1.5.0",
            "value": "Batches: 100%",
            "_view_count": null,
            "_view_module_version": "1.5.0",
            "description_tooltip": null,
            "_model_module": "@jupyter-widgets/controls",
            "layout": "IPY_MODEL_37bcd018c25844298e32ab7febe1fa9a"
          }
        },
        "3d73ad39a80b4cd1acf28267926247d0": {
          "model_module": "@jupyter-widgets/controls",
          "model_name": "FloatProgressModel",
          "model_module_version": "1.5.0",
          "state": {
            "_view_name": "ProgressView",
            "style": "IPY_MODEL_5b1c9a40fe2445b0aa27a9a10c5978e8",
            "_dom_classes": [],
            "description": "",
            "_model_name": "FloatProgressModel",
            "bar_style": "success",
            "max": 288,
            "_view_module": "@jupyter-widgets/controls",
            "_model_module_version": "1.5.0",
            "value": 288,
            "_view_count": null,
            "_view_module_version": "1.5.0",
            "orientation": "horizontal",
            "min": 0,
            "description_tooltip": null,
            "_model_module": "@jupyter-widgets/controls",
            "layout": "IPY_MODEL_fc6b54473be04c2f84738179b583a3a9"
          }
        },
        "c38ab9ef70614dd6bd50a2e56edc9949": {
          "model_module": "@jupyter-widgets/controls",
          "model_name": "HTMLModel",
          "model_module_version": "1.5.0",
          "state": {
            "_view_name": "HTMLView",
            "style": "IPY_MODEL_a983459d6f394c25826ddb77ebd92c8e",
            "_dom_classes": [],
            "description": "",
            "_model_name": "HTMLModel",
            "placeholder": "​",
            "_view_module": "@jupyter-widgets/controls",
            "_model_module_version": "1.5.0",
            "value": " 288/288 [00:02&lt;00:00, 141.36it/s]",
            "_view_count": null,
            "_view_module_version": "1.5.0",
            "description_tooltip": null,
            "_model_module": "@jupyter-widgets/controls",
            "layout": "IPY_MODEL_721dd5ca1c8747c1b677d8dea9931d43"
          }
        },
        "499b1b11f598438c98dcbb50c65e6876": {
          "model_module": "@jupyter-widgets/controls",
          "model_name": "DescriptionStyleModel",
          "model_module_version": "1.5.0",
          "state": {
            "_view_name": "StyleView",
            "_model_name": "DescriptionStyleModel",
            "description_width": "",
            "_view_module": "@jupyter-widgets/base",
            "_model_module_version": "1.5.0",
            "_view_count": null,
            "_view_module_version": "1.2.0",
            "_model_module": "@jupyter-widgets/controls"
          }
        },
        "37bcd018c25844298e32ab7febe1fa9a": {
          "model_module": "@jupyter-widgets/base",
          "model_name": "LayoutModel",
          "model_module_version": "1.2.0",
          "state": {
            "_view_name": "LayoutView",
            "grid_template_rows": null,
            "right": null,
            "justify_content": null,
            "_view_module": "@jupyter-widgets/base",
            "overflow": null,
            "_model_module_version": "1.2.0",
            "_view_count": null,
            "flex_flow": null,
            "width": null,
            "min_width": null,
            "border": null,
            "align_items": null,
            "bottom": null,
            "_model_module": "@jupyter-widgets/base",
            "top": null,
            "grid_column": null,
            "overflow_y": null,
            "overflow_x": null,
            "grid_auto_flow": null,
            "grid_area": null,
            "grid_template_columns": null,
            "flex": null,
            "_model_name": "LayoutModel",
            "justify_items": null,
            "grid_row": null,
            "max_height": null,
            "align_content": null,
            "visibility": null,
            "align_self": null,
            "height": null,
            "min_height": null,
            "padding": null,
            "grid_auto_rows": null,
            "grid_gap": null,
            "max_width": null,
            "order": null,
            "_view_module_version": "1.2.0",
            "grid_template_areas": null,
            "object_position": null,
            "object_fit": null,
            "grid_auto_columns": null,
            "margin": null,
            "display": null,
            "left": null
          }
        },
        "5b1c9a40fe2445b0aa27a9a10c5978e8": {
          "model_module": "@jupyter-widgets/controls",
          "model_name": "ProgressStyleModel",
          "model_module_version": "1.5.0",
          "state": {
            "_view_name": "StyleView",
            "_model_name": "ProgressStyleModel",
            "description_width": "",
            "_view_module": "@jupyter-widgets/base",
            "_model_module_version": "1.5.0",
            "_view_count": null,
            "_view_module_version": "1.2.0",
            "bar_color": null,
            "_model_module": "@jupyter-widgets/controls"
          }
        },
        "fc6b54473be04c2f84738179b583a3a9": {
          "model_module": "@jupyter-widgets/base",
          "model_name": "LayoutModel",
          "model_module_version": "1.2.0",
          "state": {
            "_view_name": "LayoutView",
            "grid_template_rows": null,
            "right": null,
            "justify_content": null,
            "_view_module": "@jupyter-widgets/base",
            "overflow": null,
            "_model_module_version": "1.2.0",
            "_view_count": null,
            "flex_flow": null,
            "width": null,
            "min_width": null,
            "border": null,
            "align_items": null,
            "bottom": null,
            "_model_module": "@jupyter-widgets/base",
            "top": null,
            "grid_column": null,
            "overflow_y": null,
            "overflow_x": null,
            "grid_auto_flow": null,
            "grid_area": null,
            "grid_template_columns": null,
            "flex": null,
            "_model_name": "LayoutModel",
            "justify_items": null,
            "grid_row": null,
            "max_height": null,
            "align_content": null,
            "visibility": null,
            "align_self": null,
            "height": null,
            "min_height": null,
            "padding": null,
            "grid_auto_rows": null,
            "grid_gap": null,
            "max_width": null,
            "order": null,
            "_view_module_version": "1.2.0",
            "grid_template_areas": null,
            "object_position": null,
            "object_fit": null,
            "grid_auto_columns": null,
            "margin": null,
            "display": null,
            "left": null
          }
        },
        "a983459d6f394c25826ddb77ebd92c8e": {
          "model_module": "@jupyter-widgets/controls",
          "model_name": "DescriptionStyleModel",
          "model_module_version": "1.5.0",
          "state": {
            "_view_name": "StyleView",
            "_model_name": "DescriptionStyleModel",
            "description_width": "",
            "_view_module": "@jupyter-widgets/base",
            "_model_module_version": "1.5.0",
            "_view_count": null,
            "_view_module_version": "1.2.0",
            "_model_module": "@jupyter-widgets/controls"
          }
        },
        "721dd5ca1c8747c1b677d8dea9931d43": {
          "model_module": "@jupyter-widgets/base",
          "model_name": "LayoutModel",
          "model_module_version": "1.2.0",
          "state": {
            "_view_name": "LayoutView",
            "grid_template_rows": null,
            "right": null,
            "justify_content": null,
            "_view_module": "@jupyter-widgets/base",
            "overflow": null,
            "_model_module_version": "1.2.0",
            "_view_count": null,
            "flex_flow": null,
            "width": null,
            "min_width": null,
            "border": null,
            "align_items": null,
            "bottom": null,
            "_model_module": "@jupyter-widgets/base",
            "top": null,
            "grid_column": null,
            "overflow_y": null,
            "overflow_x": null,
            "grid_auto_flow": null,
            "grid_area": null,
            "grid_template_columns": null,
            "flex": null,
            "_model_name": "LayoutModel",
            "justify_items": null,
            "grid_row": null,
            "max_height": null,
            "align_content": null,
            "visibility": null,
            "align_self": null,
            "height": null,
            "min_height": null,
            "padding": null,
            "grid_auto_rows": null,
            "grid_gap": null,
            "max_width": null,
            "order": null,
            "_view_module_version": "1.2.0",
            "grid_template_areas": null,
            "object_position": null,
            "object_fit": null,
            "grid_auto_columns": null,
            "margin": null,
            "display": null,
            "left": null
          }
        }
      }
    }
  },
  "cells": [
    {
      "cell_type": "markdown",
      "metadata": {
        "id": "view-in-github",
        "colab_type": "text"
      },
      "source": [
        "<a href=\"https://colab.research.google.com/github/sejaldua/digesting-the-digest/blob/main/BERTopic_MDD.ipynb\" target=\"_parent\"><img src=\"https://colab.research.google.com/assets/colab-badge.svg\" alt=\"Open In Colab\"/></a>"
      ]
    },
    {
      "cell_type": "markdown",
      "metadata": {
        "id": "AXHLDxJdRzBi"
      },
      "source": [
        "## Dynamic Topic Models\n",
        "Dynamic topic models can be used to analyze the evolution of topics of a collection of documents over time. \n",
        "\n",
        "<br>\n",
        "\n",
        "<img src=\"https://raw.githubusercontent.com/MaartenGr/BERTopic/master/images/logo.png\" width=\"40%\">"
      ]
    },
    {
      "cell_type": "markdown",
      "metadata": {
        "id": "OeFueQ8xP_7E"
      },
      "source": [
        "# Installing BERTopic\n",
        "\n",
        "We start by installing BERTopic from PyPi:"
      ]
    },
    {
      "cell_type": "code",
      "metadata": {
        "id": "SNa-KtKDRnus"
      },
      "source": [
        "%%capture\n",
        "!pip install bertopic numpy"
      ],
      "execution_count": null,
      "outputs": []
    },
    {
      "cell_type": "markdown",
      "metadata": {
        "id": "yeg8RIjrQFkE"
      },
      "source": [
        "## Restart the Notebook\n",
        "After installing BERTopic, some packages that were already loaded were updated and in order to correctly use them, we should now restart the notebook.\n",
        "\n",
        "From the Menu:\n",
        "\n",
        "Runtime → Restart Runtime"
      ]
    },
    {
      "cell_type": "markdown",
      "metadata": {
        "id": "Y3VGFZ1USMTu"
      },
      "source": [
        "# **Data**\n",
        "For this tutorial, we will be needing to extract all Trump's Tweet from his @realDonalTrump account. We will be removing all retweet and focus on his original tweets. \n",
        "\n",
        "Moreover, since we are looking at his tweets over time, we will be saving all timestamps related to his tweets."
      ]
    },
    {
      "cell_type": "code",
      "metadata": {
        "id": "JJij3WP6SEQD"
      },
      "source": [
        "import re\n",
        "import pandas as pd\n",
        "from datetime import datetime\n",
        "\n",
        "# Load data\n",
        "df = pd.read_csv('https://raw.githubusercontent.com/sejaldua/digesting-the-digest/main/article_data_via_gmail_api.csv')\n",
        "\n",
        "# Get variables\n",
        "titles = df.Title.to_list()\n",
        "dates = df['Date'].apply(lambda x: pd.Timestamp(x))"
      ],
      "execution_count": null,
      "outputs": []
    },
    {
      "cell_type": "code",
      "metadata": {
        "colab": {
          "base_uri": "https://localhost:8080/",
          "height": 589
        },
        "id": "LO0rha3T1U-y",
        "outputId": "a3284407-8678-425d-fdec-70297012b9c6"
      },
      "source": [
        "df"
      ],
      "execution_count": null,
      "outputs": [
        {
          "output_type": "execute_result",
          "data": {
            "text/html": [
              "<div>\n",
              "<style scoped>\n",
              "    .dataframe tbody tr th:only-of-type {\n",
              "        vertical-align: middle;\n",
              "    }\n",
              "\n",
              "    .dataframe tbody tr th {\n",
              "        vertical-align: top;\n",
              "    }\n",
              "\n",
              "    .dataframe thead th {\n",
              "        text-align: right;\n",
              "    }\n",
              "</style>\n",
              "<table border=\"1\" class=\"dataframe\">\n",
              "  <thead>\n",
              "    <tr style=\"text-align: right;\">\n",
              "      <th></th>\n",
              "      <th>Date</th>\n",
              "      <th>Title</th>\n",
              "      <th>Subtitle</th>\n",
              "      <th>Author</th>\n",
              "      <th>Publication</th>\n",
              "      <th>Minutes</th>\n",
              "    </tr>\n",
              "  </thead>\n",
              "  <tbody>\n",
              "    <tr>\n",
              "      <th>0</th>\n",
              "      <td>2021-08-16 11:40:00+00:00</td>\n",
              "      <td>My Favorite Pandas Method Chains</td>\n",
              "      <td>Method chains I use (and reuse) because they'r...</td>\n",
              "      <td>Adam Ross Nelson</td>\n",
              "      <td>Level Up Coding</td>\n",
              "      <td>3</td>\n",
              "    </tr>\n",
              "    <tr>\n",
              "      <th>1</th>\n",
              "      <td>2021-08-16 11:40:00+00:00</td>\n",
              "      <td>Graph Thinking</td>\n",
              "      <td>A kind of cognitive framework called graph thi...</td>\n",
              "      <td>Paco Nathan</td>\n",
              "      <td>Knowledge Technologies</td>\n",
              "      <td>6</td>\n",
              "    </tr>\n",
              "    <tr>\n",
              "      <th>2</th>\n",
              "      <td>2021-08-16 11:40:00+00:00</td>\n",
              "      <td>Building and deploying end-to-end fake news cl...</td>\n",
              "      <td>In this digital era of smartphones and the int...</td>\n",
              "      <td>Eish Kumar</td>\n",
              "      <td>Towards Data Science</td>\n",
              "      <td>8</td>\n",
              "    </tr>\n",
              "    <tr>\n",
              "      <th>3</th>\n",
              "      <td>2021-08-16 11:40:00+00:00</td>\n",
              "      <td>Top 10 Machine Learning Algorithms You Should ...</td>\n",
              "      <td>Nowadays businesses are focusing on automation...</td>\n",
              "      <td>Nora Winkens</td>\n",
              "      <td>Artificial Intelligence in Plain English</td>\n",
              "      <td>4</td>\n",
              "    </tr>\n",
              "    <tr>\n",
              "      <th>4</th>\n",
              "      <td>2021-08-16 11:40:00+00:00</td>\n",
              "      <td>Scraping Tutorial on Airbnb's Website (with Sc...</td>\n",
              "      <td>Making your first steps in automating data col...</td>\n",
              "      <td>Thibaud Lamothe</td>\n",
              "      <td>Geek Culture</td>\n",
              "      <td>13</td>\n",
              "    </tr>\n",
              "    <tr>\n",
              "      <th>...</th>\n",
              "      <td>...</td>\n",
              "      <td>...</td>\n",
              "      <td>...</td>\n",
              "      <td>...</td>\n",
              "      <td>...</td>\n",
              "      <td>...</td>\n",
              "    </tr>\n",
              "    <tr>\n",
              "      <th>9211</th>\n",
              "      <td>2020-01-01 16:30:00+00:00</td>\n",
              "      <td>How to Get the Unquantifiable Benefits of Cold...</td>\n",
              "      <td>The surprising side effects that science can't...</td>\n",
              "      <td>May Pang</td>\n",
              "      <td>Better Humans</td>\n",
              "      <td>10</td>\n",
              "    </tr>\n",
              "    <tr>\n",
              "      <th>9212</th>\n",
              "      <td>2020-01-01 16:30:00+00:00</td>\n",
              "      <td>Screw Productivity Hacks: My Morning Routine I...</td>\n",
              "      <td>Anyone who brags about a 3:30 a.m. gym routine...</td>\n",
              "      <td>Jessica Valenti</td>\n",
              "      <td>GEN</td>\n",
              "      <td>3</td>\n",
              "    </tr>\n",
              "    <tr>\n",
              "      <th>9213</th>\n",
              "      <td>2020-01-01 16:30:00+00:00</td>\n",
              "      <td>The Latest Science on Chronic Pain Is Fascinat...</td>\n",
              "      <td>Experts can even predict who's likely to suffe...</td>\n",
              "      <td>Robert Roy Britt</td>\n",
              "      <td>Elemental</td>\n",
              "      <td>14</td>\n",
              "    </tr>\n",
              "    <tr>\n",
              "      <th>9214</th>\n",
              "      <td>2020-01-01 16:30:00+00:00</td>\n",
              "      <td>5 scientific myths you probably believe about ...</td>\n",
              "      <td>How a little knowledge can bring about some hu...</td>\n",
              "      <td>Ethan Siegel</td>\n",
              "      <td>Starts With A Bang!</td>\n",
              "      <td>8</td>\n",
              "    </tr>\n",
              "    <tr>\n",
              "      <th>9215</th>\n",
              "      <td>2020-01-01 16:30:00+00:00</td>\n",
              "      <td>How Jo March Became a Girlboss</td>\n",
              "      <td>Every generation gets the 'Little Women' it de...</td>\n",
              "      <td>Madeline Leung Coleman</td>\n",
              "      <td>GEN</td>\n",
              "      <td>9</td>\n",
              "    </tr>\n",
              "  </tbody>\n",
              "</table>\n",
              "<p>9216 rows × 6 columns</p>\n",
              "</div>"
            ],
            "text/plain": [
              "                           Date  ... Minutes\n",
              "0     2021-08-16 11:40:00+00:00  ...       3\n",
              "1     2021-08-16 11:40:00+00:00  ...       6\n",
              "2     2021-08-16 11:40:00+00:00  ...       8\n",
              "3     2021-08-16 11:40:00+00:00  ...       4\n",
              "4     2021-08-16 11:40:00+00:00  ...      13\n",
              "...                         ...  ...     ...\n",
              "9211  2020-01-01 16:30:00+00:00  ...      10\n",
              "9212  2020-01-01 16:30:00+00:00  ...       3\n",
              "9213  2020-01-01 16:30:00+00:00  ...      14\n",
              "9214  2020-01-01 16:30:00+00:00  ...       8\n",
              "9215  2020-01-01 16:30:00+00:00  ...       9\n",
              "\n",
              "[9216 rows x 6 columns]"
            ]
          },
          "metadata": {
            "tags": []
          },
          "execution_count": 7
        }
      ]
    },
    {
      "cell_type": "markdown",
      "metadata": {
        "id": "SBcNmZJzSTY8"
      },
      "source": [
        "# **Dynamic Topic Modeling**\n"
      ]
    },
    {
      "cell_type": "markdown",
      "metadata": {
        "id": "iNoAyX1CSHRh"
      },
      "source": [
        "## Basic Topic Model\n",
        "To perform Dynamic Topic Modeling with BERTopic we will first need to create a basic topic model using all tweets. The temporal aspect will be ignored as we are, for now, only interested in the topics that reside in those tweets. "
      ]
    },
    {
      "cell_type": "code",
      "metadata": {
        "id": "TfhfzqkoSJ1I",
        "colab": {
          "base_uri": "https://localhost:8080/",
          "height": 100,
          "referenced_widgets": [
            "3934ea3697e045b7adb735a84fa14306",
            "7e2883a5105e472ba579152a8f564327",
            "c69751a317574305ae8225ccaecec477",
            "3d73ad39a80b4cd1acf28267926247d0",
            "c38ab9ef70614dd6bd50a2e56edc9949",
            "499b1b11f598438c98dcbb50c65e6876",
            "37bcd018c25844298e32ab7febe1fa9a",
            "5b1c9a40fe2445b0aa27a9a10c5978e8",
            "fc6b54473be04c2f84738179b583a3a9",
            "a983459d6f394c25826ddb77ebd92c8e",
            "721dd5ca1c8747c1b677d8dea9931d43"
          ]
        },
        "outputId": "863a2248-71c7-482c-e2a8-24265c54d0bd"
      },
      "source": [
        "\n",
        "from bertopic import BERTopic\n",
        "topic_model = BERTopic(min_topic_size=50, n_gram_range=(1,3), verbose=True)\n",
        "topics, _ = topic_model.fit_transform(titles)"
      ],
      "execution_count": null,
      "outputs": [
        {
          "output_type": "display_data",
          "data": {
            "application/vnd.jupyter.widget-view+json": {
              "model_id": "3934ea3697e045b7adb735a84fa14306",
              "version_minor": 0,
              "version_major": 2
            },
            "text/plain": [
              "Batches:   0%|          | 0/288 [00:00<?, ?it/s]"
            ]
          },
          "metadata": {
            "tags": []
          }
        },
        {
          "output_type": "stream",
          "text": [
            "2021-08-17 02:19:22,083 - BERTopic - Transformed documents to Embeddings\n",
            "2021-08-17 02:19:35,759 - BERTopic - Reduced dimensionality with UMAP\n",
            "2021-08-17 02:19:36,279 - BERTopic - Clustered UMAP embeddings with HDBSCAN\n"
          ],
          "name": "stderr"
        }
      ]
    },
    {
      "cell_type": "markdown",
      "metadata": {
        "id": "0ua80usww-rj"
      },
      "source": [
        "We can then extract most frequent topics:"
      ]
    },
    {
      "cell_type": "code",
      "metadata": {
        "colab": {
          "base_uri": "https://localhost:8080/",
          "height": 359
        },
        "id": "VUNsYrCETNar",
        "outputId": "a286052a-5500-42d3-be29-61b6589b0e8d"
      },
      "source": [
        "freq = topic_model.get_topic_info(); freq.head(10)"
      ],
      "execution_count": null,
      "outputs": [
        {
          "output_type": "execute_result",
          "data": {
            "text/html": [
              "<div>\n",
              "<style scoped>\n",
              "    .dataframe tbody tr th:only-of-type {\n",
              "        vertical-align: middle;\n",
              "    }\n",
              "\n",
              "    .dataframe tbody tr th {\n",
              "        vertical-align: top;\n",
              "    }\n",
              "\n",
              "    .dataframe thead th {\n",
              "        text-align: right;\n",
              "    }\n",
              "</style>\n",
              "<table border=\"1\" class=\"dataframe\">\n",
              "  <thead>\n",
              "    <tr style=\"text-align: right;\">\n",
              "      <th></th>\n",
              "      <th>Topic</th>\n",
              "      <th>Count</th>\n",
              "      <th>Name</th>\n",
              "    </tr>\n",
              "  </thead>\n",
              "  <tbody>\n",
              "    <tr>\n",
              "      <th>0</th>\n",
              "      <td>-1</td>\n",
              "      <td>2897</td>\n",
              "      <td>-1_of_how_your_in</td>\n",
              "    </tr>\n",
              "    <tr>\n",
              "      <th>1</th>\n",
              "      <td>0</td>\n",
              "      <td>542</td>\n",
              "      <td>0_python_in python_python code_with python</td>\n",
              "    </tr>\n",
              "    <tr>\n",
              "      <th>2</th>\n",
              "      <td>1</td>\n",
              "      <td>478</td>\n",
              "      <td>1_data science_data scientist_data scientists_...</td>\n",
              "    </tr>\n",
              "    <tr>\n",
              "      <th>3</th>\n",
              "      <td>2</td>\n",
              "      <td>423</td>\n",
              "      <td>2_life_things_my_relationship</td>\n",
              "    </tr>\n",
              "    <tr>\n",
              "      <th>4</th>\n",
              "      <td>3</td>\n",
              "      <td>334</td>\n",
              "      <td>3_code_developer_programming_software</td>\n",
              "    </tr>\n",
              "    <tr>\n",
              "      <th>5</th>\n",
              "      <td>4</td>\n",
              "      <td>332</td>\n",
              "      <td>4_visualization_data visualization_python_visu...</td>\n",
              "    </tr>\n",
              "    <tr>\n",
              "      <th>6</th>\n",
              "      <td>5</td>\n",
              "      <td>313</td>\n",
              "      <td>5_sentiment_sentiment analysis_recommendation ...</td>\n",
              "    </tr>\n",
              "    <tr>\n",
              "      <th>7</th>\n",
              "      <td>6</td>\n",
              "      <td>305</td>\n",
              "      <td>6_machine learning_deep learning_in machine le...</td>\n",
              "    </tr>\n",
              "    <tr>\n",
              "      <th>8</th>\n",
              "      <td>7</td>\n",
              "      <td>300</td>\n",
              "      <td>7_react_with react_in react_react app</td>\n",
              "    </tr>\n",
              "    <tr>\n",
              "      <th>9</th>\n",
              "      <td>8</td>\n",
              "      <td>297</td>\n",
              "      <td>8_natural language_language processing_natural...</td>\n",
              "    </tr>\n",
              "  </tbody>\n",
              "</table>\n",
              "</div>"
            ],
            "text/plain": [
              "   Topic  Count                                               Name\n",
              "0     -1   2897                                  -1_of_how_your_in\n",
              "1      0    542         0_python_in python_python code_with python\n",
              "2      1    478  1_data science_data scientist_data scientists_...\n",
              "3      2    423                      2_life_things_my_relationship\n",
              "4      3    334              3_code_developer_programming_software\n",
              "5      4    332  4_visualization_data visualization_python_visu...\n",
              "6      5    313  5_sentiment_sentiment analysis_recommendation ...\n",
              "7      6    305  6_machine learning_deep learning_in machine le...\n",
              "8      7    300              7_react_with react_in react_react app\n",
              "9      8    297  8_natural language_language processing_natural..."
            ]
          },
          "metadata": {
            "tags": []
          },
          "execution_count": 36
        }
      ]
    },
    {
      "cell_type": "markdown",
      "metadata": {
        "id": "dJdtc7UOUm0v"
      },
      "source": [
        "-1 refers to all outliers and should typically be ignored. Next, let's take a look at a frequent topic that were generated:"
      ]
    },
    {
      "cell_type": "code",
      "metadata": {
        "colab": {
          "base_uri": "https://localhost:8080/"
        },
        "id": "7McsixbJT6c_",
        "outputId": "6794f3cf-ed3d-4622-b36f-437629026cc1"
      },
      "source": [
        "topic_nr = freq.iloc[3][\"Topic\"]  # We select a frequent topic\n",
        "topic_model.get_topic(topic_nr)   # You can select a topic number as shown above"
      ],
      "execution_count": null,
      "outputs": [
        {
          "output_type": "execute_result",
          "data": {
            "text/plain": [
              "[('life', 0.013732386718435623),\n",
              " ('things', 0.013647639877610378),\n",
              " ('my', 0.012745933536359767),\n",
              " ('relationship', 0.009219503333078322),\n",
              " ('dating', 0.00904389816971254),\n",
              " ('youre', 0.008783881874910188),\n",
              " ('habits of', 0.007144280064490392),\n",
              " ('habits', 0.00683647390852386),\n",
              " ('be', 0.006628953437421481),\n",
              " ('love', 0.006228716282261951)]"
            ]
          },
          "metadata": {
            "tags": []
          },
          "execution_count": 37
        }
      ]
    },
    {
      "cell_type": "markdown",
      "metadata": {
        "id": "3NbUMNuSUquk"
      },
      "source": [
        "We can visualize the basic topics that were created with the Intertopic Distance Map. This allows us to judge visually whether the basic topics are sufficient before proceeding to creating the topics over time. "
      ]
    },
    {
      "cell_type": "code",
      "metadata": {
        "colab": {
          "base_uri": "https://localhost:8080/",
          "height": 667
        },
        "id": "AQxSW8IMUpxj",
        "outputId": "598fda38-d42d-4ec3-a42a-52b3088ee7e4"
      },
      "source": [
        "fig = topic_model.visualize_topics(); fig"
      ],
      "execution_count": null,
      "outputs": [
        {
          "output_type": "display_data",
          "data": {
            "text/html": [
              "<html>\n",
              "<head><meta charset=\"utf-8\" /></head>\n",
              "<body>\n",
              "    <div>            <script src=\"https://cdnjs.cloudflare.com/ajax/libs/mathjax/2.7.5/MathJax.js?config=TeX-AMS-MML_SVG\"></script><script type=\"text/javascript\">if (window.MathJax) {MathJax.Hub.Config({SVG: {font: \"STIX-Web\"}});}</script>                <script type=\"text/javascript\">window.PlotlyConfig = {MathJaxConfig: 'local'};</script>\n",
              "        <script src=\"https://cdn.plot.ly/plotly-latest.min.js\"></script>                <div id=\"dc17a743-a33e-47ac-9912-80877ea69bd0\" class=\"plotly-graph-div\" style=\"height:650px; width:650px;\"></div>            <script type=\"text/javascript\">                                    window.PLOTLYENV=window.PLOTLYENV || {};                                    if (document.getElementById(\"dc17a743-a33e-47ac-9912-80877ea69bd0\")) {                    Plotly.newPlot(                        \"dc17a743-a33e-47ac-9912-80877ea69bd0\",                        [{\"customdata\": [[7.941145420074463, 4.705955982208252, 0, \"python | in python | python code | with python | your python\", 542], [7.359436988830566, 4.328596115112305, 1, \"data science | data scientist | data scientists | in data science | for data science\", 478], [3.390533208847046, -7.376188278198242, 2, \"life | things | my | relationship | dating\", 423], [7.4843668937683105, 4.549936294555664, 3, \"code | developer | programming | software | developers\", 334], [-4.1160888671875, -7.949952125549316, 4, \"visualization | data visualization | python | visualizations | charts\", 332], [-6.621191501617432, 19.617673873901367, 5, \"sentiment | sentiment analysis | recommendation system | sentiment analysis using | twitter sentiment analysis\", 313], [2.285151720046997, 11.546772956848145, 6, \"machine learning | deep learning | in machine learning | for machine learning | machine learning models\", 305], [-13.507253646850586, 2.1310787200927734, 7, \"react | with react | in react | react app | react hooks\", 300], [2.4540581703186035, 11.377744674682617, 8, \"natural language | language processing | natural language processing | classification | text classification\", 297], [13.684399604797363, 0.22573541104793549, 9, \"black | white | racism | racist | black women\", 210], [13.277143478393555, 0.489471435546875, 10, \"2020 | will | the universe | universe | ask ethan\", 190], [-6.289441108703613, 19.949230194091797, 11, \"regression | linear regression | regression in | linear regression in | logistic regression\", 175], [7.756966590881348, 5.065094947814941, 12, \"pandas | using pandas | in pandas | with pandas | pandas with\", 157], [13.349356651306152, 0.4638771116733551, 13, \"pandemic | the pandemic | pandemic is | the pandemic is | of the pandemic\", 131], [-3.800600051879883, -8.26568603515625, 14, \"scraping | web scraping | scrape | to scrape | scraping with\", 125], [4.005999565124512, -8.249337196350098, 15, \"ux | designer | ux design | ux designer | dear designer\", 122], [19.87777328491211, 17.085338592529297, 16, \"coronavirus | the coronavirus | coronavirus is | coronavirus outbreak | coronavirus what\", 109], [3.90570068359375, -7.386078834533691, 17, \"gpt3 | ais | ai research | does gpt3 mean | does gpt3\", 106], [4.116494655609131, -6.9244303703308105, 18, \"podcast | podcasts | netflix | podcasting | your podcast\", 104], [7.838731288909912, 4.519052982330322, 19, \"javascript | in javascript | javascript frameworks | 2021 | javascript code\", 102], [20.077707290649414, 17.285263061523438, 20, \"covid19 | covid | covid19 vaccine | of covid19 | covid19 in\", 97], [-3.6793460845947266, -8.386445045471191, 21, \"tweets | topic modeling | tweet | topic modeling using | tweet topic modeling\", 96], [2.0669870376586914, 11.764878273010254, 22, \"neural networks | convolutional neural | convolutional | neural network | convolutional neural networks\", 93], [4.022216320037842, -7.91801118850708, 23, \"writer | write | to write | how to write | writing\", 89], [12.952492713928223, 0.2772488594055176, 24, \"battery | tesla | batteries | uber | charging\", 87], [3.7949419021606445, -7.473970413208008, 25, \"runner | runners | strength training | sitter | procrastinate for hours\", 82], [12.896063804626465, -0.09062585979700089, 26, \"facial | facial recognition | mask | face | live facial recognition\", 77], [4.079312801361084, -7.159034252166748, 27, \"eat | food | foods | healthy foods | you eat\", 75], [20.305587768554688, 17.51313018798828, 28, \"brain | your brain | the brain | why your brain | brain that\", 73], [-3.9787235260009766, -8.087874412536621, 29, \"map | maps | map vs | starmap in python | maps in python\", 69], [5.152076721191406, 6.748753070831299, 30, \"clustering | kmeans clustering | clustering algorithm | clustering with | dbscan clustering\", 63], [1.9091886281967163, 11.922554969787598, 31, \"image classification | classification | deep learning | for image classification | image classifier\", 61], [3.9203829765319824, -8.531031608581543, 32, \"jupyter | jupyter notebooks | jupyter notebook | for jupyter | with jupyter\", 60], [-6.617842674255371, 19.620983123779297, 33, \"exploratory data | exploratory data analysis | data analysis eda | to exploratory data | python exploratory data\", 60], [-6.4576921463012695, 19.781177520751953, 34, \"trading | algorithmic trading | python | automated in python | algorithmic trading automated\", 58], [-13.6295166015625, 2.0088186264038086, 35, \"github | on github | github pages | github repos | your react app\", 57], [-13.604222297668457, 2.0341379642486572, 36, \"aws | aws amplify | using aws amplify | on aws | using aws\", 55], [5.152102470397949, 6.748748779296875, 37, \"decision tree | decision trees | random forest | boosting algorithms explained | boosting algorithms\", 55], [8.129497528076172, 4.592401504516602, 38, \"ui design | ui ux | ui design 10 | design 10 | in ui design\", 53], [13.416318893432617, 0.20302973687648773, 39, \"photos | photographs | photographs of | stunning photographs | stunning photos\", 53], [-6.7904953956604, 19.448049545288086, 40, \"nba | predicting ipl2020 | predicting ipl2020 winner | sports betting | predictions\", 51]], \"hovertemplate\": \"<b>Topic %{customdata[2]}</b><br>Words: %{customdata[3]}<br>Size: %{customdata[4]}\", \"legendgroup\": \"\", \"marker\": {\"color\": \"#B0BEC5\", \"line\": {\"color\": \"DarkSlateGrey\", \"width\": 2}, \"size\": [542, 478, 423, 334, 332, 313, 305, 300, 297, 210, 190, 175, 157, 131, 125, 122, 109, 106, 104, 102, 97, 96, 93, 89, 87, 82, 77, 75, 73, 69, 63, 61, 60, 60, 58, 57, 55, 55, 53, 53, 51], \"sizemode\": \"area\", \"sizeref\": 0.33875, \"symbol\": \"circle\"}, \"mode\": \"markers\", \"name\": \"\", \"orientation\": \"v\", \"showlegend\": false, \"type\": \"scatter\", \"x\": [7.941145420074463, 7.359436988830566, 3.390533208847046, 7.4843668937683105, -4.1160888671875, -6.621191501617432, 2.285151720046997, -13.507253646850586, 2.4540581703186035, 13.684399604797363, 13.277143478393555, -6.289441108703613, 7.756966590881348, 13.349356651306152, -3.800600051879883, 4.005999565124512, 19.87777328491211, 3.90570068359375, 4.116494655609131, 7.838731288909912, 20.077707290649414, -3.6793460845947266, 2.0669870376586914, 4.022216320037842, 12.952492713928223, 3.7949419021606445, 12.896063804626465, 4.079312801361084, 20.305587768554688, -3.9787235260009766, 5.152076721191406, 1.9091886281967163, 3.9203829765319824, -6.617842674255371, -6.4576921463012695, -13.6295166015625, -13.604222297668457, 5.152102470397949, 8.129497528076172, 13.416318893432617, -6.7904953956604], \"xaxis\": \"x\", \"y\": [4.705955982208252, 4.328596115112305, -7.376188278198242, 4.549936294555664, -7.949952125549316, 19.617673873901367, 11.546772956848145, 2.1310787200927734, 11.377744674682617, 0.22573541104793549, 0.489471435546875, 19.949230194091797, 5.065094947814941, 0.4638771116733551, -8.26568603515625, -8.249337196350098, 17.085338592529297, -7.386078834533691, -6.9244303703308105, 4.519052982330322, 17.285263061523438, -8.386445045471191, 11.764878273010254, -7.91801118850708, 0.2772488594055176, -7.473970413208008, -0.09062585979700089, -7.159034252166748, 17.51313018798828, -8.087874412536621, 6.748753070831299, 11.922554969787598, -8.531031608581543, 19.620983123779297, 19.781177520751953, 2.0088186264038086, 2.0341379642486572, 6.748748779296875, 4.592401504516602, 0.20302973687648773, 19.448049545288086], \"yaxis\": \"y\"}],                        {\"annotations\": [{\"showarrow\": false, \"text\": \"D1\", \"x\": -15.673944091796875, \"y\": 6.565464186668397, \"yshift\": 10}, {\"showarrow\": false, \"text\": \"D2\", \"x\": 3.8387409210205083, \"xshift\": 10, \"y\": 22.941614723205568}], \"height\": 650, \"hoverlabel\": {\"bgcolor\": \"white\", \"font\": {\"family\": \"Rockwell\", \"size\": 16}}, \"legend\": {\"itemsizing\": \"constant\", \"tracegroupgap\": 0}, \"margin\": {\"t\": 60}, \"shapes\": [{\"line\": {\"color\": \"#CFD8DC\", \"width\": 2}, \"type\": \"line\", \"x0\": 3.8387409210205083, \"x1\": 3.8387409210205083, \"y0\": -9.810686349868774, \"y1\": 22.941614723205568}, {\"line\": {\"color\": \"#9E9E9E\", \"width\": 2}, \"type\": \"line\", \"x0\": -15.673944091796875, \"x1\": 23.35142593383789, \"y0\": 6.565464186668397, \"y1\": 6.565464186668397}], \"sliders\": [{\"active\": 0, \"pad\": {\"t\": 50}, \"steps\": [{\"args\": [{\"marker.color\": [[\"red\", \"#B0BEC5\", \"#B0BEC5\", \"#B0BEC5\", \"#B0BEC5\", \"#B0BEC5\", \"#B0BEC5\", \"#B0BEC5\", \"#B0BEC5\", \"#B0BEC5\", \"#B0BEC5\", \"#B0BEC5\", \"#B0BEC5\", \"#B0BEC5\", \"#B0BEC5\", \"#B0BEC5\", \"#B0BEC5\", \"#B0BEC5\", \"#B0BEC5\", \"#B0BEC5\", \"#B0BEC5\", \"#B0BEC5\", \"#B0BEC5\", \"#B0BEC5\", \"#B0BEC5\", \"#B0BEC5\", \"#B0BEC5\", \"#B0BEC5\", \"#B0BEC5\", \"#B0BEC5\", \"#B0BEC5\", \"#B0BEC5\", \"#B0BEC5\", \"#B0BEC5\", \"#B0BEC5\", \"#B0BEC5\", \"#B0BEC5\", \"#B0BEC5\", \"#B0BEC5\", \"#B0BEC5\", \"#B0BEC5\"]]}], \"label\": \"Topic 0\", \"method\": \"update\"}, {\"args\": [{\"marker.color\": [[\"#B0BEC5\", \"red\", \"#B0BEC5\", \"#B0BEC5\", \"#B0BEC5\", \"#B0BEC5\", \"#B0BEC5\", \"#B0BEC5\", \"#B0BEC5\", \"#B0BEC5\", \"#B0BEC5\", \"#B0BEC5\", \"#B0BEC5\", \"#B0BEC5\", \"#B0BEC5\", \"#B0BEC5\", \"#B0BEC5\", \"#B0BEC5\", \"#B0BEC5\", \"#B0BEC5\", \"#B0BEC5\", \"#B0BEC5\", \"#B0BEC5\", \"#B0BEC5\", \"#B0BEC5\", \"#B0BEC5\", \"#B0BEC5\", \"#B0BEC5\", \"#B0BEC5\", \"#B0BEC5\", \"#B0BEC5\", \"#B0BEC5\", \"#B0BEC5\", \"#B0BEC5\", \"#B0BEC5\", \"#B0BEC5\", \"#B0BEC5\", \"#B0BEC5\", \"#B0BEC5\", \"#B0BEC5\", \"#B0BEC5\"]]}], \"label\": \"Topic 1\", \"method\": \"update\"}, {\"args\": [{\"marker.color\": [[\"#B0BEC5\", \"#B0BEC5\", \"red\", \"#B0BEC5\", \"#B0BEC5\", \"#B0BEC5\", \"#B0BEC5\", \"#B0BEC5\", \"#B0BEC5\", \"#B0BEC5\", \"#B0BEC5\", \"#B0BEC5\", \"#B0BEC5\", \"#B0BEC5\", \"#B0BEC5\", \"#B0BEC5\", \"#B0BEC5\", \"#B0BEC5\", \"#B0BEC5\", \"#B0BEC5\", \"#B0BEC5\", \"#B0BEC5\", \"#B0BEC5\", \"#B0BEC5\", \"#B0BEC5\", \"#B0BEC5\", \"#B0BEC5\", \"#B0BEC5\", \"#B0BEC5\", \"#B0BEC5\", \"#B0BEC5\", \"#B0BEC5\", \"#B0BEC5\", \"#B0BEC5\", \"#B0BEC5\", \"#B0BEC5\", \"#B0BEC5\", \"#B0BEC5\", \"#B0BEC5\", \"#B0BEC5\", \"#B0BEC5\"]]}], \"label\": \"Topic 2\", \"method\": \"update\"}, {\"args\": [{\"marker.color\": [[\"#B0BEC5\", \"#B0BEC5\", \"#B0BEC5\", \"red\", \"#B0BEC5\", \"#B0BEC5\", \"#B0BEC5\", \"#B0BEC5\", \"#B0BEC5\", \"#B0BEC5\", \"#B0BEC5\", \"#B0BEC5\", \"#B0BEC5\", \"#B0BEC5\", \"#B0BEC5\", \"#B0BEC5\", \"#B0BEC5\", \"#B0BEC5\", \"#B0BEC5\", \"#B0BEC5\", \"#B0BEC5\", \"#B0BEC5\", \"#B0BEC5\", \"#B0BEC5\", \"#B0BEC5\", \"#B0BEC5\", \"#B0BEC5\", \"#B0BEC5\", \"#B0BEC5\", \"#B0BEC5\", \"#B0BEC5\", \"#B0BEC5\", \"#B0BEC5\", \"#B0BEC5\", \"#B0BEC5\", \"#B0BEC5\", \"#B0BEC5\", \"#B0BEC5\", \"#B0BEC5\", \"#B0BEC5\", \"#B0BEC5\"]]}], \"label\": \"Topic 3\", \"method\": \"update\"}, {\"args\": [{\"marker.color\": [[\"#B0BEC5\", \"#B0BEC5\", \"#B0BEC5\", \"#B0BEC5\", \"red\", \"#B0BEC5\", \"#B0BEC5\", \"#B0BEC5\", \"#B0BEC5\", \"#B0BEC5\", \"#B0BEC5\", \"#B0BEC5\", \"#B0BEC5\", \"#B0BEC5\", \"#B0BEC5\", \"#B0BEC5\", \"#B0BEC5\", \"#B0BEC5\", \"#B0BEC5\", \"#B0BEC5\", \"#B0BEC5\", \"#B0BEC5\", \"#B0BEC5\", \"#B0BEC5\", \"#B0BEC5\", \"#B0BEC5\", \"#B0BEC5\", \"#B0BEC5\", \"#B0BEC5\", \"#B0BEC5\", \"#B0BEC5\", \"#B0BEC5\", \"#B0BEC5\", \"#B0BEC5\", \"#B0BEC5\", \"#B0BEC5\", \"#B0BEC5\", \"#B0BEC5\", \"#B0BEC5\", \"#B0BEC5\", \"#B0BEC5\"]]}], \"label\": \"Topic 4\", \"method\": \"update\"}, {\"args\": [{\"marker.color\": [[\"#B0BEC5\", \"#B0BEC5\", \"#B0BEC5\", \"#B0BEC5\", \"#B0BEC5\", \"red\", \"#B0BEC5\", \"#B0BEC5\", \"#B0BEC5\", \"#B0BEC5\", \"#B0BEC5\", \"#B0BEC5\", \"#B0BEC5\", \"#B0BEC5\", \"#B0BEC5\", \"#B0BEC5\", \"#B0BEC5\", \"#B0BEC5\", \"#B0BEC5\", \"#B0BEC5\", \"#B0BEC5\", \"#B0BEC5\", \"#B0BEC5\", \"#B0BEC5\", \"#B0BEC5\", \"#B0BEC5\", \"#B0BEC5\", \"#B0BEC5\", \"#B0BEC5\", \"#B0BEC5\", \"#B0BEC5\", \"#B0BEC5\", \"#B0BEC5\", \"#B0BEC5\", \"#B0BEC5\", \"#B0BEC5\", \"#B0BEC5\", \"#B0BEC5\", \"#B0BEC5\", \"#B0BEC5\", \"#B0BEC5\"]]}], \"label\": \"Topic 5\", \"method\": \"update\"}, {\"args\": [{\"marker.color\": [[\"#B0BEC5\", \"#B0BEC5\", \"#B0BEC5\", \"#B0BEC5\", \"#B0BEC5\", \"#B0BEC5\", \"red\", \"#B0BEC5\", \"#B0BEC5\", \"#B0BEC5\", \"#B0BEC5\", \"#B0BEC5\", \"#B0BEC5\", \"#B0BEC5\", \"#B0BEC5\", \"#B0BEC5\", \"#B0BEC5\", \"#B0BEC5\", \"#B0BEC5\", \"#B0BEC5\", \"#B0BEC5\", \"#B0BEC5\", \"#B0BEC5\", \"#B0BEC5\", \"#B0BEC5\", \"#B0BEC5\", \"#B0BEC5\", \"#B0BEC5\", \"#B0BEC5\", \"#B0BEC5\", \"#B0BEC5\", \"#B0BEC5\", \"#B0BEC5\", \"#B0BEC5\", \"#B0BEC5\", \"#B0BEC5\", \"#B0BEC5\", \"#B0BEC5\", \"#B0BEC5\", \"#B0BEC5\", \"#B0BEC5\"]]}], \"label\": \"Topic 6\", \"method\": \"update\"}, {\"args\": [{\"marker.color\": [[\"#B0BEC5\", \"#B0BEC5\", \"#B0BEC5\", \"#B0BEC5\", \"#B0BEC5\", \"#B0BEC5\", \"#B0BEC5\", \"red\", \"#B0BEC5\", \"#B0BEC5\", \"#B0BEC5\", \"#B0BEC5\", \"#B0BEC5\", \"#B0BEC5\", \"#B0BEC5\", \"#B0BEC5\", \"#B0BEC5\", \"#B0BEC5\", \"#B0BEC5\", \"#B0BEC5\", \"#B0BEC5\", \"#B0BEC5\", \"#B0BEC5\", \"#B0BEC5\", \"#B0BEC5\", \"#B0BEC5\", \"#B0BEC5\", \"#B0BEC5\", \"#B0BEC5\", \"#B0BEC5\", \"#B0BEC5\", \"#B0BEC5\", \"#B0BEC5\", \"#B0BEC5\", \"#B0BEC5\", \"#B0BEC5\", \"#B0BEC5\", \"#B0BEC5\", \"#B0BEC5\", \"#B0BEC5\", \"#B0BEC5\"]]}], \"label\": \"Topic 7\", \"method\": \"update\"}, {\"args\": [{\"marker.color\": [[\"#B0BEC5\", \"#B0BEC5\", \"#B0BEC5\", \"#B0BEC5\", \"#B0BEC5\", \"#B0BEC5\", \"#B0BEC5\", \"#B0BEC5\", \"red\", \"#B0BEC5\", \"#B0BEC5\", \"#B0BEC5\", \"#B0BEC5\", \"#B0BEC5\", \"#B0BEC5\", \"#B0BEC5\", \"#B0BEC5\", \"#B0BEC5\", \"#B0BEC5\", \"#B0BEC5\", \"#B0BEC5\", \"#B0BEC5\", \"#B0BEC5\", \"#B0BEC5\", \"#B0BEC5\", \"#B0BEC5\", \"#B0BEC5\", \"#B0BEC5\", \"#B0BEC5\", \"#B0BEC5\", \"#B0BEC5\", \"#B0BEC5\", \"#B0BEC5\", \"#B0BEC5\", \"#B0BEC5\", \"#B0BEC5\", \"#B0BEC5\", \"#B0BEC5\", \"#B0BEC5\", \"#B0BEC5\", \"#B0BEC5\"]]}], \"label\": \"Topic 8\", \"method\": \"update\"}, {\"args\": [{\"marker.color\": [[\"#B0BEC5\", \"#B0BEC5\", \"#B0BEC5\", \"#B0BEC5\", \"#B0BEC5\", \"#B0BEC5\", \"#B0BEC5\", \"#B0BEC5\", \"#B0BEC5\", \"red\", \"#B0BEC5\", \"#B0BEC5\", \"#B0BEC5\", \"#B0BEC5\", \"#B0BEC5\", \"#B0BEC5\", \"#B0BEC5\", \"#B0BEC5\", \"#B0BEC5\", \"#B0BEC5\", \"#B0BEC5\", \"#B0BEC5\", \"#B0BEC5\", \"#B0BEC5\", \"#B0BEC5\", \"#B0BEC5\", \"#B0BEC5\", \"#B0BEC5\", \"#B0BEC5\", \"#B0BEC5\", \"#B0BEC5\", \"#B0BEC5\", \"#B0BEC5\", \"#B0BEC5\", \"#B0BEC5\", \"#B0BEC5\", \"#B0BEC5\", \"#B0BEC5\", \"#B0BEC5\", \"#B0BEC5\", \"#B0BEC5\"]]}], \"label\": \"Topic 9\", \"method\": \"update\"}, {\"args\": [{\"marker.color\": [[\"#B0BEC5\", \"#B0BEC5\", \"#B0BEC5\", \"#B0BEC5\", \"#B0BEC5\", \"#B0BEC5\", \"#B0BEC5\", \"#B0BEC5\", \"#B0BEC5\", \"#B0BEC5\", \"red\", \"#B0BEC5\", \"#B0BEC5\", \"#B0BEC5\", \"#B0BEC5\", \"#B0BEC5\", \"#B0BEC5\", \"#B0BEC5\", \"#B0BEC5\", \"#B0BEC5\", \"#B0BEC5\", \"#B0BEC5\", \"#B0BEC5\", \"#B0BEC5\", \"#B0BEC5\", \"#B0BEC5\", \"#B0BEC5\", \"#B0BEC5\", \"#B0BEC5\", \"#B0BEC5\", \"#B0BEC5\", \"#B0BEC5\", \"#B0BEC5\", \"#B0BEC5\", \"#B0BEC5\", \"#B0BEC5\", \"#B0BEC5\", \"#B0BEC5\", \"#B0BEC5\", \"#B0BEC5\", \"#B0BEC5\"]]}], \"label\": \"Topic 10\", \"method\": \"update\"}, {\"args\": [{\"marker.color\": [[\"#B0BEC5\", \"#B0BEC5\", \"#B0BEC5\", \"#B0BEC5\", \"#B0BEC5\", \"#B0BEC5\", \"#B0BEC5\", \"#B0BEC5\", \"#B0BEC5\", \"#B0BEC5\", \"#B0BEC5\", \"red\", \"#B0BEC5\", \"#B0BEC5\", \"#B0BEC5\", \"#B0BEC5\", \"#B0BEC5\", \"#B0BEC5\", \"#B0BEC5\", \"#B0BEC5\", \"#B0BEC5\", \"#B0BEC5\", \"#B0BEC5\", \"#B0BEC5\", \"#B0BEC5\", \"#B0BEC5\", \"#B0BEC5\", \"#B0BEC5\", \"#B0BEC5\", \"#B0BEC5\", \"#B0BEC5\", \"#B0BEC5\", \"#B0BEC5\", \"#B0BEC5\", \"#B0BEC5\", \"#B0BEC5\", \"#B0BEC5\", \"#B0BEC5\", \"#B0BEC5\", \"#B0BEC5\", \"#B0BEC5\"]]}], \"label\": \"Topic 11\", \"method\": \"update\"}, {\"args\": [{\"marker.color\": [[\"#B0BEC5\", \"#B0BEC5\", \"#B0BEC5\", \"#B0BEC5\", \"#B0BEC5\", \"#B0BEC5\", \"#B0BEC5\", \"#B0BEC5\", \"#B0BEC5\", \"#B0BEC5\", \"#B0BEC5\", \"#B0BEC5\", \"red\", \"#B0BEC5\", \"#B0BEC5\", \"#B0BEC5\", \"#B0BEC5\", \"#B0BEC5\", \"#B0BEC5\", \"#B0BEC5\", \"#B0BEC5\", \"#B0BEC5\", \"#B0BEC5\", \"#B0BEC5\", \"#B0BEC5\", \"#B0BEC5\", \"#B0BEC5\", \"#B0BEC5\", \"#B0BEC5\", \"#B0BEC5\", \"#B0BEC5\", \"#B0BEC5\", \"#B0BEC5\", \"#B0BEC5\", \"#B0BEC5\", \"#B0BEC5\", \"#B0BEC5\", \"#B0BEC5\", \"#B0BEC5\", \"#B0BEC5\", \"#B0BEC5\"]]}], \"label\": \"Topic 12\", \"method\": \"update\"}, {\"args\": [{\"marker.color\": [[\"#B0BEC5\", \"#B0BEC5\", \"#B0BEC5\", \"#B0BEC5\", \"#B0BEC5\", \"#B0BEC5\", \"#B0BEC5\", \"#B0BEC5\", \"#B0BEC5\", \"#B0BEC5\", \"#B0BEC5\", \"#B0BEC5\", \"#B0BEC5\", \"red\", \"#B0BEC5\", \"#B0BEC5\", \"#B0BEC5\", \"#B0BEC5\", \"#B0BEC5\", \"#B0BEC5\", \"#B0BEC5\", \"#B0BEC5\", \"#B0BEC5\", \"#B0BEC5\", \"#B0BEC5\", \"#B0BEC5\", \"#B0BEC5\", \"#B0BEC5\", \"#B0BEC5\", \"#B0BEC5\", \"#B0BEC5\", \"#B0BEC5\", \"#B0BEC5\", \"#B0BEC5\", \"#B0BEC5\", \"#B0BEC5\", \"#B0BEC5\", \"#B0BEC5\", \"#B0BEC5\", \"#B0BEC5\", \"#B0BEC5\"]]}], \"label\": \"Topic 13\", \"method\": \"update\"}, {\"args\": [{\"marker.color\": [[\"#B0BEC5\", \"#B0BEC5\", \"#B0BEC5\", \"#B0BEC5\", \"#B0BEC5\", \"#B0BEC5\", \"#B0BEC5\", \"#B0BEC5\", \"#B0BEC5\", \"#B0BEC5\", \"#B0BEC5\", \"#B0BEC5\", \"#B0BEC5\", \"#B0BEC5\", \"red\", \"#B0BEC5\", \"#B0BEC5\", \"#B0BEC5\", \"#B0BEC5\", \"#B0BEC5\", \"#B0BEC5\", \"#B0BEC5\", \"#B0BEC5\", \"#B0BEC5\", \"#B0BEC5\", \"#B0BEC5\", \"#B0BEC5\", \"#B0BEC5\", \"#B0BEC5\", \"#B0BEC5\", \"#B0BEC5\", \"#B0BEC5\", \"#B0BEC5\", \"#B0BEC5\", \"#B0BEC5\", \"#B0BEC5\", \"#B0BEC5\", \"#B0BEC5\", \"#B0BEC5\", \"#B0BEC5\", \"#B0BEC5\"]]}], \"label\": \"Topic 14\", \"method\": \"update\"}, {\"args\": [{\"marker.color\": [[\"#B0BEC5\", \"#B0BEC5\", \"#B0BEC5\", \"#B0BEC5\", \"#B0BEC5\", \"#B0BEC5\", \"#B0BEC5\", \"#B0BEC5\", \"#B0BEC5\", \"#B0BEC5\", \"#B0BEC5\", \"#B0BEC5\", \"#B0BEC5\", \"#B0BEC5\", \"#B0BEC5\", \"red\", \"#B0BEC5\", \"#B0BEC5\", \"#B0BEC5\", \"#B0BEC5\", \"#B0BEC5\", \"#B0BEC5\", \"#B0BEC5\", \"#B0BEC5\", \"#B0BEC5\", \"#B0BEC5\", \"#B0BEC5\", \"#B0BEC5\", \"#B0BEC5\", \"#B0BEC5\", \"#B0BEC5\", \"#B0BEC5\", \"#B0BEC5\", \"#B0BEC5\", \"#B0BEC5\", \"#B0BEC5\", \"#B0BEC5\", \"#B0BEC5\", \"#B0BEC5\", \"#B0BEC5\", \"#B0BEC5\"]]}], \"label\": \"Topic 15\", \"method\": \"update\"}, {\"args\": [{\"marker.color\": [[\"#B0BEC5\", \"#B0BEC5\", \"#B0BEC5\", \"#B0BEC5\", \"#B0BEC5\", \"#B0BEC5\", \"#B0BEC5\", \"#B0BEC5\", \"#B0BEC5\", \"#B0BEC5\", \"#B0BEC5\", \"#B0BEC5\", \"#B0BEC5\", \"#B0BEC5\", \"#B0BEC5\", \"#B0BEC5\", \"red\", \"#B0BEC5\", \"#B0BEC5\", \"#B0BEC5\", \"#B0BEC5\", \"#B0BEC5\", \"#B0BEC5\", \"#B0BEC5\", \"#B0BEC5\", \"#B0BEC5\", \"#B0BEC5\", \"#B0BEC5\", \"#B0BEC5\", \"#B0BEC5\", \"#B0BEC5\", \"#B0BEC5\", \"#B0BEC5\", \"#B0BEC5\", \"#B0BEC5\", \"#B0BEC5\", \"#B0BEC5\", \"#B0BEC5\", \"#B0BEC5\", \"#B0BEC5\", \"#B0BEC5\"]]}], \"label\": \"Topic 16\", \"method\": \"update\"}, {\"args\": [{\"marker.color\": [[\"#B0BEC5\", \"#B0BEC5\", \"#B0BEC5\", \"#B0BEC5\", \"#B0BEC5\", \"#B0BEC5\", \"#B0BEC5\", \"#B0BEC5\", \"#B0BEC5\", \"#B0BEC5\", \"#B0BEC5\", \"#B0BEC5\", \"#B0BEC5\", \"#B0BEC5\", \"#B0BEC5\", \"#B0BEC5\", \"#B0BEC5\", \"red\", \"#B0BEC5\", \"#B0BEC5\", \"#B0BEC5\", \"#B0BEC5\", \"#B0BEC5\", \"#B0BEC5\", \"#B0BEC5\", \"#B0BEC5\", \"#B0BEC5\", \"#B0BEC5\", \"#B0BEC5\", \"#B0BEC5\", \"#B0BEC5\", \"#B0BEC5\", \"#B0BEC5\", \"#B0BEC5\", \"#B0BEC5\", \"#B0BEC5\", \"#B0BEC5\", \"#B0BEC5\", \"#B0BEC5\", \"#B0BEC5\", \"#B0BEC5\"]]}], \"label\": \"Topic 17\", \"method\": \"update\"}, {\"args\": [{\"marker.color\": [[\"#B0BEC5\", \"#B0BEC5\", \"#B0BEC5\", \"#B0BEC5\", \"#B0BEC5\", \"#B0BEC5\", \"#B0BEC5\", \"#B0BEC5\", \"#B0BEC5\", \"#B0BEC5\", \"#B0BEC5\", \"#B0BEC5\", \"#B0BEC5\", \"#B0BEC5\", \"#B0BEC5\", \"#B0BEC5\", \"#B0BEC5\", \"#B0BEC5\", \"red\", \"#B0BEC5\", \"#B0BEC5\", \"#B0BEC5\", \"#B0BEC5\", \"#B0BEC5\", \"#B0BEC5\", \"#B0BEC5\", \"#B0BEC5\", \"#B0BEC5\", \"#B0BEC5\", \"#B0BEC5\", \"#B0BEC5\", \"#B0BEC5\", \"#B0BEC5\", \"#B0BEC5\", \"#B0BEC5\", \"#B0BEC5\", \"#B0BEC5\", \"#B0BEC5\", \"#B0BEC5\", \"#B0BEC5\", \"#B0BEC5\"]]}], \"label\": \"Topic 18\", \"method\": \"update\"}, {\"args\": [{\"marker.color\": [[\"#B0BEC5\", \"#B0BEC5\", \"#B0BEC5\", \"#B0BEC5\", \"#B0BEC5\", \"#B0BEC5\", \"#B0BEC5\", \"#B0BEC5\", \"#B0BEC5\", \"#B0BEC5\", \"#B0BEC5\", \"#B0BEC5\", \"#B0BEC5\", \"#B0BEC5\", \"#B0BEC5\", \"#B0BEC5\", \"#B0BEC5\", \"#B0BEC5\", \"#B0BEC5\", \"red\", \"#B0BEC5\", \"#B0BEC5\", \"#B0BEC5\", \"#B0BEC5\", \"#B0BEC5\", \"#B0BEC5\", \"#B0BEC5\", \"#B0BEC5\", \"#B0BEC5\", \"#B0BEC5\", \"#B0BEC5\", \"#B0BEC5\", \"#B0BEC5\", \"#B0BEC5\", \"#B0BEC5\", \"#B0BEC5\", \"#B0BEC5\", \"#B0BEC5\", \"#B0BEC5\", \"#B0BEC5\", \"#B0BEC5\"]]}], \"label\": \"Topic 19\", \"method\": \"update\"}, {\"args\": [{\"marker.color\": [[\"#B0BEC5\", \"#B0BEC5\", \"#B0BEC5\", \"#B0BEC5\", \"#B0BEC5\", \"#B0BEC5\", \"#B0BEC5\", \"#B0BEC5\", \"#B0BEC5\", \"#B0BEC5\", \"#B0BEC5\", \"#B0BEC5\", \"#B0BEC5\", \"#B0BEC5\", \"#B0BEC5\", \"#B0BEC5\", \"#B0BEC5\", \"#B0BEC5\", \"#B0BEC5\", \"#B0BEC5\", \"red\", \"#B0BEC5\", \"#B0BEC5\", \"#B0BEC5\", \"#B0BEC5\", \"#B0BEC5\", \"#B0BEC5\", \"#B0BEC5\", \"#B0BEC5\", \"#B0BEC5\", \"#B0BEC5\", \"#B0BEC5\", \"#B0BEC5\", \"#B0BEC5\", \"#B0BEC5\", \"#B0BEC5\", \"#B0BEC5\", \"#B0BEC5\", \"#B0BEC5\", \"#B0BEC5\", \"#B0BEC5\"]]}], \"label\": \"Topic 20\", \"method\": \"update\"}, {\"args\": [{\"marker.color\": [[\"#B0BEC5\", \"#B0BEC5\", \"#B0BEC5\", \"#B0BEC5\", \"#B0BEC5\", \"#B0BEC5\", \"#B0BEC5\", \"#B0BEC5\", \"#B0BEC5\", \"#B0BEC5\", \"#B0BEC5\", \"#B0BEC5\", \"#B0BEC5\", \"#B0BEC5\", \"#B0BEC5\", \"#B0BEC5\", \"#B0BEC5\", \"#B0BEC5\", \"#B0BEC5\", \"#B0BEC5\", \"#B0BEC5\", \"red\", \"#B0BEC5\", \"#B0BEC5\", \"#B0BEC5\", \"#B0BEC5\", \"#B0BEC5\", \"#B0BEC5\", \"#B0BEC5\", \"#B0BEC5\", \"#B0BEC5\", \"#B0BEC5\", \"#B0BEC5\", \"#B0BEC5\", \"#B0BEC5\", \"#B0BEC5\", \"#B0BEC5\", \"#B0BEC5\", \"#B0BEC5\", \"#B0BEC5\", \"#B0BEC5\"]]}], \"label\": \"Topic 21\", \"method\": \"update\"}, {\"args\": [{\"marker.color\": [[\"#B0BEC5\", \"#B0BEC5\", \"#B0BEC5\", \"#B0BEC5\", \"#B0BEC5\", \"#B0BEC5\", \"#B0BEC5\", \"#B0BEC5\", \"#B0BEC5\", \"#B0BEC5\", \"#B0BEC5\", \"#B0BEC5\", \"#B0BEC5\", \"#B0BEC5\", \"#B0BEC5\", \"#B0BEC5\", \"#B0BEC5\", \"#B0BEC5\", \"#B0BEC5\", \"#B0BEC5\", \"#B0BEC5\", \"#B0BEC5\", \"red\", \"#B0BEC5\", \"#B0BEC5\", \"#B0BEC5\", \"#B0BEC5\", \"#B0BEC5\", \"#B0BEC5\", \"#B0BEC5\", \"#B0BEC5\", \"#B0BEC5\", \"#B0BEC5\", \"#B0BEC5\", \"#B0BEC5\", \"#B0BEC5\", \"#B0BEC5\", \"#B0BEC5\", \"#B0BEC5\", \"#B0BEC5\", \"#B0BEC5\"]]}], \"label\": \"Topic 22\", \"method\": \"update\"}, {\"args\": [{\"marker.color\": [[\"#B0BEC5\", \"#B0BEC5\", \"#B0BEC5\", \"#B0BEC5\", \"#B0BEC5\", \"#B0BEC5\", \"#B0BEC5\", \"#B0BEC5\", \"#B0BEC5\", \"#B0BEC5\", \"#B0BEC5\", \"#B0BEC5\", \"#B0BEC5\", \"#B0BEC5\", \"#B0BEC5\", \"#B0BEC5\", \"#B0BEC5\", \"#B0BEC5\", \"#B0BEC5\", \"#B0BEC5\", \"#B0BEC5\", \"#B0BEC5\", \"#B0BEC5\", \"red\", \"#B0BEC5\", \"#B0BEC5\", \"#B0BEC5\", \"#B0BEC5\", \"#B0BEC5\", \"#B0BEC5\", \"#B0BEC5\", \"#B0BEC5\", \"#B0BEC5\", \"#B0BEC5\", \"#B0BEC5\", \"#B0BEC5\", \"#B0BEC5\", \"#B0BEC5\", \"#B0BEC5\", \"#B0BEC5\", \"#B0BEC5\"]]}], \"label\": \"Topic 23\", \"method\": \"update\"}, {\"args\": [{\"marker.color\": [[\"#B0BEC5\", \"#B0BEC5\", \"#B0BEC5\", \"#B0BEC5\", \"#B0BEC5\", \"#B0BEC5\", \"#B0BEC5\", \"#B0BEC5\", \"#B0BEC5\", \"#B0BEC5\", \"#B0BEC5\", \"#B0BEC5\", \"#B0BEC5\", \"#B0BEC5\", \"#B0BEC5\", \"#B0BEC5\", \"#B0BEC5\", \"#B0BEC5\", \"#B0BEC5\", \"#B0BEC5\", \"#B0BEC5\", \"#B0BEC5\", \"#B0BEC5\", \"#B0BEC5\", \"red\", \"#B0BEC5\", \"#B0BEC5\", \"#B0BEC5\", \"#B0BEC5\", \"#B0BEC5\", \"#B0BEC5\", \"#B0BEC5\", \"#B0BEC5\", \"#B0BEC5\", \"#B0BEC5\", \"#B0BEC5\", \"#B0BEC5\", \"#B0BEC5\", \"#B0BEC5\", \"#B0BEC5\", \"#B0BEC5\"]]}], \"label\": \"Topic 24\", \"method\": \"update\"}, {\"args\": [{\"marker.color\": [[\"#B0BEC5\", \"#B0BEC5\", \"#B0BEC5\", \"#B0BEC5\", \"#B0BEC5\", \"#B0BEC5\", \"#B0BEC5\", \"#B0BEC5\", \"#B0BEC5\", \"#B0BEC5\", \"#B0BEC5\", \"#B0BEC5\", \"#B0BEC5\", \"#B0BEC5\", \"#B0BEC5\", \"#B0BEC5\", \"#B0BEC5\", \"#B0BEC5\", \"#B0BEC5\", \"#B0BEC5\", \"#B0BEC5\", \"#B0BEC5\", \"#B0BEC5\", \"#B0BEC5\", \"#B0BEC5\", \"red\", \"#B0BEC5\", \"#B0BEC5\", \"#B0BEC5\", \"#B0BEC5\", \"#B0BEC5\", \"#B0BEC5\", \"#B0BEC5\", \"#B0BEC5\", \"#B0BEC5\", \"#B0BEC5\", \"#B0BEC5\", \"#B0BEC5\", \"#B0BEC5\", \"#B0BEC5\", \"#B0BEC5\"]]}], \"label\": \"Topic 25\", \"method\": \"update\"}, {\"args\": [{\"marker.color\": [[\"#B0BEC5\", \"#B0BEC5\", \"#B0BEC5\", \"#B0BEC5\", \"#B0BEC5\", \"#B0BEC5\", \"#B0BEC5\", \"#B0BEC5\", \"#B0BEC5\", \"#B0BEC5\", \"#B0BEC5\", \"#B0BEC5\", \"#B0BEC5\", \"#B0BEC5\", \"#B0BEC5\", \"#B0BEC5\", \"#B0BEC5\", \"#B0BEC5\", \"#B0BEC5\", \"#B0BEC5\", \"#B0BEC5\", \"#B0BEC5\", \"#B0BEC5\", \"#B0BEC5\", \"#B0BEC5\", \"#B0BEC5\", \"red\", \"#B0BEC5\", \"#B0BEC5\", \"#B0BEC5\", \"#B0BEC5\", \"#B0BEC5\", \"#B0BEC5\", \"#B0BEC5\", \"#B0BEC5\", \"#B0BEC5\", \"#B0BEC5\", \"#B0BEC5\", \"#B0BEC5\", \"#B0BEC5\", \"#B0BEC5\"]]}], \"label\": \"Topic 26\", \"method\": \"update\"}, {\"args\": [{\"marker.color\": [[\"#B0BEC5\", \"#B0BEC5\", \"#B0BEC5\", \"#B0BEC5\", \"#B0BEC5\", \"#B0BEC5\", \"#B0BEC5\", \"#B0BEC5\", \"#B0BEC5\", \"#B0BEC5\", \"#B0BEC5\", \"#B0BEC5\", \"#B0BEC5\", \"#B0BEC5\", \"#B0BEC5\", \"#B0BEC5\", \"#B0BEC5\", \"#B0BEC5\", \"#B0BEC5\", \"#B0BEC5\", \"#B0BEC5\", \"#B0BEC5\", \"#B0BEC5\", \"#B0BEC5\", \"#B0BEC5\", \"#B0BEC5\", \"#B0BEC5\", \"red\", \"#B0BEC5\", \"#B0BEC5\", \"#B0BEC5\", \"#B0BEC5\", \"#B0BEC5\", \"#B0BEC5\", \"#B0BEC5\", \"#B0BEC5\", \"#B0BEC5\", \"#B0BEC5\", \"#B0BEC5\", \"#B0BEC5\", \"#B0BEC5\"]]}], \"label\": \"Topic 27\", \"method\": \"update\"}, {\"args\": [{\"marker.color\": [[\"#B0BEC5\", \"#B0BEC5\", \"#B0BEC5\", \"#B0BEC5\", \"#B0BEC5\", \"#B0BEC5\", \"#B0BEC5\", \"#B0BEC5\", \"#B0BEC5\", \"#B0BEC5\", \"#B0BEC5\", \"#B0BEC5\", \"#B0BEC5\", \"#B0BEC5\", \"#B0BEC5\", \"#B0BEC5\", \"#B0BEC5\", \"#B0BEC5\", \"#B0BEC5\", \"#B0BEC5\", \"#B0BEC5\", \"#B0BEC5\", \"#B0BEC5\", \"#B0BEC5\", \"#B0BEC5\", \"#B0BEC5\", \"#B0BEC5\", \"#B0BEC5\", \"red\", \"#B0BEC5\", \"#B0BEC5\", \"#B0BEC5\", \"#B0BEC5\", \"#B0BEC5\", \"#B0BEC5\", \"#B0BEC5\", \"#B0BEC5\", \"#B0BEC5\", \"#B0BEC5\", \"#B0BEC5\", \"#B0BEC5\"]]}], \"label\": \"Topic 28\", \"method\": \"update\"}, {\"args\": [{\"marker.color\": [[\"#B0BEC5\", \"#B0BEC5\", \"#B0BEC5\", \"#B0BEC5\", \"#B0BEC5\", \"#B0BEC5\", \"#B0BEC5\", \"#B0BEC5\", \"#B0BEC5\", \"#B0BEC5\", \"#B0BEC5\", \"#B0BEC5\", \"#B0BEC5\", \"#B0BEC5\", \"#B0BEC5\", \"#B0BEC5\", \"#B0BEC5\", \"#B0BEC5\", \"#B0BEC5\", \"#B0BEC5\", \"#B0BEC5\", \"#B0BEC5\", \"#B0BEC5\", \"#B0BEC5\", \"#B0BEC5\", \"#B0BEC5\", \"#B0BEC5\", \"#B0BEC5\", \"#B0BEC5\", \"red\", \"#B0BEC5\", \"#B0BEC5\", \"#B0BEC5\", \"#B0BEC5\", \"#B0BEC5\", \"#B0BEC5\", \"#B0BEC5\", \"#B0BEC5\", \"#B0BEC5\", \"#B0BEC5\", \"#B0BEC5\"]]}], \"label\": \"Topic 29\", \"method\": \"update\"}, {\"args\": [{\"marker.color\": [[\"#B0BEC5\", \"#B0BEC5\", \"#B0BEC5\", \"#B0BEC5\", \"#B0BEC5\", \"#B0BEC5\", \"#B0BEC5\", \"#B0BEC5\", \"#B0BEC5\", \"#B0BEC5\", \"#B0BEC5\", \"#B0BEC5\", \"#B0BEC5\", \"#B0BEC5\", \"#B0BEC5\", \"#B0BEC5\", \"#B0BEC5\", \"#B0BEC5\", \"#B0BEC5\", \"#B0BEC5\", \"#B0BEC5\", \"#B0BEC5\", \"#B0BEC5\", \"#B0BEC5\", \"#B0BEC5\", \"#B0BEC5\", \"#B0BEC5\", \"#B0BEC5\", \"#B0BEC5\", \"#B0BEC5\", \"red\", \"#B0BEC5\", \"#B0BEC5\", \"#B0BEC5\", \"#B0BEC5\", \"#B0BEC5\", \"#B0BEC5\", \"#B0BEC5\", \"#B0BEC5\", \"#B0BEC5\", \"#B0BEC5\"]]}], \"label\": \"Topic 30\", \"method\": \"update\"}, {\"args\": [{\"marker.color\": [[\"#B0BEC5\", \"#B0BEC5\", \"#B0BEC5\", \"#B0BEC5\", \"#B0BEC5\", \"#B0BEC5\", \"#B0BEC5\", \"#B0BEC5\", \"#B0BEC5\", \"#B0BEC5\", \"#B0BEC5\", \"#B0BEC5\", \"#B0BEC5\", \"#B0BEC5\", \"#B0BEC5\", \"#B0BEC5\", \"#B0BEC5\", \"#B0BEC5\", \"#B0BEC5\", \"#B0BEC5\", \"#B0BEC5\", \"#B0BEC5\", \"#B0BEC5\", \"#B0BEC5\", \"#B0BEC5\", \"#B0BEC5\", \"#B0BEC5\", \"#B0BEC5\", \"#B0BEC5\", \"#B0BEC5\", \"#B0BEC5\", \"red\", \"#B0BEC5\", \"#B0BEC5\", \"#B0BEC5\", \"#B0BEC5\", \"#B0BEC5\", \"#B0BEC5\", \"#B0BEC5\", \"#B0BEC5\", \"#B0BEC5\"]]}], \"label\": \"Topic 31\", \"method\": \"update\"}, {\"args\": [{\"marker.color\": [[\"#B0BEC5\", \"#B0BEC5\", \"#B0BEC5\", \"#B0BEC5\", \"#B0BEC5\", \"#B0BEC5\", \"#B0BEC5\", \"#B0BEC5\", \"#B0BEC5\", \"#B0BEC5\", \"#B0BEC5\", \"#B0BEC5\", \"#B0BEC5\", \"#B0BEC5\", \"#B0BEC5\", \"#B0BEC5\", \"#B0BEC5\", \"#B0BEC5\", \"#B0BEC5\", \"#B0BEC5\", \"#B0BEC5\", \"#B0BEC5\", \"#B0BEC5\", \"#B0BEC5\", \"#B0BEC5\", \"#B0BEC5\", \"#B0BEC5\", \"#B0BEC5\", \"#B0BEC5\", \"#B0BEC5\", \"#B0BEC5\", \"#B0BEC5\", \"red\", \"#B0BEC5\", \"#B0BEC5\", \"#B0BEC5\", \"#B0BEC5\", \"#B0BEC5\", \"#B0BEC5\", \"#B0BEC5\", \"#B0BEC5\"]]}], \"label\": \"Topic 32\", \"method\": \"update\"}, {\"args\": [{\"marker.color\": [[\"#B0BEC5\", \"#B0BEC5\", \"#B0BEC5\", \"#B0BEC5\", \"#B0BEC5\", \"#B0BEC5\", \"#B0BEC5\", \"#B0BEC5\", \"#B0BEC5\", \"#B0BEC5\", \"#B0BEC5\", \"#B0BEC5\", \"#B0BEC5\", \"#B0BEC5\", \"#B0BEC5\", \"#B0BEC5\", \"#B0BEC5\", \"#B0BEC5\", \"#B0BEC5\", \"#B0BEC5\", \"#B0BEC5\", \"#B0BEC5\", \"#B0BEC5\", \"#B0BEC5\", \"#B0BEC5\", \"#B0BEC5\", \"#B0BEC5\", \"#B0BEC5\", \"#B0BEC5\", \"#B0BEC5\", \"#B0BEC5\", \"#B0BEC5\", \"#B0BEC5\", \"red\", \"#B0BEC5\", \"#B0BEC5\", \"#B0BEC5\", \"#B0BEC5\", \"#B0BEC5\", \"#B0BEC5\", \"#B0BEC5\"]]}], \"label\": \"Topic 33\", \"method\": \"update\"}, {\"args\": [{\"marker.color\": [[\"#B0BEC5\", \"#B0BEC5\", \"#B0BEC5\", \"#B0BEC5\", \"#B0BEC5\", \"#B0BEC5\", \"#B0BEC5\", \"#B0BEC5\", \"#B0BEC5\", \"#B0BEC5\", \"#B0BEC5\", \"#B0BEC5\", \"#B0BEC5\", \"#B0BEC5\", \"#B0BEC5\", \"#B0BEC5\", \"#B0BEC5\", \"#B0BEC5\", \"#B0BEC5\", \"#B0BEC5\", \"#B0BEC5\", \"#B0BEC5\", \"#B0BEC5\", \"#B0BEC5\", \"#B0BEC5\", \"#B0BEC5\", \"#B0BEC5\", \"#B0BEC5\", \"#B0BEC5\", \"#B0BEC5\", \"#B0BEC5\", \"#B0BEC5\", \"#B0BEC5\", \"#B0BEC5\", \"red\", \"#B0BEC5\", \"#B0BEC5\", \"#B0BEC5\", \"#B0BEC5\", \"#B0BEC5\", \"#B0BEC5\"]]}], \"label\": \"Topic 34\", \"method\": \"update\"}, {\"args\": [{\"marker.color\": [[\"#B0BEC5\", \"#B0BEC5\", \"#B0BEC5\", \"#B0BEC5\", \"#B0BEC5\", \"#B0BEC5\", \"#B0BEC5\", \"#B0BEC5\", \"#B0BEC5\", \"#B0BEC5\", \"#B0BEC5\", \"#B0BEC5\", \"#B0BEC5\", \"#B0BEC5\", \"#B0BEC5\", \"#B0BEC5\", \"#B0BEC5\", \"#B0BEC5\", \"#B0BEC5\", \"#B0BEC5\", \"#B0BEC5\", \"#B0BEC5\", \"#B0BEC5\", \"#B0BEC5\", \"#B0BEC5\", \"#B0BEC5\", \"#B0BEC5\", \"#B0BEC5\", \"#B0BEC5\", \"#B0BEC5\", \"#B0BEC5\", \"#B0BEC5\", \"#B0BEC5\", \"#B0BEC5\", \"#B0BEC5\", \"red\", \"#B0BEC5\", \"#B0BEC5\", \"#B0BEC5\", \"#B0BEC5\", \"#B0BEC5\"]]}], \"label\": \"Topic 35\", \"method\": \"update\"}, {\"args\": [{\"marker.color\": [[\"#B0BEC5\", \"#B0BEC5\", \"#B0BEC5\", \"#B0BEC5\", \"#B0BEC5\", \"#B0BEC5\", \"#B0BEC5\", \"#B0BEC5\", \"#B0BEC5\", \"#B0BEC5\", \"#B0BEC5\", \"#B0BEC5\", \"#B0BEC5\", \"#B0BEC5\", \"#B0BEC5\", \"#B0BEC5\", \"#B0BEC5\", \"#B0BEC5\", \"#B0BEC5\", \"#B0BEC5\", \"#B0BEC5\", \"#B0BEC5\", \"#B0BEC5\", \"#B0BEC5\", \"#B0BEC5\", \"#B0BEC5\", \"#B0BEC5\", \"#B0BEC5\", \"#B0BEC5\", \"#B0BEC5\", \"#B0BEC5\", \"#B0BEC5\", \"#B0BEC5\", \"#B0BEC5\", \"#B0BEC5\", \"#B0BEC5\", \"red\", \"#B0BEC5\", \"#B0BEC5\", \"#B0BEC5\", \"#B0BEC5\"]]}], \"label\": \"Topic 36\", \"method\": \"update\"}, {\"args\": [{\"marker.color\": [[\"#B0BEC5\", \"#B0BEC5\", \"#B0BEC5\", \"#B0BEC5\", \"#B0BEC5\", \"#B0BEC5\", \"#B0BEC5\", \"#B0BEC5\", \"#B0BEC5\", \"#B0BEC5\", \"#B0BEC5\", \"#B0BEC5\", \"#B0BEC5\", \"#B0BEC5\", \"#B0BEC5\", \"#B0BEC5\", \"#B0BEC5\", \"#B0BEC5\", \"#B0BEC5\", \"#B0BEC5\", \"#B0BEC5\", \"#B0BEC5\", \"#B0BEC5\", \"#B0BEC5\", \"#B0BEC5\", \"#B0BEC5\", \"#B0BEC5\", \"#B0BEC5\", \"#B0BEC5\", \"#B0BEC5\", \"#B0BEC5\", \"#B0BEC5\", \"#B0BEC5\", \"#B0BEC5\", \"#B0BEC5\", \"#B0BEC5\", \"#B0BEC5\", \"red\", \"#B0BEC5\", \"#B0BEC5\", \"#B0BEC5\"]]}], \"label\": \"Topic 37\", \"method\": \"update\"}, {\"args\": [{\"marker.color\": [[\"#B0BEC5\", \"#B0BEC5\", \"#B0BEC5\", \"#B0BEC5\", \"#B0BEC5\", \"#B0BEC5\", \"#B0BEC5\", \"#B0BEC5\", \"#B0BEC5\", \"#B0BEC5\", \"#B0BEC5\", \"#B0BEC5\", \"#B0BEC5\", \"#B0BEC5\", \"#B0BEC5\", \"#B0BEC5\", \"#B0BEC5\", \"#B0BEC5\", \"#B0BEC5\", \"#B0BEC5\", \"#B0BEC5\", \"#B0BEC5\", \"#B0BEC5\", \"#B0BEC5\", \"#B0BEC5\", \"#B0BEC5\", \"#B0BEC5\", \"#B0BEC5\", \"#B0BEC5\", \"#B0BEC5\", \"#B0BEC5\", \"#B0BEC5\", \"#B0BEC5\", \"#B0BEC5\", \"#B0BEC5\", \"#B0BEC5\", \"#B0BEC5\", \"#B0BEC5\", \"red\", \"#B0BEC5\", \"#B0BEC5\"]]}], \"label\": \"Topic 38\", \"method\": \"update\"}, {\"args\": [{\"marker.color\": [[\"#B0BEC5\", \"#B0BEC5\", \"#B0BEC5\", \"#B0BEC5\", \"#B0BEC5\", \"#B0BEC5\", \"#B0BEC5\", \"#B0BEC5\", \"#B0BEC5\", \"#B0BEC5\", \"#B0BEC5\", \"#B0BEC5\", \"#B0BEC5\", \"#B0BEC5\", \"#B0BEC5\", \"#B0BEC5\", \"#B0BEC5\", \"#B0BEC5\", \"#B0BEC5\", \"#B0BEC5\", \"#B0BEC5\", \"#B0BEC5\", \"#B0BEC5\", \"#B0BEC5\", \"#B0BEC5\", \"#B0BEC5\", \"#B0BEC5\", \"#B0BEC5\", \"#B0BEC5\", \"#B0BEC5\", \"#B0BEC5\", \"#B0BEC5\", \"#B0BEC5\", \"#B0BEC5\", \"#B0BEC5\", \"#B0BEC5\", \"#B0BEC5\", \"#B0BEC5\", \"#B0BEC5\", \"red\", \"#B0BEC5\"]]}], \"label\": \"Topic 39\", \"method\": \"update\"}, {\"args\": [{\"marker.color\": [[\"#B0BEC5\", \"#B0BEC5\", \"#B0BEC5\", \"#B0BEC5\", \"#B0BEC5\", \"#B0BEC5\", \"#B0BEC5\", \"#B0BEC5\", \"#B0BEC5\", \"#B0BEC5\", \"#B0BEC5\", \"#B0BEC5\", \"#B0BEC5\", \"#B0BEC5\", \"#B0BEC5\", \"#B0BEC5\", \"#B0BEC5\", \"#B0BEC5\", \"#B0BEC5\", \"#B0BEC5\", \"#B0BEC5\", \"#B0BEC5\", \"#B0BEC5\", \"#B0BEC5\", \"#B0BEC5\", \"#B0BEC5\", \"#B0BEC5\", \"#B0BEC5\", \"#B0BEC5\", \"#B0BEC5\", \"#B0BEC5\", \"#B0BEC5\", \"#B0BEC5\", \"#B0BEC5\", \"#B0BEC5\", \"#B0BEC5\", \"#B0BEC5\", \"#B0BEC5\", \"#B0BEC5\", \"#B0BEC5\", \"red\"]]}], \"label\": \"Topic 40\", \"method\": \"update\"}]}], \"template\": {\"data\": {\"bar\": [{\"error_x\": {\"color\": \"rgb(36,36,36)\"}, \"error_y\": {\"color\": \"rgb(36,36,36)\"}, \"marker\": {\"line\": {\"color\": \"white\", \"width\": 0.5}}, \"type\": \"bar\"}], \"barpolar\": [{\"marker\": {\"line\": {\"color\": \"white\", \"width\": 0.5}}, \"type\": \"barpolar\"}], \"carpet\": [{\"aaxis\": {\"endlinecolor\": \"rgb(36,36,36)\", \"gridcolor\": \"white\", \"linecolor\": \"white\", \"minorgridcolor\": \"white\", \"startlinecolor\": \"rgb(36,36,36)\"}, \"baxis\": {\"endlinecolor\": \"rgb(36,36,36)\", \"gridcolor\": \"white\", \"linecolor\": \"white\", \"minorgridcolor\": \"white\", \"startlinecolor\": \"rgb(36,36,36)\"}, \"type\": \"carpet\"}], \"choropleth\": [{\"colorbar\": {\"outlinewidth\": 1, \"tickcolor\": \"rgb(36,36,36)\", \"ticks\": \"outside\"}, \"type\": \"choropleth\"}], \"contour\": [{\"colorbar\": {\"outlinewidth\": 1, \"tickcolor\": \"rgb(36,36,36)\", \"ticks\": \"outside\"}, \"colorscale\": [[0.0, \"#440154\"], [0.1111111111111111, \"#482878\"], [0.2222222222222222, \"#3e4989\"], [0.3333333333333333, \"#31688e\"], [0.4444444444444444, \"#26828e\"], [0.5555555555555556, \"#1f9e89\"], [0.6666666666666666, \"#35b779\"], [0.7777777777777778, \"#6ece58\"], [0.8888888888888888, \"#b5de2b\"], [1.0, \"#fde725\"]], \"type\": \"contour\"}], \"contourcarpet\": [{\"colorbar\": {\"outlinewidth\": 1, \"tickcolor\": \"rgb(36,36,36)\", \"ticks\": \"outside\"}, \"type\": \"contourcarpet\"}], \"heatmap\": [{\"colorbar\": {\"outlinewidth\": 1, \"tickcolor\": \"rgb(36,36,36)\", \"ticks\": \"outside\"}, \"colorscale\": [[0.0, \"#440154\"], [0.1111111111111111, \"#482878\"], [0.2222222222222222, \"#3e4989\"], [0.3333333333333333, \"#31688e\"], [0.4444444444444444, \"#26828e\"], [0.5555555555555556, \"#1f9e89\"], [0.6666666666666666, \"#35b779\"], [0.7777777777777778, \"#6ece58\"], [0.8888888888888888, \"#b5de2b\"], [1.0, \"#fde725\"]], \"type\": \"heatmap\"}], \"heatmapgl\": [{\"colorbar\": {\"outlinewidth\": 1, \"tickcolor\": \"rgb(36,36,36)\", \"ticks\": \"outside\"}, \"colorscale\": [[0.0, \"#440154\"], [0.1111111111111111, \"#482878\"], [0.2222222222222222, \"#3e4989\"], [0.3333333333333333, \"#31688e\"], [0.4444444444444444, \"#26828e\"], [0.5555555555555556, \"#1f9e89\"], [0.6666666666666666, \"#35b779\"], [0.7777777777777778, \"#6ece58\"], [0.8888888888888888, \"#b5de2b\"], [1.0, \"#fde725\"]], \"type\": \"heatmapgl\"}], \"histogram\": [{\"marker\": {\"line\": {\"color\": \"white\", \"width\": 0.6}}, \"type\": \"histogram\"}], \"histogram2d\": [{\"colorbar\": {\"outlinewidth\": 1, \"tickcolor\": \"rgb(36,36,36)\", \"ticks\": \"outside\"}, \"colorscale\": [[0.0, \"#440154\"], [0.1111111111111111, \"#482878\"], [0.2222222222222222, \"#3e4989\"], [0.3333333333333333, \"#31688e\"], [0.4444444444444444, \"#26828e\"], [0.5555555555555556, \"#1f9e89\"], [0.6666666666666666, \"#35b779\"], [0.7777777777777778, \"#6ece58\"], [0.8888888888888888, \"#b5de2b\"], [1.0, \"#fde725\"]], \"type\": \"histogram2d\"}], \"histogram2dcontour\": [{\"colorbar\": {\"outlinewidth\": 1, \"tickcolor\": \"rgb(36,36,36)\", \"ticks\": \"outside\"}, \"colorscale\": [[0.0, \"#440154\"], [0.1111111111111111, \"#482878\"], [0.2222222222222222, \"#3e4989\"], [0.3333333333333333, \"#31688e\"], [0.4444444444444444, \"#26828e\"], [0.5555555555555556, \"#1f9e89\"], [0.6666666666666666, \"#35b779\"], [0.7777777777777778, \"#6ece58\"], [0.8888888888888888, \"#b5de2b\"], [1.0, \"#fde725\"]], \"type\": \"histogram2dcontour\"}], \"mesh3d\": [{\"colorbar\": {\"outlinewidth\": 1, \"tickcolor\": \"rgb(36,36,36)\", \"ticks\": \"outside\"}, \"type\": \"mesh3d\"}], \"parcoords\": [{\"line\": {\"colorbar\": {\"outlinewidth\": 1, \"tickcolor\": \"rgb(36,36,36)\", \"ticks\": \"outside\"}}, \"type\": \"parcoords\"}], \"pie\": [{\"automargin\": true, \"type\": \"pie\"}], \"scatter\": [{\"marker\": {\"colorbar\": {\"outlinewidth\": 1, \"tickcolor\": \"rgb(36,36,36)\", \"ticks\": \"outside\"}}, \"type\": \"scatter\"}], \"scatter3d\": [{\"line\": {\"colorbar\": {\"outlinewidth\": 1, \"tickcolor\": \"rgb(36,36,36)\", \"ticks\": \"outside\"}}, \"marker\": {\"colorbar\": {\"outlinewidth\": 1, \"tickcolor\": \"rgb(36,36,36)\", \"ticks\": \"outside\"}}, \"type\": \"scatter3d\"}], \"scattercarpet\": [{\"marker\": {\"colorbar\": {\"outlinewidth\": 1, \"tickcolor\": \"rgb(36,36,36)\", \"ticks\": \"outside\"}}, \"type\": \"scattercarpet\"}], \"scattergeo\": [{\"marker\": {\"colorbar\": {\"outlinewidth\": 1, \"tickcolor\": \"rgb(36,36,36)\", \"ticks\": \"outside\"}}, \"type\": \"scattergeo\"}], \"scattergl\": [{\"marker\": {\"colorbar\": {\"outlinewidth\": 1, \"tickcolor\": \"rgb(36,36,36)\", \"ticks\": \"outside\"}}, \"type\": \"scattergl\"}], \"scattermapbox\": [{\"marker\": {\"colorbar\": {\"outlinewidth\": 1, \"tickcolor\": \"rgb(36,36,36)\", \"ticks\": \"outside\"}}, \"type\": \"scattermapbox\"}], \"scatterpolar\": [{\"marker\": {\"colorbar\": {\"outlinewidth\": 1, \"tickcolor\": \"rgb(36,36,36)\", \"ticks\": \"outside\"}}, \"type\": \"scatterpolar\"}], \"scatterpolargl\": [{\"marker\": {\"colorbar\": {\"outlinewidth\": 1, \"tickcolor\": \"rgb(36,36,36)\", \"ticks\": \"outside\"}}, \"type\": \"scatterpolargl\"}], \"scatterternary\": [{\"marker\": {\"colorbar\": {\"outlinewidth\": 1, \"tickcolor\": \"rgb(36,36,36)\", \"ticks\": \"outside\"}}, \"type\": \"scatterternary\"}], \"surface\": [{\"colorbar\": {\"outlinewidth\": 1, \"tickcolor\": \"rgb(36,36,36)\", \"ticks\": \"outside\"}, \"colorscale\": [[0.0, \"#440154\"], [0.1111111111111111, \"#482878\"], [0.2222222222222222, \"#3e4989\"], [0.3333333333333333, \"#31688e\"], [0.4444444444444444, \"#26828e\"], [0.5555555555555556, \"#1f9e89\"], [0.6666666666666666, \"#35b779\"], [0.7777777777777778, \"#6ece58\"], [0.8888888888888888, \"#b5de2b\"], [1.0, \"#fde725\"]], \"type\": \"surface\"}], \"table\": [{\"cells\": {\"fill\": {\"color\": \"rgb(237,237,237)\"}, \"line\": {\"color\": \"white\"}}, \"header\": {\"fill\": {\"color\": \"rgb(217,217,217)\"}, \"line\": {\"color\": \"white\"}}, \"type\": \"table\"}]}, \"layout\": {\"annotationdefaults\": {\"arrowhead\": 0, \"arrowwidth\": 1}, \"autotypenumbers\": \"strict\", \"coloraxis\": {\"colorbar\": {\"outlinewidth\": 1, \"tickcolor\": \"rgb(36,36,36)\", \"ticks\": \"outside\"}}, \"colorscale\": {\"diverging\": [[0.0, \"rgb(103,0,31)\"], [0.1, \"rgb(178,24,43)\"], [0.2, \"rgb(214,96,77)\"], [0.3, \"rgb(244,165,130)\"], [0.4, \"rgb(253,219,199)\"], [0.5, \"rgb(247,247,247)\"], [0.6, \"rgb(209,229,240)\"], [0.7, \"rgb(146,197,222)\"], [0.8, \"rgb(67,147,195)\"], [0.9, \"rgb(33,102,172)\"], [1.0, \"rgb(5,48,97)\"]], \"sequential\": [[0.0, \"#440154\"], [0.1111111111111111, \"#482878\"], [0.2222222222222222, \"#3e4989\"], [0.3333333333333333, \"#31688e\"], [0.4444444444444444, \"#26828e\"], [0.5555555555555556, \"#1f9e89\"], [0.6666666666666666, \"#35b779\"], [0.7777777777777778, \"#6ece58\"], [0.8888888888888888, \"#b5de2b\"], [1.0, \"#fde725\"]], \"sequentialminus\": [[0.0, \"#440154\"], [0.1111111111111111, \"#482878\"], [0.2222222222222222, \"#3e4989\"], [0.3333333333333333, \"#31688e\"], [0.4444444444444444, \"#26828e\"], [0.5555555555555556, \"#1f9e89\"], [0.6666666666666666, \"#35b779\"], [0.7777777777777778, \"#6ece58\"], [0.8888888888888888, \"#b5de2b\"], [1.0, \"#fde725\"]]}, \"colorway\": [\"#1F77B4\", \"#FF7F0E\", \"#2CA02C\", \"#D62728\", \"#9467BD\", \"#8C564B\", \"#E377C2\", \"#7F7F7F\", \"#BCBD22\", \"#17BECF\"], \"font\": {\"color\": \"rgb(36,36,36)\"}, \"geo\": {\"bgcolor\": \"white\", \"lakecolor\": \"white\", \"landcolor\": \"white\", \"showlakes\": true, \"showland\": true, \"subunitcolor\": \"white\"}, \"hoverlabel\": {\"align\": \"left\"}, \"hovermode\": \"closest\", \"mapbox\": {\"style\": \"light\"}, \"paper_bgcolor\": \"white\", \"plot_bgcolor\": \"white\", \"polar\": {\"angularaxis\": {\"gridcolor\": \"rgb(232,232,232)\", \"linecolor\": \"rgb(36,36,36)\", \"showgrid\": false, \"showline\": true, \"ticks\": \"outside\"}, \"bgcolor\": \"white\", \"radialaxis\": {\"gridcolor\": \"rgb(232,232,232)\", \"linecolor\": \"rgb(36,36,36)\", \"showgrid\": false, \"showline\": true, \"ticks\": \"outside\"}}, \"scene\": {\"xaxis\": {\"backgroundcolor\": \"white\", \"gridcolor\": \"rgb(232,232,232)\", \"gridwidth\": 2, \"linecolor\": \"rgb(36,36,36)\", \"showbackground\": true, \"showgrid\": false, \"showline\": true, \"ticks\": \"outside\", \"zeroline\": false, \"zerolinecolor\": \"rgb(36,36,36)\"}, \"yaxis\": {\"backgroundcolor\": \"white\", \"gridcolor\": \"rgb(232,232,232)\", \"gridwidth\": 2, \"linecolor\": \"rgb(36,36,36)\", \"showbackground\": true, \"showgrid\": false, \"showline\": true, \"ticks\": \"outside\", \"zeroline\": false, \"zerolinecolor\": \"rgb(36,36,36)\"}, \"zaxis\": {\"backgroundcolor\": \"white\", \"gridcolor\": \"rgb(232,232,232)\", \"gridwidth\": 2, \"linecolor\": \"rgb(36,36,36)\", \"showbackground\": true, \"showgrid\": false, \"showline\": true, \"ticks\": \"outside\", \"zeroline\": false, \"zerolinecolor\": \"rgb(36,36,36)\"}}, \"shapedefaults\": {\"fillcolor\": \"black\", \"line\": {\"width\": 0}, \"opacity\": 0.3}, \"ternary\": {\"aaxis\": {\"gridcolor\": \"rgb(232,232,232)\", \"linecolor\": \"rgb(36,36,36)\", \"showgrid\": false, \"showline\": true, \"ticks\": \"outside\"}, \"baxis\": {\"gridcolor\": \"rgb(232,232,232)\", \"linecolor\": \"rgb(36,36,36)\", \"showgrid\": false, \"showline\": true, \"ticks\": \"outside\"}, \"bgcolor\": \"white\", \"caxis\": {\"gridcolor\": \"rgb(232,232,232)\", \"linecolor\": \"rgb(36,36,36)\", \"showgrid\": false, \"showline\": true, \"ticks\": \"outside\"}}, \"title\": {\"x\": 0.05}, \"xaxis\": {\"automargin\": true, \"gridcolor\": \"rgb(232,232,232)\", \"linecolor\": \"rgb(36,36,36)\", \"showgrid\": false, \"showline\": true, \"ticks\": \"outside\", \"title\": {\"standoff\": 15}, \"zeroline\": false, \"zerolinecolor\": \"rgb(36,36,36)\"}, \"yaxis\": {\"automargin\": true, \"gridcolor\": \"rgb(232,232,232)\", \"linecolor\": \"rgb(36,36,36)\", \"showgrid\": false, \"showline\": true, \"ticks\": \"outside\", \"title\": {\"standoff\": 15}, \"zeroline\": false, \"zerolinecolor\": \"rgb(36,36,36)\"}}}, \"title\": {\"font\": {\"color\": \"Black\", \"size\": 22}, \"text\": \"<b>Intertopic Distance Map\", \"x\": 0.5, \"xanchor\": \"center\", \"y\": 0.95, \"yanchor\": \"top\"}, \"width\": 650, \"xaxis\": {\"anchor\": \"y\", \"domain\": [0.0, 1.0], \"range\": [-15.673944091796875, 23.35142593383789], \"title\": {\"text\": \"\"}, \"visible\": false}, \"yaxis\": {\"anchor\": \"x\", \"domain\": [0.0, 1.0], \"range\": [-9.810686349868774, 22.941614723205568], \"title\": {\"text\": \"\"}, \"visible\": false}},                        {\"responsive\": true}                    ).then(function(){\n",
              "                            \n",
              "var gd = document.getElementById('dc17a743-a33e-47ac-9912-80877ea69bd0');\n",
              "var x = new MutationObserver(function (mutations, observer) {{\n",
              "        var display = window.getComputedStyle(gd).display;\n",
              "        if (!display || display === 'none') {{\n",
              "            console.log([gd, 'removed!']);\n",
              "            Plotly.purge(gd);\n",
              "            observer.disconnect();\n",
              "        }}\n",
              "}});\n",
              "\n",
              "// Listen for the removal of the full notebook cells\n",
              "var notebookContainer = gd.closest('#notebook-container');\n",
              "if (notebookContainer) {{\n",
              "    x.observe(notebookContainer, {childList: true});\n",
              "}}\n",
              "\n",
              "// Listen for the clearing of the current output cell\n",
              "var outputEl = gd.closest('.output');\n",
              "if (outputEl) {{\n",
              "    x.observe(outputEl, {childList: true});\n",
              "}}\n",
              "\n",
              "                        })                };                            </script>        </div>\n",
              "</body>\n",
              "</html>"
            ]
          },
          "metadata": {
            "tags": []
          }
        }
      ]
    },
    {
      "cell_type": "markdown",
      "metadata": {
        "id": "2eyImbal7lb8"
      },
      "source": [
        "## Topics over Time\n",
        "Before we start with the Dynamic Topic Modeling step, it is important that you are satisfied with the topics that were created previously. We are going to be using those specific topics as a base for Dynamic Topic Modeling. \n",
        "\n",
        "Thus, this step will essentially show you how the topics that were defined previously have evolved over time. "
      ]
    },
    {
      "cell_type": "markdown",
      "metadata": {
        "id": "9jV_zQW0XM3s"
      },
      "source": [
        "There are a few important parameters that you should take note of, namely:\n",
        "\n",
        "* `docs`\n",
        "  * These are the tweets that we are using\n",
        "* `topics`\n",
        "  * The topics that we have created before\n",
        "* `timestamps`\n",
        "  * The timestamp of each tweet/document\n",
        "* `global_tuning`\n",
        "  * Whether to average the topic representation of a topic at time *t* with its global topic representation\n",
        "* `evolution_tuning`\n",
        "  * Whether to average the topic representation of a topic at time *t* with the topic representation of that topic at time *t-1*\n",
        "* `nr_bins`\n",
        "  * The number of bins to put our timestamps into. It is computationally inefficient to extract the topics at thousands of different timestamps. Therefore, it is advised to keep this value below 20. \n"
      ]
    },
    {
      "cell_type": "code",
      "metadata": {
        "id": "1dR2ckNK782p",
        "colab": {
          "base_uri": "https://localhost:8080/"
        },
        "outputId": "bd012add-a4cd-4df3-be7f-bb5935fc177e"
      },
      "source": [
        "topics_over_time = topic_model.topics_over_time(docs=titles, \n",
        "                                                topics=topics, \n",
        "                                                timestamps=dates, \n",
        "                                                global_tuning=True, \n",
        "                                                evolution_tuning=True, \n",
        "                                                nr_bins=30)"
      ],
      "execution_count": null,
      "outputs": [
        {
          "output_type": "stream",
          "text": [
            "30it [00:39,  1.30s/it]\n"
          ],
          "name": "stderr"
        }
      ]
    },
    {
      "cell_type": "markdown",
      "metadata": {
        "id": "M8c8LenB8Zyl"
      },
      "source": [
        "## Visualize Topics over Time\n",
        "After having created our `topics_over_time`, we will have to visualize those topics as accessing them becomes a bit more difficult with the added temporal dimension. \n",
        "\n",
        "To do so, we are going to visualize the distribution of topics over time based on their frequency. Doing so allows us to see how the topics have evolved over time. Make sure to hover over any point to see how the topic representation at time *t* differs from the global topic representation. \n"
      ]
    },
    {
      "cell_type": "code",
      "metadata": {
        "colab": {
          "base_uri": "https://localhost:8080/",
          "height": 487
        },
        "id": "xRpJtJOqBU3J",
        "outputId": "208b6ba3-f0cb-43df-cf1a-362abeb9666d"
      },
      "source": [
        "topic_model.visualize_topics_over_time(topics_over_time, top_n_topics=10)"
      ],
      "execution_count": null,
      "outputs": [
        {
          "output_type": "display_data",
          "data": {
            "text/html": [
              "<html>\n",
              "<head><meta charset=\"utf-8\" /></head>\n",
              "<body>\n",
              "    <div>            <script src=\"https://cdnjs.cloudflare.com/ajax/libs/mathjax/2.7.5/MathJax.js?config=TeX-AMS-MML_SVG\"></script><script type=\"text/javascript\">if (window.MathJax) {MathJax.Hub.Config({SVG: {font: \"STIX-Web\"}});}</script>                <script type=\"text/javascript\">window.PlotlyConfig = {MathJaxConfig: 'local'};</script>\n",
              "        <script src=\"https://cdn.plot.ly/plotly-latest.min.js\"></script>                <div id=\"ae6c90cb-2802-4475-b127-cea4dde77559\" class=\"plotly-graph-div\" style=\"height:450px; width:1250px;\"></div>            <script type=\"text/javascript\">                                    window.PLOTLYENV=window.PLOTLYENV || {};                                    if (document.getElementById(\"ae6c90cb-2802-4475-b127-cea4dde77559\")) {                    Plotly.newPlot(                        \"ae6c90cb-2802-4475-b127-cea4dde77559\",                        [{\"hoverinfo\": \"text\", \"hovertext\": [\"<b>Topic 0</b><br>Words: python, in python, python best practices, use progress bars, practices tips\", \"<b>Topic 0</b><br>Words: python, stop using range, using range, using range in, your python for\", \"<b>Topic 0</b><br>Words: python, in python, everything in python, stop using lists, python meet the\", \"<b>Topic 0</b><br>Words: python, in python, in python how, python code, python how\", \"<b>Topic 0</b><br>Words: in python, with python, python 30 simple, in python 30, your python coding\", \"<b>Topic 0</b><br>Words: python to, python code, python how to, python how, journey from python\", \"<b>Topic 0</b><br>Words: python, in python, python beats php, why python beats, engineering in python\", \"<b>Topic 0</b><br>Words: python, in python, metrics in scikitlearn, data science classification, scikitlearn in python\", \"<b>Topic 0</b><br>Words: python, filter python, and filter python, use map reduce, reduce and filter\", \"<b>Topic 0</b><br>Words: python, in python, coreference resolution in, coreference resolution, resolution in python\", \"<b>Topic 0</b><br>Words: python, information extraction, in python, extraction, extraction using\", \"<b>Topic 0</b><br>Words: in python, string methods in, basic text preprocessing, pipeline in python, useful string methods\", \"<b>Topic 0</b><br>Words: python, in python, scikitlearn parameter, reduce vs accumulate, netflixs polynote is\", \"<b>Topic 0</b><br>Words: python, in python, python ssh, python ssh scp, in python ssh\", \"<b>Topic 0</b><br>Words: python, python libraries, python lambda, data science, in python\", \"<b>Topic 0</b><br>Words: python, in python, using python, libraries vs frameworkswhats, the difference python\", \"<b>Topic 0</b><br>Words: nlpzero to hero, hero with python, to hero with, hero with, to hero\", \"<b>Topic 0</b><br>Words: of lambda functions, lambda functions in, of lambda, uses of lambda, functions in python\", \"<b>Topic 0</b><br>Words: python, in python, using regular expression, expression in python, regular expression\", \"<b>Topic 0</b><br>Words: python, in python, using list comprehension, web with python, with python\", \"<b>Topic 0</b><br>Words: python, in python, python tricks, python code, your python\", \"<b>Topic 0</b><br>Words: python, python code, up python code, speeding up, speeding up python\", \"<b>Topic 0</b><br>Words: python, python code, in python, differences using python, up your python\", \"<b>Topic 0</b><br>Words: python, in python, using python, categorization using scikit, scikit encoderspython\", \"<b>Topic 0</b><br>Words: python, in python, snippets, feature in python, forelse weird but\", \"<b>Topic 0</b><br>Words: python, in python, python ways to, python ways, swap two\", \"<b>Topic 0</b><br>Words: python, in python, python libraries, python code, with python\", \"<b>Topic 0</b><br>Words: in python, in python 10, python 10, python snippets, python 10 interesting\", \"<b>Topic 0</b><br>Words: python, in python, number of bins, bins of histogram, bins of\", \"<b>Topic 0</b><br>Words: python, in python, python libraries, difference between aab, aab and ab\"], \"marker\": {\"color\": \"#E69F00\"}, \"mode\": \"lines\", \"name\": \"0_python_in python_python code_with pyth...\", \"type\": \"scatter\", \"x\": [\"2020-01-01T02:16:22.200000+00:00\", \"2020-01-21T10:44:20+00:00\", \"2020-02-10T04:58:40+00:00\", \"2020-02-29T23:13:00+00:00\", \"2020-03-20T17:27:20+00:00\", \"2020-04-09T11:41:40+00:00\", \"2020-04-29T05:56:00+00:00\", \"2020-05-19T00:10:20+00:00\", \"2020-06-07T18:24:40+00:00\", \"2020-06-27T12:39:00+00:00\", \"2020-07-17T06:53:20+00:00\", \"2020-08-06T01:07:40+00:00\", \"2020-08-25T19:22:00+00:00\", \"2020-09-14T13:36:20+00:00\", \"2020-10-04T07:50:40+00:00\", \"2020-10-24T02:05:00+00:00\", \"2020-11-12T20:19:20+00:00\", \"2020-12-02T14:33:40+00:00\", \"2020-12-22T08:48:00+00:00\", \"2021-01-11T03:02:20+00:00\", \"2021-01-30T21:16:40+00:00\", \"2021-02-19T15:31:00+00:00\", \"2021-03-11T09:45:20+00:00\", \"2021-03-31T03:59:40+00:00\", \"2021-04-19T22:14:00+00:00\", \"2021-05-09T16:28:20+00:00\", \"2021-05-29T10:42:40+00:00\", \"2021-06-18T04:57:00+00:00\", \"2021-07-07T23:11:20+00:00\", \"2021-07-27T17:25:40+00:00\"], \"y\": [13, 14, 23, 36, 27, 13, 22, 16, 12, 13, 16, 17, 19, 22, 11, 7, 10, 8, 9, 24, 27, 25, 16, 12, 21, 22, 23, 25, 21, 18]}, {\"hoverinfo\": \"text\", \"hovertext\": [\"<b>Topic 1</b><br>Words: data science, data scientist, projects are boring, are boring, interview data science\", \"<b>Topic 1</b><br>Words: data science, questions, asking people, start asking people, to start asking\", \"<b>Topic 1</b><br>Words: interview, interviewing at, interviewing, data science, interview question\", \"<b>Topic 1</b><br>Words: interview, questions, interview question, interview questions, engineer interview\", \"<b>Topic 1</b><br>Words: data science, data scientist, data scientist in, as data scientist, data science data\", \"<b>Topic 1</b><br>Words: scientist internship, my first data, data scientist internship, data scientist, first data scientist\", \"<b>Topic 1</b><br>Words: data science, science, data scientist, scientist, quarantined scientists\", \"<b>Topic 1</b><br>Words: data science, data scientist, interview questions, data scientists, questions data scientist\", \"<b>Topic 1</b><br>Words: data science, science, data scientist, sequencing dropped from, sequencing\", \"<b>Topic 1</b><br>Words: data science, data scientists, data scientists guide, easya data, could be easya\", \"<b>Topic 1</b><br>Words: data scientist, scientist, data science, data scientist accelerating, age of experts\", \"<b>Topic 1</b><br>Words: data science, data scientist, for data, data scientist interview, for data science\", \"<b>Topic 1</b><br>Words: data science, data scientist, for data science, skills are enough, enough for data\", \"<b>Topic 1</b><br>Words: data science, data scientists, data scientist, data murmurs the, murmurs\", \"<b>Topic 1</b><br>Words: data science, data scientists, ultimate cheat sheet, edition getting hired, hired in data\", \"<b>Topic 1</b><br>Words: data science, data scientist, scientist, next car endtoend, your next car\", \"<b>Topic 1</b><br>Words: data science, data scientists, before data, before data science, did before data\", \"<b>Topic 1</b><br>Words: data science, data scientist, science interview, data science interview, for data science\", \"<b>Topic 1</b><br>Words: data science, science interview, data science interview, data scientist, microsoft data science\", \"<b>Topic 1</b><br>Words: data science, data scientist, every data scientist, every data, data scientist must\", \"<b>Topic 1</b><br>Words: data scientist, data science, top 15 websites, scientists to follow, websites for data\", \"<b>Topic 1</b><br>Words: data science, data scientist, make data analytics, data scientist data, scientist data\", \"<b>Topic 1</b><br>Words: data science, data scientists, science projects, data science projects, data scientist\", \"<b>Topic 1</b><br>Words: data scientist, data science, data science projects, in 2021, role in 2021\", \"<b>Topic 1</b><br>Words: data science, data scientist, interview questions for, of dataenabled scientific, questions for data\", \"<b>Topic 1</b><br>Words: kickstart 2021, scientists jokes, scientists jokes to, programmersdata scientists, programmersdata scientists jokes\", \"<b>Topic 1</b><br>Words: data science, single mistake wasted, wasted years of, single mistake, data science journey\", \"<b>Topic 1</b><br>Words: data scientists, data science, for data scientists, why do data, do data scientists\", \"<b>Topic 1</b><br>Words: data science, data scientist, scientist, scientists, data scientists\", \"<b>Topic 1</b><br>Words: data science, data primer on, data primer, personal data primer, on data drift\"], \"marker\": {\"color\": \"#56B4E9\"}, \"mode\": \"lines\", \"name\": \"1_data science_data scientist_data scien...\", \"type\": \"scatter\", \"x\": [\"2020-01-01T02:16:22.200000+00:00\", \"2020-01-21T10:44:20+00:00\", \"2020-02-10T04:58:40+00:00\", \"2020-02-29T23:13:00+00:00\", \"2020-03-20T17:27:20+00:00\", \"2020-04-09T11:41:40+00:00\", \"2020-04-29T05:56:00+00:00\", \"2020-05-19T00:10:20+00:00\", \"2020-06-07T18:24:40+00:00\", \"2020-06-27T12:39:00+00:00\", \"2020-07-17T06:53:20+00:00\", \"2020-08-06T01:07:40+00:00\", \"2020-08-25T19:22:00+00:00\", \"2020-09-14T13:36:20+00:00\", \"2020-10-04T07:50:40+00:00\", \"2020-10-24T02:05:00+00:00\", \"2020-11-12T20:19:20+00:00\", \"2020-12-02T14:33:40+00:00\", \"2020-12-22T08:48:00+00:00\", \"2021-01-11T03:02:20+00:00\", \"2021-01-30T21:16:40+00:00\", \"2021-02-19T15:31:00+00:00\", \"2021-03-11T09:45:20+00:00\", \"2021-03-31T03:59:40+00:00\", \"2021-04-19T22:14:00+00:00\", \"2021-05-09T16:28:20+00:00\", \"2021-05-29T10:42:40+00:00\", \"2021-06-18T04:57:00+00:00\", \"2021-07-07T23:11:20+00:00\", \"2021-07-27T17:25:40+00:00\"], \"y\": [20, 15, 14, 13, 14, 8, 12, 15, 14, 16, 6, 14, 35, 21, 17, 11, 19, 28, 15, 30, 13, 19, 12, 13, 18, 12, 10, 12, 15, 17]}, {\"hoverinfo\": \"text\", \"hovertext\": [\"<b>Topic 2</b><br>Words: habit, new habit, new habit stick, make new habit, to make new\", \"<b>Topic 2</b><br>Words: people dont, habits, confident people dont, things confident people, highly ineffective people\", \"<b>Topic 2</b><br>Words: respect for you, someones respect, someones respect for, to obliterate someones, obliterate someones respect\", \"<b>Topic 2</b><br>Words: relationship, my, your, successful, she\", \"<b>Topic 2</b><br>Words: dating, habits of, habits, super organised people, super organised\", \"<b>Topic 2</b><br>Words: people dont, socially aware people, things socially aware, aware people, 11 things socially\", \"<b>Topic 2</b><br>Words: life, friendship is, friendship, to live, live\", \"<b>Topic 2</b><br>Words: most attractive in, attractive in, the most attractive, most attractive, qualities\", \"<b>Topic 2</b><br>Words: love, stop, fall out of, dad stance universal, top regrets\", \"<b>Topic 2</b><br>Words: dating, you microcheating, microcheating signs, you microcheating signs, microcheating signs you\", \"<b>Topic 2</b><br>Words: habits of, habits of truly, habits, truly charming people, of truly charming\", \"<b>Topic 2</b><br>Words: ways completely changed, king man woman, man woman king, life in year, woman king\", \"<b>Topic 2</b><br>Words: answers not constraints, happened when went, my husbands new, want answers, want answers not\", \"<b>Topic 2</b><br>Words: forward when, introverts, forward when marriage, introverts make, introverts make better\", \"<b>Topic 2</b><br>Words: is killed by, master new skill, time to master, my healing is, killed by the\", \"<b>Topic 2</b><br>Words: emotional space why, space why relief, why relief feels, why relief, relief feels\", \"<b>Topic 2</b><br>Words: to cultivate patience, cultivate, patience the ancient, all need right, patience the\", \"<b>Topic 2</b><br>Words: signs youre winning, signs youre, sensitive is superpower, sensitive is, sensitive\", \"<b>Topic 2</b><br>Words: harnessing your highest, highest potential in, your highest potential, highest potential, the mantra effect\", \"<b>Topic 2</b><br>Words: sign of great, underrated sign, embrace uncertainty in, embrace uncertainty, most overlooked underrated\", \"<b>Topic 2</b><br>Words: loss goals for, simple mantra, simple mantra helped, loss goals, one simple mantra\", \"<b>Topic 2</b><br>Words: make any task, task less intimidating, task less, any task less, mental trick\", \"<b>Topic 2</b><br>Words: your goals is, key to achieving, goals is, controlled failure, achieving your goals\", \"<b>Topic 2</b><br>Words: learned caring, learned caring for, what learned caring, actually do his, husband to actually\", \"<b>Topic 2</b><br>Words: signs person is, four signs person, is secretly unhappy, signs person, four signs\", \"<b>Topic 2</b><br>Words: to force relationship, heartbreaking lessons learned, heartbreaking lessons, heartbreaking, force relationship that\", \"<b>Topic 2</b><br>Words: that changed everything, words from my, two surprising words, therapist that changed, hustles that\", \"<b>Topic 2</b><br>Words: are actually manipulative, picasso principlehabits, gestures that are, gestures that, gestures\", \"<b>Topic 2</b><br>Words: pseudosmart, identify pseudosmart person, identify pseudosmart, pseudosmart person, to identify pseudosmart\", \"<b>Topic 2</b><br>Words: undisciplined, or undisciplined you, of raising adult, raising adult, of raising\"], \"marker\": {\"color\": \"#009E73\"}, \"mode\": \"lines\", \"name\": \"2_life_things_my_relationship\", \"type\": \"scatter\", \"x\": [\"2020-01-01T02:16:22.200000+00:00\", \"2020-01-21T10:44:20+00:00\", \"2020-02-10T04:58:40+00:00\", \"2020-02-29T23:13:00+00:00\", \"2020-03-20T17:27:20+00:00\", \"2020-04-09T11:41:40+00:00\", \"2020-04-29T05:56:00+00:00\", \"2020-05-19T00:10:20+00:00\", \"2020-06-07T18:24:40+00:00\", \"2020-06-27T12:39:00+00:00\", \"2020-07-17T06:53:20+00:00\", \"2020-08-06T01:07:40+00:00\", \"2020-08-25T19:22:00+00:00\", \"2020-09-14T13:36:20+00:00\", \"2020-10-04T07:50:40+00:00\", \"2020-10-24T02:05:00+00:00\", \"2020-11-12T20:19:20+00:00\", \"2020-12-02T14:33:40+00:00\", \"2020-12-22T08:48:00+00:00\", \"2021-01-11T03:02:20+00:00\", \"2021-01-30T21:16:40+00:00\", \"2021-02-19T15:31:00+00:00\", \"2021-03-11T09:45:20+00:00\", \"2021-03-31T03:59:40+00:00\", \"2021-04-19T22:14:00+00:00\", \"2021-05-09T16:28:20+00:00\", \"2021-05-29T10:42:40+00:00\", \"2021-06-18T04:57:00+00:00\", \"2021-07-07T23:11:20+00:00\", \"2021-07-27T17:25:40+00:00\"], \"y\": [44, 33, 24, 31, 32, 35, 19, 12, 15, 20, 18, 20, 12, 10, 4, 2, 6, 7, 6, 7, 3, 13, 10, 9, 4, 6, 4, 6, 7, 4]}, {\"hoverinfo\": \"text\", \"hovertext\": [\"<b>Topic 3</b><br>Words: code extensions, vs code extensions, vs code, building today programming, suck at programming\", \"<b>Topic 3</b><br>Words: mac, developer, mac os productivity, improve your mac, your mac os\", \"<b>Topic 3</b><br>Words: developer, developers, frontend developers, extensions for web, browser extensions\", \"<b>Topic 3</b><br>Words: vs code, developers, developer, code extensions, extensions\", \"<b>Topic 3</b><br>Words: software, developer, in 2020, vs code, today how to\", \"<b>Topic 3</b><br>Words: senior developer, senior, be senior, senior developer stop, frontend developers should\", \"<b>Topic 3</b><br>Words: programming projects, you feel bored, 10 great programming, feel bored, feel bored as\", \"<b>Topic 3</b><br>Words: how configure vs, vs code for, configure vs, configure vs code, vs code\", \"<b>Topic 3</b><br>Words: indemand productivity, indemand productivity tool, programming from videos, engineers start with, engineers start\", \"<b>Topic 3</b><br>Words: from clearview, people your startup, earn additional, from clearview ai, personal makerspace\", \"<b>Topic 3</b><br>Words: secret to being, being top, things heres, to being top, things heres list\", \"<b>Topic 3</b><br>Words: code tips, for programmers you, make mistakes, apps for programmers, makefile xopssharing infraascode\", \"<b>Topic 3</b><br>Words: code turned, how lines, 36 billion, code turned into, 36 billion empire\", \"<b>Topic 3</b><br>Words: agnostic bert for, developers mobileberta task, mobileberta, mobileberta task, bert for resourcelimited\", \"<b>Topic 3</b><br>Words: software, its software will, pixel looks fine, software will be, software will\", \"<b>Topic 3</b><br>Words: frontend, guide tunnelling, tunnelling your local, resource guide tunnelling, local development environment\", \"<b>Topic 3</b><br>Words: spring, app ideas to, spring boot, ideas to build, 15 app\", \"<b>Topic 3</b><br>Words: programming, for maximum productivity, programming december 1218, programming december, part git basics\", \"<b>Topic 3</b><br>Words: developers, developer, learn to code, developers best friend, of healthcare software\", \"<b>Topic 3</b><br>Words: understand even, programming jokes you, jokes you can, 20 programming jokes, 20 programming\", \"<b>Topic 3</b><br>Words: rest api on, api on android, worrying and love, on android, on android made\", \"<b>Topic 3</b><br>Words: programmer, books on medium, books on, pragmatic programmer, pragmatic programmer books\", \"<b>Topic 3</b><br>Words: developer, learn one, developer you, ultimate web developer, one language\", \"<b>Topic 3</b><br>Words: every dayhome, use every dayhome, is retiring its, is retiring, retiring its\", \"<b>Topic 3</b><br>Words: apps arent the, arent the future, web apps arent, apps arent, web apps\", \"<b>Topic 3</b><br>Words: programming languages, programming languages you, 2021 visual studio, 2021 visual, using by 2030\", \"<b>Topic 3</b><br>Words: best programming languages, learn in 2021, languages to learn, the best programming, best programming\", \"<b>Topic 3</b><br>Words: tools every programmer, 11 productivity, 11 productivity tools, productivity tools every, every programmer\", \"<b>Topic 3</b><br>Words: not conditional programming, exploratory v65, exploratory v65 released, using objectoriented programming, frontend coding tips\", \"<b>Topic 3</b><br>Words: 40 web app, web app ideas, is trap get, is trap, coding is trap\"], \"marker\": {\"color\": \"#F0E442\"}, \"mode\": \"lines\", \"name\": \"3_code_developer_programming_software\", \"type\": \"scatter\", \"x\": [\"2020-01-01T02:16:22.200000+00:00\", \"2020-01-21T10:44:20+00:00\", \"2020-02-10T04:58:40+00:00\", \"2020-02-29T23:13:00+00:00\", \"2020-03-20T17:27:20+00:00\", \"2020-04-09T11:41:40+00:00\", \"2020-04-29T05:56:00+00:00\", \"2020-05-19T00:10:20+00:00\", \"2020-06-07T18:24:40+00:00\", \"2020-06-27T12:39:00+00:00\", \"2020-07-17T06:53:20+00:00\", \"2020-08-06T01:07:40+00:00\", \"2020-08-25T19:22:00+00:00\", \"2020-09-14T13:36:20+00:00\", \"2020-10-04T07:50:40+00:00\", \"2020-10-24T02:05:00+00:00\", \"2020-11-12T20:19:20+00:00\", \"2020-12-02T14:33:40+00:00\", \"2020-12-22T08:48:00+00:00\", \"2021-01-11T03:02:20+00:00\", \"2021-01-30T21:16:40+00:00\", \"2021-02-19T15:31:00+00:00\", \"2021-03-11T09:45:20+00:00\", \"2021-03-31T03:59:40+00:00\", \"2021-04-19T22:14:00+00:00\", \"2021-05-09T16:28:20+00:00\", \"2021-05-29T10:42:40+00:00\", \"2021-06-18T04:57:00+00:00\", \"2021-07-07T23:11:20+00:00\", \"2021-07-27T17:25:40+00:00\"], \"y\": [27, 25, 31, 31, 21, 19, 14, 9, 6, 7, 9, 11, 6, 4, 5, 8, 8, 7, 16, 12, 11, 12, 4, 3, 7, 3, 5, 5, 5, 3]}, {\"hoverinfo\": \"text\", \"hovertext\": [\"<b>Topic 4</b><br>Words: plotly gdp, customize venn, customize venn diagrams, ispython how, the show ispython\", \"<b>Topic 4</b><br>Words: visualization, data visualization, visualization with, data visualization with, complete dashboard data\", \"<b>Topic 4</b><br>Words: visualization, visualization research, visualization research what, is visualization research, what is visualization\", \"<b>Topic 4</b><br>Words: and simulation art, pi and simulation, simulation art, simulation art in, visualizations and what\", \"<b>Topic 4</b><br>Words: visualizations, grammar of graphics, with interactive visualizations, for effective visualization, visualizations and what\", \"<b>Topic 4</b><br>Words: makes data visualisation, data visualisation elegant, what makes data, visualisation elegant, data visualisation\", \"<b>Topic 4</b><br>Words: visualization, visualizations, data visualization, make stunning data, simple visualizations\", \"<b>Topic 4</b><br>Words: forget matplotlib you, dockercontainerization for data, forget matplotlib, cheatsheet why visual, visualization cheatsheet why\", \"<b>Topic 4</b><br>Words: visualization, data visualization, python tips to, with python tips, visualization in virtual\", \"<b>Topic 4</b><br>Words: charts look, charts look more, python jupyter widgets, using python jupyter, jupyter widgets\", \"<b>Topic 4</b><br>Words: matplotlib, with matplotlib matplotlib, animation in python, matplotlib matplotlib more, matplotlib matplotlib\", \"<b>Topic 4</b><br>Words: visualizations with, visualization, data visualization, visualizations, data visualization using\", \"<b>Topic 4</b><br>Words: visualization, goal visualizing, top visualization tools, the goal visualizing, goal visualizing expected\", \"<b>Topic 4</b><br>Words: visualization, data visualization, violin plots explained, violin plots, violin\", \"<b>Topic 4</b><br>Words: 2019 mlauthmisc500writeup, nullconhackim ctf 2019, ctf 2019 mlauthmisc500writeup, 2019 mlauthmisc500writeup data, chicago court data\", \"<b>Topic 4</b><br>Words: science nullconhackim, notebook the longawaited, dockerless notebook, dockerless notebook the, data science nullconhackim\", \"<b>Topic 4</b><br>Words: graphs and, graphs, data visualization, charts honest by, keep your graphs\", \"<b>Topic 4</b><br>Words: visualization, data visualization, bar charts, bar charts in, bar charts using\", \"<b>Topic 4</b><br>Words: visualization, data visualization, visualizations, visualization with, data visualization with\", \"<b>Topic 4</b><br>Words: data visualization, data visualization with, to data visualization, visualization to validate, to validate imputation\", \"<b>Topic 4</b><br>Words: visualization, data visualization, visualizations, gantt charts in, charts in python\", \"<b>Topic 4</b><br>Words: visualization, visualizations, data visualization, visualizations for, data visualizations\", \"<b>Topic 4</b><br>Words: visualization, data visualization, surveil 100 of, surveil 100, aims to surveil\", \"<b>Topic 4</b><br>Words: visualization, data visualization, tableau, for beginners data, visualization for data\", \"<b>Topic 4</b><br>Words: for visualizing, plots, english premier leagueanalysis, of charts, premier leagueanalysis\", \"<b>Topic 4</b><br>Words: visualization, data visualization, python, python and, with python\", \"<b>Topic 4</b><br>Words: matplotlib, visualization, data visualization, data visualisations part, data visualisations\", \"<b>Topic 4</b><br>Words: plots in python, python how to, python how, data visualization, in python\", \"<b>Topic 4</b><br>Words: visualization, data visualization, data visualization examples, framework in python, in python part1\", \"<b>Topic 4</b><br>Words: visualization, data visualization, python, in python, visualizations\"], \"marker\": {\"color\": \"#D55E00\"}, \"mode\": \"lines\", \"name\": \"4_visualization_data visualization_pytho...\", \"type\": \"scatter\", \"x\": [\"2020-01-01T02:16:22.200000+00:00\", \"2020-01-21T10:44:20+00:00\", \"2020-02-10T04:58:40+00:00\", \"2020-02-29T23:13:00+00:00\", \"2020-03-20T17:27:20+00:00\", \"2020-04-09T11:41:40+00:00\", \"2020-04-29T05:56:00+00:00\", \"2020-05-19T00:10:20+00:00\", \"2020-06-07T18:24:40+00:00\", \"2020-06-27T12:39:00+00:00\", \"2020-07-17T06:53:20+00:00\", \"2020-08-06T01:07:40+00:00\", \"2020-08-25T19:22:00+00:00\", \"2020-09-14T13:36:20+00:00\", \"2020-10-04T07:50:40+00:00\", \"2020-10-24T02:05:00+00:00\", \"2020-11-12T20:19:20+00:00\", \"2020-12-02T14:33:40+00:00\", \"2020-12-22T08:48:00+00:00\", \"2021-01-11T03:02:20+00:00\", \"2021-01-30T21:16:40+00:00\", \"2021-02-19T15:31:00+00:00\", \"2021-03-11T09:45:20+00:00\", \"2021-03-31T03:59:40+00:00\", \"2021-04-19T22:14:00+00:00\", \"2021-05-09T16:28:20+00:00\", \"2021-05-29T10:42:40+00:00\", \"2021-06-18T04:57:00+00:00\", \"2021-07-07T23:11:20+00:00\", \"2021-07-27T17:25:40+00:00\"], \"y\": [4, 13, 5, 3, 3, 4, 12, 6, 5, 3, 6, 7, 7, 12, 8, 3, 11, 12, 21, 29, 27, 28, 18, 15, 9, 10, 10, 16, 10, 15]}, {\"hoverinfo\": \"text\", \"hovertext\": [\"<b>Topic 5</b><br>Words: sentiment analysis, sentiment, for sentiment analysis, mining live twitter, live twitter data\", \"<b>Topic 5</b><br>Words: sentiment analysis, sentiment analysis using, are more ideological, when getting older, parties more\", \"<b>Topic 5</b><br>Words: helps retailers, new model, retailers predict customer, predict customer trends, new model helps\", \"<b>Topic 5</b><br>Words: spotify, visualize music genres, with spotify api, to visualize music, api spotify\", \"<b>Topic 5</b><br>Words: spotifys api python, joe rogan effect, spotifys api, artists data, artists data using\", \"<b>Topic 5</b><br>Words: recommender systems, recommender, sentiment analysis, introduction to recommender, rating prediction\", \"<b>Topic 5</b><br>Words: sentiment analysis, sentiment analysis in, naive bayes, sentiment analysisgood, for sentiment analysisgood\", \"<b>Topic 5</b><br>Words: sentiment, sentiment analysis, spotify, polarity of user, of user reviews\", \"<b>Topic 5</b><br>Words: sentiment analysis, twitter sentiment, twitter sentiment analysis, bert going beyond, traditional sentiment analysis\", \"<b>Topic 5</b><br>Words: sentiment, recommendation system, sentiment analysis, recommendation systems, want recommendation systems\", \"<b>Topic 5</b><br>Words: sentiment, sentiment analysis, recommendation systems, sentiment analysis using, query embeddings using\", \"<b>Topic 5</b><br>Words: recommender, sentiment analysis, do sentiment, hotel recommendation engine, to do sentiment\", \"<b>Topic 5</b><br>Words: recommender systems, recommender, recommender systems part, directions of recommender, movie recommender\", \"<b>Topic 5</b><br>Words: recommendation, sentiment, recommendation system, recommender, sentiment analysis\", \"<b>Topic 5</b><br>Words: sentiment analysis, sentiment analysis using, spotify using knn, spotify using, playlist classification on\", \"<b>Topic 5</b><br>Words: large music datasets, music blacklivesmatter, classification classify songs, classification classify, python genre classification\", \"<b>Topic 5</b><br>Words: recommendation system, notification sounds, notification sounds with, python notification sounds, personalized your python\", \"<b>Topic 5</b><br>Words: reviewspart ii, amazon alexa reviewspart, alexa reviewspart, reviewspart, alexa reviewspart ii\", \"<b>Topic 5</b><br>Words: genres data visualization, genres data, taste using spotify, taste using, of spotifys secretive\", \"<b>Topic 5</b><br>Words: spotify, mechanics of music, analyzing spotify, gm dropped, dropped its 57yearold\", \"<b>Topic 5</b><br>Words: sentiment, sentiment analysis, apps rating, to predict google, how to predict\", \"<b>Topic 5</b><br>Words: sentiment, sentiment analysis, spotify, spotify tracks with, wayfinding is\", \"<b>Topic 5</b><br>Words: sentiment analysis, songa datadriven, songa datadriven approach, system sentiment, aspectbased opinion\", \"<b>Topic 5</b><br>Words: sentiment analysis, sentiment, unknown sentiment analysis, github to help, sentiment analysis projects\", \"<b>Topic 5</b><br>Words: sentiment classification in, python sentiment, sentiment classification, classification in python, sentiment analysis\", \"<b>Topic 5</b><br>Words: sentiment analysis, sentiment analysislet, nlp twitter sentiment, textblob do all, of musical scales\", \"<b>Topic 5</b><br>Words: sentiment, sentiment analysis, customers reviews, your customers reviews, nlp to extract\", \"<b>Topic 5</b><br>Words: reviews using doc2vec, classification for reviews, using doc2vec, sentiment classification for, doc2vec\", \"<b>Topic 5</b><br>Words: music in python, feature extraction and, extraction and clustering, audio signal feature, signal feature extraction\", \"<b>Topic 5</b><br>Words: on performing sentiment, user feedback analysis, user feedback, rip evernote, rip evernote vs\"], \"marker\": {\"color\": \"#0072B2\"}, \"mode\": \"lines\", \"name\": \"5_sentiment_sentiment analysis_recommend...\", \"type\": \"scatter\", \"x\": [\"2020-01-01T02:16:22.200000+00:00\", \"2020-01-21T10:44:20+00:00\", \"2020-02-10T04:58:40+00:00\", \"2020-02-29T23:13:00+00:00\", \"2020-03-20T17:27:20+00:00\", \"2020-04-09T11:41:40+00:00\", \"2020-04-29T05:56:00+00:00\", \"2020-05-19T00:10:20+00:00\", \"2020-06-07T18:24:40+00:00\", \"2020-06-27T12:39:00+00:00\", \"2020-07-17T06:53:20+00:00\", \"2020-08-06T01:07:40+00:00\", \"2020-08-25T19:22:00+00:00\", \"2020-09-14T13:36:20+00:00\", \"2020-10-04T07:50:40+00:00\", \"2020-10-24T02:05:00+00:00\", \"2020-11-12T20:19:20+00:00\", \"2020-12-02T14:33:40+00:00\", \"2020-12-22T08:48:00+00:00\", \"2021-01-11T03:02:20+00:00\", \"2021-01-30T21:16:40+00:00\", \"2021-02-19T15:31:00+00:00\", \"2021-03-11T09:45:20+00:00\", \"2021-03-31T03:59:40+00:00\", \"2021-04-19T22:14:00+00:00\", \"2021-05-09T16:28:20+00:00\", \"2021-05-29T10:42:40+00:00\", \"2021-06-18T04:57:00+00:00\", \"2021-07-07T23:11:20+00:00\", \"2021-07-27T17:25:40+00:00\"], \"y\": [8, 7, 2, 3, 3, 7, 11, 11, 12, 27, 24, 15, 18, 13, 23, 7, 5, 4, 6, 17, 16, 9, 9, 6, 8, 11, 11, 6, 9, 5]}, {\"hoverinfo\": \"text\", \"hovertext\": [\"<b>Topic 6</b><br>Words: learning, machine learning, with deep learning, in machine learning, deep learning\", \"<b>Topic 6</b><br>Words: machine learning, all machine learning, all machine, learning models explained, machine learning models\", \"<b>Topic 6</b><br>Words: machine learning, for machine learning, machine learning the, knn, einstein learned physics\", \"<b>Topic 6</b><br>Words: linear regression, regression part cost, evolutionary algorithms, algorithms linear regression, learning algorithms linear\", \"<b>Topic 6</b><br>Words: machine learning, in machine learning, why rearchitecting legacy, why logarithms are, why logarithms\", \"<b>Topic 6</b><br>Words: machine learning, common loss functions, most common loss, loss functions for, common loss\", \"<b>Topic 6</b><br>Words: machine learning, estimators loss, estimators loss functions, learning gofrom zero, learning gofrom\", \"<b>Topic 6</b><br>Words: learning, machine learning, deep learning, machine learning in, again machine learning\", \"<b>Topic 6</b><br>Words: machine learning, deep learning, machine learning projects, learning projects, generating new ideas\", \"<b>Topic 6</b><br>Words: machine learning, deep learning, learning population initialization, learning population, deep learning population\", \"<b>Topic 6</b><br>Words: machine learning, active learning, learning to iteratively, to iteratively improve, active learning to\", \"<b>Topic 6</b><br>Words: machine learning, learning algorithmsapriori, machine learning algorithmsapriori, underrated machine learning, underrated machine\", \"<b>Topic 6</b><br>Words: machine learning, learning focused, learning focused articles, technical deep learning, machine learning questions\", \"<b>Topic 6</b><br>Words: machine learning, learning models, learning models another, gradio graphical interfaces, machine learning walkthrough\", \"<b>Topic 6</b><br>Words: learning, machine learning, nonparametric models, and nonparametric models, parametric and nonparametric\", \"<b>Topic 6</b><br>Words: machine learning, edition the power, november edition, november edition the, learning apps\", \"<b>Topic 6</b><br>Words: machine learning, scientists and machine, data science community, we built machine, community at microsoft\", \"<b>Topic 6</b><br>Words: machine learning, knn, machine learning model, neighbors is dead, knn knearest neighbors\", \"<b>Topic 6</b><br>Words: machine learning, learning results, machine learning results, which machine learning, learning models\", \"<b>Topic 6</b><br>Words: machine learning, machine learning models, learning models, for machine learning, deep learning an\", \"<b>Topic 6</b><br>Words: machine learning, knearest neighbors, neighbors, pickling machine learning, learn biases using\", \"<b>Topic 6</b><br>Words: machine learning, dagshub, up machine learning, perceptron learning, perceptron learning algorithm\", \"<b>Topic 6</b><br>Words: learning, machine learning, deep learning, neural network cnn, using convolutional neural\", \"<b>Topic 6</b><br>Words: machine learning, top machine learning, learning algorithms, machine learning algorithms, learning algorithms explained\", \"<b>Topic 6</b><br>Words: machine learning, after solving 500, solving 500 leetcode, learned after solving, 500 leetcode questions\", \"<b>Topic 6</b><br>Words: learning, machine learning, 25 machine learning, machine learning hackathons, learning hackathons its\", \"<b>Topic 6</b><br>Words: machine learning, deep learning, gmm em, the viterbi algorithm, gmm\", \"<b>Topic 6</b><br>Words: machine learning, learning, linear algebra for, essential linear algebra, algebra for data\", \"<b>Topic 6</b><br>Words: machine learning, creating data science, machine learning portfolio, learning portfolio with, portfolio with notion\", \"<b>Topic 6</b><br>Words: machine learning, machine learning on, machine learning and, machine learning programming, your neighbours machine\"], \"marker\": {\"color\": \"#CC79A7\"}, \"mode\": \"lines\", \"name\": \"6_machine learning_deep learning_in mach...\", \"type\": \"scatter\", \"x\": [\"2020-01-01T02:16:22.200000+00:00\", \"2020-01-21T10:44:20+00:00\", \"2020-02-10T04:58:40+00:00\", \"2020-02-29T23:13:00+00:00\", \"2020-03-20T17:27:20+00:00\", \"2020-04-09T11:41:40+00:00\", \"2020-04-29T05:56:00+00:00\", \"2020-05-19T00:10:20+00:00\", \"2020-06-07T18:24:40+00:00\", \"2020-06-27T12:39:00+00:00\", \"2020-07-17T06:53:20+00:00\", \"2020-08-06T01:07:40+00:00\", \"2020-08-25T19:22:00+00:00\", \"2020-09-14T13:36:20+00:00\", \"2020-10-04T07:50:40+00:00\", \"2020-10-24T02:05:00+00:00\", \"2020-11-12T20:19:20+00:00\", \"2020-12-02T14:33:40+00:00\", \"2020-12-22T08:48:00+00:00\", \"2021-01-11T03:02:20+00:00\", \"2021-01-30T21:16:40+00:00\", \"2021-02-19T15:31:00+00:00\", \"2021-03-11T09:45:20+00:00\", \"2021-03-31T03:59:40+00:00\", \"2021-04-19T22:14:00+00:00\", \"2021-05-09T16:28:20+00:00\", \"2021-05-29T10:42:40+00:00\", \"2021-06-18T04:57:00+00:00\", \"2021-07-07T23:11:20+00:00\", \"2021-07-27T17:25:40+00:00\"], \"y\": [5, 5, 9, 3, 9, 11, 12, 10, 13, 8, 11, 13, 7, 8, 14, 13, 8, 17, 16, 10, 9, 13, 13, 12, 8, 10, 11, 11, 6, 10]}, {\"hoverinfo\": \"text\", \"hovertext\": [\"<b>Topic 7</b><br>Words: theres not always, opposite equal reaction, opposite equal, to every action, equal reaction\", \"<b>Topic 7</b><br>Words: fragment, d3js fragment, d3js fragment transitions, to d3js fragment, fragment transitions\", \"<b>Topic 7</b><br>Words: react, applications broke web, broke web design, single page applications, page applications broke\", \"<b>Topic 7</b><br>Words: app lesserknown performance, in react native, react native apps, experience in react, native apps\", \"<b>Topic 7</b><br>Words: times appa ux, lists text fields, buttons dropdown lists, text fields, text fields httpsmediumcomnataniellamcreatingdynamiccomponentsbuttonsdropdownliststextfields150852a8d2cbsourceemaile353ddb0c1251584928418684digestreader249d353b5cd884341e88d804cc282cf073011sectionnametopic\", \"<b>Topic 7</b><br>Words: variables using anaconda, keys with environment, securing api keys, using anaconda on, anaconda on choosing\", \"<b>Topic 7</b><br>Words: actionable, an actionable, an actionable app, with d3js is, actionable app graduating\", \"<b>Topic 7</b><br>Words: react, you better reactjs, reactjs dev, better reactjs, better reactjs dev\", \"<b>Topic 7</b><br>Words: first deno, your first deno, deno app, first deno app, deno\", \"<b>Topic 7</b><br>Words: react native, native vs react, native vs, flutter vs native, react native deep\", \"<b>Topic 7</b><br>Words: next iphone, next iphone instead, selling to lululemon, to lululemon, the next iphone\", \"<b>Topic 7</b><br>Words: react, start your journey, design start your, design start, react by\", \"<b>Topic 7</b><br>Words: devoops writeup, devoops, devoops writeup htb, react, with react\", \"<b>Topic 7</b><br>Words: react, with react, react router, react hooks, in react\", \"<b>Topic 7</b><br>Words: react, with react, react app, react hooks, react router\", \"<b>Topic 7</b><br>Words: react, with react, in react, hooks, responsive\", \"<b>Topic 7</b><br>Words: react, in react, react js, in react js, react app\", \"<b>Topic 7</b><br>Words: react, in react, create react, with react, react hooks\", \"<b>Topic 7</b><br>Words: authentication, amplify cognito, amplify cognito and, aws amplify cognito, react project\", \"<b>Topic 7</b><br>Words: using aws cognito, aws cognito, cognito agnita authentication, react modern authorization, authentication authorization\", \"<b>Topic 7</b><br>Words: in react, to react color, react usereducer, react usereducer hook, highlight react\", \"<b>Topic 7</b><br>Words: react, in react, modals in react, for choosing react, and reactcreateref\", \"<b>Topic 7</b><br>Words: react context, in react, react usetime, clean react, react usetime react\", \"<b>Topic 7</b><br>Words: react, useeffects, initial render, prevent useeffects callback, firing during initial\", \"<b>Topic 7</b><br>Words: react, responsive card component, reusable responsive card, card component with, responsive card\", \"<b>Topic 7</b><br>Words: react, with react, react particlesjs introduction, next big update, of improving react\", \"<b>Topic 7</b><br>Words: react ruined, ruined web development, react ruined web, web development react, development react\", \"<b>Topic 7</b><br>Words: and d3 what, api api for, api for beginners, api for, an api api\", \"<b>Topic 7</b><br>Words: 1password, 1password disaster, two brilliant 1password, 1password alternatives, the 1password disaster\"], \"marker\": {\"color\": \"#E69F00\"}, \"mode\": \"lines\", \"name\": \"7_react_with react_in react_react app\", \"type\": \"scatter\", \"x\": [\"2020-01-01T02:16:22.200000+00:00\", \"2020-01-21T10:44:20+00:00\", \"2020-02-10T04:58:40+00:00\", \"2020-02-29T23:13:00+00:00\", \"2020-03-20T17:27:20+00:00\", \"2020-04-09T11:41:40+00:00\", \"2020-04-29T05:56:00+00:00\", \"2020-05-19T00:10:20+00:00\", \"2020-06-07T18:24:40+00:00\", \"2020-06-27T12:39:00+00:00\", \"2020-07-17T06:53:20+00:00\", \"2020-08-06T01:07:40+00:00\", \"2020-09-14T13:36:20+00:00\", \"2020-10-04T07:50:40+00:00\", \"2020-10-24T02:05:00+00:00\", \"2020-11-12T20:19:20+00:00\", \"2020-12-02T14:33:40+00:00\", \"2020-12-22T08:48:00+00:00\", \"2021-01-11T03:02:20+00:00\", \"2021-01-30T21:16:40+00:00\", \"2021-02-19T15:31:00+00:00\", \"2021-03-11T09:45:20+00:00\", \"2021-03-31T03:59:40+00:00\", \"2021-04-19T22:14:00+00:00\", \"2021-05-09T16:28:20+00:00\", \"2021-05-29T10:42:40+00:00\", \"2021-06-18T04:57:00+00:00\", \"2021-07-07T23:11:20+00:00\", \"2021-07-27T17:25:40+00:00\"], \"y\": [1, 2, 7, 2, 2, 6, 3, 7, 2, 3, 1, 2, 1, 32, 60, 48, 25, 19, 12, 5, 10, 16, 7, 5, 9, 7, 2, 2, 2]}, {\"hoverinfo\": \"text\", \"hovertext\": [\"<b>Topic 8</b><br>Words: the polite thing, the polite, polite thing, ignoring text, polite thing to\", \"<b>Topic 8</b><br>Words: emojis creator explains, part text cleaning, preprocessing the text, fingers emojis, pinched fingers emojis\", \"<b>Topic 8</b><br>Words: text data simple, data simple, data simple things, things to text, visualization for text\", \"<b>Topic 8</b><br>Words: words in, of visual words, visual words, visual words in, words in nutshell\", \"<b>Topic 8</b><br>Words: teach einstein, teach einstein bots, einstein bots, einstein bots to, bots to talk\", \"<b>Topic 8</b><br>Words: end, text classification, end to end, indigenous language never, end multiclass\", \"<b>Topic 8</b><br>Words: classification, text classification, recognition and classification, classification model comparison, and classification\", \"<b>Topic 8</b><br>Words: classification with scikitlearn, multiclass text, multiclass text classification, text classification with, multiclass\", \"<b>Topic 8</b><br>Words: emoticon and emoji, emoticon and, and emoji in, and emoji, primary nlp task\", \"<b>Topic 8</b><br>Words: natural language, with automated text, text analysis tools, tone with automated, automated text\", \"<b>Topic 8</b><br>Words: classification, text classification, variety of encoders, ner to label, encoders in nlp\", \"<b>Topic 8</b><br>Words: text classification, natural language, language processing, natural language processing, bootstrapping cuttingedge nlp\", \"<b>Topic 8</b><br>Words: natural language, language, language processing, natural language processing, language processing nlp\", \"<b>Topic 8</b><br>Words: text classification, classification, natural language, for text classification, natural language processing\", \"<b>Topic 8</b><br>Words: natural language, natural language processing, language processing, word2vec, text classification\", \"<b>Topic 8</b><br>Words: simple data, data discovery tool, simple data discovery, stupidly simple data, stupidly simple\", \"<b>Topic 8</b><br>Words: traintestsplit kfold, traintestsplit kfold vs, to traintestsplit kfold, kfold vs stratifiedkfold, vs stratifiedkfold the\", \"<b>Topic 8</b><br>Words: language classifier with, sources discovery governance, add bilingual support, discovery governance with, build natural language\", \"<b>Topic 8</b><br>Words: text cloud pricing, watson speech to, text cloud, to text cloud, ibm watson speech\", \"<b>Topic 8</b><br>Words: natural language, language, own service, design token pipeline, encoding part\", \"<b>Topic 8</b><br>Words: stock generator sports, procedural ochl stock, sports reference api, bertbased model to, bertbased model\", \"<b>Topic 8</b><br>Words: nlp, bootstrapping in, bootstrapping in data, introduction to bootstrapping, nlp datasets\", \"<b>Topic 8</b><br>Words: notebooks and freedom, notebooks and, nlp notebooks, nlp notebooks and, tags using conditional\", \"<b>Topic 8</b><br>Words: nlp text, projects nlp, science projects nlp, word2vec nlp text, nlp text data\", \"<b>Topic 8</b><br>Words: natural language, natural language processing, language processing, language, processing nlp\", \"<b>Topic 8</b><br>Words: natural language, natural language processing, language processing, processing nlp, language processing nlp\", \"<b>Topic 8</b><br>Words: text classification, natural language, language processing, natural language processing, nlp models beginners\", \"<b>Topic 8</b><br>Words: natural language, language processing, natural language processing, text classification, intelligent search through\", \"<b>Topic 8</b><br>Words: similarity, molecular, calculate molecular, calculate molecular similarity, molecular similarity\"], \"marker\": {\"color\": \"#56B4E9\"}, \"mode\": \"lines\", \"name\": \"8_natural language_language processing_n...\", \"type\": \"scatter\", \"x\": [\"2020-01-01T02:16:22.200000+00:00\", \"2020-01-21T10:44:20+00:00\", \"2020-02-10T04:58:40+00:00\", \"2020-02-29T23:13:00+00:00\", \"2020-03-20T17:27:20+00:00\", \"2020-04-09T11:41:40+00:00\", \"2020-04-29T05:56:00+00:00\", \"2020-05-19T00:10:20+00:00\", \"2020-06-07T18:24:40+00:00\", \"2020-06-27T12:39:00+00:00\", \"2020-07-17T06:53:20+00:00\", \"2020-08-06T01:07:40+00:00\", \"2020-08-25T19:22:00+00:00\", \"2020-09-14T13:36:20+00:00\", \"2020-10-04T07:50:40+00:00\", \"2020-10-24T02:05:00+00:00\", \"2020-12-02T14:33:40+00:00\", \"2020-12-22T08:48:00+00:00\", \"2021-01-11T03:02:20+00:00\", \"2021-01-30T21:16:40+00:00\", \"2021-02-19T15:31:00+00:00\", \"2021-03-11T09:45:20+00:00\", \"2021-03-31T03:59:40+00:00\", \"2021-04-19T22:14:00+00:00\", \"2021-05-09T16:28:20+00:00\", \"2021-05-29T10:42:40+00:00\", \"2021-06-18T04:57:00+00:00\", \"2021-07-07T23:11:20+00:00\", \"2021-07-27T17:25:40+00:00\"], \"y\": [2, 6, 2, 1, 2, 6, 9, 5, 15, 15, 23, 17, 24, 26, 11, 10, 6, 6, 11, 7, 3, 6, 10, 7, 9, 27, 7, 12, 12]}, {\"hoverinfo\": \"text\", \"hovertext\": [\"<b>Topic 9</b><br>Words: black, racism, black women, racist, new racism\", \"<b>Topic 9</b><br>Words: chill, chill girlfriend, the super chill, super chill girlfriend, super chill\", \"<b>Topic 9</b><br>Words: studied zombies in, chinatowns, chinatowns last, chinatowns last oldschool, lust for\", \"<b>Topic 9</b><br>Words: black, an ally, black folks swear, black films, finance black\", \"<b>Topic 9</b><br>Words: gen, gen was, was born, gen was born, was born for\", \"<b>Topic 9</b><br>Words: warren buffett, why warren, why warren buffett, tiger king, buffett sees\", \"<b>Topic 9</b><br>Words: celebrate, stewarts, went terribly laughably, our mask, nonnational holidays black\", \"<b>Topic 9</b><br>Words: grandma is racist, is racist, racist, shameless white savior, most shameless white\", \"<b>Topic 9</b><br>Words: white people, racial, racism, racist, live cast member\", \"<b>Topic 9</b><br>Words: racism, racist, overnight start with, being queer in, being queer\", \"<b>Topic 9</b><br>Words: black, black people, racism, racist, healing black\", \"<b>Topic 9</b><br>Words: black, black is, black is king, black women, beyoncs black\", \"<b>Topic 9</b><br>Words: black, move against biden, latest move against, shame trumps, shame trumps latest\", \"<b>Topic 9</b><br>Words: activist fighting for, of americas black, justice activist fighting, justice activist, struggle of\", \"<b>Topic 9</b><br>Words: sneakers by the, slacks bizarre foray, bizarre foray into, bizarre foray, foray into sneakers\", \"<b>Topic 9</b><br>Words: not always greener, greener for, greener, between mean mern, standoff between mean\", \"<b>Topic 9</b><br>Words: lil wayne, wayne has always, wayne has, who lil wayne, lil wayne has\", \"<b>Topic 9</b><br>Words: kids mental, hurting kids, school is, zoom school is, zoom school\", \"<b>Topic 9</b><br>Words: have always been, santas and heres, been here gammy, always been here, talked to five\", \"<b>Topic 9</b><br>Words: americans to, wants americans to, wants americans, love it as, 7eleven wants americans\", \"<b>Topic 9</b><br>Words: the public hilarious, public hilarious rebuttal, outgoing gift to, hilarious rebuttal, rebuttal\", \"<b>Topic 9</b><br>Words: systemic racism, ranked sorry, than your diversity, your diversity, your diversity training\", \"<b>Topic 9</b><br>Words: black, rugged individualism when, rugged individualism, disneys first african, racists\", \"<b>Topic 9</b><br>Words: kid, kurt cobain kid, song 27 years, after kurt cobain, kid 90 and\", \"<b>Topic 9</b><br>Words: racist, are dont talk, me about racism, think are racist, wind fires catalog\", \"<b>Topic 9</b><br>Words: empress or cpy, empress, on enslaved, on enslaved black, creed valhalla denuvo\", \"<b>Topic 9</b><br>Words: does everyone, is morris chang, is morris, morris chang and, why does everyone\", \"<b>Topic 9</b><br>Words: angular is costing, angular is, costing companies billions, companies billions, is costing\", \"<b>Topic 9</b><br>Words: person, black person, does black person, person know, person know if\"], \"marker\": {\"color\": \"#009E73\"}, \"mode\": \"lines\", \"name\": \"9_black_white_racism_racist\", \"type\": \"scatter\", \"x\": [\"2020-01-01T02:16:22.200000+00:00\", \"2020-01-21T10:44:20+00:00\", \"2020-02-10T04:58:40+00:00\", \"2020-02-29T23:13:00+00:00\", \"2020-03-20T17:27:20+00:00\", \"2020-04-09T11:41:40+00:00\", \"2020-04-29T05:56:00+00:00\", \"2020-05-19T00:10:20+00:00\", \"2020-06-07T18:24:40+00:00\", \"2020-06-27T12:39:00+00:00\", \"2020-07-17T06:53:20+00:00\", \"2020-08-06T01:07:40+00:00\", \"2020-08-25T19:22:00+00:00\", \"2020-09-14T13:36:20+00:00\", \"2020-10-04T07:50:40+00:00\", \"2020-10-24T02:05:00+00:00\", \"2020-11-12T20:19:20+00:00\", \"2020-12-02T14:33:40+00:00\", \"2020-12-22T08:48:00+00:00\", \"2021-01-11T03:02:20+00:00\", \"2021-01-30T21:16:40+00:00\", \"2021-02-19T15:31:00+00:00\", \"2021-03-11T09:45:20+00:00\", \"2021-03-31T03:59:40+00:00\", \"2021-05-09T16:28:20+00:00\", \"2021-05-29T10:42:40+00:00\", \"2021-06-18T04:57:00+00:00\", \"2021-07-07T23:11:20+00:00\", \"2021-07-27T17:25:40+00:00\"], \"y\": [17, 8, 8, 7, 8, 9, 7, 7, 12, 14, 12, 11, 7, 7, 9, 4, 7, 6, 5, 3, 12, 6, 6, 5, 5, 4, 1, 1, 2]}],                        {\"height\": 450, \"hoverlabel\": {\"bgcolor\": \"white\", \"font\": {\"family\": \"Rockwell\", \"size\": 16}}, \"legend\": {\"title\": {\"text\": \"<b>Global Topic Representation\"}}, \"template\": {\"data\": {\"bar\": [{\"error_x\": {\"color\": \"rgb(36,36,36)\"}, \"error_y\": {\"color\": \"rgb(36,36,36)\"}, \"marker\": {\"line\": {\"color\": \"white\", \"width\": 0.5}}, \"type\": \"bar\"}], \"barpolar\": [{\"marker\": {\"line\": {\"color\": \"white\", \"width\": 0.5}}, \"type\": \"barpolar\"}], \"carpet\": [{\"aaxis\": {\"endlinecolor\": \"rgb(36,36,36)\", \"gridcolor\": \"white\", \"linecolor\": \"white\", \"minorgridcolor\": \"white\", \"startlinecolor\": \"rgb(36,36,36)\"}, \"baxis\": {\"endlinecolor\": \"rgb(36,36,36)\", \"gridcolor\": \"white\", \"linecolor\": \"white\", \"minorgridcolor\": \"white\", \"startlinecolor\": \"rgb(36,36,36)\"}, \"type\": \"carpet\"}], \"choropleth\": [{\"colorbar\": {\"outlinewidth\": 1, \"tickcolor\": \"rgb(36,36,36)\", \"ticks\": \"outside\"}, \"type\": \"choropleth\"}], \"contour\": [{\"colorbar\": {\"outlinewidth\": 1, \"tickcolor\": \"rgb(36,36,36)\", \"ticks\": \"outside\"}, \"colorscale\": [[0.0, \"#440154\"], [0.1111111111111111, \"#482878\"], [0.2222222222222222, \"#3e4989\"], [0.3333333333333333, \"#31688e\"], [0.4444444444444444, \"#26828e\"], [0.5555555555555556, \"#1f9e89\"], [0.6666666666666666, \"#35b779\"], [0.7777777777777778, \"#6ece58\"], [0.8888888888888888, \"#b5de2b\"], [1.0, \"#fde725\"]], \"type\": \"contour\"}], \"contourcarpet\": [{\"colorbar\": {\"outlinewidth\": 1, \"tickcolor\": \"rgb(36,36,36)\", \"ticks\": \"outside\"}, \"type\": \"contourcarpet\"}], \"heatmap\": [{\"colorbar\": {\"outlinewidth\": 1, \"tickcolor\": \"rgb(36,36,36)\", \"ticks\": \"outside\"}, \"colorscale\": [[0.0, \"#440154\"], [0.1111111111111111, \"#482878\"], [0.2222222222222222, \"#3e4989\"], [0.3333333333333333, \"#31688e\"], [0.4444444444444444, \"#26828e\"], [0.5555555555555556, \"#1f9e89\"], [0.6666666666666666, \"#35b779\"], [0.7777777777777778, \"#6ece58\"], [0.8888888888888888, \"#b5de2b\"], [1.0, \"#fde725\"]], \"type\": \"heatmap\"}], \"heatmapgl\": [{\"colorbar\": {\"outlinewidth\": 1, \"tickcolor\": \"rgb(36,36,36)\", \"ticks\": \"outside\"}, \"colorscale\": [[0.0, \"#440154\"], [0.1111111111111111, \"#482878\"], [0.2222222222222222, \"#3e4989\"], [0.3333333333333333, \"#31688e\"], [0.4444444444444444, \"#26828e\"], [0.5555555555555556, \"#1f9e89\"], [0.6666666666666666, \"#35b779\"], [0.7777777777777778, \"#6ece58\"], [0.8888888888888888, \"#b5de2b\"], [1.0, \"#fde725\"]], \"type\": \"heatmapgl\"}], \"histogram\": [{\"marker\": {\"line\": {\"color\": \"white\", \"width\": 0.6}}, \"type\": \"histogram\"}], \"histogram2d\": [{\"colorbar\": {\"outlinewidth\": 1, \"tickcolor\": \"rgb(36,36,36)\", \"ticks\": \"outside\"}, \"colorscale\": [[0.0, \"#440154\"], [0.1111111111111111, \"#482878\"], [0.2222222222222222, \"#3e4989\"], [0.3333333333333333, \"#31688e\"], [0.4444444444444444, \"#26828e\"], [0.5555555555555556, \"#1f9e89\"], [0.6666666666666666, \"#35b779\"], [0.7777777777777778, \"#6ece58\"], [0.8888888888888888, \"#b5de2b\"], [1.0, \"#fde725\"]], \"type\": \"histogram2d\"}], \"histogram2dcontour\": [{\"colorbar\": {\"outlinewidth\": 1, \"tickcolor\": \"rgb(36,36,36)\", \"ticks\": \"outside\"}, \"colorscale\": [[0.0, \"#440154\"], [0.1111111111111111, \"#482878\"], [0.2222222222222222, \"#3e4989\"], [0.3333333333333333, \"#31688e\"], [0.4444444444444444, \"#26828e\"], [0.5555555555555556, \"#1f9e89\"], [0.6666666666666666, \"#35b779\"], [0.7777777777777778, \"#6ece58\"], [0.8888888888888888, \"#b5de2b\"], [1.0, \"#fde725\"]], \"type\": \"histogram2dcontour\"}], \"mesh3d\": [{\"colorbar\": {\"outlinewidth\": 1, \"tickcolor\": \"rgb(36,36,36)\", \"ticks\": \"outside\"}, \"type\": \"mesh3d\"}], \"parcoords\": [{\"line\": {\"colorbar\": {\"outlinewidth\": 1, \"tickcolor\": \"rgb(36,36,36)\", \"ticks\": \"outside\"}}, \"type\": \"parcoords\"}], \"pie\": [{\"automargin\": true, \"type\": \"pie\"}], \"scatter\": [{\"marker\": {\"colorbar\": {\"outlinewidth\": 1, \"tickcolor\": \"rgb(36,36,36)\", \"ticks\": \"outside\"}}, \"type\": \"scatter\"}], \"scatter3d\": [{\"line\": {\"colorbar\": {\"outlinewidth\": 1, \"tickcolor\": \"rgb(36,36,36)\", \"ticks\": \"outside\"}}, \"marker\": {\"colorbar\": {\"outlinewidth\": 1, \"tickcolor\": \"rgb(36,36,36)\", \"ticks\": \"outside\"}}, \"type\": \"scatter3d\"}], \"scattercarpet\": [{\"marker\": {\"colorbar\": {\"outlinewidth\": 1, \"tickcolor\": \"rgb(36,36,36)\", \"ticks\": \"outside\"}}, \"type\": \"scattercarpet\"}], \"scattergeo\": [{\"marker\": {\"colorbar\": {\"outlinewidth\": 1, \"tickcolor\": \"rgb(36,36,36)\", \"ticks\": \"outside\"}}, \"type\": \"scattergeo\"}], \"scattergl\": [{\"marker\": {\"colorbar\": {\"outlinewidth\": 1, \"tickcolor\": \"rgb(36,36,36)\", \"ticks\": \"outside\"}}, \"type\": \"scattergl\"}], \"scattermapbox\": [{\"marker\": {\"colorbar\": {\"outlinewidth\": 1, \"tickcolor\": \"rgb(36,36,36)\", \"ticks\": \"outside\"}}, \"type\": \"scattermapbox\"}], \"scatterpolar\": [{\"marker\": {\"colorbar\": {\"outlinewidth\": 1, \"tickcolor\": \"rgb(36,36,36)\", \"ticks\": \"outside\"}}, \"type\": \"scatterpolar\"}], \"scatterpolargl\": [{\"marker\": {\"colorbar\": {\"outlinewidth\": 1, \"tickcolor\": \"rgb(36,36,36)\", \"ticks\": \"outside\"}}, \"type\": \"scatterpolargl\"}], \"scatterternary\": [{\"marker\": {\"colorbar\": {\"outlinewidth\": 1, \"tickcolor\": \"rgb(36,36,36)\", \"ticks\": \"outside\"}}, \"type\": \"scatterternary\"}], \"surface\": [{\"colorbar\": {\"outlinewidth\": 1, \"tickcolor\": \"rgb(36,36,36)\", \"ticks\": \"outside\"}, \"colorscale\": [[0.0, \"#440154\"], [0.1111111111111111, \"#482878\"], [0.2222222222222222, \"#3e4989\"], [0.3333333333333333, \"#31688e\"], [0.4444444444444444, \"#26828e\"], [0.5555555555555556, \"#1f9e89\"], [0.6666666666666666, \"#35b779\"], [0.7777777777777778, \"#6ece58\"], [0.8888888888888888, \"#b5de2b\"], [1.0, \"#fde725\"]], \"type\": \"surface\"}], \"table\": [{\"cells\": {\"fill\": {\"color\": \"rgb(237,237,237)\"}, \"line\": {\"color\": \"white\"}}, \"header\": {\"fill\": {\"color\": \"rgb(217,217,217)\"}, \"line\": {\"color\": \"white\"}}, \"type\": \"table\"}]}, \"layout\": {\"annotationdefaults\": {\"arrowhead\": 0, \"arrowwidth\": 1}, \"autotypenumbers\": \"strict\", \"coloraxis\": {\"colorbar\": {\"outlinewidth\": 1, \"tickcolor\": \"rgb(36,36,36)\", \"ticks\": \"outside\"}}, \"colorscale\": {\"diverging\": [[0.0, \"rgb(103,0,31)\"], [0.1, \"rgb(178,24,43)\"], [0.2, \"rgb(214,96,77)\"], [0.3, \"rgb(244,165,130)\"], [0.4, \"rgb(253,219,199)\"], [0.5, \"rgb(247,247,247)\"], [0.6, \"rgb(209,229,240)\"], [0.7, \"rgb(146,197,222)\"], [0.8, \"rgb(67,147,195)\"], [0.9, \"rgb(33,102,172)\"], [1.0, \"rgb(5,48,97)\"]], \"sequential\": [[0.0, \"#440154\"], [0.1111111111111111, \"#482878\"], [0.2222222222222222, \"#3e4989\"], [0.3333333333333333, \"#31688e\"], [0.4444444444444444, \"#26828e\"], [0.5555555555555556, \"#1f9e89\"], [0.6666666666666666, \"#35b779\"], [0.7777777777777778, \"#6ece58\"], [0.8888888888888888, \"#b5de2b\"], [1.0, \"#fde725\"]], \"sequentialminus\": [[0.0, \"#440154\"], [0.1111111111111111, \"#482878\"], [0.2222222222222222, \"#3e4989\"], [0.3333333333333333, \"#31688e\"], [0.4444444444444444, \"#26828e\"], [0.5555555555555556, \"#1f9e89\"], [0.6666666666666666, \"#35b779\"], [0.7777777777777778, \"#6ece58\"], [0.8888888888888888, \"#b5de2b\"], [1.0, \"#fde725\"]]}, \"colorway\": [\"#1F77B4\", \"#FF7F0E\", \"#2CA02C\", \"#D62728\", \"#9467BD\", \"#8C564B\", \"#E377C2\", \"#7F7F7F\", \"#BCBD22\", \"#17BECF\"], \"font\": {\"color\": \"rgb(36,36,36)\"}, \"geo\": {\"bgcolor\": \"white\", \"lakecolor\": \"white\", \"landcolor\": \"white\", \"showlakes\": true, \"showland\": true, \"subunitcolor\": \"white\"}, \"hoverlabel\": {\"align\": \"left\"}, \"hovermode\": \"closest\", \"mapbox\": {\"style\": \"light\"}, \"paper_bgcolor\": \"white\", \"plot_bgcolor\": \"white\", \"polar\": {\"angularaxis\": {\"gridcolor\": \"rgb(232,232,232)\", \"linecolor\": \"rgb(36,36,36)\", \"showgrid\": false, \"showline\": true, \"ticks\": \"outside\"}, \"bgcolor\": \"white\", \"radialaxis\": {\"gridcolor\": \"rgb(232,232,232)\", \"linecolor\": \"rgb(36,36,36)\", \"showgrid\": false, \"showline\": true, \"ticks\": \"outside\"}}, \"scene\": {\"xaxis\": {\"backgroundcolor\": \"white\", \"gridcolor\": \"rgb(232,232,232)\", \"gridwidth\": 2, \"linecolor\": \"rgb(36,36,36)\", \"showbackground\": true, \"showgrid\": false, \"showline\": true, \"ticks\": \"outside\", \"zeroline\": false, \"zerolinecolor\": \"rgb(36,36,36)\"}, \"yaxis\": {\"backgroundcolor\": \"white\", \"gridcolor\": \"rgb(232,232,232)\", \"gridwidth\": 2, \"linecolor\": \"rgb(36,36,36)\", \"showbackground\": true, \"showgrid\": false, \"showline\": true, \"ticks\": \"outside\", \"zeroline\": false, \"zerolinecolor\": \"rgb(36,36,36)\"}, \"zaxis\": {\"backgroundcolor\": \"white\", \"gridcolor\": \"rgb(232,232,232)\", \"gridwidth\": 2, \"linecolor\": \"rgb(36,36,36)\", \"showbackground\": true, \"showgrid\": false, \"showline\": true, \"ticks\": \"outside\", \"zeroline\": false, \"zerolinecolor\": \"rgb(36,36,36)\"}}, \"shapedefaults\": {\"fillcolor\": \"black\", \"line\": {\"width\": 0}, \"opacity\": 0.3}, \"ternary\": {\"aaxis\": {\"gridcolor\": \"rgb(232,232,232)\", \"linecolor\": \"rgb(36,36,36)\", \"showgrid\": false, \"showline\": true, \"ticks\": \"outside\"}, \"baxis\": {\"gridcolor\": \"rgb(232,232,232)\", \"linecolor\": \"rgb(36,36,36)\", \"showgrid\": false, \"showline\": true, \"ticks\": \"outside\"}, \"bgcolor\": \"white\", \"caxis\": {\"gridcolor\": \"rgb(232,232,232)\", \"linecolor\": \"rgb(36,36,36)\", \"showgrid\": false, \"showline\": true, \"ticks\": \"outside\"}}, \"title\": {\"x\": 0.05}, \"xaxis\": {\"automargin\": true, \"gridcolor\": \"rgb(232,232,232)\", \"linecolor\": \"rgb(36,36,36)\", \"showgrid\": false, \"showline\": true, \"ticks\": \"outside\", \"title\": {\"standoff\": 15}, \"zeroline\": false, \"zerolinecolor\": \"rgb(36,36,36)\"}, \"yaxis\": {\"automargin\": true, \"gridcolor\": \"rgb(232,232,232)\", \"linecolor\": \"rgb(36,36,36)\", \"showgrid\": false, \"showline\": true, \"ticks\": \"outside\", \"title\": {\"standoff\": 15}, \"zeroline\": false, \"zerolinecolor\": \"rgb(36,36,36)\"}}}, \"title\": {\"font\": {\"color\": \"Black\", \"size\": 22}, \"text\": \"<b>Topics over Time\", \"x\": 0.4, \"xanchor\": \"center\", \"y\": 0.95, \"yanchor\": \"top\"}, \"width\": 1250, \"xaxis\": {\"showgrid\": true}, \"yaxis\": {\"showgrid\": true, \"title\": {\"text\": \"Frequency\"}}},                        {\"responsive\": true}                    ).then(function(){\n",
              "                            \n",
              "var gd = document.getElementById('ae6c90cb-2802-4475-b127-cea4dde77559');\n",
              "var x = new MutationObserver(function (mutations, observer) {{\n",
              "        var display = window.getComputedStyle(gd).display;\n",
              "        if (!display || display === 'none') {{\n",
              "            console.log([gd, 'removed!']);\n",
              "            Plotly.purge(gd);\n",
              "            observer.disconnect();\n",
              "        }}\n",
              "}});\n",
              "\n",
              "// Listen for the removal of the full notebook cells\n",
              "var notebookContainer = gd.closest('#notebook-container');\n",
              "if (notebookContainer) {{\n",
              "    x.observe(notebookContainer, {childList: true});\n",
              "}}\n",
              "\n",
              "// Listen for the clearing of the current output cell\n",
              "var outputEl = gd.closest('.output');\n",
              "if (outputEl) {{\n",
              "    x.observe(outputEl, {childList: true});\n",
              "}}\n",
              "\n",
              "                        })                };                            </script>        </div>\n",
              "</body>\n",
              "</html>"
            ]
          },
          "metadata": {
            "tags": []
          }
        }
      ]
    },
    {
      "cell_type": "code",
      "metadata": {
        "colab": {
          "base_uri": "https://localhost:8080/",
          "height": 817
        },
        "id": "LDDJTiDjnUdg",
        "outputId": "1c4c7ca4-d57d-40b0-e4da-d2b0ef126118"
      },
      "source": [
        "topic_model.visualize_heatmap()"
      ],
      "execution_count": null,
      "outputs": [
        {
          "output_type": "display_data",
          "data": {
            "text/html": [
              "<html>\n",
              "<head><meta charset=\"utf-8\" /></head>\n",
              "<body>\n",
              "    <div>            <script src=\"https://cdnjs.cloudflare.com/ajax/libs/mathjax/2.7.5/MathJax.js?config=TeX-AMS-MML_SVG\"></script><script type=\"text/javascript\">if (window.MathJax) {MathJax.Hub.Config({SVG: {font: \"STIX-Web\"}});}</script>                <script type=\"text/javascript\">window.PlotlyConfig = {MathJaxConfig: 'local'};</script>\n",
              "        <script src=\"https://cdn.plot.ly/plotly-latest.min.js\"></script>                <div id=\"1a9d6c14-8926-4dfd-8bc2-5da70930cf46\" class=\"plotly-graph-div\" style=\"height:800px; width:800px;\"></div>            <script type=\"text/javascript\">                                    window.PLOTLYENV=window.PLOTLYENV || {};                                    if (document.getElementById(\"1a9d6c14-8926-4dfd-8bc2-5da70930cf46\")) {                    Plotly.newPlot(                        \"1a9d6c14-8926-4dfd-8bc2-5da70930cf46\",                        [{\"coloraxis\": \"coloraxis\", \"hovertemplate\": \"x: %{x}<br>y: %{y}<br>Similarity Score: %{z}<extra></extra>\", \"name\": \"0\", \"type\": \"heatmap\", \"x\": [\"-1_of_how_your\", \"0_python_in python_python c...\", \"1_data science_data scienti...\", \"2_life_things_my\", \"3_code_developer_programming\", \"4_visualization_data visual...\", \"5_sentiment_sentiment analy...\", \"6_machine learning_deep lea...\", \"7_react_with react_in react\", \"8_natural language_language...\", \"9_black_white_racism\", \"10_2020_will_the universe\", \"11_regression_linear regres...\", \"12_pandas_using pandas_in p...\", \"13_pandemic_the pandemic_pa...\", \"14_scraping_web scraping_sc...\", \"15_ux_designer_ux design\", \"16_coronavirus_the coronavi...\", \"17_gpt3_ais_ai research\", \"18_podcast_podcasts_netflix\", \"19_javascript_in javascript...\", \"20_covid19_covid_covid19 va...\", \"21_tweets_topic modeling_tw...\", \"22_neural networks_convolut...\", \"23_writer_write_to write\", \"24_battery_tesla_batteries\", \"25_runner_runners_strength ...\", \"26_facial_facial recognitio...\", \"27_eat_food_foods\", \"28_brain_your brain_the brain\", \"29_map_maps_map vs\", \"30_clustering_kmeans cluste...\", \"31_image classification_cla...\", \"32_jupyter_jupyter notebook...\", \"33_exploratory data_explora...\", \"34_trading_algorithmic trad...\", \"35_github_on github_github ...\", \"36_aws_aws amplify_using aw...\", \"37_decision tree_decision t...\", \"38_ui design_ui ux_ui desig...\", \"39_photos_photographs_photo...\", \"40_nba_predicting ipl2020_p...\"], \"xaxis\": \"x\", \"y\": [\"-1_of_how_your\", \"0_python_in python_python c...\", \"1_data science_data scienti...\", \"2_life_things_my\", \"3_code_developer_programming\", \"4_visualization_data visual...\", \"5_sentiment_sentiment analy...\", \"6_machine learning_deep lea...\", \"7_react_with react_in react\", \"8_natural language_language...\", \"9_black_white_racism\", \"10_2020_will_the universe\", \"11_regression_linear regres...\", \"12_pandas_using pandas_in p...\", \"13_pandemic_the pandemic_pa...\", \"14_scraping_web scraping_sc...\", \"15_ux_designer_ux design\", \"16_coronavirus_the coronavi...\", \"17_gpt3_ais_ai research\", \"18_podcast_podcasts_netflix\", \"19_javascript_in javascript...\", \"20_covid19_covid_covid19 va...\", \"21_tweets_topic modeling_tw...\", \"22_neural networks_convolut...\", \"23_writer_write_to write\", \"24_battery_tesla_batteries\", \"25_runner_runners_strength ...\", \"26_facial_facial recognitio...\", \"27_eat_food_foods\", \"28_brain_your brain_the brain\", \"29_map_maps_map vs\", \"30_clustering_kmeans cluste...\", \"31_image classification_cla...\", \"32_jupyter_jupyter notebook...\", \"33_exploratory data_explora...\", \"34_trading_algorithmic trad...\", \"35_github_on github_github ...\", \"36_aws_aws amplify_using aw...\", \"37_decision tree_decision t...\", \"38_ui design_ui ux_ui desig...\", \"39_photos_photographs_photo...\", \"40_nba_predicting ipl2020_p...\"], \"yaxis\": \"y\", \"z\": [[1.0000000000000004, 0.3677327082306243, 0.3622622947765496, 0.6827765886828228, 0.41646051587725397, 0.4565694670206141, 0.28097366732102086, 0.4711048263002521, 0.26133177222843595, 0.4603208118135367, 0.36129119937648535, 0.498360309032284, 0.3659293533431153, 0.18677975878027125, 0.26499432860241284, 0.19611651166037414, 0.34784466964326005, 0.08642295688561753, 0.21168248489637048, 0.27605995729845, 0.2797651166113327, 0.22492785341712618, 0.24985880900190227, 0.3598619234777186, 0.6242572754268656, 0.15907120765145927, 0.41629131701335054, 0.3002400993352398, 0.3621625173072106, 0.3252566839690107, 0.29143558242661227, 0.19926692561863715, 0.3444884769732999, 0.3144285953017183, 0.3605036425844096, 0.49075438634911606, 0.13867170495478826, 0.23749438045119545, 0.34616955222984025, 0.217838864641589, 0.2987967799589604, 0.3064168445338999], [0.3677327082306243, 0.9999999999999992, 0.2694883639414433, 0.227146731685948, 0.40394659675544536, 0.5502634912041136, 0.05868551704118128, 0.13959183357308533, 0.1532306465477609, 0.3482637318473113, 0.05531441553309392, 0.07623572194418045, 0.1672681006612919, 0.2682173369277966, -0.04817054248760838, 0.21593396796075115, 0.09746816656682086, -0.01999495142762593, 0.25822889868999566, 0.2477666383653983, 0.07467278680015246, 0.17718312853827878, 0.054051021092811374, 0.10395781475022267, 0.18948855387464564, 0.02989987236491179, 0.07704071617793778, 0.08663373146366571, 0.12632337535931487, 0.03384025979310896, 0.3179948513108761, 0.18852342694250085, 0.21580161682769727, 0.34594448940816025, 0.33845790296467293, 0.5084542806013365, 0.08660791290538357, 0.09557201072906318, 0.15281376761482135, 0.0984932452009113, 0.05231588036930965, 0.05368234782551754], [0.3622622947765496, 0.2694883639414433, 1.0000000000000004, 0.26163719288617265, 0.2606379733924561, 0.5040706254904359, 0.1705070685447633, 0.417895005556295, 0.16938144940904934, 0.3236764875735968, 0.14744871400173098, 0.2620031165658374, 0.23157587883631803, 0.21402834539255633, 0.16700030078205047, 0.2566684993153121, 0.1862559566358335, 0.08274670523340437, 0.31005634882634336, 0.13100014765610238, 0.024741329667046813, 0.24606306576176074, 0.17374205427247968, 0.308598882161218, 0.22512627233029764, 0.07565552625889431, 0.2134624667180418, 0.07349290254866772, 0.13354593853411545, 0.18163323590331837, 0.20398966048198341, 0.2823889982000516, 0.4407388602666801, 0.20657656830511667, 0.5750582760812981, 0.26766219295946664, 0.09085877243994661, 0.15401545338436545, 0.3143420770882479, 0.12153628469740363, 0.28056907618220206, 0.09196957469180271], [0.6827765886828228, 0.227146731685948, 0.26163719288617265, 1.0000000000000002, 0.23883139896674124, 0.29433477129697166, 0.36248513797636406, 0.1664107382468456, 0.21631424458493315, 0.28109090827967476, 0.37897795030136205, 0.4580038795887368, 0.26029338145898867, 0.18052784001935993, 0.15486067578745039, 0.09515746400333965, 0.29362741230121664, 0.00865485311517232, 0.05616161764705635, 0.22630967711953115, 0.19572418349635823, 0.08217219311740209, 0.25340280759903533, 0.15556281447446813, 0.45360440623380904, 0.10833059679608195, 0.36970632365209743, 0.4133936812285925, 0.3782202327025398, 0.3373673764943699, 0.13709193942470366, 0.12592297674980935, 0.16547258754741756, 0.1812427744953666, 0.20286023558484517, 0.2762347097157399, 0.06947062690453984, 0.19356773592092041, 0.21561914647341557, 0.16515360915767693, 0.3113182150186151, 0.1935910717576883], [0.41646051587725397, 0.40394659675544536, 0.2606379733924561, 0.23883139896674124, 1.0, 0.45395293688246396, 0.15170406722029411, 0.30927402790849834, 0.3272118497307116, 0.5379632481940786, 0.037283071441874094, 0.16574697048033285, 0.18993564954866055, 0.06037037389499815, 0.029770992148724716, 0.23333265146429577, 0.46254166112078277, 0.020167747392785516, 0.31318039111846063, 0.2771687001019057, 0.3015647131084749, 0.3276838693114732, 0.23729489510952617, 0.2782221570332428, 0.39053866485132316, 0.11607157875281891, 0.2417981666360065, 0.12618410451622067, 0.02951244828032843, 0.06401024249482909, 0.2782282416504058, 0.13478344295620942, 0.37725540517810124, 0.213336304577332, 0.3564526849586461, 0.4486129014172964, 0.3394850454092908, 0.35560457310452187, 0.3138476592173289, 0.4833271930812011, 0.062270002904136576, 0.10247245622785016], [0.4565694670206141, 0.5502634912041136, 0.5040706254904359, 0.29433477129697166, 0.45395293688246396, 1.0000000000000004, 0.26523739670433044, 0.3890789802797734, 0.16565347783559223, 0.477122204327227, 0.18205543679708358, 0.1580177881626117, 0.24534788932965085, 0.2556701921528077, 0.05308618568225298, 0.2446521501989784, 0.2890826481182312, -0.013106199163068934, 0.33965331424053713, 0.2666329998428405, 0.07890560848728942, 0.2003869992391562, 0.26858754723987643, 0.3624108777193553, 0.31051600748956754, -0.01892845767483186, 0.2395690952311428, 0.2905784301291777, 0.15711032055239874, 0.16787988195636738, 0.48536395355885775, 0.3648242664239175, 0.5965347652877253, 0.3079844007597893, 0.5315542906956715, 0.46447121712494743, 0.14704822915908924, 0.17669743021715217, 0.30778705122173167, 0.34447921965871164, 0.46768168522720843, 0.12076168974206046], [0.28097366732102086, 0.05868551704118128, 0.1705070685447633, 0.36248513797636406, 0.15170406722029411, 0.26523739670433044, 1.0000000000000007, 0.2693501002837375, 0.23911787955835828, 0.34566358493328964, 0.2105706119462396, 0.2260463849280275, 0.21980687227960127, -0.019957640342048003, 0.07927321645638116, 0.11979502369899225, 0.2315267366774792, 0.001872488902415044, 0.19279474538818148, 0.26577385594211217, 0.04966356043314876, 0.06949722603571691, 0.44051717265490437, 0.25710134900537884, 0.28840550704514933, -0.011643077158428832, 0.1084938696721653, 0.1997549923609996, 0.19295774313006855, 0.24622888219505903, 0.17698545880616023, 0.20144139055550025, 0.2540347613638818, 0.12871509403669584, 0.22505530275446006, 0.2930246170298636, 0.2604522970658001, 0.2096848404100567, 0.22369848737108233, 0.20784702255975052, 0.20928101088500697, 0.23863900505143523], [0.4711048263002521, 0.13959183357308533, 0.417895005556295, 0.1664107382468456, 0.30927402790849834, 0.3890789802797734, 0.2693501002837375, 1.0, 0.1279706793115334, 0.47880377560967746, 0.17318313382605002, 0.264420925829889, 0.39635601455153735, 0.16781018703178163, 0.05685304272829225, 0.10866748562703692, 0.264516954052915, 0.059152614712607646, 0.2381161795466666, 0.1967169859894311, 0.14456237679445388, 0.1955775225562091, 0.205677108447208, 0.630782717938696, 0.2677259142045826, 0.02576807876637431, 0.3305590970762805, 0.20420097140703014, 0.13159729007485477, 0.2320128226508429, 0.20991863390350135, 0.3346022492177528, 0.5776991771380683, 0.3175614266468879, 0.42922666443494645, 0.3710479918127215, 0.05898750723129846, 0.08465215936402293, 0.45016030498070425, 0.18394543064582924, 0.1562590052945592, 0.2284394304978839], [0.26133177222843595, 0.1532306465477609, 0.16938144940904934, 0.21631424458493315, 0.3272118497307116, 0.16565347783559223, 0.23911787955835828, 0.1279706793115334, 0.9999999999999997, 0.1379280628276193, -0.021573538446807105, 0.12254418495023876, 0.16915468999691072, 0.11778033054021037, 0.11008318011212118, 0.02154937022487971, 0.1504432288128509, -0.004737314382464654, 0.2211667597908608, 0.08313620508640211, 0.28802613195611954, 0.06700653802107243, 0.23472893081321192, 0.14136446416221943, 0.18732917646601366, 0.13368775464487703, 0.12052460554828029, 0.17341839855551208, 0.03623268975430542, 0.10872995903214096, 0.11103724734455525, -0.017815706466287166, 0.07303911403732526, 0.10043563957827162, 0.17569493213979354, 0.3040812360719831, 0.36061020509496383, 0.1874747335035019, 0.1780255826109502, 0.17482255257221035, 0.027708940880618427, 0.18353863733940257], [0.4603208118135367, 0.3482637318473113, 0.3236764875735968, 0.28109090827967476, 0.5379632481940786, 0.477122204327227, 0.34566358493328964, 0.47880377560967746, 0.1379280628276193, 1.0, 0.2830265798566518, 0.16532127497512378, 0.24884111527380123, 0.15051112141964437, 0.0932388675699127, 0.22965577261365988, 0.3537512299411628, 0.00796564575637142, 0.22110282436166298, 0.16281596941017976, 0.10584117409263152, 0.17874475392313904, 0.2946523192659159, 0.40046121765238185, 0.3915070593280771, -0.054226170100542946, 0.16692825641232706, 0.3486425088284545, 0.13027370450968495, 0.220753721185033, 0.35193080366697066, 0.330505203152233, 0.604257833167916, 0.30670750032384975, 0.44068553698755075, 0.408296616553374, 0.14252709819950768, 0.23073020848533127, 0.4036405489778724, 0.3651635720222753, 0.11185614167885277, 0.1502758841952926], [0.36129119937648535, 0.05531441553309392, 0.14744871400173098, 0.37897795030136205, 0.037283071441874094, 0.18205543679708358, 0.2105706119462396, 0.17318313382605002, -0.021573538446807105, 0.2830265798566518, 1.0, 0.2529508956956458, 0.10850867316735428, 0.19147979917022237, 0.2010964002765231, 0.1277094744965515, 0.21219887308007196, 0.15739372088626424, 0.018309485723773618, 0.04954022334386049, 0.014087742246038232, 0.2248906231376856, 0.0793592168317629, 0.1680481048736564, 0.28978880599218815, 0.07516546420940319, 0.2417104737121557, 0.4348495842191332, 0.21016422493256162, 0.23893716188472874, 0.07488329703837586, 0.02238816342066255, 0.16876791688992027, 0.1117418287240936, 0.0008672799106585818, 0.14416528249811067, -0.11559372503912199, 0.12298324994013629, 0.14066209135717578, 0.11918687765182864, 0.2399426457410479, 0.17548359260473095], [0.498360309032284, 0.07623572194418045, 0.2620031165658374, 0.4580038795887368, 0.16574697048033285, 0.1580177881626117, 0.2260463849280275, 0.264420925829889, 0.12254418495023876, 0.16532127497512378, 0.2529508956956458, 0.9999999999999996, 0.12614077334632773, 0.2016335098447029, 0.3918668784114825, -0.031193477818520554, 0.2431648376480663, 0.13506990194186008, 0.10242947359820004, 0.20554491012332765, 0.27375425638123174, 0.24608782174206703, 0.17934483196818402, 0.21939366029156196, 0.3101227568869023, 0.13981799468701647, 0.21994671346662426, 0.16835242032813258, 0.2066470815758179, 0.2893362196351424, 0.11050473979118855, 0.08886729086018418, 0.1127350491345849, 0.2227277536951643, 0.1205142998756886, 0.1701743137005796, 0.11351946809615036, 0.1143476907454124, 0.1711581733222693, 0.14236632585201475, 0.179247534534058, 0.301255421078815], [0.3659293533431153, 0.1672681006612919, 0.23157587883631803, 0.26029338145898867, 0.18993564954866055, 0.24534788932965085, 0.21980687227960127, 0.39635601455153735, 0.16915468999691072, 0.24884111527380123, 0.10850867316735428, 0.12614077334632773, 0.9999999999999998, 0.07531972765688029, 0.01688044443799159, 0.16136032499445926, 0.07916755714982465, 0.010724785286838354, 0.2403722232758835, 0.008972367095366623, 0.12319605357300073, 0.08387433673113201, 0.15195649182598753, 0.2877153924469489, 0.15127109636767389, -0.027068757643397903, 0.1604577106984505, 0.13448254568153276, 0.08109475785306794, 0.1294170121151005, 0.1667043331449954, 0.18416893907651966, 0.27895076953671827, 0.16813450639522326, 0.42113713427923494, 0.2719629520113219, 0.02718970130233584, 0.04709623863825248, 0.33018467953158925, 0.03002953371733888, 0.10463883415208558, 0.2073243185742714], [0.18677975878027125, 0.2682173369277966, 0.21402834539255633, 0.18052784001935993, 0.06037037389499815, 0.2556701921528077, -0.019957640342048003, 0.16781018703178163, 0.11778033054021037, 0.15051112141964437, 0.19147979917022237, 0.2016335098447029, 0.07531972765688029, 1.0000000000000002, 0.009891362115656313, 0.07791042586911831, 0.02219748978724926, 0.21973585932738757, 0.09012374847995148, 0.060961885836058376, -0.027725951095751163, 0.21573349696719707, 0.08972873966352238, 0.19039124100763483, 0.037984884059220195, 0.056406243216416574, 0.03080690177453786, 0.18286786038743003, 0.12976804744872003, 0.07129142496173872, 0.07466965038389342, 0.17806923797591512, 0.10930951718155697, 0.17549607952777546, 0.08030137154127491, 0.19106001935572847, 0.0020932526954181, 0.2162971113279697, 0.2062347549980007, -0.01604426809826466, 0.1812093353989679, -0.02974353873695332], [0.26499432860241284, -0.04817054248760838, 0.16700030078205047, 0.15486067578745039, 0.029770992148724716, 0.05308618568225298, 0.07927321645638116, 0.05685304272829225, 0.11008318011212118, 0.0932388675699127, 0.2010964002765231, 0.3918668784114825, 0.01688044443799159, 0.009891362115656313, 1.0, 0.06413741973326048, 0.02554160139805487, 0.3118039634826335, 0.12286239798464234, -0.007294851466605094, 0.12081089842854588, 0.26191970890989513, 0.05712720661161724, 0.1383928531766378, 0.22092455438994474, 0.096983232978301, 0.0241872860453629, 0.10383279629813238, 0.2237850531606374, 0.3398604864888947, 0.09236268912671913, 0.040788922493232474, 0.015550239655808179, 0.08407403642853342, 0.0418045208546714, 0.04918567127536868, 0.029516494918573506, -0.04435559580100434, -0.007016990871886539, 0.06102542523276091, 0.1604185930759066, 0.06936698060902047], [0.19611651166037414, 0.21593396796075115, 0.2566684993153121, 0.09515746400333965, 0.23333265146429577, 0.2446521501989784, 0.11979502369899225, 0.10866748562703692, 0.02154937022487971, 0.22965577261365988, 0.1277094744965515, -0.031193477818520554, 0.16136032499445926, 0.07791042586911831, 0.06413741973326048, 1.0, 0.08772336141504902, 0.0079549677168083, 0.10078977354540354, 0.1434697532198388, 0.043602642685768515, 0.04604378537004611, 0.23338156111213842, 0.053206061890278385, 0.14962724399241958, 0.048022260062944994, 0.1669014852769057, 0.20708125499873797, 0.18054045532985918, 7.685979729555106e-05, 0.16392050183461568, 0.21559926529086565, 0.19328517629471004, 0.16312500255097223, 0.2155957731371556, 0.25660456693934275, 0.07264678420054199, 0.2588670507715601, 0.1769959468600744, 0.04402634671715207, 0.1596788298663475, 0.0042395108366980044], [0.34784466964326005, 0.09746816656682086, 0.1862559566358335, 0.29362741230121664, 0.46254166112078277, 0.2890826481182312, 0.2315267366774792, 0.264516954052915, 0.1504432288128509, 0.3537512299411628, 0.21219887308007196, 0.2431648376480663, 0.07916755714982465, 0.02219748978724926, 0.02554160139805487, 0.08772336141504902, 1.0, 0.0013786632307778955, 0.1412393404093125, 0.2022383776146207, 0.176189959180141, 0.23820967804327553, 0.10993452650404943, 0.15867765823693764, 0.35338131168242226, 0.11634675084823057, 0.29879915063191176, 0.2603958423147489, 0.05935299347153747, 0.09198364997415395, 0.1297350943569786, -0.0006558654614241804, 0.2969536553371914, 0.2528491657548381, 0.19387091451338428, 0.27684239322097015, 0.2128455582549204, 0.25380129809887964, 0.18330984516095933, 0.5931275954230871, 0.19537618738133566, -0.004103368804230713], [0.08642295688561753, -0.01999495142762593, 0.08274670523340437, 0.00865485311517232, 0.020167747392785516, -0.013106199163068934, 0.001872488902415044, 0.059152614712607646, -0.004737314382464654, 0.00796564575637142, 0.15739372088626424, 0.13506990194186008, 0.010724785286838354, 0.21973585932738757, 0.3118039634826335, 0.0079549677168083, 0.0013786632307778955, 0.9999999999999998, 0.1456421378857744, 0.0828790678445085, -0.0858868010036937, 0.37579216658047565, 0.04888478957240602, 0.04063300052981744, 0.05257454218023483, 0.2408964637610554, -0.05328854371403609, 0.04591434578686842, -0.02829969853600594, 0.06690265936813033, -0.0912827127712531, 0.026159267995316506, 0.09054679120723172, 0.08140175425068581, -0.0635595064060609, -0.027675105476510295, -0.06359099677743939, 0.042846493593012416, 0.07485298956399056, -0.120982342103402, 0.12136754490671167, -0.003809181735735745], [0.21168248489637048, 0.25822889868999566, 0.31005634882634336, 0.05616161764705635, 0.31318039111846063, 0.33965331424053713, 0.19279474538818148, 0.2381161795466666, 0.2211667597908608, 0.22110282436166298, 0.018309485723773618, 0.10242947359820004, 0.2403722232758835, 0.09012374847995148, 0.12286239798464234, 0.10078977354540354, 0.1412393404093125, 0.1456421378857744, 0.9999999999999999, 0.2096741780969712, -0.06382442227317138, 0.31415177167835084, 0.15873422924937425, 0.23896930219302112, -0.010496589022815863, 0.09108777802414555, 0.10948800805157013, 0.0647559610892562, -0.03867589108909109, 0.08343043084272495, 0.3176965250213186, 0.3008263234395985, 0.33004301223264887, 0.18055117419241257, 0.32236606703238835, 0.29252273136559126, 0.2859508017996918, 0.14102266151468462, 0.1743190699655608, 0.11659724074714747, 0.09653865611978395, 0.1416064080587485], [0.27605995729845, 0.2477666383653983, 0.13100014765610238, 0.22630967711953115, 0.2771687001019057, 0.2666329998428405, 0.26577385594211217, 0.1967169859894311, 0.08313620508640211, 0.16281596941017976, 0.04954022334386049, 0.20554491012332765, 0.008972367095366623, 0.060961885836058376, -0.007294851466605094, 0.1434697532198388, 0.2022383776146207, 0.0828790678445085, 0.2096741780969712, 0.999999999999999, 0.01299248877577329, 0.12853433039660253, 0.2335991306385866, 0.09142359854919618, 0.22414028871296485, 0.10443063374312794, 0.12474712258282547, 0.06322557305114646, 0.08462075955772708, 0.041265713337282364, 0.09968620900744561, 0.25617332079895083, 0.15487287666502256, 0.21114386977619784, 0.10782118421858322, 0.2177436913821919, 0.21331612951874374, 0.24537424121180101, 0.10171509063439138, 0.0934726579284928, 0.16696498798919052, 0.0741297411640614], [0.2797651166113327, 0.07467278680015246, 0.024741329667046813, 0.19572418349635823, 0.3015647131084749, 0.07890560848728942, 0.04966356043314876, 0.14456237679445388, 0.28802613195611954, 0.10584117409263152, 0.014087742246038232, 0.27375425638123174, 0.12319605357300073, -0.027725951095751163, 0.12081089842854588, 0.043602642685768515, 0.176189959180141, -0.0858868010036937, -0.06382442227317138, 0.01299248877577329, 0.9999999999999998, 0.0009870893783194734, 0.1503189235264675, 0.05971289320587572, 0.1809176556234981, 0.04422239924529883, 0.15704898949743173, 0.11603733763156948, 0.10005546865609001, 0.06033171264920549, 0.005069514759270589, -0.09038496799915498, 0.016736917699676158, 0.0020097744183366958, 0.08058236833324213, 0.1446779653566352, 0.0713430672491435, 0.10168017195861954, 0.10064928058927367, 0.24734128898608432, 0.031014832287223737, 0.1547761689987966], [0.22492785341712618, 0.17718312853827878, 0.24606306576176074, 0.08217219311740209, 0.3276838693114732, 0.2003869992391562, 0.06949722603571691, 0.1955775225562091, 0.06700653802107243, 0.17874475392313904, 0.2248906231376856, 0.24608782174206703, 0.08387433673113201, 0.21573349696719707, 0.26191970890989513, 0.04604378537004611, 0.23820967804327553, 0.37579216658047565, 0.31415177167835084, 0.12853433039660253, 0.0009870893783194734, 1.0000000000000002, 0.03679265884745796, 0.26559730689001476, 0.1607759786069652, 0.25004960924392144, 0.09830031079746988, 0.11032331978761345, -0.044727321003795166, 0.09064607629229934, 0.04707951370475863, 0.04697107933284958, 0.1664954430505114, 0.11746567692220244, 0.10108409421014218, 0.2731695339876062, 0.09507990163076602, 0.12910964353069979, 0.15724745617380723, 0.13971412408971506, 0.055936149731811685, 0.026421586814515396], [0.24985880900190227, 0.054051021092811374, 0.17374205427247968, 0.25340280759903533, 0.23729489510952617, 0.26858754723987643, 0.44051717265490437, 0.205677108447208, 0.23472893081321192, 0.2946523192659159, 0.0793592168317629, 0.17934483196818402, 0.15195649182598753, 0.08972873966352238, 0.05712720661161724, 0.23338156111213842, 0.10993452650404943, 0.04888478957240602, 0.15873422924937425, 0.2335991306385866, 0.1503189235264675, 0.03679265884745796, 1.0, 0.22340525046439452, 0.29199997562701085, 0.05966032620402017, 0.19581157591752937, 0.11264873165688553, 0.09513470641085411, 0.02663363022191708, 0.17056574113304268, 0.1663537378669509, 0.19923305394472007, 0.18456419852603914, 0.22862874235478525, 0.1514888439410854, 0.28286468099821066, 0.13901185860239676, 0.1577024788389008, 0.14409421935216635, 0.2834914482162053, 0.18532590925357456], [0.3598619234777186, 0.10395781475022267, 0.308598882161218, 0.15556281447446813, 0.2782221570332428, 0.3624108777193553, 0.25710134900537884, 0.630782717938696, 0.14136446416221943, 0.40046121765238185, 0.1680481048736564, 0.21939366029156196, 0.2877153924469489, 0.19039124100763483, 0.1383928531766378, 0.053206061890278385, 0.15867765823693764, 0.04063300052981744, 0.23896930219302112, 0.09142359854919618, 0.05971289320587572, 0.26559730689001476, 0.22340525046439452, 1.0000000000000009, 0.19714302104321443, 0.028115918167872133, 0.2548072546445201, 0.24411055851176178, 0.05714830346757732, 0.4304704698011171, 0.24083772606515894, 0.30377160965494615, 0.45967660748851213, 0.2268651960429124, 0.35880251130564733, 0.23206107483997906, 0.04993515126493987, 0.09645935167612615, 0.3806336024549836, 0.19776277352484567, 0.14108100120513992, 0.15469720102244564], [0.6242572754268656, 0.18948855387464564, 0.22512627233029764, 0.45360440623380904, 0.39053866485132316, 0.31051600748956754, 0.28840550704514933, 0.2677259142045826, 0.18732917646601366, 0.3915070593280771, 0.28978880599218815, 0.3101227568869023, 0.15127109636767389, 0.037984884059220195, 0.22092455438994474, 0.14962724399241958, 0.35338131168242226, 0.05257454218023483, -0.010496589022815863, 0.22414028871296485, 0.1809176556234981, 0.1607759786069652, 0.29199997562701085, 0.19714302104321443, 1.0000000000000004, 0.04819433594236812, 0.3966010939582979, 0.16285491004501124, 0.2216702856251056, 0.27001200518620455, 0.1565197674041406, 0.044757775182791504, 0.1879279472659053, 0.25784062984535255, 0.20847105358141457, 0.26040493229718326, 0.13966071468728758, 0.14524874230654197, 0.16292770848854504, 0.20323033185061892, 0.2463461114679306, 0.18922595805394282], [0.15907120765145927, 0.02989987236491179, 0.07565552625889431, 0.10833059679608195, 0.11607157875281891, -0.01892845767483186, -0.011643077158428832, 0.02576807876637431, 0.13368775464487703, -0.054226170100542946, 0.07516546420940319, 0.13981799468701647, -0.027068757643397903, 0.056406243216416574, 0.096983232978301, 0.048022260062944994, 0.11634675084823057, 0.2408964637610554, 0.09108777802414555, 0.10443063374312794, 0.04422239924529883, 0.25004960924392144, 0.05966032620402017, 0.028115918167872133, 0.04819433594236812, 0.9999999999999998, 0.11067515988613065, 0.016695308790358854, -0.03151762029445223, 0.0565774734808364, -0.1017642177083039, -0.1035431266511588, -0.0224572444195185, 0.02015480191466533, -0.06877663248865355, 0.08032281490047873, 0.0337381566603942, 0.14814973460558833, 0.11779718102002855, 0.09304818349316624, 0.16430969291482908, 0.057417081463395976], [0.41629131701335054, 0.07704071617793778, 0.2134624667180418, 0.36970632365209743, 0.2417981666360065, 0.2395690952311428, 0.1084938696721653, 0.3305590970762805, 0.12052460554828029, 0.16692825641232706, 0.2417104737121557, 0.21994671346662426, 0.1604577106984505, 0.03080690177453786, 0.0241872860453629, 0.1669014852769057, 0.29879915063191176, -0.05328854371403609, 0.10948800805157013, 0.12474712258282547, 0.15704898949743173, 0.09830031079746988, 0.19581157591752937, 0.2548072546445201, 0.3966010939582979, 0.11067515988613065, 0.9999999999999996, 0.25116725359608366, 0.1431309536993631, 0.21632608790229116, 0.08720563822241596, 0.09408816742016918, 0.19265447238640243, 0.24956865711527698, 0.14170037467199134, 0.14263400702306023, 0.09479053230137728, 0.16249919832272278, 0.22389357982465147, 0.20933302031236156, 0.16228940038490516, 0.21990220829456436], [0.3002400993352398, 0.08663373146366571, 0.07349290254866772, 0.4133936812285925, 0.12618410451622067, 0.2905784301291777, 0.1997549923609996, 0.20420097140703014, 0.17341839855551208, 0.3486425088284545, 0.4348495842191332, 0.16835242032813258, 0.13448254568153276, 0.18286786038743003, 0.10383279629813238, 0.20708125499873797, 0.2603958423147489, 0.04591434578686842, 0.0647559610892562, 0.06322557305114646, 0.11603733763156948, 0.11032331978761345, 0.11264873165688553, 0.24411055851176178, 0.16285491004501124, 0.016695308790358854, 0.25116725359608366, 1.0000000000000002, 0.15931671157111005, 0.3260242410738969, 0.1684772975831895, 0.0896971660326673, 0.4082909342991803, 0.15177033095518763, 0.10274587767662921, 0.1502744366963646, 0.06480802585303949, 0.050387882333798505, 0.17750747870790626, 0.27318758481295646, 0.3096752127284234, 0.04834095620466572], [0.3621625173072106, 0.12632337535931487, 0.13354593853411545, 0.3782202327025398, 0.02951244828032843, 0.15711032055239874, 0.19295774313006855, 0.13159729007485477, 0.03623268975430542, 0.13027370450968495, 0.21016422493256162, 0.2066470815758179, 0.08109475785306794, 0.12976804744872003, 0.2237850531606374, 0.18054045532985918, 0.05935299347153747, -0.02829969853600594, -0.03867589108909109, 0.08462075955772708, 0.10005546865609001, -0.044727321003795166, 0.09513470641085411, 0.05714830346757732, 0.2216702856251056, -0.03151762029445223, 0.1431309536993631, 0.15931671157111005, 0.9999999999999993, 0.17791798114571905, 0.07469121929262311, 0.12479334672567205, 0.04620790759609159, 0.09297953374887499, 0.0875527375012758, 0.1834574527818095, 0.05706034956963492, 0.04559802561104238, 0.055198503858758345, 0.010148133083886249, 0.1638217690072128, 0.14620976694193877], [0.3252566839690107, 0.03384025979310896, 0.18163323590331837, 0.3373673764943699, 0.06401024249482909, 0.16787988195636738, 0.24622888219505903, 0.2320128226508429, 0.10872995903214096, 0.220753721185033, 0.23893716188472874, 0.2893362196351424, 0.1294170121151005, 0.07129142496173872, 0.3398604864888947, 7.685979729555106e-05, 0.09198364997415395, 0.06690265936813033, 0.08343043084272495, 0.041265713337282364, 0.06033171264920549, 0.09064607629229934, 0.02663363022191708, 0.4304704698011171, 0.27001200518620455, 0.0565774734808364, 0.21632608790229116, 0.3260242410738969, 0.17791798114571905, 1.0, 0.14953749281344897, 0.08499294979599387, 0.1381711438311461, 0.2360934778978432, 0.1325644064339715, 0.022632792936848566, -0.032799601709550236, -0.010365106761831668, 0.14536453945571537, 0.17072381613653126, 0.11082379298249644, 0.0832158110503456], [0.29143558242661227, 0.3179948513108761, 0.20398966048198341, 0.13709193942470366, 0.2782282416504058, 0.48536395355885775, 0.17698545880616023, 0.20991863390350135, 0.11103724734455525, 0.35193080366697066, 0.07488329703837586, 0.11050473979118855, 0.1667043331449954, 0.07466965038389342, 0.09236268912671913, 0.16392050183461568, 0.1297350943569786, -0.0912827127712531, 0.3176965250213186, 0.09968620900744561, 0.005069514759270589, 0.04707951370475863, 0.17056574113304268, 0.24083772606515894, 0.1565197674041406, -0.1017642177083039, 0.08720563822241596, 0.1684772975831895, 0.07469121929262311, 0.14953749281344897, 0.9999999999999998, 0.301875974858562, 0.38074333761035883, 0.155149032011284, 0.25389820754261927, 0.264701866785434, 0.21930575307517713, -0.0011571254002347292, 0.33767050351802724, 0.24947858076791155, 0.2597508363173276, 0.1628388004122024], [0.19926692561863715, 0.18852342694250085, 0.2823889982000516, 0.12592297674980935, 0.13478344295620942, 0.3648242664239175, 0.20144139055550025, 0.3346022492177528, -0.017815706466287166, 0.330505203152233, 0.02238816342066255, 0.08886729086018418, 0.18416893907651966, 0.17806923797591512, 0.040788922493232474, 0.21559926529086565, -0.0006558654614241804, 0.026159267995316506, 0.3008263234395985, 0.25617332079895083, -0.09038496799915498, 0.04697107933284958, 0.1663537378669509, 0.30377160965494615, 0.044757775182791504, -0.1035431266511588, 0.09408816742016918, 0.0896971660326673, 0.12479334672567205, 0.08499294979599387, 0.301875974858562, 1.0, 0.3682397666606405, 0.15677254696527118, 0.36004518239189415, 0.3051794575436423, 0.03200224919814859, 0.09137306754445088, 0.3459489796389088, 0.04324938219175678, 0.1462022344490645, 0.10444221262533722], [0.3444884769732999, 0.21580161682769727, 0.4407388602666801, 0.16547258754741756, 0.37725540517810124, 0.5965347652877253, 0.2540347613638818, 0.5776991771380683, 0.07303911403732526, 0.604257833167916, 0.16876791688992027, 0.1127350491345849, 0.27895076953671827, 0.10930951718155697, 0.015550239655808179, 0.19328517629471004, 0.2969536553371914, 0.09054679120723172, 0.33004301223264887, 0.15487287666502256, 0.016736917699676158, 0.1664954430505114, 0.19923305394472007, 0.45967660748851213, 0.1879279472659053, -0.0224572444195185, 0.19265447238640243, 0.4082909342991803, 0.04620790759609159, 0.1381711438311461, 0.38074333761035883, 0.3682397666606405, 1.0, 0.23344555008607998, 0.5426760272414958, 0.24592579068663908, 0.17101341576145657, 0.1295832725339781, 0.45748985766018624, 0.33523383025434683, 0.42979858538362437, 0.1409581183892353], [0.3144285953017183, 0.34594448940816025, 0.20657656830511667, 0.1812427744953666, 0.213336304577332, 0.3079844007597893, 0.12871509403669584, 0.3175614266468879, 0.10043563957827162, 0.30670750032384975, 0.1117418287240936, 0.2227277536951643, 0.16813450639522326, 0.17549607952777546, 0.08407403642853342, 0.16312500255097223, 0.2528491657548381, 0.08140175425068581, 0.18055117419241257, 0.21114386977619784, 0.0020097744183366958, 0.11746567692220244, 0.18456419852603914, 0.2268651960429124, 0.25784062984535255, 0.02015480191466533, 0.24956865711527698, 0.15177033095518763, 0.09297953374887499, 0.2360934778978432, 0.155149032011284, 0.15677254696527118, 0.23344555008607998, 0.9999999999999998, 0.2012285754574419, 0.28591429862820406, -0.018563437725247066, 0.13892903434590756, 0.19429416190229437, 0.041999489214111806, 0.19683297742349615, 0.08989908539145904], [0.3605036425844096, 0.33845790296467293, 0.5750582760812981, 0.20286023558484517, 0.3564526849586461, 0.5315542906956715, 0.22505530275446006, 0.42922666443494645, 0.17569493213979354, 0.44068553698755075, 0.0008672799106585818, 0.1205142998756886, 0.42113713427923494, 0.08030137154127491, 0.0418045208546714, 0.2155957731371556, 0.19387091451338428, -0.0635595064060609, 0.32236606703238835, 0.10782118421858322, 0.08058236833324213, 0.10108409421014218, 0.22862874235478525, 0.35880251130564733, 0.20847105358141457, -0.06877663248865355, 0.14170037467199134, 0.10274587767662921, 0.0875527375012758, 0.1325644064339715, 0.25389820754261927, 0.36004518239189415, 0.5426760272414958, 0.2012285754574419, 0.9999999999999993, 0.38511581150224017, 0.19482945318883088, 0.20546085909039247, 0.37031904901973794, 0.23958903338402818, 0.2302454899936761, 0.15360008586513263], [0.49075438634911606, 0.5084542806013365, 0.26766219295946664, 0.2762347097157399, 0.4486129014172964, 0.46447121712494743, 0.2930246170298636, 0.3710479918127215, 0.3040812360719831, 0.408296616553374, 0.14416528249811067, 0.1701743137005796, 0.2719629520113219, 0.19106001935572847, 0.04918567127536868, 0.25660456693934275, 0.27684239322097015, -0.027675105476510295, 0.29252273136559126, 0.2177436913821919, 0.1446779653566352, 0.2731695339876062, 0.1514888439410854, 0.23206107483997906, 0.26040493229718326, 0.08032281490047873, 0.14263400702306023, 0.1502744366963646, 0.1834574527818095, 0.022632792936848566, 0.264701866785434, 0.3051794575436423, 0.24592579068663908, 0.28591429862820406, 0.38511581150224017, 1.0000000000000002, 0.11596519019049162, 0.29545702499428794, 0.24873807364248213, 0.23285594335676335, 0.061111935189123556, 0.3583551835092932], [0.13867170495478826, 0.08660791290538357, 0.09085877243994661, 0.06947062690453984, 0.3394850454092908, 0.14704822915908924, 0.2604522970658001, 0.05898750723129846, 0.36061020509496383, 0.14252709819950768, -0.11559372503912199, 0.11351946809615036, 0.02718970130233584, 0.0020932526954181, 0.029516494918573506, 0.07264678420054199, 0.2128455582549204, -0.06359099677743939, 0.2859508017996918, 0.21331612951874374, 0.0713430672491435, 0.09507990163076602, 0.28286468099821066, 0.04993515126493987, 0.13966071468728758, 0.0337381566603942, 0.09479053230137728, 0.06480802585303949, 0.05706034956963492, -0.032799601709550236, 0.21930575307517713, 0.03200224919814859, 0.17101341576145657, -0.018563437725247066, 0.19482945318883088, 0.11596519019049162, 1.0, 0.1892551520933516, 0.10626210684594142, 0.2956140147508105, 0.09534579826684997, 0.0402628869125649], [0.23749438045119545, 0.09557201072906318, 0.15401545338436545, 0.19356773592092041, 0.35560457310452187, 0.17669743021715217, 0.2096848404100567, 0.08465215936402293, 0.1874747335035019, 0.23073020848533127, 0.12298324994013629, 0.1143476907454124, 0.04709623863825248, 0.2162971113279697, -0.04435559580100434, 0.2588670507715601, 0.25380129809887964, 0.042846493593012416, 0.14102266151468462, 0.24537424121180101, 0.10168017195861954, 0.12910964353069979, 0.13901185860239676, 0.09645935167612615, 0.14524874230654197, 0.14814973460558833, 0.16249919832272278, 0.050387882333798505, 0.04559802561104238, -0.010365106761831668, -0.0011571254002347292, 0.09137306754445088, 0.1295832725339781, 0.13892903434590756, 0.20546085909039247, 0.29545702499428794, 0.1892551520933516, 1.0, 0.1405942634015345, 0.21363836594164945, 0.08590354943940712, 0.1020274128283839], [0.34616955222984025, 0.15281376761482135, 0.3143420770882479, 0.21561914647341557, 0.3138476592173289, 0.30778705122173167, 0.22369848737108233, 0.45016030498070425, 0.1780255826109502, 0.4036405489778724, 0.14066209135717578, 0.1711581733222693, 0.33018467953158925, 0.2062347549980007, -0.007016990871886539, 0.1769959468600744, 0.18330984516095933, 0.07485298956399056, 0.1743190699655608, 0.10171509063439138, 0.10064928058927367, 0.15724745617380723, 0.1577024788389008, 0.3806336024549836, 0.16292770848854504, 0.11779718102002855, 0.22389357982465147, 0.17750747870790626, 0.055198503858758345, 0.14536453945571537, 0.33767050351802724, 0.3459489796389088, 0.45748985766018624, 0.19429416190229437, 0.37031904901973794, 0.24873807364248213, 0.10626210684594142, 0.1405942634015345, 0.9999999999999998, 0.18411817921744386, 0.23004188639048817, 0.2136621420837475], [0.217838864641589, 0.0984932452009113, 0.12153628469740363, 0.16515360915767693, 0.4833271930812011, 0.34447921965871164, 0.20784702255975052, 0.18394543064582924, 0.17482255257221035, 0.3651635720222753, 0.11918687765182864, 0.14236632585201475, 0.03002953371733888, -0.01604426809826466, 0.06102542523276091, 0.04402634671715207, 0.5931275954230871, -0.120982342103402, 0.11659724074714747, 0.0934726579284928, 0.24734128898608432, 0.13971412408971506, 0.14409421935216635, 0.19776277352484567, 0.20323033185061892, 0.09304818349316624, 0.20933302031236156, 0.27318758481295646, 0.010148133083886249, 0.17072381613653126, 0.24947858076791155, 0.04324938219175678, 0.33523383025434683, 0.041999489214111806, 0.23958903338402818, 0.23285594335676335, 0.2956140147508105, 0.21363836594164945, 0.18411817921744386, 0.9999999999999998, 0.1329973064479782, 0.01638593432502459], [0.2987967799589604, 0.05231588036930965, 0.28056907618220206, 0.3113182150186151, 0.062270002904136576, 0.46768168522720843, 0.20928101088500697, 0.1562590052945592, 0.027708940880618427, 0.11185614167885277, 0.2399426457410479, 0.179247534534058, 0.10463883415208558, 0.1812093353989679, 0.1604185930759066, 0.1596788298663475, 0.19537618738133566, 0.12136754490671167, 0.09653865611978395, 0.16696498798919052, 0.031014832287223737, 0.055936149731811685, 0.2834914482162053, 0.14108100120513992, 0.2463461114679306, 0.16430969291482908, 0.16228940038490516, 0.3096752127284234, 0.1638217690072128, 0.11082379298249644, 0.2597508363173276, 0.1462022344490645, 0.42979858538362437, 0.19683297742349615, 0.2302454899936761, 0.061111935189123556, 0.09534579826684997, 0.08590354943940712, 0.23004188639048817, 0.1329973064479782, 1.0000000000000004, 0.0899144974591175], [0.3064168445338999, 0.05368234782551754, 0.09196957469180271, 0.1935910717576883, 0.10247245622785016, 0.12076168974206046, 0.23863900505143523, 0.2284394304978839, 0.18353863733940257, 0.1502758841952926, 0.17548359260473095, 0.301255421078815, 0.2073243185742714, -0.02974353873695332, 0.06936698060902047, 0.0042395108366980044, -0.004103368804230713, -0.003809181735735745, 0.1416064080587485, 0.0741297411640614, 0.1547761689987966, 0.026421586814515396, 0.18532590925357456, 0.15469720102244564, 0.18922595805394282, 0.057417081463395976, 0.21990220829456436, 0.04834095620466572, 0.14620976694193877, 0.0832158110503456, 0.1628388004122024, 0.10444221262533722, 0.1409581183892353, 0.08989908539145904, 0.15360008586513263, 0.3583551835092932, 0.0402628869125649, 0.1020274128283839, 0.2136621420837475, 0.01638593432502459, 0.0899144974591175, 1.0000000000000004]]}],                        {\"coloraxis\": {\"colorbar\": {\"title\": {\"text\": \"Similarity Score\"}}, \"colorscale\": [[0.0, \"rgb(247,252,240)\"], [0.125, \"rgb(224,243,219)\"], [0.25, \"rgb(204,235,197)\"], [0.375, \"rgb(168,221,181)\"], [0.5, \"rgb(123,204,196)\"], [0.625, \"rgb(78,179,211)\"], [0.75, \"rgb(43,140,190)\"], [0.875, \"rgb(8,104,172)\"], [1.0, \"rgb(8,64,129)\"]]}, \"height\": 800, \"hoverlabel\": {\"bgcolor\": \"white\", \"font\": {\"family\": \"Rockwell\", \"size\": 16}}, \"legend\": {\"title\": {\"text\": \"Trend\"}}, \"margin\": {\"t\": 60}, \"showlegend\": true, \"template\": {\"data\": {\"bar\": [{\"error_x\": {\"color\": \"#2a3f5f\"}, \"error_y\": {\"color\": \"#2a3f5f\"}, \"marker\": {\"line\": {\"color\": \"#E5ECF6\", \"width\": 0.5}}, \"type\": \"bar\"}], \"barpolar\": [{\"marker\": {\"line\": {\"color\": \"#E5ECF6\", \"width\": 0.5}}, \"type\": \"barpolar\"}], \"carpet\": [{\"aaxis\": {\"endlinecolor\": \"#2a3f5f\", \"gridcolor\": \"white\", \"linecolor\": \"white\", \"minorgridcolor\": \"white\", \"startlinecolor\": \"#2a3f5f\"}, \"baxis\": {\"endlinecolor\": \"#2a3f5f\", \"gridcolor\": \"white\", \"linecolor\": \"white\", \"minorgridcolor\": \"white\", \"startlinecolor\": \"#2a3f5f\"}, \"type\": \"carpet\"}], \"choropleth\": [{\"colorbar\": {\"outlinewidth\": 0, \"ticks\": \"\"}, \"type\": \"choropleth\"}], \"contour\": [{\"colorbar\": {\"outlinewidth\": 0, \"ticks\": \"\"}, \"colorscale\": [[0.0, \"#0d0887\"], [0.1111111111111111, \"#46039f\"], [0.2222222222222222, \"#7201a8\"], [0.3333333333333333, \"#9c179e\"], [0.4444444444444444, \"#bd3786\"], [0.5555555555555556, \"#d8576b\"], [0.6666666666666666, \"#ed7953\"], [0.7777777777777778, \"#fb9f3a\"], [0.8888888888888888, \"#fdca26\"], [1.0, \"#f0f921\"]], \"type\": \"contour\"}], \"contourcarpet\": [{\"colorbar\": {\"outlinewidth\": 0, \"ticks\": \"\"}, \"type\": \"contourcarpet\"}], \"heatmap\": [{\"colorbar\": {\"outlinewidth\": 0, \"ticks\": \"\"}, \"colorscale\": [[0.0, \"#0d0887\"], [0.1111111111111111, \"#46039f\"], [0.2222222222222222, \"#7201a8\"], [0.3333333333333333, \"#9c179e\"], [0.4444444444444444, \"#bd3786\"], [0.5555555555555556, \"#d8576b\"], [0.6666666666666666, \"#ed7953\"], [0.7777777777777778, \"#fb9f3a\"], [0.8888888888888888, \"#fdca26\"], [1.0, \"#f0f921\"]], \"type\": \"heatmap\"}], \"heatmapgl\": [{\"colorbar\": {\"outlinewidth\": 0, \"ticks\": \"\"}, \"colorscale\": [[0.0, \"#0d0887\"], [0.1111111111111111, \"#46039f\"], [0.2222222222222222, \"#7201a8\"], [0.3333333333333333, \"#9c179e\"], [0.4444444444444444, \"#bd3786\"], [0.5555555555555556, \"#d8576b\"], [0.6666666666666666, \"#ed7953\"], [0.7777777777777778, \"#fb9f3a\"], [0.8888888888888888, \"#fdca26\"], [1.0, \"#f0f921\"]], \"type\": \"heatmapgl\"}], \"histogram\": [{\"marker\": {\"colorbar\": {\"outlinewidth\": 0, \"ticks\": \"\"}}, \"type\": \"histogram\"}], \"histogram2d\": [{\"colorbar\": {\"outlinewidth\": 0, \"ticks\": \"\"}, \"colorscale\": [[0.0, \"#0d0887\"], [0.1111111111111111, \"#46039f\"], [0.2222222222222222, \"#7201a8\"], [0.3333333333333333, \"#9c179e\"], [0.4444444444444444, \"#bd3786\"], [0.5555555555555556, \"#d8576b\"], [0.6666666666666666, \"#ed7953\"], [0.7777777777777778, \"#fb9f3a\"], [0.8888888888888888, \"#fdca26\"], [1.0, \"#f0f921\"]], \"type\": \"histogram2d\"}], \"histogram2dcontour\": [{\"colorbar\": {\"outlinewidth\": 0, \"ticks\": \"\"}, \"colorscale\": [[0.0, \"#0d0887\"], [0.1111111111111111, \"#46039f\"], [0.2222222222222222, \"#7201a8\"], [0.3333333333333333, \"#9c179e\"], [0.4444444444444444, \"#bd3786\"], [0.5555555555555556, \"#d8576b\"], [0.6666666666666666, \"#ed7953\"], [0.7777777777777778, \"#fb9f3a\"], [0.8888888888888888, \"#fdca26\"], [1.0, \"#f0f921\"]], \"type\": \"histogram2dcontour\"}], \"mesh3d\": [{\"colorbar\": {\"outlinewidth\": 0, \"ticks\": \"\"}, \"type\": \"mesh3d\"}], \"parcoords\": [{\"line\": {\"colorbar\": {\"outlinewidth\": 0, \"ticks\": \"\"}}, \"type\": \"parcoords\"}], \"pie\": [{\"automargin\": true, \"type\": \"pie\"}], \"scatter\": [{\"marker\": {\"colorbar\": {\"outlinewidth\": 0, \"ticks\": \"\"}}, \"type\": \"scatter\"}], \"scatter3d\": [{\"line\": {\"colorbar\": {\"outlinewidth\": 0, \"ticks\": \"\"}}, \"marker\": {\"colorbar\": {\"outlinewidth\": 0, \"ticks\": \"\"}}, \"type\": \"scatter3d\"}], \"scattercarpet\": [{\"marker\": {\"colorbar\": {\"outlinewidth\": 0, \"ticks\": \"\"}}, \"type\": \"scattercarpet\"}], \"scattergeo\": [{\"marker\": {\"colorbar\": {\"outlinewidth\": 0, \"ticks\": \"\"}}, \"type\": \"scattergeo\"}], \"scattergl\": [{\"marker\": {\"colorbar\": {\"outlinewidth\": 0, \"ticks\": \"\"}}, \"type\": \"scattergl\"}], \"scattermapbox\": [{\"marker\": {\"colorbar\": {\"outlinewidth\": 0, \"ticks\": \"\"}}, \"type\": \"scattermapbox\"}], \"scatterpolar\": [{\"marker\": {\"colorbar\": {\"outlinewidth\": 0, \"ticks\": \"\"}}, \"type\": \"scatterpolar\"}], \"scatterpolargl\": [{\"marker\": {\"colorbar\": {\"outlinewidth\": 0, \"ticks\": \"\"}}, \"type\": \"scatterpolargl\"}], \"scatterternary\": [{\"marker\": {\"colorbar\": {\"outlinewidth\": 0, \"ticks\": \"\"}}, \"type\": \"scatterternary\"}], \"surface\": [{\"colorbar\": {\"outlinewidth\": 0, \"ticks\": \"\"}, \"colorscale\": [[0.0, \"#0d0887\"], [0.1111111111111111, \"#46039f\"], [0.2222222222222222, \"#7201a8\"], [0.3333333333333333, \"#9c179e\"], [0.4444444444444444, \"#bd3786\"], [0.5555555555555556, \"#d8576b\"], [0.6666666666666666, \"#ed7953\"], [0.7777777777777778, \"#fb9f3a\"], [0.8888888888888888, \"#fdca26\"], [1.0, \"#f0f921\"]], \"type\": \"surface\"}], \"table\": [{\"cells\": {\"fill\": {\"color\": \"#EBF0F8\"}, \"line\": {\"color\": \"white\"}}, \"header\": {\"fill\": {\"color\": \"#C8D4E3\"}, \"line\": {\"color\": \"white\"}}, \"type\": \"table\"}]}, \"layout\": {\"annotationdefaults\": {\"arrowcolor\": \"#2a3f5f\", \"arrowhead\": 0, \"arrowwidth\": 1}, \"autotypenumbers\": \"strict\", \"coloraxis\": {\"colorbar\": {\"outlinewidth\": 0, \"ticks\": \"\"}}, \"colorscale\": {\"diverging\": [[0, \"#8e0152\"], [0.1, \"#c51b7d\"], [0.2, \"#de77ae\"], [0.3, \"#f1b6da\"], [0.4, \"#fde0ef\"], [0.5, \"#f7f7f7\"], [0.6, \"#e6f5d0\"], [0.7, \"#b8e186\"], [0.8, \"#7fbc41\"], [0.9, \"#4d9221\"], [1, \"#276419\"]], \"sequential\": [[0.0, \"#0d0887\"], [0.1111111111111111, \"#46039f\"], [0.2222222222222222, \"#7201a8\"], [0.3333333333333333, \"#9c179e\"], [0.4444444444444444, \"#bd3786\"], [0.5555555555555556, \"#d8576b\"], [0.6666666666666666, \"#ed7953\"], [0.7777777777777778, \"#fb9f3a\"], [0.8888888888888888, \"#fdca26\"], [1.0, \"#f0f921\"]], \"sequentialminus\": [[0.0, \"#0d0887\"], [0.1111111111111111, \"#46039f\"], [0.2222222222222222, \"#7201a8\"], [0.3333333333333333, \"#9c179e\"], [0.4444444444444444, \"#bd3786\"], [0.5555555555555556, \"#d8576b\"], [0.6666666666666666, \"#ed7953\"], [0.7777777777777778, \"#fb9f3a\"], [0.8888888888888888, \"#fdca26\"], [1.0, \"#f0f921\"]]}, \"colorway\": [\"#636efa\", \"#EF553B\", \"#00cc96\", \"#ab63fa\", \"#FFA15A\", \"#19d3f3\", \"#FF6692\", \"#B6E880\", \"#FF97FF\", \"#FECB52\"], \"font\": {\"color\": \"#2a3f5f\"}, \"geo\": {\"bgcolor\": \"white\", \"lakecolor\": \"white\", \"landcolor\": \"#E5ECF6\", \"showlakes\": true, \"showland\": true, \"subunitcolor\": \"white\"}, \"hoverlabel\": {\"align\": \"left\"}, \"hovermode\": \"closest\", \"mapbox\": {\"style\": \"light\"}, \"paper_bgcolor\": \"white\", \"plot_bgcolor\": \"#E5ECF6\", \"polar\": {\"angularaxis\": {\"gridcolor\": \"white\", \"linecolor\": \"white\", \"ticks\": \"\"}, \"bgcolor\": \"#E5ECF6\", \"radialaxis\": {\"gridcolor\": \"white\", \"linecolor\": \"white\", \"ticks\": \"\"}}, \"scene\": {\"xaxis\": {\"backgroundcolor\": \"#E5ECF6\", \"gridcolor\": \"white\", \"gridwidth\": 2, \"linecolor\": \"white\", \"showbackground\": true, \"ticks\": \"\", \"zerolinecolor\": \"white\"}, \"yaxis\": {\"backgroundcolor\": \"#E5ECF6\", \"gridcolor\": \"white\", \"gridwidth\": 2, \"linecolor\": \"white\", \"showbackground\": true, \"ticks\": \"\", \"zerolinecolor\": \"white\"}, \"zaxis\": {\"backgroundcolor\": \"#E5ECF6\", \"gridcolor\": \"white\", \"gridwidth\": 2, \"linecolor\": \"white\", \"showbackground\": true, \"ticks\": \"\", \"zerolinecolor\": \"white\"}}, \"shapedefaults\": {\"line\": {\"color\": \"#2a3f5f\"}}, \"ternary\": {\"aaxis\": {\"gridcolor\": \"white\", \"linecolor\": \"white\", \"ticks\": \"\"}, \"baxis\": {\"gridcolor\": \"white\", \"linecolor\": \"white\", \"ticks\": \"\"}, \"bgcolor\": \"#E5ECF6\", \"caxis\": {\"gridcolor\": \"white\", \"linecolor\": \"white\", \"ticks\": \"\"}}, \"title\": {\"x\": 0.05}, \"xaxis\": {\"automargin\": true, \"gridcolor\": \"white\", \"linecolor\": \"white\", \"ticks\": \"\", \"title\": {\"standoff\": 15}, \"zerolinecolor\": \"white\", \"zerolinewidth\": 2}, \"yaxis\": {\"automargin\": true, \"gridcolor\": \"white\", \"linecolor\": \"white\", \"ticks\": \"\", \"title\": {\"standoff\": 15}, \"zerolinecolor\": \"white\", \"zerolinewidth\": 2}}}, \"title\": {\"font\": {\"color\": \"Black\", \"size\": 22}, \"text\": \"<b>Similarity Matrix\", \"x\": 0.55, \"xanchor\": \"center\", \"y\": 0.95, \"yanchor\": \"top\"}, \"width\": 800, \"xaxis\": {\"anchor\": \"y\", \"constrain\": \"domain\", \"domain\": [0.0, 1.0], \"scaleanchor\": \"y\"}, \"yaxis\": {\"anchor\": \"x\", \"autorange\": \"reversed\", \"constrain\": \"domain\", \"domain\": [0.0, 1.0]}},                        {\"responsive\": true}                    ).then(function(){\n",
              "                            \n",
              "var gd = document.getElementById('1a9d6c14-8926-4dfd-8bc2-5da70930cf46');\n",
              "var x = new MutationObserver(function (mutations, observer) {{\n",
              "        var display = window.getComputedStyle(gd).display;\n",
              "        if (!display || display === 'none') {{\n",
              "            console.log([gd, 'removed!']);\n",
              "            Plotly.purge(gd);\n",
              "            observer.disconnect();\n",
              "        }}\n",
              "}});\n",
              "\n",
              "// Listen for the removal of the full notebook cells\n",
              "var notebookContainer = gd.closest('#notebook-container');\n",
              "if (notebookContainer) {{\n",
              "    x.observe(notebookContainer, {childList: true});\n",
              "}}\n",
              "\n",
              "// Listen for the clearing of the current output cell\n",
              "var outputEl = gd.closest('.output');\n",
              "if (outputEl) {{\n",
              "    x.observe(outputEl, {childList: true});\n",
              "}}\n",
              "\n",
              "                        })                };                            </script>        </div>\n",
              "</body>\n",
              "</html>"
            ]
          },
          "metadata": {
            "tags": []
          }
        }
      ]
    },
    {
      "cell_type": "code",
      "metadata": {
        "colab": {
          "base_uri": "https://localhost:8080/",
          "height": 817
        },
        "id": "Up6QCLxxo2jS",
        "outputId": "c05a60a2-1752-48cc-9986-8398ec7db4ce"
      },
      "source": [
        "topic_model.visualize_barchart(top_n_topics=9, n_words=5, height=800)"
      ],
      "execution_count": null,
      "outputs": [
        {
          "output_type": "display_data",
          "data": {
            "text/html": [
              "<html>\n",
              "<head><meta charset=\"utf-8\" /></head>\n",
              "<body>\n",
              "    <div>            <script src=\"https://cdnjs.cloudflare.com/ajax/libs/mathjax/2.7.5/MathJax.js?config=TeX-AMS-MML_SVG\"></script><script type=\"text/javascript\">if (window.MathJax) {MathJax.Hub.Config({SVG: {font: \"STIX-Web\"}});}</script>                <script type=\"text/javascript\">window.PlotlyConfig = {MathJaxConfig: 'local'};</script>\n",
              "        <script src=\"https://cdn.plot.ly/plotly-latest.min.js\"></script>                <div id=\"e957115b-5593-439d-bb2d-9d0f94162604\" class=\"plotly-graph-div\" style=\"height:800px; width:800px;\"></div>            <script type=\"text/javascript\">                                    window.PLOTLYENV=window.PLOTLYENV || {};                                    if (document.getElementById(\"e957115b-5593-439d-bb2d-9d0f94162604\")) {                    Plotly.newPlot(                        \"e957115b-5593-439d-bb2d-9d0f94162604\",                        [{\"orientation\": \"h\", \"type\": \"bar\", \"x\": [0.010815114583939375, 0.012609060898800695, 0.01435108484592438, 0.03471424010020114, 0.0646180347890828], \"xaxis\": \"x\", \"y\": [\"your python  \", \"with python  \", \"python code  \", \"in python  \", \"python  \"], \"yaxis\": \"y\"}, {\"orientation\": \"h\", \"type\": \"bar\", \"x\": [0.009074041846851642, 0.010514120494187757, 0.01608035103706295, 0.027378345608970393, 0.046369541968719966], \"xaxis\": \"x2\", \"y\": [\"for data science  \", \"in data science  \", \"data scientists  \", \"data scientist  \", \"data science  \"], \"yaxis\": \"y2\"}, {\"orientation\": \"h\", \"type\": \"bar\", \"x\": [0.00904389816971254, 0.009219503333078322, 0.012745933536359767, 0.013647639877610378, 0.013732386718435623], \"xaxis\": \"x3\", \"y\": [\"dating  \", \"relationship  \", \"my  \", \"things  \", \"life  \"], \"yaxis\": \"y3\"}, {\"orientation\": \"h\", \"type\": \"bar\", \"x\": [0.01629971452777602, 0.018418312202480788, 0.020704911406500503, 0.021158087937101645, 0.028590869390446895], \"xaxis\": \"x4\", \"y\": [\"developers  \", \"software  \", \"programming  \", \"developer  \", \"code  \"], \"yaxis\": \"y4\"}, {\"orientation\": \"h\", \"type\": \"bar\", \"x\": [0.01650284154755055, 0.020599797286835652, 0.021998028445892596, 0.03757607697786624, 0.046785772102998294], \"xaxis\": \"x5\", \"y\": [\"charts  \", \"visualizations  \", \"python  \", \"data visualization  \", \"visualization  \"], \"yaxis\": \"y5\"}, {\"orientation\": \"h\", \"type\": \"bar\", \"x\": [0.011851397992171064, 0.012497708361591555, 0.01880586503921039, 0.044808638569617164, 0.05234066697620065], \"xaxis\": \"x6\", \"y\": [\"twitter sentiment analysis  \", \"sentiment analysis using  \", \"recommendation system  \", \"sentiment analysis  \", \"sentiment  \"], \"yaxis\": \"y6\"}, {\"orientation\": \"h\", \"type\": \"bar\", \"x\": [0.013217008170922752, 0.013990984803937501, 0.015921433811823014, 0.023430173846744243, 0.07194052869766218], \"xaxis\": \"x7\", \"y\": [\"machine learning models  \", \"for machine learning  \", \"in machine learning  \", \"deep learning  \", \"machine learning  \"], \"yaxis\": \"y7\"}, {\"orientation\": \"h\", \"type\": \"bar\", \"x\": [0.014858768008721745, 0.017180172381353734, 0.02553194132310835, 0.026827333257696213, 0.09660174690621393], \"xaxis\": \"x8\", \"y\": [\"react hooks  \", \"react app  \", \"in react  \", \"with react  \", \"react  \"], \"yaxis\": \"y8\"}, {\"orientation\": \"h\", \"type\": \"bar\", \"x\": [0.02611501565935688, 0.026278848575656967, 0.026906746116812208, 0.026906746116812208, 0.035692778684582836], \"xaxis\": \"x9\", \"y\": [\"text classification  \", \"classification  \", \"natural language processing  \", \"language processing  \", \"natural language  \"], \"yaxis\": \"y9\"}],                        {\"annotations\": [{\"font\": {\"size\": 16}, \"showarrow\": false, \"text\": \"Topic 0\", \"x\": 0.11666666666666665, \"xanchor\": \"center\", \"xref\": \"paper\", \"y\": 0.9999999999999999, \"yanchor\": \"bottom\", \"yref\": \"paper\"}, {\"font\": {\"size\": 16}, \"showarrow\": false, \"text\": \"Topic 1\", \"x\": 0.49999999999999994, \"xanchor\": \"center\", \"xref\": \"paper\", \"y\": 0.9999999999999999, \"yanchor\": \"bottom\", \"yref\": \"paper\"}, {\"font\": {\"size\": 16}, \"showarrow\": false, \"text\": \"Topic 2\", \"x\": 0.8833333333333333, \"xanchor\": \"center\", \"xref\": \"paper\", \"y\": 0.9999999999999999, \"yanchor\": \"bottom\", \"yref\": \"paper\"}, {\"font\": {\"size\": 16}, \"showarrow\": false, \"text\": \"Topic 3\", \"x\": 0.11666666666666665, \"xanchor\": \"center\", \"xref\": \"paper\", \"y\": 0.6166666666666666, \"yanchor\": \"bottom\", \"yref\": \"paper\"}, {\"font\": {\"size\": 16}, \"showarrow\": false, \"text\": \"Topic 4\", \"x\": 0.49999999999999994, \"xanchor\": \"center\", \"xref\": \"paper\", \"y\": 0.6166666666666666, \"yanchor\": \"bottom\", \"yref\": \"paper\"}, {\"font\": {\"size\": 16}, \"showarrow\": false, \"text\": \"Topic 5\", \"x\": 0.8833333333333333, \"xanchor\": \"center\", \"xref\": \"paper\", \"y\": 0.6166666666666666, \"yanchor\": \"bottom\", \"yref\": \"paper\"}, {\"font\": {\"size\": 16}, \"showarrow\": false, \"text\": \"Topic 6\", \"x\": 0.11666666666666665, \"xanchor\": \"center\", \"xref\": \"paper\", \"y\": 0.2333333333333333, \"yanchor\": \"bottom\", \"yref\": \"paper\"}, {\"font\": {\"size\": 16}, \"showarrow\": false, \"text\": \"Topic 7\", \"x\": 0.49999999999999994, \"xanchor\": \"center\", \"xref\": \"paper\", \"y\": 0.2333333333333333, \"yanchor\": \"bottom\", \"yref\": \"paper\"}, {\"font\": {\"size\": 16}, \"showarrow\": false, \"text\": \"Topic 8\", \"x\": 0.8833333333333333, \"xanchor\": \"center\", \"xref\": \"paper\", \"y\": 0.2333333333333333, \"yanchor\": \"bottom\", \"yref\": \"paper\"}], \"height\": 800, \"hoverlabel\": {\"bgcolor\": \"white\", \"font\": {\"family\": \"Rockwell\", \"size\": 16}}, \"showlegend\": false, \"template\": {\"data\": {\"bar\": [{\"error_x\": {\"color\": \"#2a3f5f\"}, \"error_y\": {\"color\": \"#2a3f5f\"}, \"marker\": {\"line\": {\"color\": \"white\", \"width\": 0.5}}, \"type\": \"bar\"}], \"barpolar\": [{\"marker\": {\"line\": {\"color\": \"white\", \"width\": 0.5}}, \"type\": \"barpolar\"}], \"carpet\": [{\"aaxis\": {\"endlinecolor\": \"#2a3f5f\", \"gridcolor\": \"#C8D4E3\", \"linecolor\": \"#C8D4E3\", \"minorgridcolor\": \"#C8D4E3\", \"startlinecolor\": \"#2a3f5f\"}, \"baxis\": {\"endlinecolor\": \"#2a3f5f\", \"gridcolor\": \"#C8D4E3\", \"linecolor\": \"#C8D4E3\", \"minorgridcolor\": \"#C8D4E3\", \"startlinecolor\": \"#2a3f5f\"}, \"type\": \"carpet\"}], \"choropleth\": [{\"colorbar\": {\"outlinewidth\": 0, \"ticks\": \"\"}, \"type\": \"choropleth\"}], \"contour\": [{\"colorbar\": {\"outlinewidth\": 0, \"ticks\": \"\"}, \"colorscale\": [[0.0, \"#0d0887\"], [0.1111111111111111, \"#46039f\"], [0.2222222222222222, \"#7201a8\"], [0.3333333333333333, \"#9c179e\"], [0.4444444444444444, \"#bd3786\"], [0.5555555555555556, \"#d8576b\"], [0.6666666666666666, \"#ed7953\"], [0.7777777777777778, \"#fb9f3a\"], [0.8888888888888888, \"#fdca26\"], [1.0, \"#f0f921\"]], \"type\": \"contour\"}], \"contourcarpet\": [{\"colorbar\": {\"outlinewidth\": 0, \"ticks\": \"\"}, \"type\": \"contourcarpet\"}], \"heatmap\": [{\"colorbar\": {\"outlinewidth\": 0, \"ticks\": \"\"}, \"colorscale\": [[0.0, \"#0d0887\"], [0.1111111111111111, \"#46039f\"], [0.2222222222222222, \"#7201a8\"], [0.3333333333333333, \"#9c179e\"], [0.4444444444444444, \"#bd3786\"], [0.5555555555555556, \"#d8576b\"], [0.6666666666666666, \"#ed7953\"], [0.7777777777777778, \"#fb9f3a\"], [0.8888888888888888, \"#fdca26\"], [1.0, \"#f0f921\"]], \"type\": \"heatmap\"}], \"heatmapgl\": [{\"colorbar\": {\"outlinewidth\": 0, \"ticks\": \"\"}, \"colorscale\": [[0.0, \"#0d0887\"], [0.1111111111111111, \"#46039f\"], [0.2222222222222222, \"#7201a8\"], [0.3333333333333333, \"#9c179e\"], [0.4444444444444444, \"#bd3786\"], [0.5555555555555556, \"#d8576b\"], [0.6666666666666666, \"#ed7953\"], [0.7777777777777778, \"#fb9f3a\"], [0.8888888888888888, \"#fdca26\"], [1.0, \"#f0f921\"]], \"type\": \"heatmapgl\"}], \"histogram\": [{\"marker\": {\"colorbar\": {\"outlinewidth\": 0, \"ticks\": \"\"}}, \"type\": \"histogram\"}], \"histogram2d\": [{\"colorbar\": {\"outlinewidth\": 0, \"ticks\": \"\"}, \"colorscale\": [[0.0, \"#0d0887\"], [0.1111111111111111, \"#46039f\"], [0.2222222222222222, \"#7201a8\"], [0.3333333333333333, \"#9c179e\"], [0.4444444444444444, \"#bd3786\"], [0.5555555555555556, \"#d8576b\"], [0.6666666666666666, \"#ed7953\"], [0.7777777777777778, \"#fb9f3a\"], [0.8888888888888888, \"#fdca26\"], [1.0, \"#f0f921\"]], \"type\": \"histogram2d\"}], \"histogram2dcontour\": [{\"colorbar\": {\"outlinewidth\": 0, \"ticks\": \"\"}, \"colorscale\": [[0.0, \"#0d0887\"], [0.1111111111111111, \"#46039f\"], [0.2222222222222222, \"#7201a8\"], [0.3333333333333333, \"#9c179e\"], [0.4444444444444444, \"#bd3786\"], [0.5555555555555556, \"#d8576b\"], [0.6666666666666666, \"#ed7953\"], [0.7777777777777778, \"#fb9f3a\"], [0.8888888888888888, \"#fdca26\"], [1.0, \"#f0f921\"]], \"type\": \"histogram2dcontour\"}], \"mesh3d\": [{\"colorbar\": {\"outlinewidth\": 0, \"ticks\": \"\"}, \"type\": \"mesh3d\"}], \"parcoords\": [{\"line\": {\"colorbar\": {\"outlinewidth\": 0, \"ticks\": \"\"}}, \"type\": \"parcoords\"}], \"pie\": [{\"automargin\": true, \"type\": \"pie\"}], \"scatter\": [{\"marker\": {\"colorbar\": {\"outlinewidth\": 0, \"ticks\": \"\"}}, \"type\": \"scatter\"}], \"scatter3d\": [{\"line\": {\"colorbar\": {\"outlinewidth\": 0, \"ticks\": \"\"}}, \"marker\": {\"colorbar\": {\"outlinewidth\": 0, \"ticks\": \"\"}}, \"type\": \"scatter3d\"}], \"scattercarpet\": [{\"marker\": {\"colorbar\": {\"outlinewidth\": 0, \"ticks\": \"\"}}, \"type\": \"scattercarpet\"}], \"scattergeo\": [{\"marker\": {\"colorbar\": {\"outlinewidth\": 0, \"ticks\": \"\"}}, \"type\": \"scattergeo\"}], \"scattergl\": [{\"marker\": {\"colorbar\": {\"outlinewidth\": 0, \"ticks\": \"\"}}, \"type\": \"scattergl\"}], \"scattermapbox\": [{\"marker\": {\"colorbar\": {\"outlinewidth\": 0, \"ticks\": \"\"}}, \"type\": \"scattermapbox\"}], \"scatterpolar\": [{\"marker\": {\"colorbar\": {\"outlinewidth\": 0, \"ticks\": \"\"}}, \"type\": \"scatterpolar\"}], \"scatterpolargl\": [{\"marker\": {\"colorbar\": {\"outlinewidth\": 0, \"ticks\": \"\"}}, \"type\": \"scatterpolargl\"}], \"scatterternary\": [{\"marker\": {\"colorbar\": {\"outlinewidth\": 0, \"ticks\": \"\"}}, \"type\": \"scatterternary\"}], \"surface\": [{\"colorbar\": {\"outlinewidth\": 0, \"ticks\": \"\"}, \"colorscale\": [[0.0, \"#0d0887\"], [0.1111111111111111, \"#46039f\"], [0.2222222222222222, \"#7201a8\"], [0.3333333333333333, \"#9c179e\"], [0.4444444444444444, \"#bd3786\"], [0.5555555555555556, \"#d8576b\"], [0.6666666666666666, \"#ed7953\"], [0.7777777777777778, \"#fb9f3a\"], [0.8888888888888888, \"#fdca26\"], [1.0, \"#f0f921\"]], \"type\": \"surface\"}], \"table\": [{\"cells\": {\"fill\": {\"color\": \"#EBF0F8\"}, \"line\": {\"color\": \"white\"}}, \"header\": {\"fill\": {\"color\": \"#C8D4E3\"}, \"line\": {\"color\": \"white\"}}, \"type\": \"table\"}]}, \"layout\": {\"annotationdefaults\": {\"arrowcolor\": \"#2a3f5f\", \"arrowhead\": 0, \"arrowwidth\": 1}, \"autotypenumbers\": \"strict\", \"coloraxis\": {\"colorbar\": {\"outlinewidth\": 0, \"ticks\": \"\"}}, \"colorscale\": {\"diverging\": [[0, \"#8e0152\"], [0.1, \"#c51b7d\"], [0.2, \"#de77ae\"], [0.3, \"#f1b6da\"], [0.4, \"#fde0ef\"], [0.5, \"#f7f7f7\"], [0.6, \"#e6f5d0\"], [0.7, \"#b8e186\"], [0.8, \"#7fbc41\"], [0.9, \"#4d9221\"], [1, \"#276419\"]], \"sequential\": [[0.0, \"#0d0887\"], [0.1111111111111111, \"#46039f\"], [0.2222222222222222, \"#7201a8\"], [0.3333333333333333, \"#9c179e\"], [0.4444444444444444, \"#bd3786\"], [0.5555555555555556, \"#d8576b\"], [0.6666666666666666, \"#ed7953\"], [0.7777777777777778, \"#fb9f3a\"], [0.8888888888888888, \"#fdca26\"], [1.0, \"#f0f921\"]], \"sequentialminus\": [[0.0, \"#0d0887\"], [0.1111111111111111, \"#46039f\"], [0.2222222222222222, \"#7201a8\"], [0.3333333333333333, \"#9c179e\"], [0.4444444444444444, \"#bd3786\"], [0.5555555555555556, \"#d8576b\"], [0.6666666666666666, \"#ed7953\"], [0.7777777777777778, \"#fb9f3a\"], [0.8888888888888888, \"#fdca26\"], [1.0, \"#f0f921\"]]}, \"colorway\": [\"#636efa\", \"#EF553B\", \"#00cc96\", \"#ab63fa\", \"#FFA15A\", \"#19d3f3\", \"#FF6692\", \"#B6E880\", \"#FF97FF\", \"#FECB52\"], \"font\": {\"color\": \"#2a3f5f\"}, \"geo\": {\"bgcolor\": \"white\", \"lakecolor\": \"white\", \"landcolor\": \"white\", \"showlakes\": true, \"showland\": true, \"subunitcolor\": \"#C8D4E3\"}, \"hoverlabel\": {\"align\": \"left\"}, \"hovermode\": \"closest\", \"mapbox\": {\"style\": \"light\"}, \"paper_bgcolor\": \"white\", \"plot_bgcolor\": \"white\", \"polar\": {\"angularaxis\": {\"gridcolor\": \"#EBF0F8\", \"linecolor\": \"#EBF0F8\", \"ticks\": \"\"}, \"bgcolor\": \"white\", \"radialaxis\": {\"gridcolor\": \"#EBF0F8\", \"linecolor\": \"#EBF0F8\", \"ticks\": \"\"}}, \"scene\": {\"xaxis\": {\"backgroundcolor\": \"white\", \"gridcolor\": \"#DFE8F3\", \"gridwidth\": 2, \"linecolor\": \"#EBF0F8\", \"showbackground\": true, \"ticks\": \"\", \"zerolinecolor\": \"#EBF0F8\"}, \"yaxis\": {\"backgroundcolor\": \"white\", \"gridcolor\": \"#DFE8F3\", \"gridwidth\": 2, \"linecolor\": \"#EBF0F8\", \"showbackground\": true, \"ticks\": \"\", \"zerolinecolor\": \"#EBF0F8\"}, \"zaxis\": {\"backgroundcolor\": \"white\", \"gridcolor\": \"#DFE8F3\", \"gridwidth\": 2, \"linecolor\": \"#EBF0F8\", \"showbackground\": true, \"ticks\": \"\", \"zerolinecolor\": \"#EBF0F8\"}}, \"shapedefaults\": {\"line\": {\"color\": \"#2a3f5f\"}}, \"ternary\": {\"aaxis\": {\"gridcolor\": \"#DFE8F3\", \"linecolor\": \"#A2B1C6\", \"ticks\": \"\"}, \"baxis\": {\"gridcolor\": \"#DFE8F3\", \"linecolor\": \"#A2B1C6\", \"ticks\": \"\"}, \"bgcolor\": \"white\", \"caxis\": {\"gridcolor\": \"#DFE8F3\", \"linecolor\": \"#A2B1C6\", \"ticks\": \"\"}}, \"title\": {\"x\": 0.05}, \"xaxis\": {\"automargin\": true, \"gridcolor\": \"#EBF0F8\", \"linecolor\": \"#EBF0F8\", \"ticks\": \"\", \"title\": {\"standoff\": 15}, \"zerolinecolor\": \"#EBF0F8\", \"zerolinewidth\": 2}, \"yaxis\": {\"automargin\": true, \"gridcolor\": \"#EBF0F8\", \"linecolor\": \"#EBF0F8\", \"ticks\": \"\", \"title\": {\"standoff\": 15}, \"zerolinecolor\": \"#EBF0F8\", \"zerolinewidth\": 2}}}, \"title\": {\"font\": {\"color\": \"Black\", \"size\": 22}, \"text\": \"<b>Topic Word Scores\", \"x\": 0.15, \"xanchor\": \"center\", \"y\": 0.95, \"yanchor\": \"top\"}, \"width\": 800, \"xaxis\": {\"anchor\": \"y\", \"domain\": [0.0, 0.2333333333333333], \"matches\": \"x7\", \"showgrid\": true, \"showticklabels\": false}, \"xaxis2\": {\"anchor\": \"y2\", \"domain\": [0.3833333333333333, 0.6166666666666666], \"matches\": \"x8\", \"showgrid\": true, \"showticklabels\": false}, \"xaxis3\": {\"anchor\": \"y3\", \"domain\": [0.7666666666666666, 0.9999999999999999], \"matches\": \"x9\", \"showgrid\": true, \"showticklabels\": false}, \"xaxis4\": {\"anchor\": \"y4\", \"domain\": [0.0, 0.2333333333333333], \"matches\": \"x7\", \"showgrid\": true, \"showticklabels\": false}, \"xaxis5\": {\"anchor\": \"y5\", \"domain\": [0.3833333333333333, 0.6166666666666666], \"matches\": \"x8\", \"showgrid\": true, \"showticklabels\": false}, \"xaxis6\": {\"anchor\": \"y6\", \"domain\": [0.7666666666666666, 0.9999999999999999], \"matches\": \"x9\", \"showgrid\": true, \"showticklabels\": false}, \"xaxis7\": {\"anchor\": \"y7\", \"domain\": [0.0, 0.2333333333333333], \"showgrid\": true}, \"xaxis8\": {\"anchor\": \"y8\", \"domain\": [0.3833333333333333, 0.6166666666666666], \"showgrid\": true}, \"xaxis9\": {\"anchor\": \"y9\", \"domain\": [0.7666666666666666, 0.9999999999999999], \"showgrid\": true}, \"yaxis\": {\"anchor\": \"x\", \"domain\": [0.7666666666666666, 0.9999999999999999], \"showgrid\": true}, \"yaxis2\": {\"anchor\": \"x2\", \"domain\": [0.7666666666666666, 0.9999999999999999], \"showgrid\": true}, \"yaxis3\": {\"anchor\": \"x3\", \"domain\": [0.7666666666666666, 0.9999999999999999], \"showgrid\": true}, \"yaxis4\": {\"anchor\": \"x4\", \"domain\": [0.3833333333333333, 0.6166666666666666], \"showgrid\": true}, \"yaxis5\": {\"anchor\": \"x5\", \"domain\": [0.3833333333333333, 0.6166666666666666], \"showgrid\": true}, \"yaxis6\": {\"anchor\": \"x6\", \"domain\": [0.3833333333333333, 0.6166666666666666], \"showgrid\": true}, \"yaxis7\": {\"anchor\": \"x7\", \"domain\": [0.0, 0.2333333333333333], \"showgrid\": true}, \"yaxis8\": {\"anchor\": \"x8\", \"domain\": [0.0, 0.2333333333333333], \"showgrid\": true}, \"yaxis9\": {\"anchor\": \"x9\", \"domain\": [0.0, 0.2333333333333333], \"showgrid\": true}},                        {\"responsive\": true}                    ).then(function(){\n",
              "                            \n",
              "var gd = document.getElementById('e957115b-5593-439d-bb2d-9d0f94162604');\n",
              "var x = new MutationObserver(function (mutations, observer) {{\n",
              "        var display = window.getComputedStyle(gd).display;\n",
              "        if (!display || display === 'none') {{\n",
              "            console.log([gd, 'removed!']);\n",
              "            Plotly.purge(gd);\n",
              "            observer.disconnect();\n",
              "        }}\n",
              "}});\n",
              "\n",
              "// Listen for the removal of the full notebook cells\n",
              "var notebookContainer = gd.closest('#notebook-container');\n",
              "if (notebookContainer) {{\n",
              "    x.observe(notebookContainer, {childList: true});\n",
              "}}\n",
              "\n",
              "// Listen for the clearing of the current output cell\n",
              "var outputEl = gd.closest('.output');\n",
              "if (outputEl) {{\n",
              "    x.observe(outputEl, {childList: true});\n",
              "}}\n",
              "\n",
              "                        })                };                            </script>        </div>\n",
              "</body>\n",
              "</html>"
            ]
          },
          "metadata": {
            "tags": []
          }
        }
      ]
    },
    {
      "cell_type": "code",
      "metadata": {
        "colab": {
          "base_uri": "https://localhost:8080/"
        },
        "id": "BRcdnC9-3mSt",
        "outputId": "700b3cfd-bfa0-4348-a94c-8cefc2a2bd10"
      },
      "source": [
        "topic_model.get_representative_docs(topic_model.find_topics('recommender system')[0][0])"
      ],
      "execution_count": null,
      "outputs": [
        {
          "output_type": "execute_result",
          "data": {
            "text/plain": [
              "['Exploring Spotify Data with Pandas ',\n",
              " 'Implementing Naive Bayes for Sentiment Analysis in Python ',\n",
              " 'Building a Content Based Book Recommendation Engine ']"
            ]
          },
          "metadata": {
            "tags": []
          },
          "execution_count": 51
        }
      ]
    },
    {
      "cell_type": "code",
      "metadata": {
        "colab": {
          "base_uri": "https://localhost:8080/"
        },
        "id": "8npb7ZZq7Ep-",
        "outputId": "194a6689-0446-4c72-a35b-43984a9e9e1d"
      },
      "source": [
        "topic_model._sort_mappings_by_frequency"
      ],
      "execution_count": null,
      "outputs": [
        {
          "output_type": "execute_result",
          "data": {
            "text/plain": [
              "<bound method BERTopic._sort_mappings_by_frequency of <bertopic._bertopic.BERTopic object at 0x7fc4f3431490>>"
            ]
          },
          "metadata": {
            "tags": []
          },
          "execution_count": 58
        }
      ]
    },
    {
      "cell_type": "code",
      "metadata": {
        "colab": {
          "base_uri": "https://localhost:8080/"
        },
        "id": "JWRHJ4T0pAQ5",
        "outputId": "545919a4-ddc3-4eb9-e365-0f4e718e37da"
      },
      "source": [
        "topic_model.get_params()"
      ],
      "execution_count": null,
      "outputs": [
        {
          "output_type": "execute_result",
          "data": {
            "text/plain": [
              "{'calculate_probabilities': False,\n",
              " 'embedding_model': <bertopic.backend._sentencetransformers.SentenceTransformerBackend at 0x7fc642b360d0>,\n",
              " 'hdbscan_model': HDBSCAN(algorithm='best', allow_single_cluster=False, alpha=1.0,\n",
              "         approx_min_span_tree=True, cluster_selection_epsilon=0.0,\n",
              "         cluster_selection_method='eom', core_dist_n_jobs=4,\n",
              "         gen_min_span_tree=False, leaf_size=40,\n",
              "         match_reference_implementation=False, memory=Memory(location=None),\n",
              "         metric='euclidean', min_cluster_size=50, min_samples=None, p=None,\n",
              "         prediction_data=True),\n",
              " 'language': 'english',\n",
              " 'low_memory': False,\n",
              " 'min_topic_size': 50,\n",
              " 'n_gram_range': (1, 3),\n",
              " 'nr_topics': None,\n",
              " 'seed_topic_list': None,\n",
              " 'top_n_words': 10,\n",
              " 'umap_model': UMAP(a=None, angular_rp_forest=True, b=None, dens_frac=0.0, dens_lambda=0.0,\n",
              "      dens_var_shift=0.1, densmap=False, disconnection_distance=None,\n",
              "      force_approximation_algorithm=False, init='spectral', learning_rate=1.0,\n",
              "      local_connectivity=1.0, low_memory=False, metric='cosine',\n",
              "      metric_kwds=None, min_dist=0.0, n_components=5, n_epochs=None, n_jobs=-1,\n",
              "      n_neighbors=15, negative_sample_rate=5, output_dens=False,\n",
              "      output_metric='euclidean', output_metric_kwds=None, random_state=None,\n",
              "      repulsion_strength=1.0, set_op_mix_ratio=1.0, spread=1.0,\n",
              "      target_metric='categorical', target_metric_kwds=None, ...),\n",
              " 'vectorizer_model': CountVectorizer(analyzer='word', binary=False, decode_error='strict',\n",
              "                 dtype=<class 'numpy.int64'>, encoding='utf-8', input='content',\n",
              "                 lowercase=True, max_df=1.0, max_features=None, min_df=1,\n",
              "                 ngram_range=(1, 3), preprocessor=None, stop_words=None,\n",
              "                 strip_accents=None, token_pattern='(?u)\\\\b\\\\w\\\\w+\\\\b',\n",
              "                 tokenizer=None, vocabulary=None),\n",
              " 'verbose': True}"
            ]
          },
          "metadata": {
            "tags": []
          },
          "execution_count": 61
        }
      ]
    },
    {
      "cell_type": "code",
      "metadata": {
        "colab": {
          "base_uri": "https://localhost:8080/",
          "height": 289
        },
        "id": "7-eqiUhk2eax",
        "outputId": "98cae5e6-74de-4534-a288-a78d8abd0fce"
      },
      "source": [
        "df['Topic'] = df['Title'].apply(lambda x: topic_model.find_topics(x)[0][0])\n",
        "df.head()"
      ],
      "execution_count": null,
      "outputs": [
        {
          "output_type": "execute_result",
          "data": {
            "text/html": [
              "<div>\n",
              "<style scoped>\n",
              "    .dataframe tbody tr th:only-of-type {\n",
              "        vertical-align: middle;\n",
              "    }\n",
              "\n",
              "    .dataframe tbody tr th {\n",
              "        vertical-align: top;\n",
              "    }\n",
              "\n",
              "    .dataframe thead th {\n",
              "        text-align: right;\n",
              "    }\n",
              "</style>\n",
              "<table border=\"1\" class=\"dataframe\">\n",
              "  <thead>\n",
              "    <tr style=\"text-align: right;\">\n",
              "      <th></th>\n",
              "      <th>Date</th>\n",
              "      <th>Title</th>\n",
              "      <th>Subtitle</th>\n",
              "      <th>Author</th>\n",
              "      <th>Publication</th>\n",
              "      <th>Minutes</th>\n",
              "      <th>Topic</th>\n",
              "    </tr>\n",
              "  </thead>\n",
              "  <tbody>\n",
              "    <tr>\n",
              "      <th>0</th>\n",
              "      <td>2021-08-16 11:40:00+00:00</td>\n",
              "      <td>My Favorite Pandas Method Chains</td>\n",
              "      <td>Method chains I use (and reuse) because they'r...</td>\n",
              "      <td>Adam Ross Nelson</td>\n",
              "      <td>Level Up Coding</td>\n",
              "      <td>3</td>\n",
              "      <td>12</td>\n",
              "    </tr>\n",
              "    <tr>\n",
              "      <th>1</th>\n",
              "      <td>2021-08-16 11:40:00+00:00</td>\n",
              "      <td>Graph Thinking</td>\n",
              "      <td>A kind of cognitive framework called graph thi...</td>\n",
              "      <td>Paco Nathan</td>\n",
              "      <td>Knowledge Technologies</td>\n",
              "      <td>6</td>\n",
              "      <td>4</td>\n",
              "    </tr>\n",
              "    <tr>\n",
              "      <th>2</th>\n",
              "      <td>2021-08-16 11:40:00+00:00</td>\n",
              "      <td>Building and deploying end-to-end fake news cl...</td>\n",
              "      <td>In this digital era of smartphones and the int...</td>\n",
              "      <td>Eish Kumar</td>\n",
              "      <td>Towards Data Science</td>\n",
              "      <td>8</td>\n",
              "      <td>3</td>\n",
              "    </tr>\n",
              "    <tr>\n",
              "      <th>3</th>\n",
              "      <td>2021-08-16 11:40:00+00:00</td>\n",
              "      <td>Top 10 Machine Learning Algorithms You Should ...</td>\n",
              "      <td>Nowadays businesses are focusing on automation...</td>\n",
              "      <td>Nora Winkens</td>\n",
              "      <td>Artificial Intelligence in Plain English</td>\n",
              "      <td>4</td>\n",
              "      <td>6</td>\n",
              "    </tr>\n",
              "    <tr>\n",
              "      <th>4</th>\n",
              "      <td>2021-08-16 11:40:00+00:00</td>\n",
              "      <td>Scraping Tutorial on Airbnb's Website (with Sc...</td>\n",
              "      <td>Making your first steps in automating data col...</td>\n",
              "      <td>Thibaud Lamothe</td>\n",
              "      <td>Geek Culture</td>\n",
              "      <td>13</td>\n",
              "      <td>14</td>\n",
              "    </tr>\n",
              "  </tbody>\n",
              "</table>\n",
              "</div>"
            ],
            "text/plain": [
              "                        Date  ... Topic\n",
              "0  2021-08-16 11:40:00+00:00  ...    12\n",
              "1  2021-08-16 11:40:00+00:00  ...     4\n",
              "2  2021-08-16 11:40:00+00:00  ...     3\n",
              "3  2021-08-16 11:40:00+00:00  ...     6\n",
              "4  2021-08-16 11:40:00+00:00  ...    14\n",
              "\n",
              "[5 rows x 7 columns]"
            ]
          },
          "metadata": {
            "tags": []
          },
          "execution_count": 75
        }
      ]
    },
    {
      "cell_type": "code",
      "metadata": {
        "colab": {
          "base_uri": "https://localhost:8080/",
          "height": 494
        },
        "id": "sZ-yfB0M8sQt",
        "outputId": "c4a70311-e125-4889-b66d-58b118fa7c87"
      },
      "source": [
        "mini_df = df.iloc[:1000]\n",
        "import seaborn as sns\n",
        "import matplotlib.pyplot as plt\n",
        "fig = plt.figure(figsize=(20,10))\n",
        "ax = sns.swarmplot(data=mini_df, x='Topic', y='Minutes');"
      ],
      "execution_count": null,
      "outputs": [
        {
          "output_type": "display_data",
          "data": {
            "image/png": "[encoded data removed]",
            "text/plain": [
              "<Figure size 1440x720 with 1 Axes>"
            ]
          },
          "metadata": {
            "tags": [],
            "needs_background": "light"
          }
        }
      ]
    },
    {
      "cell_type": "code",
      "metadata": {
        "colab": {
          "base_uri": "https://localhost:8080/",
          "height": 589
        },
        "id": "tf8QEPRv9zdd",
        "outputId": "18e55c84-e0d1-42ba-d4a9-2ca3cc40b6e5"
      },
      "source": [
        "df[df['Topic'] == 30]"
      ],
      "execution_count": null,
      "outputs": [
        {
          "output_type": "execute_result",
          "data": {
            "text/html": [
              "<div>\n",
              "<style scoped>\n",
              "    .dataframe tbody tr th:only-of-type {\n",
              "        vertical-align: middle;\n",
              "    }\n",
              "\n",
              "    .dataframe tbody tr th {\n",
              "        vertical-align: top;\n",
              "    }\n",
              "\n",
              "    .dataframe thead th {\n",
              "        text-align: right;\n",
              "    }\n",
              "</style>\n",
              "<table border=\"1\" class=\"dataframe\">\n",
              "  <thead>\n",
              "    <tr style=\"text-align: right;\">\n",
              "      <th></th>\n",
              "      <th>Date</th>\n",
              "      <th>Title</th>\n",
              "      <th>Subtitle</th>\n",
              "      <th>Author</th>\n",
              "      <th>Publication</th>\n",
              "      <th>Minutes</th>\n",
              "      <th>Topic</th>\n",
              "    </tr>\n",
              "  </thead>\n",
              "  <tbody>\n",
              "    <tr>\n",
              "      <th>32</th>\n",
              "      <td>2021-08-13 11:40:00+00:00</td>\n",
              "      <td>Using The Cosine Similarity and DBSCAN to Get ...</td>\n",
              "      <td>How many clusters are in my data set? And what...</td>\n",
              "      <td>Hwa-Wei Wu</td>\n",
              "      <td>Web Mining [IS688, Spring 2021]</td>\n",
              "      <td>13</td>\n",
              "      <td>30</td>\n",
              "    </tr>\n",
              "    <tr>\n",
              "      <th>55</th>\n",
              "      <td>2021-08-11 11:40:00+00:00</td>\n",
              "      <td>How to Calculate Molecular Similarity</td>\n",
              "      <td>Day 15 of the 66 Days of Data</td>\n",
              "      <td>Chanin Nantasenamat</td>\n",
              "      <td>Data Professor</td>\n",
              "      <td>5</td>\n",
              "      <td>30</td>\n",
              "    </tr>\n",
              "    <tr>\n",
              "      <th>91</th>\n",
              "      <td>2021-08-08 11:40:00+00:00</td>\n",
              "      <td>Audio signal feature extraction and clustering</td>\n",
              "      <td>Machine learning has been trending for almost ...</td>\n",
              "      <td>Aakash Mallik</td>\n",
              "      <td>Project Heuristics</td>\n",
              "      <td>15</td>\n",
              "      <td>30</td>\n",
              "    </tr>\n",
              "    <tr>\n",
              "      <th>210</th>\n",
              "      <td>2021-07-29 11:40:00+00:00</td>\n",
              "      <td>How to Calculate Molecular Similarity</td>\n",
              "      <td>Day 15 of the 66 Days of Data</td>\n",
              "      <td>Chanin Nantasenamat</td>\n",
              "      <td>Data Professor</td>\n",
              "      <td>5</td>\n",
              "      <td>30</td>\n",
              "    </tr>\n",
              "    <tr>\n",
              "      <th>268</th>\n",
              "      <td>2021-07-24 11:40:00+00:00</td>\n",
              "      <td>Audio signal feature extraction and clustering</td>\n",
              "      <td>Machine learning has been trending for almost ...</td>\n",
              "      <td>Aakash Mallik</td>\n",
              "      <td>Project Heuristics</td>\n",
              "      <td>15</td>\n",
              "      <td>30</td>\n",
              "    </tr>\n",
              "    <tr>\n",
              "      <th>...</th>\n",
              "      <td>...</td>\n",
              "      <td>...</td>\n",
              "      <td>...</td>\n",
              "      <td>...</td>\n",
              "      <td>...</td>\n",
              "      <td>...</td>\n",
              "      <td>...</td>\n",
              "    </tr>\n",
              "    <tr>\n",
              "      <th>7053</th>\n",
              "      <td>2020-05-11 15:50:00+00:00</td>\n",
              "      <td>Tech Union Leaders Are Dodging Surveillance on...</td>\n",
              "      <td>For worker movements, digital tools are a doub...</td>\n",
              "      <td>Sarah Emerson</td>\n",
              "      <td>OneZero</td>\n",
              "      <td>8</td>\n",
              "      <td>30</td>\n",
              "    </tr>\n",
              "    <tr>\n",
              "      <th>7448</th>\n",
              "      <td>2020-04-16 15:50:00+00:00</td>\n",
              "      <td>K-means Clustering Python Example</td>\n",
              "      <td>K-Means Clustering is an unsupervised machine ...</td>\n",
              "      <td>Cory Maklin</td>\n",
              "      <td>Towards Data Science</td>\n",
              "      <td>4</td>\n",
              "      <td>30</td>\n",
              "    </tr>\n",
              "    <tr>\n",
              "      <th>7761</th>\n",
              "      <td>2020-03-28 15:50:00+00:00</td>\n",
              "      <td>K-means Clustering Python Example</td>\n",
              "      <td>K-Means Clustering is an unsupervised machine ...</td>\n",
              "      <td>Cory Maklin</td>\n",
              "      <td>Towards Data Science</td>\n",
              "      <td>4</td>\n",
              "      <td>30</td>\n",
              "    </tr>\n",
              "    <tr>\n",
              "      <th>8872</th>\n",
              "      <td>2020-01-23 13:40:00+00:00</td>\n",
              "      <td>Fragment Transitions</td>\n",
              "      <td>Getting them working</td>\n",
              "      <td>Chris Banes</td>\n",
              "      <td>Android Developers</td>\n",
              "      <td>4</td>\n",
              "      <td>30</td>\n",
              "    </tr>\n",
              "    <tr>\n",
              "      <th>8987</th>\n",
              "      <td>2020-01-15 13:40:00+00:00</td>\n",
              "      <td>She Didn't Put You in the Friend Zone</td>\n",
              "      <td>You can only do that to yourself.</td>\n",
              "      <td>Jessica Wildfire</td>\n",
              "      <td>P.S. I Love You</td>\n",
              "      <td>8</td>\n",
              "      <td>30</td>\n",
              "    </tr>\n",
              "  </tbody>\n",
              "</table>\n",
              "<p>105 rows × 7 columns</p>\n",
              "</div>"
            ],
            "text/plain": [
              "                           Date  ... Topic\n",
              "32    2021-08-13 11:40:00+00:00  ...    30\n",
              "55    2021-08-11 11:40:00+00:00  ...    30\n",
              "91    2021-08-08 11:40:00+00:00  ...    30\n",
              "210   2021-07-29 11:40:00+00:00  ...    30\n",
              "268   2021-07-24 11:40:00+00:00  ...    30\n",
              "...                         ...  ...   ...\n",
              "7053  2020-05-11 15:50:00+00:00  ...    30\n",
              "7448  2020-04-16 15:50:00+00:00  ...    30\n",
              "7761  2020-03-28 15:50:00+00:00  ...    30\n",
              "8872  2020-01-23 13:40:00+00:00  ...    30\n",
              "8987  2020-01-15 13:40:00+00:00  ...    30\n",
              "\n",
              "[105 rows x 7 columns]"
            ]
          },
          "metadata": {
            "tags": []
          },
          "execution_count": 96
        }
      ]
    },
    {
      "cell_type": "code",
      "metadata": {
        "id": "p8fm4nQwEUx4"
      },
      "source": [
        ""
      ],
      "execution_count": null,
      "outputs": []
    }
  ]
}