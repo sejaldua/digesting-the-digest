{
 "cells": [
  {
   "cell_type": "code",
   "execution_count": 1,
   "id": "f13d31cd",
   "metadata": {},
   "outputs": [
    {
     "name": "stdout",
     "output_type": "stream",
     "text": [
      "Requirement already satisfied: tqdm in /Users/sejaldua/opt/anaconda3/lib/python3.8/site-packages (4.59.0)\r\n"
     ]
    }
   ],
   "source": [
    "!pip install tqdm"
   ]
  },
  {
   "cell_type": "code",
   "execution_count": 11,
   "id": "3e78442a",
   "metadata": {},
   "outputs": [
    {
     "name": "stdout",
     "output_type": "stream",
     "text": [
      "The autoreload extension is already loaded. To reload it, use:\n",
      "  %reload_ext autoreload\n"
     ]
    }
   ],
   "source": [
    "%load_ext autoreload\n",
    "%autoreload 2"
   ]
  },
  {
   "cell_type": "code",
   "execution_count": 17,
   "id": "872e57f9",
   "metadata": {},
   "outputs": [],
   "source": [
    "from quickstart import get_data\n",
    "service, messages = get_data()\n",
    "\n",
    "# data = []\n",
    "# for message in tqdm(messages):\n",
    "#     thread_id = service.users().messages().get(userId='me', id=message['id']).execute()['threadId']\n",
    "#     tdata = service.users().threads().get(userId='me', id=thread_id).execute()\n",
    "#     for msg in tdata['messages']:\n",
    "#         body = msg['snippet']\n",
    "# #         print(body)\n",
    "#         try:\n",
    "#             date = msg['payload']['headers'][-4]['value']\n",
    "#             date = pd.to_datetime(date).date().strftime(\"%m/%d/%y\")\n",
    "#         except:\n",
    "#             continue\n",
    "#         body = body.replace('First Name', 'first_name').replace('Last Name', 'last_name').replace(':', '')\n",
    "#         words = body.split()\n",
    "#         d = {'first_name': '', 'last_name': '', 'E-mail': '', 'Phone': '', 'Floorplan': '', 'Realtor': '', 'Comments': ''}\n",
    "#         for w in words:\n",
    "#             if w in d.keys():\n",
    "#                 try:\n",
    "#                     d[key] = value\n",
    "#                 except:\n",
    "#                     pass\n",
    "#                 key = w\n",
    "#                 value = ''\n",
    "#             else:\n",
    "#                 value += \" \" + w\n",
    "#         data.append([date, *d.values()])\n",
    "\n",
    "# df = pd.DataFrame(data, columns = ['Date Received', 'First Name', 'Last Name', *list(d.keys())[2:]])\n",
    "# df"
   ]
  },
  {
   "cell_type": "code",
   "execution_count": 134,
   "id": "bdcf5362",
   "metadata": {},
   "outputs": [
    {
     "name": "stdout",
     "output_type": "stream",
     "text": [
      "('How To Plot Time Series', 'Produce elegant plots that tell a story', 'Nadim Kawwa', 'Towards Data Science ', '5')\n",
      "('Scraping Data from a Website', 'Using pandas to scrap data in a single line of code', 'Himanshu Sharma', 'MLearning.ai ', '2')\n",
      "('How to Web Scrape Tables Online, Using Python and BeautifulSoup', 'Showing you how to create a universal code that can recreate any table you see online in Python', 'Christopher Zita', 'Analytics Vidhya ', '7')\n",
      "('Stop Using Exceptions Like This in Python', 'Four common error-handling mistakes to avoid in Python', 'Jerry Ng', 'Better Programming ', '5')\n",
      "('Plotly Charts are Making Python Smarter', 'As data science has become a larger and larger part of my life, so has the need to visualize, share, and…', 'Jake from Mito', 'trymito ', '3')\n",
      "('How to perform an Exploratory Data Analysis (EDA) with one line of code', 'Learn about performing exploratory data analysis using pandas_profiling', 'Akshay Madar', 'Python in Plain English ', '2')\n",
      "('Coding is a Trap. Get Out.', 'The looming threat to the average programmer.', 'Justin McClain', 'TekLit ', '3')\n",
      "('Why you sometimes need to break the rules in data viz', \"Best practices help us to avoid common pitfalls in data visualisation\\u200a-\\u200abut we shouldn't follow them blindly\", 'Rosamund Pearce', 'The Economist ', '10')\n",
      "('How I Used Python and Selenium To Get a Lifetime Supply of Garlic Pizza Sticks', 'A tale of a curious student with a hungry mind.', 'Sanjeet Chatterjee', 'Level Up Coding ', '4')\n",
      "('Machine Learning Model Deployment', 'The Forgotten Phase', 'Kurtis Pykes', 'DataDrivenInvestor ', '4')\n",
      "('You are Not Lazy or Undisciplined. You Have Internal Resistance.', \"Why you can't just do it, and what to do instead \", 'Jane Elliott PhD', 'Counter Arts ', '7')\n"
     ]
    }
   ],
   "source": [
    "import base64\n",
    "import re\n",
    "\n",
    "message = messages[0]\n",
    "# print(message)\n",
    "msg = service.users().messages().get(userId='me', id=message['id'], format='full').execute()\n",
    "\n",
    "# Get the right body data item (this part was my Heureka-moment as there are several 'data' keys)\n",
    "content = msg['payload']['parts'][0]['body']['data']\n",
    "\n",
    "# Encode\n",
    "msg_body = base64.urlsafe_b64decode(content).decode('utf-8')\n",
    "text = re.sub(r'\\(https?:\\S+.*\\)', '', msg_body, flags=re.MULTILINE).strip('\\r')\n",
    "# print(text.encode('utf=8'))\n",
    "for match in re.findall('(.*)\\r\\n\\r\\n(.*)\\r\\n\\r\\n(.*) \\r\\n in (.*)\\r\\n*·(.*) min read', text, re.MULTILINE):\n",
    "    print(match)"
   ]
  },
  {
   "cell_type": "code",
   "execution_count": null,
   "id": "07fc70ea",
   "metadata": {},
   "outputs": [],
   "source": []
  }
 ],
 "metadata": {
  "kernelspec": {
   "display_name": "Python 3",
   "language": "python",
   "name": "python3"
  },
  "language_info": {
   "codemirror_mode": {
    "name": "ipython",
    "version": 3
   },
   "file_extension": ".py",
   "mimetype": "text/x-python",
   "name": "python",
   "nbconvert_exporter": "python",
   "pygments_lexer": "ipython3",
   "version": "3.8.8"
  }
 },
 "nbformat": 4,
 "nbformat_minor": 5
}
