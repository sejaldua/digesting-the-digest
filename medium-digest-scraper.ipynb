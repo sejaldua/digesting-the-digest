{
 "cells": [
  {
   "cell_type": "code",
   "execution_count": 1,
   "id": "f13d31cd",
   "metadata": {},
   "outputs": [
    {
     "name": "stdout",
     "output_type": "stream",
     "text": [
      "Requirement already satisfied: tqdm in /Users/sejaldua/opt/anaconda3/lib/python3.8/site-packages (4.59.0)\r\n"
     ]
    }
   ],
   "source": [
    "!pip install tqdm pyLDAvis gensim"
   ]
  },
  {
   "cell_type": "code",
   "execution_count": 2,
   "id": "b6675ace",
   "metadata": {},
   "outputs": [],
   "source": [
    "%load_ext autoreload\n",
    "%autoreload 2"
   ]
  },
  {
   "cell_type": "code",
   "execution_count": 3,
   "id": "872e57f9",
   "metadata": {},
   "outputs": [],
   "source": [
    "from quickstart import get_data\n",
    "service, messages = get_data()"
   ]
  },
  {
   "cell_type": "code",
   "execution_count": 9,
   "id": "45a36a97",
   "metadata": {},
   "outputs": [
    {
     "name": "stderr",
     "output_type": "stream",
     "text": [
      "100%|██████████| 500/500 [01:31<00:00,  5.48it/s]\n"
     ]
    }
   ],
   "source": [
    "import base64\n",
    "import re\n",
    "from tqdm import tqdm\n",
    "\n",
    "def parse_email_digest(content):\n",
    "    \"\"\" Returns a list of article information\n",
    "        title, subtitle, author, publication, minutes (reading time)\"\"\"\n",
    "    \n",
    "    msg_body = base64.urlsafe_b64decode(content).decode('utf-8')\n",
    "    text = re.sub(r'\\(https?:\\S+.*\\)', '', msg_body, flags=re.MULTILINE).strip('\\r')\n",
    "    # print(text.encode('utf=8'))\n",
    "    articles = [list(match) for match in re.findall('(.*)\\r\\n\\r\\n(.*)\\r\\n\\r\\n(.*) \\r\\n in (.*)\\r\\n*·(.*) min read', text, re.MULTILINE)]\n",
    "    return articles\n",
    "\n",
    "data = []\n",
    "for message in tqdm(messages):\n",
    "    # Get an email by id\n",
    "    msg = service.users().messages().get(userId='me', id=message['id'], format='full').execute()\n",
    "\n",
    "    # Get the email body\n",
    "    content = msg['payload']['parts'][0]['body']['data']\n",
    "    \n",
    "    # Extract article information for all articles featured in daily digest\n",
    "    for article in parse_email_digest(content):\n",
    "        data.append(article)\n"
   ]
  },
  {
   "cell_type": "code",
   "execution_count": 11,
   "id": "bdf0af0e",
   "metadata": {},
   "outputs": [
    {
     "data": {
      "text/html": [
       "<div>\n",
       "<style scoped>\n",
       "    .dataframe tbody tr th:only-of-type {\n",
       "        vertical-align: middle;\n",
       "    }\n",
       "\n",
       "    .dataframe tbody tr th {\n",
       "        vertical-align: top;\n",
       "    }\n",
       "\n",
       "    .dataframe thead th {\n",
       "        text-align: right;\n",
       "    }\n",
       "</style>\n",
       "<table border=\"1\" class=\"dataframe\">\n",
       "  <thead>\n",
       "    <tr style=\"text-align: right;\">\n",
       "      <th></th>\n",
       "      <th>Title</th>\n",
       "      <th>Subtitle</th>\n",
       "      <th>Author</th>\n",
       "      <th>Publication</th>\n",
       "      <th>Minutes</th>\n",
       "    </tr>\n",
       "  </thead>\n",
       "  <tbody>\n",
       "    <tr>\n",
       "      <th>0</th>\n",
       "      <td>3 Things Not to Do When Learning Data Science</td>\n",
       "      <td>Avoid them to reach your goal faster.</td>\n",
       "      <td>Soner Yıldırım</td>\n",
       "      <td>Towards Data Science</td>\n",
       "      <td>4</td>\n",
       "    </tr>\n",
       "    <tr>\n",
       "      <th>1</th>\n",
       "      <td>Top 10 Machine Learning Algorithms You Should ...</td>\n",
       "      <td>Nowadays businesses are focusing on automation...</td>\n",
       "      <td>Nora Winkens</td>\n",
       "      <td>Artificial Intelligence in Plain English</td>\n",
       "      <td>4</td>\n",
       "    </tr>\n",
       "    <tr>\n",
       "      <th>2</th>\n",
       "      <td>A simple way to export your Medium's reading l...</td>\n",
       "      <td>In a few lines of Python code</td>\n",
       "      <td>Eryk Lewinson</td>\n",
       "      <td>Geek Culture</td>\n",
       "      <td>5</td>\n",
       "    </tr>\n",
       "    <tr>\n",
       "      <th>3</th>\n",
       "      <td>Building a Plotly Dash App from Google Sheets ...</td>\n",
       "      <td>A non-traditional Dashboard built with well kn...</td>\n",
       "      <td>Derrick Lewis</td>\n",
       "      <td>Towards Data Science</td>\n",
       "      <td>10</td>\n",
       "    </tr>\n",
       "    <tr>\n",
       "      <th>4</th>\n",
       "      <td>Machine Learning | Sports Predictions</td>\n",
       "      <td>Let's start with an important question: What i...</td>\n",
       "      <td>Joe Sasson</td>\n",
       "      <td>Analytics Vidhya</td>\n",
       "      <td>6</td>\n",
       "    </tr>\n",
       "    <tr>\n",
       "      <th>...</th>\n",
       "      <td>...</td>\n",
       "      <td>...</td>\n",
       "      <td>...</td>\n",
       "      <td>...</td>\n",
       "      <td>...</td>\n",
       "    </tr>\n",
       "    <tr>\n",
       "      <th>1682</th>\n",
       "      <td>Actually, Not a Ton of People Are Moving to Fl...</td>\n",
       "      <td>It turns out it's mostly tech moguls who have ...</td>\n",
       "      <td>Marker Editors</td>\n",
       "      <td>Marker</td>\n",
       "      <td>2</td>\n",
       "    </tr>\n",
       "    <tr>\n",
       "      <th>1683</th>\n",
       "      <td>Why We Should All Care About the Messy Busines...</td>\n",
       "      <td>Marker readers weigh in on the relevance of st...</td>\n",
       "      <td>Marker Editors</td>\n",
       "      <td>Marker</td>\n",
       "      <td>2</td>\n",
       "    </tr>\n",
       "    <tr>\n",
       "      <th>1684</th>\n",
       "      <td>Why the Pandemic Is Causing You Motivation Par...</td>\n",
       "      <td>It's time to reset your brain by being nice to it</td>\n",
       "      <td>Allison Hirschlag</td>\n",
       "      <td>The Bold Italic</td>\n",
       "      <td>5</td>\n",
       "    </tr>\n",
       "    <tr>\n",
       "      <th>1685</th>\n",
       "      <td>The Key to Achieving Your Goals Is Controlled ...</td>\n",
       "      <td>3 strategies for making mistakes you can learn...</td>\n",
       "      <td>Kristin Wong</td>\n",
       "      <td>Forge</td>\n",
       "      <td>5</td>\n",
       "    </tr>\n",
       "    <tr>\n",
       "      <th>1686</th>\n",
       "      <td>The 70–20–10 System Will Help You Make Really ...</td>\n",
       "      <td>Even you don't think you're aware of Jonathan ...</td>\n",
       "      <td>Amy Shearn</td>\n",
       "      <td>Forge</td>\n",
       "      <td>2</td>\n",
       "    </tr>\n",
       "  </tbody>\n",
       "</table>\n",
       "<p>1687 rows × 5 columns</p>\n",
       "</div>"
      ],
      "text/plain": [
       "                                                  Title  \\\n",
       "0         3 Things Not to Do When Learning Data Science   \n",
       "1     Top 10 Machine Learning Algorithms You Should ...   \n",
       "2     A simple way to export your Medium's reading l...   \n",
       "3     Building a Plotly Dash App from Google Sheets ...   \n",
       "4                 Machine Learning | Sports Predictions   \n",
       "...                                                 ...   \n",
       "1682  Actually, Not a Ton of People Are Moving to Fl...   \n",
       "1683  Why We Should All Care About the Messy Busines...   \n",
       "1684  Why the Pandemic Is Causing You Motivation Par...   \n",
       "1685  The Key to Achieving Your Goals Is Controlled ...   \n",
       "1686  The 70–20–10 System Will Help You Make Really ...   \n",
       "\n",
       "                                               Subtitle             Author  \\\n",
       "0                 Avoid them to reach your goal faster.     Soner Yıldırım   \n",
       "1     Nowadays businesses are focusing on automation...       Nora Winkens   \n",
       "2                         In a few lines of Python code      Eryk Lewinson   \n",
       "3     A non-traditional Dashboard built with well kn...      Derrick Lewis   \n",
       "4     Let's start with an important question: What i...         Joe Sasson   \n",
       "...                                                 ...                ...   \n",
       "1682  It turns out it's mostly tech moguls who have ...     Marker Editors   \n",
       "1683  Marker readers weigh in on the relevance of st...     Marker Editors   \n",
       "1684  It's time to reset your brain by being nice to it  Allison Hirschlag   \n",
       "1685  3 strategies for making mistakes you can learn...       Kristin Wong   \n",
       "1686  Even you don't think you're aware of Jonathan ...         Amy Shearn   \n",
       "\n",
       "                                    Publication  Minutes  \n",
       "0                         Towards Data Science         4  \n",
       "1     Artificial Intelligence in Plain English         4  \n",
       "2                                 Geek Culture         5  \n",
       "3                         Towards Data Science        10  \n",
       "4                             Analytics Vidhya         6  \n",
       "...                                         ...      ...  \n",
       "1682                                    Marker         2  \n",
       "1683                                    Marker         2  \n",
       "1684                           The Bold Italic         5  \n",
       "1685                                     Forge         5  \n",
       "1686                                     Forge         2  \n",
       "\n",
       "[1687 rows x 5 columns]"
      ]
     },
     "execution_count": 11,
     "metadata": {},
     "output_type": "execute_result"
    }
   ],
   "source": [
    "import pandas as pd\n",
    "df = pd.DataFrame(data, columns = ['Title', 'Subtitle', 'Author', 'Publication', 'Minutes'])\n",
    "df['Minutes'] = df['Minutes'].astype(int)\n",
    "df"
   ]
  },
  {
   "cell_type": "code",
   "execution_count": 27,
   "id": "a2bf8033",
   "metadata": {},
   "outputs": [
    {
     "data": {
      "text/plain": [
       "<AxesSubplot:>"
      ]
     },
     "execution_count": 27,
     "metadata": {},
     "output_type": "execute_result"
    },
    {
     "data": {
      "image/png": "[encoded data removed]",
      "text/plain": [
       "<Figure size 432x288 with 1 Axes>"
      ]
     },
     "metadata": {
      "needs_background": "light"
     },
     "output_type": "display_data"
    }
   ],
   "source": [
    "df['Publication'].value_counts().iloc[:10].plot.bar()"
   ]
  },
  {
   "cell_type": "code",
   "execution_count": 29,
   "id": "552c554c",
   "metadata": {},
   "outputs": [
    {
     "name": "stdout",
     "output_type": "stream",
     "text": [
      "Collecting gensim\n",
      "  Downloading gensim-4.0.1-cp38-cp38-macosx_10_9_x86_64.whl (23.9 MB)\n",
      "\u001b[K     |████████████████████████████████| 23.9 MB 12.1 MB/s eta 0:00:01\n",
      "\u001b[?25hCollecting smart-open>=1.8.1\n",
      "  Downloading smart_open-5.1.0-py3-none-any.whl (57 kB)\n",
      "\u001b[K     |████████████████████████████████| 57 kB 6.7 MB/s eta 0:00:01\n",
      "\u001b[?25hRequirement already satisfied: scipy>=0.18.1 in /Users/sejaldua/opt/anaconda3/lib/python3.8/site-packages (from gensim) (1.6.2)\n",
      "Requirement already satisfied: numpy>=1.11.3 in /Users/sejaldua/opt/anaconda3/lib/python3.8/site-packages (from gensim) (1.19.5)\n",
      "Installing collected packages: smart-open, gensim\n",
      "Successfully installed gensim-4.0.1 smart-open-5.1.0\n"
     ]
    }
   ],
   "source": [
    "!pip install gensim"
   ]
  },
  {
   "cell_type": "markdown",
   "id": "f9bee461",
   "metadata": {},
   "source": [
    "## Data Preprocessing"
   ]
  },
  {
   "cell_type": "markdown",
   "id": "6c6e7f48",
   "metadata": {},
   "source": [
    "### Lemmatization and Stemming"
   ]
  },
  {
   "cell_type": "code",
   "execution_count": 30,
   "id": "3977c129",
   "metadata": {},
   "outputs": [
    {
     "name": "stderr",
     "output_type": "stream",
     "text": [
      "/Users/sejaldua/opt/anaconda3/lib/python3.8/site-packages/gensim/similarities/__init__.py:15: UserWarning: The gensim.similarities.levenshtein submodule is disabled, because the optional Levenshtein package <https://pypi.org/project/python-Levenshtein/> is unavailable. Install Levenhstein (e.g. `pip install python-Levenshtein`) to suppress this warning.\n",
      "  warnings.warn(msg)\n",
      "[nltk_data] Downloading package wordnet to\n",
      "[nltk_data]     /Users/sejaldua/nltk_data...\n",
      "[nltk_data]   Unzipping corpora/wordnet.zip.\n"
     ]
    },
    {
     "data": {
      "text/plain": [
       "True"
      ]
     },
     "execution_count": 30,
     "metadata": {},
     "output_type": "execute_result"
    }
   ],
   "source": [
    "import gensim\n",
    "from gensim.utils import simple_preprocess\n",
    "from gensim.parsing.preprocessing import STOPWORDS\n",
    "from nltk.stem import WordNetLemmatizer, SnowballStemmer\n",
    "from nltk.stem.porter import *\n",
    "import numpy as np\n",
    "np.random.seed(2018)\n",
    "import nltk\n",
    "nltk.download('wordnet')"
   ]
  },
  {
   "cell_type": "code",
   "execution_count": 35,
   "id": "5bf3c7a3",
   "metadata": {},
   "outputs": [],
   "source": [
    "stemmer = SnowballStemmer('english')\n",
    "\n",
    "def lemmatize_stemming(text):\n",
    "    return stemmer.stem(WordNetLemmatizer().lemmatize(text, pos='v'))\n",
    "\n",
    "def preprocess(text):\n",
    "    result = []\n",
    "    for token in gensim.utils.simple_preprocess(text):\n",
    "        if token not in gensim.parsing.preprocessing.STOPWORDS and len(token) > 3:\n",
    "            result.append(lemmatize_stemming(token))\n",
    "    return result"
   ]
  },
  {
   "cell_type": "code",
   "execution_count": 38,
   "id": "1ab50215",
   "metadata": {},
   "outputs": [
    {
     "name": "stdout",
     "output_type": "stream",
     "text": [
      "original document: \n",
      "['Top', '10', 'Machine', 'Learning', 'Algorithms', 'You', 'Should', 'Know', 'in', '2021']\n",
      "\n",
      "tokenized and lemmatized document: \n",
      "['machin', 'learn', 'algorithm', 'know']\n"
     ]
    }
   ],
   "source": [
    "doc_sample = df['Title'].iloc[1]\n",
    "print('original document: ')\n",
    "words = []\n",
    "for word in doc_sample.split(' '):\n",
    "    words.append(word)\n",
    "print(words)\n",
    "print('\\ntokenized and lemmatized document: ')\n",
    "print(preprocess(doc_sample))"
   ]
  },
  {
   "cell_type": "code",
   "execution_count": 40,
   "id": "15b8cbfc",
   "metadata": {},
   "outputs": [
    {
     "data": {
      "text/html": [
       "<div>\n",
       "<style scoped>\n",
       "    .dataframe tbody tr th:only-of-type {\n",
       "        vertical-align: middle;\n",
       "    }\n",
       "\n",
       "    .dataframe tbody tr th {\n",
       "        vertical-align: top;\n",
       "    }\n",
       "\n",
       "    .dataframe thead th {\n",
       "        text-align: right;\n",
       "    }\n",
       "</style>\n",
       "<table border=\"1\" class=\"dataframe\">\n",
       "  <thead>\n",
       "    <tr style=\"text-align: right;\">\n",
       "      <th></th>\n",
       "      <th>Title</th>\n",
       "      <th>Subtitle</th>\n",
       "      <th>Titles_combined</th>\n",
       "    </tr>\n",
       "  </thead>\n",
       "  <tbody>\n",
       "    <tr>\n",
       "      <th>0</th>\n",
       "      <td>3 Things Not to Do When Learning Data Science</td>\n",
       "      <td>Avoid them to reach your goal faster.</td>\n",
       "      <td>3 Things Not to Do When Learning Data Science ...</td>\n",
       "    </tr>\n",
       "    <tr>\n",
       "      <th>1</th>\n",
       "      <td>Top 10 Machine Learning Algorithms You Should ...</td>\n",
       "      <td>Nowadays businesses are focusing on automation...</td>\n",
       "      <td>Top 10 Machine Learning Algorithms You Should ...</td>\n",
       "    </tr>\n",
       "    <tr>\n",
       "      <th>2</th>\n",
       "      <td>A simple way to export your Medium's reading l...</td>\n",
       "      <td>In a few lines of Python code</td>\n",
       "      <td>A simple way to export your Medium's reading l...</td>\n",
       "    </tr>\n",
       "    <tr>\n",
       "      <th>3</th>\n",
       "      <td>Building a Plotly Dash App from Google Sheets ...</td>\n",
       "      <td>A non-traditional Dashboard built with well kn...</td>\n",
       "      <td>Building a Plotly Dash App from Google Sheets ...</td>\n",
       "    </tr>\n",
       "    <tr>\n",
       "      <th>4</th>\n",
       "      <td>Machine Learning | Sports Predictions</td>\n",
       "      <td>Let's start with an important question: What i...</td>\n",
       "      <td>Machine Learning | Sports Predictions Let's st...</td>\n",
       "    </tr>\n",
       "  </tbody>\n",
       "</table>\n",
       "</div>"
      ],
      "text/plain": [
       "                                               Title  \\\n",
       "0      3 Things Not to Do When Learning Data Science   \n",
       "1  Top 10 Machine Learning Algorithms You Should ...   \n",
       "2  A simple way to export your Medium's reading l...   \n",
       "3  Building a Plotly Dash App from Google Sheets ...   \n",
       "4              Machine Learning | Sports Predictions   \n",
       "\n",
       "                                            Subtitle  \\\n",
       "0              Avoid them to reach your goal faster.   \n",
       "1  Nowadays businesses are focusing on automation...   \n",
       "2                      In a few lines of Python code   \n",
       "3  A non-traditional Dashboard built with well kn...   \n",
       "4  Let's start with an important question: What i...   \n",
       "\n",
       "                                     Titles_combined  \n",
       "0  3 Things Not to Do When Learning Data Science ...  \n",
       "1  Top 10 Machine Learning Algorithms You Should ...  \n",
       "2  A simple way to export your Medium's reading l...  \n",
       "3  Building a Plotly Dash App from Google Sheets ...  \n",
       "4  Machine Learning | Sports Predictions Let's st...  "
      ]
     },
     "execution_count": 40,
     "metadata": {},
     "output_type": "execute_result"
    }
   ],
   "source": [
    "df['Titles_combined'] = df[['Title', 'Subtitle']].agg(' '.join, axis=1)\n",
    "df[['Title', 'Subtitle', 'Titles_combined']].head()"
   ]
  },
  {
   "cell_type": "code",
   "execution_count": 84,
   "id": "4020ac44",
   "metadata": {},
   "outputs": [
    {
     "name": "stderr",
     "output_type": "stream",
     "text": [
      "/Users/sejaldua/opt/anaconda3/lib/python3.8/site-packages/ipykernel/ipkernel.py:287: DeprecationWarning: `should_run_async` will not call `transform_cell` automatically in the future. Please pass the result to `transformed_cell` argument and any exception that happen during thetransform in `preprocessing_exc_tuple` in IPython 7.17 and above.\n",
      "  and should_run_async(code)\n"
     ]
    },
    {
     "data": {
      "text/plain": [
       "0                         [thing, learn, data, scienc]\n",
       "1                     [machin, learn, algorithm, know]\n",
       "2    [simpl, export, medium, read, list, markdown, ...\n",
       "3                    [build, plot, dash, googl, sheet]\n",
       "4                      [machin, learn, sport, predict]\n",
       "5                                 [transform, pipelin]\n",
       "6       [deep, learn, fraud, detect, retail, transact]\n",
       "7                     [creat, predict, servic, python]\n",
       "8       [scrap, tutori, airbnb, websit, scrapi, scrap]\n",
       "9                [appl, upcom, massiv, septemb, event]\n",
       "Name: Title, dtype: object"
      ]
     },
     "execution_count": 84,
     "metadata": {},
     "output_type": "execute_result"
    }
   ],
   "source": [
    "# processed_docs = df['Titles_combined'].map(preprocess)\n",
    "processed_docs = df['Title'].map(preprocess)\n",
    "processed_docs[:10]"
   ]
  },
  {
   "cell_type": "markdown",
   "id": "89f7f660",
   "metadata": {},
   "source": [
    "### Bag of Words"
   ]
  },
  {
   "cell_type": "code",
   "execution_count": 85,
   "id": "a8a7b889",
   "metadata": {},
   "outputs": [
    {
     "name": "stdout",
     "output_type": "stream",
     "text": [
      "0 data\n",
      "1 learn\n",
      "2 scienc\n",
      "3 thing\n",
      "4 algorithm\n",
      "5 know\n",
      "6 machin\n",
      "7 export\n",
      "8 file\n",
      "9 list\n"
     ]
    },
    {
     "name": "stderr",
     "output_type": "stream",
     "text": [
      "/Users/sejaldua/opt/anaconda3/lib/python3.8/site-packages/ipykernel/ipkernel.py:287: DeprecationWarning: `should_run_async` will not call `transform_cell` automatically in the future. Please pass the result to `transformed_cell` argument and any exception that happen during thetransform in `preprocessing_exc_tuple` in IPython 7.17 and above.\n",
      "  and should_run_async(code)\n"
     ]
    }
   ],
   "source": [
    "dictionary = gensim.corpora.Dictionary(processed_docs)\n",
    "for k, v in list(dictionary.items())[:10]:\n",
    "    print(k, v)"
   ]
  },
  {
   "cell_type": "code",
   "execution_count": 86,
   "id": "eaa81864",
   "metadata": {},
   "outputs": [
    {
     "name": "stdout",
     "output_type": "stream",
     "text": [
      "Word 1 (\"learn\") appears 1 time.\n",
      "Word 3 (\"algorithm\") appears 1 time.\n",
      "Word 4 (\"know\") appears 1 time.\n",
      "Word 5 (\"machin\") appears 1 time.\n"
     ]
    },
    {
     "name": "stderr",
     "output_type": "stream",
     "text": [
      "/Users/sejaldua/opt/anaconda3/lib/python3.8/site-packages/ipykernel/ipkernel.py:287: DeprecationWarning: `should_run_async` will not call `transform_cell` automatically in the future. Please pass the result to `transformed_cell` argument and any exception that happen during thetransform in `preprocessing_exc_tuple` in IPython 7.17 and above.\n",
      "  and should_run_async(code)\n"
     ]
    }
   ],
   "source": [
    "dictionary.filter_extremes(no_below=15, no_above=0.5, keep_n=100000)\n",
    "bow_corpus = [dictionary.doc2bow(doc) for doc in processed_docs]\n",
    "bow_doc_1 = bow_corpus[1]\n",
    "\n",
    "for i in range(len(bow_doc_1)):\n",
    "    print(\"Word {} (\\\"{}\\\") appears {} time.\".format(bow_doc_1[i][0], \n",
    "                                                     dictionary[bow_doc_1[i][0]], \n",
    "                                                     bow_doc_1[i][1]))\n"
   ]
  },
  {
   "cell_type": "markdown",
   "id": "290f5441",
   "metadata": {},
   "source": [
    "### TF-IDF"
   ]
  },
  {
   "cell_type": "code",
   "execution_count": 87,
   "id": "3be266a4",
   "metadata": {},
   "outputs": [
    {
     "name": "stdout",
     "output_type": "stream",
     "text": [
      "[(0, 0.43639101195535224), (1, 0.5774775566529184), (2, 0.6899873594833161)]\n"
     ]
    },
    {
     "name": "stderr",
     "output_type": "stream",
     "text": [
      "/Users/sejaldua/opt/anaconda3/lib/python3.8/site-packages/ipykernel/ipkernel.py:287: DeprecationWarning: `should_run_async` will not call `transform_cell` automatically in the future. Please pass the result to `transformed_cell` argument and any exception that happen during thetransform in `preprocessing_exc_tuple` in IPython 7.17 and above.\n",
      "  and should_run_async(code)\n"
     ]
    }
   ],
   "source": [
    "from gensim import corpora, models\n",
    "\n",
    "tfidf = models.TfidfModel(bow_corpus)\n",
    "corpus_tfidf = tfidf[bow_corpus]\n",
    "print(corpus_tfidf[0])"
   ]
  },
  {
   "cell_type": "markdown",
   "id": "9acb494c",
   "metadata": {},
   "source": [
    "### Latent Dirichlet Allocation (LDA)"
   ]
  },
  {
   "cell_type": "code",
   "execution_count": 103,
   "id": "b5ce9192",
   "metadata": {},
   "outputs": [
    {
     "name": "stderr",
     "output_type": "stream",
     "text": [
      "/Users/sejaldua/opt/anaconda3/lib/python3.8/site-packages/ipykernel/ipkernel.py:287: DeprecationWarning: `should_run_async` will not call `transform_cell` automatically in the future. Please pass the result to `transformed_cell` argument and any exception that happen during thetransform in `preprocessing_exc_tuple` in IPython 7.17 and above.\n",
      "  and should_run_async(code)\n"
     ]
    }
   ],
   "source": [
    "lda_model = gensim.models.LdaMulticore(corpus_tfidf, num_topics=15, id2word=dictionary, passes=2, workers=4)"
   ]
  },
  {
   "cell_type": "code",
   "execution_count": 104,
   "id": "cb9c6e83",
   "metadata": {},
   "outputs": [
    {
     "name": "stdout",
     "output_type": "stream",
     "text": [
      "Topic: 0 Word: 0.138*\"work\" + 0.125*\"code\" + 0.098*\"panda\" + 0.053*\"python\" + 0.052*\"exampl\" + 0.051*\"effect\" + 0.049*\"trick\" + 0.038*\"dataset\" + 0.035*\"read\" + 0.035*\"react\"\n",
      "Topic: 1 Word: 0.100*\"scrap\" + 0.089*\"creat\" + 0.087*\"machin\" + 0.077*\"data\" + 0.067*\"scienc\" + 0.064*\"learn\" + 0.063*\"text\" + 0.058*\"python\" + 0.052*\"classif\" + 0.030*\"generat\"\n",
      "Topic: 2 Word: 0.129*\"scienc\" + 0.100*\"learn\" + 0.075*\"program\" + 0.070*\"data\" + 0.060*\"write\" + 0.058*\"deep\" + 0.050*\"explain\" + 0.045*\"imag\" + 0.042*\"machin\" + 0.028*\"beginn\"\n",
      "Topic: 3 Word: 0.093*\"process\" + 0.092*\"languag\" + 0.092*\"natur\" + 0.086*\"book\" + 0.057*\"text\" + 0.043*\"read\" + 0.038*\"method\" + 0.032*\"data\" + 0.027*\"summar\" + 0.023*\"librari\"\n",
      "Topic: 4 Word: 0.141*\"simpl\" + 0.085*\"time\" + 0.063*\"python\" + 0.052*\"probabl\" + 0.051*\"summar\" + 0.045*\"start\" + 0.032*\"tutori\" + 0.031*\"work\" + 0.029*\"visual\" + 0.025*\"data\"\n",
      "Topic: 5 Word: 0.150*\"plot\" + 0.125*\"introduct\" + 0.092*\"python\" + 0.065*\"scienc\" + 0.058*\"tutori\" + 0.053*\"data\" + 0.037*\"understand\" + 0.029*\"react\" + 0.028*\"learn\" + 0.027*\"project\"\n",
      "Topic: 6 Word: 0.181*\"data\" + 0.094*\"visual\" + 0.079*\"chang\" + 0.063*\"analysi\" + 0.063*\"extract\" + 0.062*\"featur\" + 0.049*\"want\" + 0.043*\"python\" + 0.042*\"sentiment\" + 0.029*\"probabl\"\n",
      "Topic: 7 Word: 0.120*\"statist\" + 0.097*\"react\" + 0.067*\"develop\" + 0.063*\"twitter\" + 0.058*\"compon\" + 0.058*\"data\" + 0.057*\"sentiment\" + 0.046*\"task\" + 0.046*\"analysi\" + 0.045*\"python\"\n",
      "Topic: 8 Word: 0.135*\"know\" + 0.096*\"scientist\" + 0.091*\"mathemat\" + 0.079*\"data\" + 0.069*\"product\" + 0.060*\"analysi\" + 0.055*\"exploratori\" + 0.051*\"python\" + 0.050*\"person\" + 0.047*\"need\"\n",
      "Topic: 9 Word: 0.169*\"model\" + 0.089*\"topic\" + 0.075*\"regress\" + 0.061*\"python\" + 0.059*\"detect\" + 0.057*\"data\" + 0.046*\"project\" + 0.039*\"scienc\" + 0.033*\"machin\" + 0.030*\"linear\"\n",
      "Topic: 10 Word: 0.160*\"guid\" + 0.063*\"project\" + 0.057*\"scientist\" + 0.057*\"machin\" + 0.052*\"statist\" + 0.046*\"data\" + 0.045*\"featur\" + 0.039*\"python\" + 0.032*\"analysi\" + 0.031*\"learn\"\n",
      "Topic: 11 Word: 0.216*\"build\" + 0.124*\"year\" + 0.085*\"python\" + 0.053*\"use\" + 0.040*\"learn\" + 0.036*\"react\" + 0.035*\"method\" + 0.032*\"explain\" + 0.030*\"notebook\" + 0.022*\"deep\"\n",
      "Topic: 12 Word: 0.078*\"jupyt\" + 0.071*\"notebook\" + 0.061*\"predict\" + 0.061*\"start\" + 0.058*\"librari\" + 0.058*\"understand\" + 0.050*\"tree\" + 0.046*\"decis\" + 0.042*\"use\" + 0.040*\"visual\"\n",
      "Topic: 13 Word: 0.392*\"python\" + 0.113*\"word\" + 0.054*\"time\" + 0.047*\"best\" + 0.037*\"intellig\" + 0.037*\"generat\" + 0.035*\"googl\" + 0.029*\"dataset\" + 0.029*\"trend\" + 0.016*\"build\"\n",
      "Topic: 14 Word: 0.167*\"learn\" + 0.131*\"algorithm\" + 0.066*\"network\" + 0.055*\"import\" + 0.052*\"machin\" + 0.039*\"get\" + 0.029*\"start\" + 0.028*\"googl\" + 0.026*\"build\" + 0.026*\"know\"\n"
     ]
    },
    {
     "name": "stderr",
     "output_type": "stream",
     "text": [
      "/Users/sejaldua/opt/anaconda3/lib/python3.8/site-packages/ipykernel/ipkernel.py:287: DeprecationWarning: `should_run_async` will not call `transform_cell` automatically in the future. Please pass the result to `transformed_cell` argument and any exception that happen during thetransform in `preprocessing_exc_tuple` in IPython 7.17 and above.\n",
      "  and should_run_async(code)\n"
     ]
    }
   ],
   "source": [
    "for idx, topic in lda_model.print_topics(-1):\n",
    "    print('Topic: {} Word: {}'.format(idx, topic))"
   ]
  },
  {
   "cell_type": "code",
   "execution_count": 105,
   "id": "c5fa5d9e",
   "metadata": {},
   "outputs": [
    {
     "name": "stderr",
     "output_type": "stream",
     "text": [
      "/Users/sejaldua/opt/anaconda3/lib/python3.8/site-packages/ipykernel/ipkernel.py:287: DeprecationWarning: `should_run_async` will not call `transform_cell` automatically in the future. Please pass the result to `transformed_cell` argument and any exception that happen during thetransform in `preprocessing_exc_tuple` in IPython 7.17 and above.\n",
      "  and should_run_async(code)\n"
     ]
    },
    {
     "data": {
      "text/html": [
       "\n",
       "<link rel=\"stylesheet\" type=\"text/css\" href=\"https://cdn.jsdelivr.net/gh/bmabey/pyLDAvis@3.2.2/pyLDAvis/js/ldavis.v1.0.0.css\">\n",
       "\n",
       "\n",
       "<div id=\"ldavis_el458791403277814084327525795437\"></div>\n",
       "<script type=\"text/javascript\">\n",
       "\n",
       "var ldavis_el458791403277814084327525795437_data = {\"mdsDat\": {\"x\": [-0.035068341531196597, -0.14953741808408275, -0.02950750137161619, 0.057140245599683455, -0.07219098401635038, -0.045979847539886376, 0.10601626532214954, -0.11435517623393336, -0.0532454569303154, -0.003972476239771135, 0.22577079513120935, 0.0033626314530822553, 0.14395024151622388, 0.07339134648324519, -0.10577432355844121], \"y\": [0.21000563400358513, -0.08686488854699681, 0.08625556911340924, 0.15388695030122057, 0.040791221758694166, -0.1304113125271186, -0.10669598985569881, -0.08333492365111325, 0.05520753599274137, -0.10507421964394656, -0.09087795941916267, 0.017400903402789544, 0.056795750497824475, -0.000805814491724354, -0.01627845693450345], \"topics\": [1, 2, 3, 4, 5, 6, 7, 8, 9, 10, 11, 12, 13, 14, 15], \"cluster\": [1, 1, 1, 1, 1, 1, 1, 1, 1, 1, 1, 1, 1, 1, 1], \"Freq\": [8.514203358005222, 7.863388171025508, 7.789293487169753, 7.494687425781062, 7.427903256957675, 7.27787632678066, 7.21037398962032, 7.094204130644055, 7.085472638399145, 6.960362027571057, 6.375302481618585, 5.011568865035235, 4.723721664278266, 4.603025184123372, 4.568616992990081]}, \"tinfo\": {\"Term\": [\"python\", \"build\", \"guid\", \"learn\", \"model\", \"plot\", \"statist\", \"scienc\", \"work\", \"algorithm\", \"simpl\", \"word\", \"year\", \"react\", \"introduct\", \"know\", \"code\", \"time\", \"machin\", \"scientist\", \"panda\", \"data\", \"languag\", \"mathemat\", \"book\", \"natur\", \"topic\", \"scrap\", \"notebook\", \"featur\", \"program\", \"deep\", \"imag\", \"write\", \"scienc\", \"explain\", \"beginn\", \"detect\", \"learn\", \"best\", \"languag\", \"googl\", \"machin\", \"network\", \"process\", \"code\", \"data\", \"project\", \"model\", \"tweet\", \"read\", \"generat\", \"natur\", \"build\", \"use\", \"extract\", \"simpl\", \"task\", \"want\", \"exploratori\", \"know\", \"python\", \"book\", \"visual\", \"product\", \"exploratori\", \"mathemat\", \"know\", \"person\", \"scientist\", \"need\", \"analysi\", \"network\", \"understand\", \"librari\", \"write\", \"data\", \"year\", \"creat\", \"featur\", \"trick\", \"scrap\", \"beginn\", \"sentiment\", \"import\", \"python\", \"visual\", \"read\", \"classif\", \"detect\", \"compon\", \"summar\", \"scienc\", \"text\", \"natur\", \"learn\", \"scrap\", \"creat\", \"classif\", \"text\", \"generat\", \"machin\", \"autom\", \"scienc\", \"person\", \"tutori\", \"predict\", \"learn\", \"intellig\", \"effect\", \"googl\", \"linear\", \"data\", \"import\", \"plot\", \"project\", \"summar\", \"word\", \"write\", \"understand\", \"simpl\", \"python\", \"model\", \"tree\", \"decis\", \"scientist\", \"dataset\", \"code\", \"start\", \"know\", \"algorithm\", \"import\", \"get\", \"network\", \"learn\", \"googl\", \"start\", \"machin\", \"autom\", \"explain\", \"exampl\", \"best\", \"intellig\", \"plot\", \"predict\", \"dataset\", \"build\", \"generat\", \"twitter\", \"know\", \"classif\", \"want\", \"book\", \"year\", \"guid\", \"introduct\", \"program\", \"simpl\", \"deep\", \"task\", \"jupyt\", \"work\", \"analysi\", \"data\", \"python\", \"visual\", \"book\", \"natur\", \"languag\", \"process\", \"method\", \"read\", \"summar\", \"text\", \"intellig\", \"linear\", \"extract\", \"librari\", \"mathemat\", \"panda\", \"scientist\", \"simpl\", \"explain\", \"tweet\", \"beginn\", \"chang\", \"trick\", \"tutori\", \"classif\", \"project\", \"program\", \"analysi\", \"guid\", \"creat\", \"year\", \"data\", \"scienc\", \"machin\", \"python\", \"learn\", \"know\", \"visual\", \"statist\", \"develop\", \"twitter\", \"compon\", \"task\", \"react\", \"sentiment\", \"tweet\", \"classif\", \"trend\", \"analysi\", \"creat\", \"work\", \"visual\", \"autom\", \"data\", \"need\", \"exploratori\", \"network\", \"librari\", \"build\", \"method\", \"python\", \"scientist\", \"text\", \"imag\", \"predict\", \"scienc\", \"intellig\", \"process\", \"know\", \"scrap\", \"notebook\", \"jupyt\", \"tree\", \"decis\", \"predict\", \"use\", \"understand\", \"trend\", \"start\", \"librari\", \"need\", \"best\", \"visual\", \"dataset\", \"task\", \"topic\", \"featur\", \"imag\", \"scrap\", \"code\", \"algorithm\", \"text\", \"analysi\", \"person\", \"linear\", \"model\", \"import\", \"panda\", \"python\", \"probabl\", \"know\", \"data\", \"chang\", \"extract\", \"want\", \"featur\", \"visual\", \"probabl\", \"sentiment\", \"data\", \"analysi\", \"autom\", \"effect\", \"tweet\", \"exampl\", \"creat\", \"text\", \"project\", \"get\", \"process\", \"work\", \"scienc\", \"task\", \"scientist\", \"mathemat\", \"regress\", \"beginn\", \"trend\", \"python\", \"linear\", \"learn\", \"twitter\", \"code\", \"write\", \"plot\", \"topic\", \"model\", \"regress\", \"detect\", \"linear\", \"tweet\", \"project\", \"understand\", \"machin\", \"person\", \"scienc\", \"product\", \"data\", \"twitter\", \"introduct\", \"know\", \"guid\", \"python\", \"explain\", \"learn\", \"build\", \"get\", \"jupyt\", \"react\", \"exploratori\", \"probabl\", \"sentiment\", \"statist\", \"task\", \"dataset\", \"scrap\", \"classif\", \"text\", \"scientist\", \"plot\", \"analysi\", \"panda\", \"work\", \"effect\", \"code\", \"trick\", \"exampl\", \"read\", \"dataset\", \"beginn\", \"guid\", \"react\", \"regress\", \"write\", \"want\", \"linear\", \"develop\", \"know\", \"compon\", \"autom\", \"plot\", \"need\", \"build\", \"python\", \"visual\", \"librari\", \"generat\", \"extract\", \"featur\", \"data\", \"scientist\", \"model\", \"scrap\", \"creat\", \"word\", \"intellig\", \"python\", \"time\", \"generat\", \"best\", \"trend\", \"googl\", \"dataset\", \"chang\", \"predict\", \"decis\", \"scrap\", \"autom\", \"librari\", \"build\", \"tweet\", \"tree\", \"classif\", \"creat\", \"effect\", \"visual\", \"analysi\", \"topic\", \"import\", \"want\", \"process\", \"trick\", \"detect\", \"compon\", \"algorithm\", \"panda\", \"react\", \"data\", \"code\", \"introduct\", \"plot\", \"tutori\", \"understand\", \"compon\", \"get\", \"develop\", \"scienc\", \"project\", \"react\", \"beginn\", \"time\", \"exampl\", \"deep\", \"creat\", \"python\", \"topic\", \"linear\", \"guid\", \"data\", \"read\", \"panda\", \"learn\", \"analysi\", \"sentiment\", \"word\", \"scrap\", \"trend\", \"tweet\", \"googl\", \"machin\", \"model\", \"visual\", \"year\", \"build\", \"use\", \"method\", \"notebook\", \"explain\", \"deep\", \"react\", \"detect\", \"tree\", \"jupyt\", \"decis\", \"want\", \"write\", \"python\", \"code\", \"learn\", \"time\", \"twitter\", \"introduct\", \"get\", \"develop\", \"generat\", \"tweet\", \"languag\", \"algorithm\", \"model\", \"imag\", \"start\", \"sentiment\", \"analysi\", \"data\", \"text\", \"machin\", \"simpl\", \"time\", \"summar\", \"probabl\", \"tutori\", \"start\", \"trick\", \"explain\", \"work\", \"task\", \"visual\", \"program\", \"mathemat\", \"languag\", \"read\", \"imag\", \"panda\", \"import\", \"best\", \"introduct\", \"chang\", \"analysi\", \"develop\", \"natur\", \"tree\", \"process\", \"dataset\", \"decis\", \"python\", \"network\", \"machin\", \"learn\", \"data\", \"guid\", \"project\", \"featur\", \"statist\", \"probabl\", \"scientist\", \"method\", \"machin\", \"librari\", \"product\", \"start\", \"panda\", \"sentiment\", \"autom\", \"effect\", \"analysi\", \"use\", \"dataset\", \"exploratori\", \"classif\", \"person\", \"intellig\", \"data\", \"extract\", \"learn\", \"googl\", \"tutori\", \"code\", \"task\", \"mathemat\", \"text\", \"python\", \"know\", \"model\", \"process\", \"scienc\"], \"Freq\": [128.0, 34.0, 24.0, 68.0, 35.0, 23.0, 23.0, 51.0, 30.0, 24.0, 18.0, 17.0, 16.0, 26.0, 18.0, 36.0, 29.0, 17.0, 42.0, 29.0, 20.0, 98.0, 20.0, 21.0, 15.0, 17.0, 18.0, 24.0, 13.0, 16.0, 11.849350695847505, 9.210628248678042, 7.1090846326449215, 9.459922796066083, 20.400047713716532, 7.8402623025425235, 4.429504369089019, 4.339423388469787, 15.722582684947575, 4.052271977712035, 3.7066317101048156, 2.3700782868718777, 6.642830247403726, 2.274714145537634, 2.564742009201671, 3.4910413734665338, 11.011884662158925, 2.0588414026204633, 2.6009485838733823, 0.9159171440619831, 0.9853381701837459, 0.8358942565850518, 1.0765601810704943, 1.9260093503892046, 0.6910202770048433, 0.6946319575136964, 0.8784851409982405, 0.4857628240895056, 0.48576102133967947, 0.4857596600796067, 1.3393495250041143, 4.258126876636085, 0.5563609722661209, 0.758952967586459, 10.054768368916413, 8.011498412571756, 13.257001085874947, 19.69803615800941, 7.302941964540067, 14.034771062451433, 6.870657373937785, 8.697000537791821, 2.810090407179798, 2.8272417012434, 3.0373292874667444, 2.6511696522005894, 11.550663702070723, 1.6257323362990594, 2.548556821793539, 1.201199344485365, 0.8404140207307412, 1.7137833113906038, 1.0084681469650771, 1.3124873111727788, 0.7491723221429598, 7.508286142601089, 1.622617724796258, 0.7235354922112133, 0.9518292031786116, 0.6905844356245856, 0.5119158123342941, 0.4034907439142484, 1.7748909126345165, 0.9245365296468201, 0.5550771909045935, 0.606951489923426, 14.38495917939632, 12.796249442986207, 7.555695701037857, 9.084750371340423, 4.333606688339779, 12.531791377271347, 2.50429030353103, 9.66670567432639, 2.6545378881055695, 2.0469284240499817, 2.571778082565021, 9.297822565968922, 1.4642374831350713, 1.5433845309550334, 1.8185260412045865, 1.3421852686178573, 11.116365840272868, 1.3080980634495427, 2.2936738255613793, 2.0073137022618424, 0.9916107800444642, 1.3903684758949753, 1.5878400034267706, 1.3629779454312125, 1.2121705543946402, 8.353780458185714, 2.091148826275757, 0.600001319955181, 0.5925178465579592, 1.607222931932298, 0.8409697288067955, 1.1410821346630506, 0.9417754839997637, 1.0359490539771925, 18.166603885310483, 7.642542037118211, 5.411254167929786, 9.222039839409646, 23.20195197405399, 3.90284147964163, 4.093317210161867, 7.187846752585509, 1.7292955626220403, 3.1633378352430506, 1.9182630416036002, 2.649331980669672, 1.5546741556709596, 2.9141992421195138, 2.3358376947342356, 1.9273609993519825, 3.599276289638219, 1.3236674845493743, 1.3275050215743498, 3.5713339317067696, 1.7299104960630869, 0.9885417133278348, 1.1137138959723145, 1.1185489024508515, 1.6163290380104813, 1.1705984130355493, 1.014041566512933, 1.108694163332637, 0.7872806824141024, 0.6697410842116818, 0.8621758058762682, 1.558332148194294, 1.6267270741271682, 2.6223173988715223, 2.577796321372953, 1.1276206928187638, 11.851551272678352, 12.63983919369903, 12.707838169336757, 12.77252064784686, 5.233123311105336, 5.919655163628274, 3.6872443255685416, 7.815682911095934, 2.455302760144264, 2.083406882273615, 2.412711090002353, 3.13319056193135, 2.999107376766201, 2.3626929929538854, 2.965208801255417, 1.6764443625068042, 1.7297622663520411, 1.0542862815667726, 1.155785511550121, 1.125634942413086, 0.8562732876194028, 0.9398476158154301, 1.425598447212633, 1.4369528792918282, 1.0040881215258346, 2.101233439496065, 1.2074048532631794, 1.301203485558923, 0.7513112633391491, 4.363903719004858, 1.9599012584800413, 1.6442485859044926, 3.057226446862001, 1.9616570812857612, 1.4419461127343598, 1.2228364763954052, 16.253522401150075, 9.063604681575178, 8.528290708380835, 7.8284250630857155, 6.257259154321095, 13.138677082064925, 7.662256686128262, 2.8134619470449294, 4.382120529229773, 2.133154254153854, 6.223492514788866, 3.5888548303394705, 3.3219110958849507, 3.3452297865706035, 0.9828993794738434, 7.814749239463047, 1.1711147323839453, 0.9589675686923732, 1.1505565916578153, 1.3062971468132827, 1.9579322293637837, 0.6208573091398603, 6.126323168918124, 1.4049268355630447, 1.2466051127329612, 0.5208898008950186, 0.7976671061600106, 1.9120065906067858, 0.4231579984735129, 0.8000600230706973, 1.2155685810053125, 0.6751663022476195, 9.531674486145093, 10.38998860400763, 6.670720481645366, 6.204405048890447, 8.150007512173328, 5.66448773061494, 7.771737769164521, 4.200276115410513, 8.127260539480199, 7.821050793178921, 4.008294756637256, 3.2759848095365145, 5.335965213093592, 2.4954149390090183, 1.6190722375951545, 2.3054762214939273, 2.015457429375357, 1.3450999566319457, 2.344045126968579, 2.7188006296968643, 2.190205700579647, 2.041299396150566, 2.9001824375850087, 0.9644843541721045, 0.769709910923108, 2.0734190887010233, 0.5187480647408724, 0.860299430568003, 5.268761194054348, 0.4777299837930373, 1.4027205110690455, 3.38588090326244, 10.361694723866195, 8.25259076813695, 6.447994329149388, 8.110803062391653, 12.312923804645875, 3.792943134947186, 5.566538702775852, 23.852721770822438, 8.278737138939146, 2.0756563379141886, 1.829470879196174, 1.8220699426458051, 1.4150474931632027, 2.2064762326237415, 2.105348370052942, 1.6962573320121817, 0.7657282739512715, 1.4743218131158988, 1.9575826027797356, 2.8215467004494994, 0.6376530909361943, 1.4898049593659621, 1.051099629858996, 0.7620368181988508, 0.7108027721256425, 0.5068261149587557, 5.6221127383824, 0.4578645734349448, 2.3968795706858192, 0.46567426161297343, 0.9887931784382428, 0.611036229659921, 0.5814695758140377, 11.76334040102588, 22.25966936664056, 9.859178587183429, 7.716962132979492, 3.9977085758307664, 3.5491074209219993, 6.100535506204388, 2.3871486771269477, 4.38444504403793, 1.4968437897579516, 5.082709132706748, 1.162935429590987, 7.556404540665867, 1.0238376143261916, 1.2797270884294347, 2.3521577297288347, 1.54515722128638, 7.985266967490104, 1.10657851596783, 3.8232464068992926, 1.864372553029322, 0.48102755197336433, 0.7343788064573394, 1.1822727061345673, 0.5684589948042612, 0.5461149343962405, 0.8626620462725931, 1.0070615202340725, 0.45545222305338584, 0.6552333332291276, 0.9389898881394143, 0.7858332472586529, 0.9205212802291347, 0.9379045728386518, 0.7956529503491623, 0.9387652197892395, 12.6325369902498, 17.782496840395133, 6.629682393222183, 16.09957799300039, 6.337385561656918, 6.7062253831842655, 4.565001900533679, 4.882905136256348, 4.216334503051625, 4.5430706031878385, 4.549725929520681, 2.268380157190356, 2.763504194353537, 1.5264781354606085, 1.1787955626596947, 1.2296776498593718, 3.217430173477601, 1.0754457555584813, 0.6811908163681114, 1.4354279296421952, 0.8792051214308044, 1.9327451446623487, 6.859028403463913, 1.673415156885175, 0.9007448228400322, 0.4119052087001465, 0.3769052240734173, 0.370759122840635, 2.1779257065418673, 0.646638640643089, 0.6099565680020029, 0.469094697363639, 0.4418657566476769, 13.349614597288355, 4.3516259073366745, 46.434557887766445, 6.337877315472655, 4.323061977705854, 5.547576272247128, 3.3982591357809375, 4.165311545150875, 3.478061740922436, 1.856604736973217, 1.825541948351292, 0.8858314626696818, 1.8403536135313996, 0.6935325442208234, 1.3364042678742747, 1.914858774251751, 0.6274070515332157, 0.5016560527218438, 0.8744415274093951, 1.110624969550886, 0.4220149086702915, 1.0852470658498534, 1.3148120633679943, 0.5227262153147161, 0.33114606180320505, 0.3180094762296825, 0.4731097540580196, 0.2517645888374463, 0.33871792851526994, 0.2765959325615913, 0.47700289195790574, 0.3684483394516019, 0.4220147433799759, 0.7105501739528081, 0.38886753368490506, 11.64600421525757, 13.912153820516695, 5.391592172506006, 3.4167619323477356, 1.7505526229593527, 1.3221339245975139, 1.6778806072771666, 6.07739756022341, 2.4734193059439864, 2.7076581261592656, 1.563520979493271, 1.6219183546012435, 1.0867015375071913, 1.14193581746972, 1.974108504241088, 8.55376739050862, 1.1272869691227954, 0.667783472085903, 1.374878596783309, 4.887184002610295, 0.7576648874486572, 0.950514162447852, 2.6103803902222737, 1.4830056728416643, 0.7398234924186216, 0.6093809862699235, 0.8611302182051626, 0.3796548779136817, 0.39189459047943964, 0.42792807039317315, 1.2217033149310919, 1.0144847213263009, 0.8267975212806178, 10.896245339295342, 18.929472539658487, 4.632588448618888, 3.0612649560964864, 2.601941589379443, 2.776248068322374, 1.946932668483344, 3.1634907832604884, 1.7258239052401574, 1.1061369808824206, 1.6116595063124732, 1.0920675068984136, 0.8999931947288207, 1.2495877931907569, 7.4695729863263685, 1.624149194593539, 3.495543465444444, 0.8998903196455756, 0.6548285629128545, 0.7596554150982323, 0.4199574404679037, 0.5435080885086524, 0.5081950731283512, 0.48250634837317874, 0.725766076564393, 0.8534768378424726, 1.079469146604809, 0.3541326959833009, 0.668854682397494, 0.5776240379897508, 0.8827963998610594, 1.2215718870881795, 0.6677128506203668, 0.7474755767702734, 12.017095588929756, 7.278648766815516, 4.37115284787232, 4.476510017741734, 2.775544464498202, 3.86099518904621, 1.8800882404498276, 1.8344507792524631, 2.649969006169712, 0.9611801415914515, 2.4413695494951346, 1.1665320092283498, 1.5177529676548416, 1.427627538545504, 1.0320897473161808, 0.721618516802535, 1.1684358972626392, 0.6586649830974014, 1.005647980641215, 0.9721612713143378, 0.8086551600717049, 2.10905126345856, 0.7066017491084289, 0.8547200214579619, 0.510758063801069, 1.0287688032944813, 0.8006638426530623, 0.5046100489282865, 5.423354510964677, 0.7040836523142269, 1.405475128978463, 1.7951261429597674, 2.132431454059665, 13.555629734927678, 5.3668530167261785, 3.824879949090814, 4.419548211190225, 2.1276144111167645, 4.86586527174008, 1.4612091760638521, 4.85543670673169, 2.566686815529219, 1.4229542582877426, 2.2105509730423543, 1.8293028389955042, 1.5315415019192102, 0.7918455590183126, 0.8763865520064206, 2.6738646741029135, 0.9218912587095294, 1.1097524635410358, 0.8138803089009902, 1.196065058600588, 0.7620014671763982, 0.5417020191568639, 3.918749036997378, 0.5455106280049953, 2.6088124883905994, 0.4998569124715404, 0.44937407106876814, 0.966144196478538, 0.3677162449641696, 0.6628970128452882, 0.8154453359325905, 3.2694786329443626, 1.060010678507306, 0.7480792097032481, 0.6105328066396561, 0.6106000461833974], \"Total\": [128.0, 34.0, 24.0, 68.0, 35.0, 23.0, 23.0, 51.0, 30.0, 24.0, 18.0, 17.0, 16.0, 26.0, 18.0, 36.0, 29.0, 17.0, 42.0, 29.0, 20.0, 98.0, 20.0, 21.0, 15.0, 17.0, 18.0, 24.0, 13.0, 16.0, 16.44431225444428, 14.003129421944106, 11.579474427808693, 19.97147740382, 51.352031164309786, 19.82847204075957, 15.197968789379718, 15.922832071130626, 68.61537876207004, 18.34236404096381, 20.83812375750815, 14.569868947361822, 42.0651811039644, 17.55912096205339, 21.75231353559355, 29.889676263361988, 98.3233040378429, 22.233447042886297, 35.071812611909635, 12.691888476206483, 15.260300663248485, 13.200113001324556, 17.620213253385796, 34.752517863766094, 13.910003776543874, 14.189288784442871, 18.630349083087154, 11.912566592135445, 12.11835212600674, 12.771900597514405, 36.96008625796921, 128.7674401264772, 15.662585001612776, 33.00018619170665, 13.760673363362915, 12.771900597514405, 21.481855847869735, 36.96008625796921, 14.433344431376197, 29.919331714650337, 15.24577754179303, 40.28220419693552, 17.55912096205339, 19.448358962865758, 22.305502570094944, 19.97147740382, 98.3233040378429, 16.43510208951305, 28.38224943856701, 16.168475034469687, 11.78245104301812, 24.799350961370838, 15.197968789379718, 20.294272776633306, 11.991007925506008, 128.7674401264772, 33.00018619170665, 15.260300663248485, 21.002565874463254, 15.922832071130626, 13.133650132862257, 11.294379061690107, 51.352031164309786, 27.518167681429514, 17.620213253385796, 68.61537876207004, 24.799350961370838, 28.38224943856701, 21.002565874463254, 27.518167681429514, 13.200113001324556, 42.0651811039644, 10.776583834263885, 51.352031164309786, 14.433344431376197, 13.105219707769033, 18.669679056459582, 68.61537876207004, 11.384097719131438, 12.090329086468083, 14.569868947361822, 11.56667431047735, 98.3233040378429, 11.991007925506008, 23.09982150741604, 22.233447042886297, 11.294379061690107, 17.13344743572105, 19.97147740382, 19.448358962865758, 18.630349083087154, 128.7674401264772, 35.071812611909635, 10.734464744159302, 10.941572711982959, 29.919331714650337, 17.2491607990033, 29.889676263361988, 22.602968451462317, 36.96008625796921, 24.602615789166368, 11.991007925506008, 10.222167243404018, 17.55912096205339, 68.61537876207004, 14.569868947361822, 22.602968451462317, 42.0651811039644, 10.776583834263885, 19.82847204075957, 12.550190238598805, 18.34236404096381, 11.384097719131438, 23.09982150741604, 18.669679056459582, 17.2491607990033, 34.752517863766094, 13.200113001324556, 13.48532843674372, 36.96008625796921, 21.002565874463254, 12.11835212600674, 15.662585001612776, 16.43510208951305, 24.84249260542645, 18.000063615086184, 16.44431225444428, 18.630349083087154, 14.003129421944106, 11.912566592135445, 15.722148001685282, 30.196174841874093, 40.28220419693552, 98.3233040378429, 128.7674401264772, 33.00018619170665, 15.662585001612776, 17.620213253385796, 20.83812375750815, 21.75231353559355, 12.267990636347617, 15.260300663248485, 11.294379061690107, 27.518167681429514, 11.384097719131438, 11.56667431047735, 14.189288784442871, 22.305502570094944, 21.481855847869735, 20.897777412578396, 29.919331714650337, 18.630349083087154, 19.82847204075957, 12.691888476206483, 15.197968789379718, 15.240531799523032, 11.78245104301812, 13.105219707769033, 21.002565874463254, 22.233447042886297, 16.44431225444428, 40.28220419693552, 24.84249260542645, 28.38224943856701, 16.43510208951305, 98.3233040378429, 51.352031164309786, 42.0651811039644, 128.7674401264772, 68.61537876207004, 36.96008625796921, 33.00018619170665, 23.71562393219025, 14.089177054196272, 13.48532843674372, 13.133650132862257, 11.912566592135445, 26.190704842258743, 20.294272776633306, 12.691888476206483, 21.002565874463254, 11.503100339075962, 40.28220419693552, 28.38224943856701, 30.196174841874093, 33.00018619170665, 10.776583834263885, 98.3233040378429, 15.24577754179303, 12.771900597514405, 17.55912096205339, 22.305502570094944, 34.752517863766094, 12.267990636347617, 128.7674401264772, 29.919331714650337, 27.518167681429514, 11.579474427808693, 18.669679056459582, 51.352031164309786, 11.384097719131438, 21.75231353559355, 36.96008625796921, 24.799350961370838, 13.801667690125463, 15.722148001685282, 10.734464744159302, 10.941572711982959, 18.669679056459582, 13.910003776543874, 19.448358962865758, 11.503100339075962, 22.602968451462317, 22.305502570094944, 15.24577754179303, 18.34236404096381, 33.00018619170665, 17.2491607990033, 11.912566592135445, 18.196450545133498, 16.168475034469687, 11.579474427808693, 24.799350961370838, 29.889676263361988, 24.602615789166368, 27.518167681429514, 40.28220419693552, 14.433344431376197, 11.56667431047735, 35.071812611909635, 11.991007925506008, 20.897777412578396, 128.7674401264772, 12.473857505987853, 36.96008625796921, 98.3233040378429, 15.240531799523032, 14.189288784442871, 12.11835212600674, 16.168475034469687, 33.00018619170665, 12.473857505987853, 20.294272776633306, 98.3233040378429, 40.28220419693552, 10.776583834263885, 12.090329086468083, 12.691888476206483, 12.550190238598805, 28.38224943856701, 27.518167681429514, 22.233447042886297, 10.222167243404018, 21.75231353559355, 30.196174841874093, 51.352031164309786, 11.912566592135445, 29.919331714650337, 21.481855847869735, 16.009804313353936, 15.197968789379718, 11.503100339075962, 128.7674401264772, 11.56667431047735, 68.61537876207004, 13.48532843674372, 29.889676263361988, 19.97147740382, 23.09982150741604, 18.196450545133498, 35.071812611909635, 16.009804313353936, 15.922832071130626, 11.56667431047735, 12.691888476206483, 22.233447042886297, 19.448358962865758, 42.0651811039644, 14.433344431376197, 51.352031164309786, 13.760673363362915, 98.3233040378429, 13.48532843674372, 18.000063615086184, 36.96008625796921, 24.84249260542645, 128.7674401264772, 19.82847204075957, 68.61537876207004, 34.752517863766094, 10.222167243404018, 15.722148001685282, 26.190704842258743, 12.771900597514405, 12.473857505987853, 20.294272776633306, 23.71562393219025, 11.912566592135445, 17.2491607990033, 24.799350961370838, 21.002565874463254, 27.518167681429514, 29.919331714650337, 23.09982150741604, 40.28220419693552, 20.897777412578396, 30.196174841874093, 12.090329086468083, 29.889676263361988, 11.78245104301812, 12.550190238598805, 15.260300663248485, 17.2491607990033, 15.197968789379718, 24.84249260542645, 26.190704842258743, 16.009804313353936, 19.97147740382, 12.11835212600674, 11.56667431047735, 14.089177054196272, 36.96008625796921, 13.133650132862257, 10.776583834263885, 23.09982150741604, 15.24577754179303, 34.752517863766094, 128.7674401264772, 33.00018619170665, 22.305502570094944, 13.200113001324556, 14.189288784442871, 16.168475034469687, 98.3233040378429, 29.919331714650337, 35.071812611909635, 24.799350961370838, 28.38224943856701, 17.13344743572105, 11.384097719131438, 128.7674401264772, 17.854156992425544, 13.200113001324556, 18.34236404096381, 11.503100339075962, 14.569868947361822, 17.2491607990033, 15.240531799523032, 18.669679056459582, 10.941572711982959, 24.799350961370838, 10.776583834263885, 22.305502570094944, 34.752517863766094, 12.691888476206483, 10.734464744159302, 21.002565874463254, 28.38224943856701, 12.090329086468083, 33.00018619170665, 40.28220419693552, 18.196450545133498, 11.991007925506008, 12.11835212600674, 21.75231353559355, 11.78245104301812, 15.922832071130626, 13.133650132862257, 24.602615789166368, 20.897777412578396, 26.190704842258743, 98.3233040378429, 29.889676263361988, 18.000063615086184, 23.09982150741604, 13.105219707769033, 19.448358962865758, 13.133650132862257, 10.222167243404018, 14.089177054196272, 51.352031164309786, 22.233447042886297, 26.190704842258743, 15.197968789379718, 17.854156992425544, 12.550190238598805, 14.003129421944106, 28.38224943856701, 128.7674401264772, 18.196450545133498, 11.56667431047735, 24.84249260542645, 98.3233040378429, 15.260300663248485, 20.897777412578396, 68.61537876207004, 40.28220419693552, 20.294272776633306, 17.13344743572105, 24.799350961370838, 11.503100339075962, 12.691888476206483, 14.569868947361822, 42.0651811039644, 35.071812611909635, 33.00018619170665, 16.43510208951305, 34.752517863766094, 13.910003776543874, 12.267990636347617, 13.801667690125463, 19.82847204075957, 14.003129421944106, 26.190704842258743, 15.922832071130626, 10.734464744159302, 15.722148001685282, 10.941572711982959, 12.11835212600674, 19.97147740382, 128.7674401264772, 29.889676263361988, 68.61537876207004, 17.854156992425544, 13.48532843674372, 18.000063615086184, 10.222167243404018, 14.089177054196272, 13.200113001324556, 12.691888476206483, 20.83812375750815, 24.602615789166368, 35.071812611909635, 11.579474427808693, 22.602968451462317, 20.294272776633306, 40.28220419693552, 98.3233040378429, 27.518167681429514, 42.0651811039644, 18.630349083087154, 17.854156992425544, 11.294379061690107, 12.473857505987853, 13.105219707769033, 22.602968451462317, 11.78245104301812, 19.82847204075957, 30.196174841874093, 11.912566592135445, 33.00018619170665, 16.44431225444428, 21.481855847869735, 20.83812375750815, 15.260300663248485, 11.579474427808693, 20.897777412578396, 11.991007925506008, 18.34236404096381, 18.000063615086184, 15.240531799523032, 40.28220419693552, 14.089177054196272, 17.620213253385796, 10.734464744159302, 21.75231353559355, 17.2491607990033, 10.941572711982959, 128.7674401264772, 17.55912096205339, 42.0651811039644, 68.61537876207004, 98.3233040378429, 24.84249260542645, 22.233447042886297, 16.168475034469687, 23.71562393219025, 12.473857505987853, 29.919331714650337, 12.267990636347617, 42.0651811039644, 22.305502570094944, 13.760673363362915, 22.602968451462317, 20.897777412578396, 20.294272776633306, 10.776583834263885, 12.090329086468083, 40.28220419693552, 13.910003776543874, 17.2491607990033, 12.771900597514405, 21.002565874463254, 14.433344431376197, 11.384097719131438, 98.3233040378429, 14.189288784442871, 68.61537876207004, 14.569868947361822, 13.105219707769033, 29.889676263361988, 11.912566592135445, 21.481855847869735, 27.518167681429514, 128.7674401264772, 36.96008625796921, 35.071812611909635, 21.75231353559355, 51.352031164309786], \"Category\": [\"Default\", \"Default\", \"Default\", \"Default\", \"Default\", \"Default\", \"Default\", \"Default\", \"Default\", \"Default\", \"Default\", \"Default\", \"Default\", \"Default\", \"Default\", \"Default\", \"Default\", \"Default\", \"Default\", \"Default\", \"Default\", \"Default\", \"Default\", \"Default\", \"Default\", \"Default\", \"Default\", \"Default\", \"Default\", \"Default\", \"Topic1\", \"Topic1\", \"Topic1\", \"Topic1\", \"Topic1\", \"Topic1\", \"Topic1\", \"Topic1\", \"Topic1\", \"Topic1\", \"Topic1\", \"Topic1\", \"Topic1\", \"Topic1\", \"Topic1\", \"Topic1\", \"Topic1\", \"Topic1\", \"Topic1\", \"Topic1\", \"Topic1\", \"Topic1\", \"Topic1\", \"Topic1\", \"Topic1\", \"Topic1\", \"Topic1\", \"Topic1\", \"Topic1\", \"Topic1\", \"Topic1\", \"Topic1\", \"Topic1\", \"Topic1\", \"Topic2\", \"Topic2\", \"Topic2\", \"Topic2\", \"Topic2\", \"Topic2\", \"Topic2\", \"Topic2\", \"Topic2\", \"Topic2\", \"Topic2\", \"Topic2\", \"Topic2\", \"Topic2\", \"Topic2\", \"Topic2\", \"Topic2\", \"Topic2\", \"Topic2\", \"Topic2\", \"Topic2\", \"Topic2\", \"Topic2\", \"Topic2\", \"Topic2\", \"Topic2\", \"Topic2\", \"Topic2\", \"Topic2\", \"Topic2\", \"Topic2\", \"Topic2\", \"Topic3\", \"Topic3\", \"Topic3\", \"Topic3\", \"Topic3\", \"Topic3\", \"Topic3\", \"Topic3\", \"Topic3\", \"Topic3\", \"Topic3\", \"Topic3\", \"Topic3\", \"Topic3\", \"Topic3\", \"Topic3\", \"Topic3\", \"Topic3\", \"Topic3\", \"Topic3\", \"Topic3\", \"Topic3\", \"Topic3\", \"Topic3\", \"Topic3\", \"Topic3\", \"Topic3\", \"Topic3\", \"Topic3\", \"Topic3\", \"Topic3\", \"Topic3\", \"Topic3\", \"Topic3\", \"Topic4\", \"Topic4\", \"Topic4\", \"Topic4\", \"Topic4\", \"Topic4\", \"Topic4\", \"Topic4\", \"Topic4\", \"Topic4\", \"Topic4\", \"Topic4\", \"Topic4\", \"Topic4\", \"Topic4\", \"Topic4\", \"Topic4\", \"Topic4\", \"Topic4\", \"Topic4\", \"Topic4\", \"Topic4\", \"Topic4\", \"Topic4\", \"Topic4\", \"Topic4\", \"Topic4\", \"Topic4\", \"Topic4\", \"Topic4\", \"Topic4\", \"Topic4\", \"Topic4\", \"Topic4\", \"Topic4\", \"Topic4\", \"Topic5\", \"Topic5\", \"Topic5\", \"Topic5\", \"Topic5\", \"Topic5\", \"Topic5\", \"Topic5\", \"Topic5\", \"Topic5\", \"Topic5\", \"Topic5\", \"Topic5\", \"Topic5\", \"Topic5\", \"Topic5\", \"Topic5\", \"Topic5\", \"Topic5\", \"Topic5\", \"Topic5\", \"Topic5\", \"Topic5\", \"Topic5\", \"Topic5\", \"Topic5\", \"Topic5\", \"Topic5\", \"Topic5\", \"Topic5\", \"Topic5\", \"Topic5\", \"Topic5\", \"Topic5\", \"Topic5\", \"Topic5\", \"Topic6\", \"Topic6\", \"Topic6\", \"Topic6\", \"Topic6\", \"Topic6\", \"Topic6\", \"Topic6\", \"Topic6\", \"Topic6\", \"Topic6\", \"Topic6\", \"Topic6\", \"Topic6\", \"Topic6\", \"Topic6\", \"Topic6\", \"Topic6\", \"Topic6\", \"Topic6\", \"Topic6\", \"Topic6\", \"Topic6\", \"Topic6\", \"Topic6\", \"Topic6\", \"Topic6\", \"Topic6\", \"Topic6\", \"Topic6\", \"Topic6\", \"Topic6\", \"Topic7\", \"Topic7\", \"Topic7\", \"Topic7\", \"Topic7\", \"Topic7\", \"Topic7\", \"Topic7\", \"Topic7\", \"Topic7\", \"Topic7\", \"Topic7\", \"Topic7\", \"Topic7\", \"Topic7\", \"Topic7\", \"Topic7\", \"Topic7\", \"Topic7\", \"Topic7\", \"Topic7\", \"Topic7\", \"Topic7\", \"Topic7\", \"Topic7\", \"Topic7\", \"Topic7\", \"Topic7\", \"Topic7\", \"Topic7\", \"Topic7\", \"Topic7\", \"Topic8\", \"Topic8\", \"Topic8\", \"Topic8\", \"Topic8\", \"Topic8\", \"Topic8\", \"Topic8\", \"Topic8\", \"Topic8\", \"Topic8\", \"Topic8\", \"Topic8\", \"Topic8\", \"Topic8\", \"Topic8\", \"Topic8\", \"Topic8\", \"Topic8\", \"Topic8\", \"Topic8\", \"Topic8\", \"Topic8\", \"Topic8\", \"Topic8\", \"Topic8\", \"Topic8\", \"Topic8\", \"Topic8\", \"Topic8\", \"Topic8\", \"Topic8\", \"Topic8\", \"Topic9\", \"Topic9\", \"Topic9\", \"Topic9\", \"Topic9\", \"Topic9\", \"Topic9\", \"Topic9\", \"Topic9\", \"Topic9\", \"Topic9\", \"Topic9\", \"Topic9\", \"Topic9\", \"Topic9\", \"Topic9\", \"Topic9\", \"Topic9\", \"Topic9\", \"Topic9\", \"Topic9\", \"Topic9\", \"Topic9\", \"Topic9\", \"Topic9\", \"Topic9\", \"Topic9\", \"Topic9\", \"Topic9\", \"Topic9\", \"Topic9\", \"Topic9\", \"Topic9\", \"Topic9\", \"Topic9\", \"Topic9\", \"Topic10\", \"Topic10\", \"Topic10\", \"Topic10\", \"Topic10\", \"Topic10\", \"Topic10\", \"Topic10\", \"Topic10\", \"Topic10\", \"Topic10\", \"Topic10\", \"Topic10\", \"Topic10\", \"Topic10\", \"Topic10\", \"Topic10\", \"Topic10\", \"Topic10\", \"Topic10\", \"Topic10\", \"Topic10\", \"Topic10\", \"Topic10\", \"Topic10\", \"Topic10\", \"Topic10\", \"Topic10\", \"Topic10\", \"Topic10\", \"Topic10\", \"Topic10\", \"Topic10\", \"Topic11\", \"Topic11\", \"Topic11\", \"Topic11\", \"Topic11\", \"Topic11\", \"Topic11\", \"Topic11\", \"Topic11\", \"Topic11\", \"Topic11\", \"Topic11\", \"Topic11\", \"Topic11\", \"Topic11\", \"Topic11\", \"Topic11\", \"Topic11\", \"Topic11\", \"Topic11\", \"Topic11\", \"Topic11\", \"Topic11\", \"Topic11\", \"Topic11\", \"Topic11\", \"Topic11\", \"Topic11\", \"Topic11\", \"Topic11\", \"Topic11\", \"Topic11\", \"Topic11\", \"Topic11\", \"Topic11\", \"Topic12\", \"Topic12\", \"Topic12\", \"Topic12\", \"Topic12\", \"Topic12\", \"Topic12\", \"Topic12\", \"Topic12\", \"Topic12\", \"Topic12\", \"Topic12\", \"Topic12\", \"Topic12\", \"Topic12\", \"Topic12\", \"Topic12\", \"Topic12\", \"Topic12\", \"Topic12\", \"Topic12\", \"Topic12\", \"Topic12\", \"Topic12\", \"Topic12\", \"Topic12\", \"Topic12\", \"Topic12\", \"Topic12\", \"Topic12\", \"Topic12\", \"Topic12\", \"Topic12\", \"Topic13\", \"Topic13\", \"Topic13\", \"Topic13\", \"Topic13\", \"Topic13\", \"Topic13\", \"Topic13\", \"Topic13\", \"Topic13\", \"Topic13\", \"Topic13\", \"Topic13\", \"Topic13\", \"Topic13\", \"Topic13\", \"Topic13\", \"Topic13\", \"Topic13\", \"Topic13\", \"Topic13\", \"Topic13\", \"Topic13\", \"Topic13\", \"Topic13\", \"Topic13\", \"Topic13\", \"Topic13\", \"Topic13\", \"Topic13\", \"Topic13\", \"Topic13\", \"Topic13\", \"Topic13\", \"Topic14\", \"Topic14\", \"Topic14\", \"Topic14\", \"Topic14\", \"Topic14\", \"Topic14\", \"Topic14\", \"Topic14\", \"Topic14\", \"Topic14\", \"Topic14\", \"Topic14\", \"Topic14\", \"Topic14\", \"Topic14\", \"Topic14\", \"Topic14\", \"Topic14\", \"Topic14\", \"Topic14\", \"Topic14\", \"Topic14\", \"Topic14\", \"Topic14\", \"Topic14\", \"Topic14\", \"Topic14\", \"Topic14\", \"Topic14\", \"Topic14\", \"Topic14\", \"Topic14\", \"Topic15\", \"Topic15\", \"Topic15\", \"Topic15\", \"Topic15\", \"Topic15\", \"Topic15\", \"Topic15\", \"Topic15\", \"Topic15\", \"Topic15\", \"Topic15\", \"Topic15\", \"Topic15\", \"Topic15\", \"Topic15\", \"Topic15\", \"Topic15\", \"Topic15\", \"Topic15\", \"Topic15\", \"Topic15\", \"Topic15\", \"Topic15\", \"Topic15\", \"Topic15\", \"Topic15\", \"Topic15\", \"Topic15\", \"Topic15\", \"Topic15\", \"Topic15\", \"Topic15\", \"Topic15\", \"Topic15\", \"Topic15\"], \"logprob\": [30.0, 29.0, 28.0, 27.0, 26.0, 25.0, 24.0, 23.0, 22.0, 21.0, 20.0, 19.0, 18.0, 17.0, 16.0, 15.0, 14.0, 13.0, 12.0, 11.0, 10.0, 9.0, 8.0, 7.0, 6.0, 5.0, 4.0, 3.0, 2.0, 1.0, -2.5904, -2.8423, -3.1013, -2.8156, -2.0472, -3.0034, -3.5744, -3.595, -2.3076, -3.6634, -3.7526, -4.1998, -3.1692, -4.2408, -4.1208, -3.8125, -2.6637, -4.3405, -4.1068, -5.1505, -5.0775, -5.2419, -4.9889, -4.4072, -5.4323, -5.4271, -5.1922, -5.7847, -5.7847, -5.7847, -4.7705, -3.6139, -5.649, -5.3385, -2.6751, -2.9023, -2.3986, -2.0027, -2.9949, -2.3416, -3.0559, -2.8202, -3.95, -3.9439, -3.8722, -4.0082, -2.5364, -4.4972, -4.0476, -4.7999, -5.157, -4.4445, -4.9747, -4.7112, -5.272, -2.9672, -4.4991, -5.3068, -5.0325, -5.3534, -5.6528, -5.8908, -4.4094, -5.0616, -5.5718, -5.4825, -2.3075, -2.4246, -2.9514, -2.7671, -3.5073, -2.4454, -4.0557, -2.705, -3.9974, -4.2574, -4.0291, -2.7439, -4.5924, -4.5397, -4.3757, -4.6794, -2.5653, -4.7051, -4.1436, -4.2769, -4.9821, -4.6441, -4.5113, -4.664, -4.7813, -2.851, -4.236, -5.4845, -5.4971, -4.4992, -5.1469, -4.8417, -5.0337, -4.9384, -2.0356, -2.9014, -3.2467, -2.7136, -1.7909, -3.5734, -3.5258, -2.9628, -4.3874, -3.7835, -4.2837, -3.9608, -4.4939, -3.8656, -4.0868, -4.279, -3.6544, -4.6547, -4.6518, -3.6622, -4.3871, -4.9467, -4.8275, -4.8231, -4.455, -4.7776, -4.9212, -4.832, -5.1743, -5.336, -5.0834, -4.4915, -4.4486, -3.9711, -3.9882, -4.815, -2.4537, -2.3893, -2.384, -2.3789, -3.2712, -3.1479, -3.6213, -2.8701, -4.0279, -4.1922, -4.0454, -3.7841, -3.8279, -4.0664, -3.8393, -4.4095, -4.3782, -4.8733, -4.7814, -4.8079, -5.0814, -4.9882, -4.5716, -4.5637, -4.9221, -4.1837, -4.7377, -4.6629, -5.2121, -3.4528, -4.2533, -4.4289, -3.8087, -4.2524, -4.5602, -4.725, -2.1175, -2.7015, -2.7624, -2.848, -3.0721, -2.3302, -2.8695, -3.8714, -3.4283, -4.1482, -3.0775, -3.628, -3.7053, -3.6983, -4.923, -2.8498, -4.7478, -4.9477, -4.7655, -4.6386, -4.2339, -5.3824, -3.0932, -4.5658, -4.6854, -5.558, -5.1319, -4.2576, -5.7658, -5.1289, -4.7106, -5.2986, -2.6419, -2.5556, -2.9987, -3.0712, -2.7985, -3.1623, -2.846, -3.4613, -2.8013, -2.8397, -3.5081, -3.7099, -3.222, -3.982, -4.4146, -4.0612, -4.1956, -4.6, -4.0446, -3.8963, -4.1125, -4.1829, -3.8317, -4.9326, -5.1582, -4.1673, -5.5528, -5.047, -3.2347, -5.6352, -4.5581, -3.6769, -2.5421, -2.7697, -3.0165, -2.787, -2.3696, -3.5471, -3.1635, -1.7083, -2.7665, -4.15, -4.2762, -4.2803, -4.5331, -4.0888, -4.1358, -4.3518, -5.1472, -4.492, -4.2085, -3.8429, -5.3302, -4.4816, -4.8304, -5.152, -5.2216, -5.5598, -3.1535, -5.6614, -4.0061, -5.6445, -4.8915, -5.3728, -5.4224, -2.414, -1.7762, -2.5906, -2.8356, -3.4933, -3.6123, -3.0706, -4.0089, -3.4009, -4.4756, -3.2532, -4.7281, -2.8566, -4.8554, -4.6324, -4.0237, -4.4439, -2.8014, -4.7777, -3.5379, -4.2561, -5.6108, -5.1877, -4.7116, -5.4438, -5.4839, -5.0267, -4.872, -5.6655, -5.3018, -4.942, -5.12, -4.9618, -4.9431, -5.1076, -4.9422, -2.3249, -1.983, -2.9696, -2.0824, -3.0147, -2.9582, -3.3428, -3.2754, -3.4222, -3.3476, -3.3461, -4.0421, -3.8447, -4.4382, -4.6967, -4.6544, -3.6926, -4.7885, -5.2451, -4.4997, -4.9899, -4.2022, -2.9356, -4.3463, -4.9657, -5.7481, -5.8369, -5.8534, -4.0828, -5.2972, -5.3556, -5.6181, -5.6779, -2.1819, -3.3028, -0.9353, -2.9268, -3.3094, -3.06, -3.5501, -3.3466, -3.5269, -4.1546, -4.1715, -4.8946, -4.1634, -5.1393, -4.4834, -4.1237, -5.2395, -5.4632, -4.9076, -4.6685, -5.6361, -4.6916, -4.4997, -5.4221, -5.8786, -5.9191, -5.5218, -6.1526, -5.856, -6.0586, -5.5136, -5.7718, -5.6361, -5.1151, -5.7179, -2.0777, -1.8999, -2.8479, -3.304, -3.9728, -4.2535, -4.0152, -2.7281, -3.6271, -3.5366, -4.0858, -4.0491, -4.4496, -4.4, -3.8526, -2.3863, -4.4129, -4.9365, -4.2143, -2.9461, -4.8102, -4.5835, -3.5732, -4.1386, -4.834, -5.028, -4.6822, -5.5012, -5.4695, -5.3815, -4.3325, -4.5183, -4.7229, -2.0851, -1.5328, -2.9404, -3.3547, -3.5173, -3.4525, -3.8073, -3.3219, -3.9278, -4.3727, -3.9963, -4.3855, -4.5789, -4.2507, -2.4627, -3.9886, -3.2221, -4.579, -4.8969, -4.7484, -5.3412, -5.0833, -5.1504, -5.2023, -4.7941, -4.632, -4.3971, -5.5116, -4.8757, -5.0224, -4.5982, -4.2734, -4.8775, -4.7646, -1.9613, -2.4627, -2.9726, -2.9488, -3.4268, -3.0967, -3.8164, -3.8409, -3.4731, -4.4873, -3.5551, -4.2936, -4.0304, -4.0917, -4.4161, -4.7739, -4.292, -4.8652, -4.442, -4.4759, -4.6601, -3.7014, -4.795, -4.6047, -5.1195, -4.4193, -4.67, -5.1316, -2.757, -4.7985, -4.1073, -3.8626, -3.6904, -1.8334, -2.7599, -3.0986, -2.9541, -3.6852, -2.8579, -4.0609, -2.8601, -3.4976, -4.0874, -3.6469, -3.8362, -4.0139, -4.6736, -4.5721, -3.4566, -4.5215, -4.336, -4.6461, -4.2611, -4.712, -5.0532, -3.0744, -5.0462, -3.4813, -5.1336, -5.2401, -4.4746, -5.4406, -4.8513, -4.6442, -3.2555, -4.3819, -4.7304, -4.9336, -4.9335], \"loglift\": [30.0, 29.0, 28.0, 27.0, 26.0, 25.0, 24.0, 23.0, 22.0, 21.0, 20.0, 19.0, 18.0, 17.0, 16.0, 15.0, 14.0, 13.0, 12.0, 11.0, 10.0, 9.0, 8.0, 7.0, 6.0, 5.0, 4.0, 3.0, 2.0, 1.0, 2.1357, 2.0445, 1.9756, 1.7162, 1.5403, 1.5356, 1.2306, 1.1634, 0.99, 0.9535, 0.7368, 0.6474, 0.6178, 0.4197, 0.3256, 0.3161, 0.2741, 0.084, -0.1381, -0.1654, -0.2766, -0.296, -0.3318, -0.4294, -0.5388, -0.5534, -0.5909, -0.7362, -0.7533, -0.8059, -0.8542, -0.9457, -0.8742, -1.3089, 2.2292, 2.0766, 2.0603, 1.9136, 1.8617, 1.786, 1.7459, 1.01, 0.7106, 0.6145, 0.5491, 0.5236, 0.4014, 0.2295, 0.1327, -0.0568, -0.0975, -0.1292, -0.1698, -0.1955, -0.23, -0.299, -0.4695, -0.5059, -0.5511, -0.595, -0.7018, -0.789, -0.822, -0.8504, -0.9147, -2.1849, 2.0078, 1.7558, 1.5301, 1.4442, 1.4386, 1.3415, 1.093, 0.8824, 0.8591, 0.6957, 0.5701, 0.5537, 0.5015, 0.494, 0.4715, 0.3986, 0.3726, 0.3368, 0.2427, 0.1476, 0.1197, 0.041, 0.0205, -0.1057, -0.18, -0.1829, -0.2673, -0.3319, -0.3635, -0.3716, -0.4685, -0.7131, -0.6256, -1.0221, 2.2877, 2.1405, 1.9549, 1.947, 1.5067, 1.2737, 0.8823, 0.8241, 0.7613, 0.7555, 0.7127, 0.6561, 0.6, 0.5207, 0.5124, 0.3994, 0.3235, 0.2912, 0.2727, 0.2541, 0.0944, 0.0847, -0.0526, -0.0964, -0.1414, -0.1419, -0.1951, -0.2306, -0.2875, -0.2875, -0.3124, -0.3731, -0.6184, -1.0332, -1.3201, -0.7854, 2.3211, 2.2677, 2.1054, 2.0675, 1.7479, 1.653, 1.4805, 1.3412, 1.066, 0.8858, 0.8282, 0.6371, 0.631, 0.4201, 0.2884, 0.1918, 0.1608, 0.1118, 0.0235, -0.0057, -0.0219, -0.0351, -0.0901, -0.1391, -0.196, -0.3535, -0.4242, -0.4825, -0.4854, -0.515, -0.6659, -0.642, -1.1406, -0.9548, -0.6439, -0.6954, 2.2425, 2.1792, 2.1621, 2.1029, 1.9765, 1.9305, 1.6463, 1.1138, 1.0532, 0.9353, 0.7528, 0.5524, 0.4132, 0.3314, 0.2257, 0.0881, 0.054, 0.0312, -0.105, -0.2173, -0.256, -0.3633, -0.4251, -0.4382, -0.4741, -0.4811, -0.5326, -0.6702, -0.6719, -0.6825, -0.7943, -0.9833, 2.2595, 2.2154, 2.1539, 2.0623, 1.8008, 1.7313, 1.7124, 1.6222, 1.6068, 1.5816, 1.2937, 0.9071, 0.8076, 0.6963, 0.6339, 0.5637, 0.5474, 0.4769, 0.2707, 0.2323, 0.2108, 0.0284, -0.0015, -0.0761, -0.0802, -0.1985, -0.5108, -0.5605, -0.5666, -0.6327, -0.6418, -0.739, 2.26, 2.1039, 2.0149, 1.956, 1.66, 1.4554, 1.3523, 1.2295, 1.0637, 0.9988, 0.7575, 0.7049, 0.4633, 0.0915, 0.0755, 0.0727, 0.0544, -0.0456, -0.0901, -0.2555, -0.2817, -0.354, -0.3715, -0.3991, -0.4166, -0.4763, -0.4854, -0.5834, -0.7085, -0.72, -0.7629, -0.841, -1.0361, 2.2109, 2.1925, 2.1623, 1.9228, 1.5847, 1.3729, 1.3539, 0.5495, 0.386, 0.3809, 0.3343, 0.1763, 0.0813, 0.0691, 0.0034, -0.1074, -0.1303, -0.1333, -0.2387, -0.2403, -0.2782, -0.4093, -0.4167, -0.4508, -0.4649, -0.4814, -0.5109, -0.512, -0.6169, -0.6234, -0.6266, -0.6385, -0.7505, -0.8155, -0.7213, -1.112, 2.1616, 2.1354, 2.0641, 2.0462, 2.0448, 2.0382, 1.4581, 1.4029, 1.3827, 0.966, 0.9146, 0.7108, 0.6871, 0.5932, 0.3813, 0.2263, 0.2237, 0.1625, -0.0963, -0.1134, -0.1881, -0.2244, -0.2675, -0.3167, -0.5444, -0.8022, -0.9633, -1.1103, -1.1449, -1.1695, -1.3868, -1.3028, -1.4976, 2.5032, 1.7911, 1.7328, 1.717, 1.6365, 1.5569, 1.5334, 1.5006, 1.1515, 0.6475, 0.4277, 0.2389, 0.1519, 0.0094, -0.0621, -0.1459, -0.2544, -0.3106, -0.4261, -0.4881, -0.6024, -0.662, -0.6695, -0.7972, -0.8366, -0.8877, -1.0754, -1.0931, -1.0976, -1.1076, -1.1903, -1.2854, -1.3754, -2.1772, -1.5893, 2.558, 2.4864, 2.1053, 1.2544, 0.9782, 0.9481, 0.8655, 0.8593, 0.7974, 0.7241, 0.7192, 0.5948, 0.5468, 0.4869, 0.3278, 0.2818, 0.212, 0.1415, 0.0992, -0.0082, -0.0093, -0.097, -0.2756, -0.3084, -0.3183, -0.3429, -0.3669, -0.4177, -0.4843, -0.5343, -0.5456, -0.5496, -0.6933, 2.6416, 2.445, 1.9531, 1.6644, 1.384, 1.0866, 1.0795, 0.9388, 0.8305, 0.78, 0.7748, 0.7481, 0.4525, 0.2811, 0.2054, 0.14, 0.0755, 0.0649, 0.0276, -0.1127, -0.1396, -0.2025, -0.2045, -0.2172, -0.3047, -0.3087, -0.4284, -0.4347, -0.4677, -0.5066, -0.768, -1.3355, -0.6662, -0.9777, 2.64, 2.1812, 2.1292, 2.0537, 1.5263, 1.3113, 1.2432, 0.6981, 0.6453, 0.5613, 0.4745, 0.4325, 0.4285, 0.3977, 0.3848, 0.303, 0.1945, 0.1768, 0.1749, 0.1598, 0.1421, 0.1288, 0.0858, 0.0524, 0.0331, 0.0271, 0.0084, 0.0019, -0.0888, -0.138, -0.3204, -0.565, -0.7525, 2.4802, 1.6646, 1.6444, 1.4059, 1.3173, 1.2697, 0.9582, 0.9268, 0.9237, 0.8169, 0.7611, 0.6503, 0.5019, 0.4752, 0.4616, 0.3736, 0.372, 0.3423, 0.3328, 0.2204, 0.1446, 0.0407, -0.1365, -0.1726, -0.1837, -0.2864, -0.287, -0.346, -0.3921, -0.3924, -0.4329, -0.5874, -0.4656, -0.7617, -0.4872, -1.3461]}, \"token.table\": {\"Topic\": [1, 4, 5, 7, 13, 14, 1, 2, 4, 5, 6, 7, 8, 9, 11, 12, 13, 14, 15, 3, 4, 6, 8, 10, 11, 15, 1, 2, 4, 5, 8, 10, 12, 1, 4, 7, 11, 14, 1, 4, 5, 14, 1, 3, 4, 5, 6, 9, 10, 11, 13, 5, 8, 11, 14, 1, 2, 3, 4, 5, 6, 8, 9, 11, 15, 1, 3, 7, 8, 9, 10, 13, 15, 2, 6, 10, 12, 1, 2, 3, 5, 6, 8, 9, 11, 12, 1, 2, 3, 4, 5, 6, 7, 8, 9, 10, 11, 12, 13, 14, 15, 3, 4, 7, 8, 9, 10, 11, 14, 15, 3, 7, 11, 13, 14, 1, 4, 12, 13, 1, 2, 9, 13, 6, 10, 12, 13, 14, 3, 8, 10, 15, 4, 8, 10, 12, 1, 4, 5, 9, 13, 14, 15, 2, 6, 9, 15, 1, 5, 8, 15, 2, 7, 8, 15, 1, 3, 4, 11, 13, 4, 8, 12, 1, 3, 4, 11, 14, 4, 5, 9, 10, 12, 15, 1, 3, 6, 7, 14, 2, 3, 4, 7, 14, 3, 4, 5, 11, 15, 4, 6, 9, 12, 13, 14, 4, 7, 9, 13, 1, 2, 3, 4, 5, 6, 7, 9, 10, 15, 1, 5, 13, 14, 1, 2, 3, 4, 5, 8, 9, 12, 13, 14, 15, 2, 5, 6, 7, 10, 11, 14, 15, 3, 5, 7, 9, 10, 12, 1, 3, 4, 5, 9, 12, 13, 14, 15, 2, 5, 7, 8, 14, 15, 5, 6, 13, 15, 1, 3, 5, 6, 7, 9, 10, 12, 13, 14, 15, 1, 2, 5, 14, 2, 3, 6, 7, 9, 10, 1, 2, 3, 4, 6, 14, 7, 13, 5, 7, 10, 12, 14, 15, 2, 3, 7, 9, 15, 3, 4, 8, 9, 10, 12, 3, 4, 5, 6, 7, 11, 8, 9, 14, 15, 1, 5, 6, 8, 14, 15, 2, 9, 15, 1, 4, 5, 14, 1, 3, 5, 8, 9, 12, 15, 1, 2, 3, 4, 5, 6, 7, 8, 9, 10, 11, 12, 13, 14, 15, 6, 9, 10, 12, 13, 1, 2, 5, 10, 12, 14, 4, 5, 8, 9, 10, 1, 2, 3, 5, 6, 8, 9, 12, 15, 2, 3, 4, 5, 6, 8, 9, 10, 14, 15, 2, 3, 6, 7, 9, 11, 12, 2, 4, 6, 8, 9, 12, 13, 15, 1, 3, 4, 5, 14, 3, 4, 5, 7, 13, 14, 15, 5, 6, 9, 15, 3, 4, 5, 14, 4, 6, 7, 8, 14, 1, 2, 3, 5, 6, 7, 8, 9, 13, 15, 5, 11, 12, 13, 14, 1, 7, 9, 11, 12, 3, 7, 11, 13, 14, 6, 7, 8, 11, 2, 5, 10, 14, 3, 5, 12, 14, 1, 5, 6, 8, 9, 11, 4, 6, 9, 13, 2, 3, 7, 9, 12, 1, 7, 13, 15, 1, 2, 4, 5, 6, 7, 8, 10, 11, 12, 14, 4, 8, 10, 13, 3, 5, 11, 12, 3, 4, 6, 8, 9, 10, 14, 1, 2, 3, 8, 9, 10, 13, 2, 4, 5, 13], \"Freq\": [0.040646084488314645, 0.7316295207896636, 0.040646084488314645, 0.08129216897662929, 0.040646084488314645, 0.040646084488314645, 0.024824858021946956, 0.2234237221975226, 0.04964971604389391, 0.04964971604389391, 0.14894914813168172, 0.07447457406584086, 0.19859886417557565, 0.024824858021946956, 0.024824858021946956, 0.024824858021946956, 0.024824858021946956, 0.04964971604389391, 0.07447457406584086, 0.27838135406709996, 0.1855875693780666, 0.0927937846890333, 0.1855875693780666, 0.0927937846890333, 0.0927937846890333, 0.0927937846890333, 0.26319306582569013, 0.06579826645642253, 0.06579826645642253, 0.06579826645642253, 0.06579826645642253, 0.26319306582569013, 0.13159653291284507, 0.21807439821098534, 0.16355579865823902, 0.16355579865823902, 0.32711159731647804, 0.054518599552746336, 0.06384642125785941, 0.06384642125785941, 0.766157055094313, 0.06384642125785941, 0.05754978697774453, 0.028774893488872265, 0.11509957395548906, 0.028774893488872265, 0.05754978697774453, 0.05754978697774453, 0.05754978697774453, 0.05754978697774453, 0.546722976288573, 0.06561450828318839, 0.6561450828318839, 0.13122901656637678, 0.06561450828318839, 0.0476132300204275, 0.0476132300204275, 0.38090584016342, 0.095226460040855, 0.0476132300204275, 0.19045292008171, 0.0476132300204275, 0.0476132300204275, 0.0476132300204275, 0.0476132300204275, 0.10036910315008411, 0.033456367716694704, 0.10036910315008411, 0.033456367716694704, 0.033456367716694704, 0.5353018834671153, 0.06691273543338941, 0.033456367716694704, 0.07614029533936327, 0.6091223627149062, 0.07614029533936327, 0.15228059067872654, 0.0352332891078449, 0.1056998673235347, 0.4580327584019837, 0.0352332891078449, 0.1409331564313796, 0.0704665782156898, 0.0352332891078449, 0.0352332891078449, 0.0704665782156898, 0.11187581731149204, 0.12204634615799131, 0.11187581731149204, 0.03051158653949783, 0.04068211538599711, 0.08136423077199421, 0.03051158653949783, 0.24409269231598263, 0.08136423077199421, 0.020341057692998554, 0.010170528846499277, 0.05085264423249638, 0.010170528846499277, 0.020341057692998554, 0.04068211538599711, 0.05797383488116028, 0.11594766976232056, 0.11594766976232056, 0.05797383488116028, 0.05797383488116028, 0.2898691744058014, 0.17392150464348086, 0.05797383488116028, 0.05797383488116028, 0.09139453955324202, 0.548367237319452, 0.09139453955324202, 0.09139453955324202, 0.09139453955324202, 0.6427134770243734, 0.07141260855826372, 0.07141260855826372, 0.14282521711652743, 0.2512115923933106, 0.06280289809832765, 0.5024231847866212, 0.1256057961966553, 0.63878819645605, 0.07097646627289445, 0.1419529325457889, 0.07097646627289445, 0.07097646627289445, 0.16542146915078346, 0.16542146915078346, 0.5789751420277421, 0.08271073457539173, 0.15936013414751987, 0.07968006707375994, 0.5577604695163195, 0.07968006707375994, 0.4034602355418579, 0.1512975883281967, 0.10086505888546447, 0.05043252944273224, 0.1512975883281967, 0.10086505888546447, 0.05043252944273224, 0.6263750597586796, 0.07829688246983495, 0.07829688246983495, 0.07829688246983495, 0.07047569580065208, 0.14095139160130415, 0.5638055664052166, 0.07047569580065208, 0.0618487518376404, 0.1236975036752808, 0.4947900147011232, 0.2473950073505616, 0.07575692722476358, 0.30302770889905434, 0.07575692722476358, 0.30302770889905434, 0.07575692722476358, 0.48913306551761937, 0.09782661310352388, 0.09782661310352388, 0.13726959434059574, 0.13726959434059574, 0.2745391886811915, 0.2745391886811915, 0.06863479717029787, 0.08050721929421574, 0.04025360964710787, 0.08050721929421574, 0.20126804823553934, 0.04025360964710787, 0.5635505350595101, 0.604517937635334, 0.08635970537647629, 0.08635970537647629, 0.08635970537647629, 0.08635970537647629, 0.08339582512266591, 0.08339582512266591, 0.6671666009813273, 0.08339582512266591, 0.08339582512266591, 0.08784183206012537, 0.17568366412025074, 0.17568366412025074, 0.3513673282405015, 0.08784183206012537, 0.05555535921339087, 0.05555535921339087, 0.05555535921339087, 0.6666643105606904, 0.05555535921339087, 0.05555535921339087, 0.06360454054323929, 0.6360454054323929, 0.06360454054323929, 0.12720908108647858, 0.027056213911957075, 0.5411242782391414, 0.027056213911957075, 0.1082248556478283, 0.027056213911957075, 0.027056213911957075, 0.027056213911957075, 0.05411242782391415, 0.08116864173587122, 0.027056213911957075, 0.1919558616000045, 0.6238565502000146, 0.047988965400001124, 0.047988965400001124, 0.23318387639426186, 0.014573992274641366, 0.1311659304717723, 0.33520182231675144, 0.029147984549282732, 0.029147984549282732, 0.058295969098565464, 0.0437219768239241, 0.0437219768239241, 0.029147984549282732, 0.0437219768239241, 0.1344959608317505, 0.1344959608317505, 0.04483198694391684, 0.3586558955513347, 0.04483198694391684, 0.04483198694391684, 0.04483198694391684, 0.1344959608317505, 0.08645527427829258, 0.17291054855658516, 0.08645527427829258, 0.34582109711317033, 0.08645527427829258, 0.08645527427829258, 0.16640841228519734, 0.3090441942439379, 0.16640841228519734, 0.04754526065291352, 0.09509052130582704, 0.02377263032645676, 0.02377263032645676, 0.02377263032645676, 0.11886315163228381, 0.6051618673946718, 0.13965273862953964, 0.046550912876513216, 0.046550912876513216, 0.09310182575302643, 0.046550912876513216, 0.4075647062515677, 0.08151294125031354, 0.24453882375094063, 0.08151294125031354, 0.08553877819765907, 0.057025852131772706, 0.028512926065886353, 0.028512926065886353, 0.057025852131772706, 0.6272843734494998, 0.028512926065886353, 0.028512926065886353, 0.028512926065886353, 0.028512926065886353, 0.028512926065886353, 0.05675300211294809, 0.05675300211294809, 0.7377890274683252, 0.05675300211294809, 0.45914352225139066, 0.06559193175019866, 0.06559193175019866, 0.26236772700079464, 0.06559193175019866, 0.06559193175019866, 0.1139009181793413, 0.17085137726901195, 0.05695045908967065, 0.5125541318070358, 0.05695045908967065, 0.05695045908967065, 0.7245501213708107, 0.2173650364112432, 0.09570395743598062, 0.04785197871799031, 0.6220757233338741, 0.04785197871799031, 0.04785197871799031, 0.09570395743598062, 0.4849880797400579, 0.20785203417431053, 0.06928401139143685, 0.06928401139143685, 0.06928401139143685, 0.08658075558540199, 0.12987113337810297, 0.04329037779270099, 0.04329037779270099, 0.04329037779270099, 0.6060652890978139, 0.16068835414511426, 0.10712556943007617, 0.053562784715038086, 0.053562784715038086, 0.4285022777203047, 0.10712556943007617, 0.3206706504447298, 0.08016766261118245, 0.3206706504447298, 0.1603353252223649, 0.13791636439457655, 0.5976375790431651, 0.04597212146485885, 0.04597212146485885, 0.04597212146485885, 0.04597212146485885, 0.7267086236218996, 0.07267086236218996, 0.07267086236218996, 0.7297355957684913, 0.06081129964737428, 0.06081129964737428, 0.06081129964737428, 0.08995456242759757, 0.08995456242759757, 0.044977281213798785, 0.08995456242759757, 0.2698636872827927, 0.08995456242759757, 0.22488640606899393, 0.03106375335310808, 0.06212750670621616, 0.06212750670621616, 0.02329781501483106, 0.02329781501483106, 0.04659563002966212, 0.0388296916913851, 0.04659563002966212, 0.06212750670621616, 0.05436156836793914, 0.3572331635607429, 0.06989344504449319, 0.05436156836793914, 0.0388296916913851, 0.02329781501483106, 0.49635930297776787, 0.03818148484444368, 0.19090742422221843, 0.11454445453333105, 0.11454445453333105, 0.06552950836730947, 0.06552950836730947, 0.3931770502038569, 0.32764754183654743, 0.06552950836730947, 0.06552950836730947, 0.062461725354499814, 0.062461725354499814, 0.062461725354499814, 0.6246172535449981, 0.12492345070899963, 0.38946852824587425, 0.03894685282458742, 0.19473426412293712, 0.03894685282458742, 0.03894685282458742, 0.05842027923688114, 0.09736713206146856, 0.11684055847376228, 0.01947342641229371, 0.4679248899514939, 0.06684641285021341, 0.033423206425106704, 0.10026961927532012, 0.033423206425106704, 0.033423206425106704, 0.033423206425106704, 0.033423206425106704, 0.033423206425106704, 0.16711603212553353, 0.0806472719030162, 0.5645309033211133, 0.0403236359515081, 0.0806472719030162, 0.0403236359515081, 0.0806472719030162, 0.0403236359515081, 0.04927498565759861, 0.04927498565759861, 0.39419988526078886, 0.29564991394559165, 0.04927498565759861, 0.04927498565759861, 0.04927498565759861, 0.09854997131519722, 0.053675859509675614, 0.053675859509675614, 0.053675859509675614, 0.10735171901935123, 0.6441103141161074, 0.04424197654159466, 0.17696790616637864, 0.04424197654159466, 0.3539358123327573, 0.04424197654159466, 0.17696790616637864, 0.08848395308318932, 0.04216629521783976, 0.6746607234854362, 0.04216629521783976, 0.16866518087135904, 0.08853961732096838, 0.08853961732096838, 0.3541584692838735, 0.3541584692838735, 0.0839449662057033, 0.5036697972342198, 0.1678899324114066, 0.0839449662057033, 0.0839449662057033, 0.0363396288436328, 0.0363396288436328, 0.32705665959269525, 0.2907170307490624, 0.0363396288436328, 0.0726792576872656, 0.0726792576872656, 0.0363396288436328, 0.0363396288436328, 0.0363396288436328, 0.05600936523770013, 0.3360561914262008, 0.11201873047540026, 0.05600936523770013, 0.3920655566639009, 0.054955772694221534, 0.10991154538844307, 0.6594692723306584, 0.054955772694221534, 0.054955772694221534, 0.09315788200283642, 0.652105174019855, 0.09315788200283642, 0.09315788200283642, 0.09315788200283642, 0.1738661700799055, 0.347732340159811, 0.08693308503995276, 0.2607992551198583, 0.08487198430521517, 0.08487198430521517, 0.509231905831291, 0.16974396861043034, 0.15261094774430684, 0.07630547387215342, 0.3815273693607671, 0.22891642161646025, 0.07879048117029255, 0.07879048117029255, 0.2363714435108777, 0.1575809623405851, 0.3151619246811702, 0.07879048117029255, 0.07415466406255868, 0.6673919765630281, 0.07415466406255868, 0.07415466406255868, 0.15425466003214616, 0.05141822001071539, 0.4113457600857231, 0.10283644002143078, 0.15425466003214616, 0.07189070657811591, 0.43134423946869555, 0.35945353289057963, 0.07189070657811591, 0.030302859329057727, 0.060605718658115454, 0.030302859329057727, 0.030302859329057727, 0.09090857798717318, 0.15151429664528865, 0.3636343119486927, 0.060605718658115454, 0.030302859329057727, 0.030302859329057727, 0.060605718658115454, 0.0825194704364084, 0.49511682261845036, 0.1650389408728168, 0.0825194704364084, 0.05836537006061768, 0.05836537006061768, 0.7587498107880298, 0.05836537006061768, 0.033116777381129246, 0.06623355476225849, 0.09935033214338775, 0.06623355476225849, 0.033116777381129246, 0.5961019928603265, 0.09935033214338775, 0.4506426749519565, 0.15021422498398548, 0.10014281665599033, 0.050071408327995164, 0.050071408327995164, 0.15021422498398548, 0.050071408327995164, 0.12169075610891184, 0.06084537805445592, 0.06084537805445592, 0.6692991585990151], \"Term\": [\"algorithm\", \"algorithm\", \"algorithm\", \"algorithm\", \"algorithm\", \"algorithm\", \"analysi\", \"analysi\", \"analysi\", \"analysi\", \"analysi\", \"analysi\", \"analysi\", \"analysi\", \"analysi\", \"analysi\", \"analysi\", \"analysi\", \"analysi\", \"autom\", \"autom\", \"autom\", \"autom\", \"autom\", \"autom\", \"autom\", \"beginn\", \"beginn\", \"beginn\", \"beginn\", \"beginn\", \"beginn\", \"beginn\", \"best\", \"best\", \"best\", \"best\", \"best\", \"book\", \"book\", \"book\", \"book\", \"build\", \"build\", \"build\", \"build\", \"build\", \"build\", \"build\", \"build\", \"build\", \"chang\", \"chang\", \"chang\", \"chang\", \"classif\", \"classif\", \"classif\", \"classif\", \"classif\", \"classif\", \"classif\", \"classif\", \"classif\", \"classif\", \"code\", \"code\", \"code\", \"code\", \"code\", \"code\", \"code\", \"code\", \"compon\", \"compon\", \"compon\", \"compon\", \"creat\", \"creat\", \"creat\", \"creat\", \"creat\", \"creat\", \"creat\", \"creat\", \"creat\", \"data\", \"data\", \"data\", \"data\", \"data\", \"data\", \"data\", \"data\", \"data\", \"data\", \"data\", \"data\", \"data\", \"data\", \"data\", \"dataset\", \"dataset\", \"dataset\", \"dataset\", \"dataset\", \"dataset\", \"dataset\", \"dataset\", \"dataset\", \"decis\", \"decis\", \"decis\", \"decis\", \"decis\", \"deep\", \"deep\", \"deep\", \"deep\", \"detect\", \"detect\", \"detect\", \"detect\", \"develop\", \"develop\", \"develop\", \"develop\", \"develop\", \"effect\", \"effect\", \"effect\", \"effect\", \"exampl\", \"exampl\", \"exampl\", \"exampl\", \"explain\", \"explain\", \"explain\", \"explain\", \"explain\", \"explain\", \"explain\", \"exploratori\", \"exploratori\", \"exploratori\", \"exploratori\", \"extract\", \"extract\", \"extract\", \"extract\", \"featur\", \"featur\", \"featur\", \"featur\", \"generat\", \"generat\", \"generat\", \"generat\", \"generat\", \"get\", \"get\", \"get\", \"googl\", \"googl\", \"googl\", \"googl\", \"googl\", \"guid\", \"guid\", \"guid\", \"guid\", \"guid\", \"guid\", \"imag\", \"imag\", \"imag\", \"imag\", \"imag\", \"import\", \"import\", \"import\", \"import\", \"import\", \"intellig\", \"intellig\", \"intellig\", \"intellig\", \"intellig\", \"introduct\", \"introduct\", \"introduct\", \"introduct\", \"introduct\", \"introduct\", \"jupyt\", \"jupyt\", \"jupyt\", \"jupyt\", \"know\", \"know\", \"know\", \"know\", \"know\", \"know\", \"know\", \"know\", \"know\", \"know\", \"languag\", \"languag\", \"languag\", \"languag\", \"learn\", \"learn\", \"learn\", \"learn\", \"learn\", \"learn\", \"learn\", \"learn\", \"learn\", \"learn\", \"learn\", \"librari\", \"librari\", \"librari\", \"librari\", \"librari\", \"librari\", \"librari\", \"librari\", \"linear\", \"linear\", \"linear\", \"linear\", \"linear\", \"linear\", \"machin\", \"machin\", \"machin\", \"machin\", \"machin\", \"machin\", \"machin\", \"machin\", \"machin\", \"mathemat\", \"mathemat\", \"mathemat\", \"mathemat\", \"mathemat\", \"mathemat\", \"method\", \"method\", \"method\", \"method\", \"model\", \"model\", \"model\", \"model\", \"model\", \"model\", \"model\", \"model\", \"model\", \"model\", \"model\", \"natur\", \"natur\", \"natur\", \"natur\", \"need\", \"need\", \"need\", \"need\", \"need\", \"need\", \"network\", \"network\", \"network\", \"network\", \"network\", \"network\", \"notebook\", \"notebook\", \"panda\", \"panda\", \"panda\", \"panda\", \"panda\", \"panda\", \"person\", \"person\", \"person\", \"person\", \"person\", \"plot\", \"plot\", \"plot\", \"plot\", \"plot\", \"plot\", \"predict\", \"predict\", \"predict\", \"predict\", \"predict\", \"predict\", \"probabl\", \"probabl\", \"probabl\", \"probabl\", \"process\", \"process\", \"process\", \"process\", \"process\", \"process\", \"product\", \"product\", \"product\", \"program\", \"program\", \"program\", \"program\", \"project\", \"project\", \"project\", \"project\", \"project\", \"project\", \"project\", \"python\", \"python\", \"python\", \"python\", \"python\", \"python\", \"python\", \"python\", \"python\", \"python\", \"python\", \"python\", \"python\", \"python\", \"python\", \"react\", \"react\", \"react\", \"react\", \"react\", \"read\", \"read\", \"read\", \"read\", \"read\", \"read\", \"regress\", \"regress\", \"regress\", \"regress\", \"regress\", \"scienc\", \"scienc\", \"scienc\", \"scienc\", \"scienc\", \"scienc\", \"scienc\", \"scienc\", \"scienc\", \"scientist\", \"scientist\", \"scientist\", \"scientist\", \"scientist\", \"scientist\", \"scientist\", \"scientist\", \"scientist\", \"scientist\", \"scrap\", \"scrap\", \"scrap\", \"scrap\", \"scrap\", \"scrap\", \"scrap\", \"sentiment\", \"sentiment\", \"sentiment\", \"sentiment\", \"sentiment\", \"sentiment\", \"sentiment\", \"sentiment\", \"simpl\", \"simpl\", \"simpl\", \"simpl\", \"simpl\", \"start\", \"start\", \"start\", \"start\", \"start\", \"start\", \"start\", \"statist\", \"statist\", \"statist\", \"statist\", \"summar\", \"summar\", \"summar\", \"summar\", \"task\", \"task\", \"task\", \"task\", \"task\", \"text\", \"text\", \"text\", \"text\", \"text\", \"text\", \"text\", \"text\", \"text\", \"text\", \"time\", \"time\", \"time\", \"time\", \"time\", \"topic\", \"topic\", \"topic\", \"topic\", \"topic\", \"tree\", \"tree\", \"tree\", \"tree\", \"tree\", \"trend\", \"trend\", \"trend\", \"trend\", \"trick\", \"trick\", \"trick\", \"trick\", \"tutori\", \"tutori\", \"tutori\", \"tutori\", \"tweet\", \"tweet\", \"tweet\", \"tweet\", \"tweet\", \"tweet\", \"twitter\", \"twitter\", \"twitter\", \"twitter\", \"understand\", \"understand\", \"understand\", \"understand\", \"understand\", \"use\", \"use\", \"use\", \"use\", \"visual\", \"visual\", \"visual\", \"visual\", \"visual\", \"visual\", \"visual\", \"visual\", \"visual\", \"visual\", \"visual\", \"want\", \"want\", \"want\", \"want\", \"word\", \"word\", \"word\", \"word\", \"work\", \"work\", \"work\", \"work\", \"work\", \"work\", \"work\", \"write\", \"write\", \"write\", \"write\", \"write\", \"write\", \"write\", \"year\", \"year\", \"year\", \"year\"]}, \"R\": 30, \"lambda.step\": 0.01, \"plot.opts\": {\"xlab\": \"PC1\", \"ylab\": \"PC2\"}, \"topic.order\": [3, 9, 2, 15, 4, 8, 13, 7, 10, 1, 14, 6, 12, 5, 11]};\n",
       "\n",
       "function LDAvis_load_lib(url, callback){\n",
       "  var s = document.createElement('script');\n",
       "  s.src = url;\n",
       "  s.async = true;\n",
       "  s.onreadystatechange = s.onload = callback;\n",
       "  s.onerror = function(){console.warn(\"failed to load library \" + url);};\n",
       "  document.getElementsByTagName(\"head\")[0].appendChild(s);\n",
       "}\n",
       "\n",
       "if(typeof(LDAvis) !== \"undefined\"){\n",
       "   // already loaded: just create the visualization\n",
       "   !function(LDAvis){\n",
       "       new LDAvis(\"#\" + \"ldavis_el458791403277814084327525795437\", ldavis_el458791403277814084327525795437_data);\n",
       "   }(LDAvis);\n",
       "}else if(typeof define === \"function\" && define.amd){\n",
       "   // require.js is available: use it to load d3/LDAvis\n",
       "   require.config({paths: {d3: \"https://d3js.org/d3.v5\"}});\n",
       "   require([\"d3\"], function(d3){\n",
       "      window.d3 = d3;\n",
       "      LDAvis_load_lib(\"https://cdn.jsdelivr.net/gh/bmabey/pyLDAvis@3.2.2/pyLDAvis/js/ldavis.v3.0.0.js\", function(){\n",
       "        new LDAvis(\"#\" + \"ldavis_el458791403277814084327525795437\", ldavis_el458791403277814084327525795437_data);\n",
       "      });\n",
       "    });\n",
       "}else{\n",
       "    // require.js not available: dynamically load d3 & LDAvis\n",
       "    LDAvis_load_lib(\"https://d3js.org/d3.v5.js\", function(){\n",
       "         LDAvis_load_lib(\"https://cdn.jsdelivr.net/gh/bmabey/pyLDAvis@3.2.2/pyLDAvis/js/ldavis.v3.0.0.js\", function(){\n",
       "                 new LDAvis(\"#\" + \"ldavis_el458791403277814084327525795437\", ldavis_el458791403277814084327525795437_data);\n",
       "            })\n",
       "         });\n",
       "}\n",
       "</script>"
      ],
      "text/plain": [
       "PreparedData(topic_coordinates=              x         y  topics  cluster      Freq\n",
       "topic                                               \n",
       "2     -0.035068  0.210006       1        1  8.514203\n",
       "8     -0.149537 -0.086865       2        1  7.863388\n",
       "1     -0.029508  0.086256       3        1  7.789293\n",
       "14     0.057140  0.153887       4        1  7.494687\n",
       "3     -0.072191  0.040791       5        1  7.427903\n",
       "7     -0.045980 -0.130411       6        1  7.277876\n",
       "12     0.106016 -0.106696       7        1  7.210374\n",
       "6     -0.114355 -0.083335       8        1  7.094204\n",
       "9     -0.053245  0.055208       9        1  7.085473\n",
       "0     -0.003972 -0.105074      10        1  6.960362\n",
       "13     0.225771 -0.090878      11        1  6.375302\n",
       "5      0.003363  0.017401      12        1  5.011569\n",
       "11     0.143950  0.056796      13        1  4.723722\n",
       "4      0.073391 -0.000806      14        1  4.603025\n",
       "10    -0.105774 -0.016278      15        1  4.568617, topic_info=       Term        Freq       Total Category  logprob  loglift\n",
       "15   python  128.000000  128.000000  Default  30.0000  30.0000\n",
       "8     build   34.000000   34.000000  Default  29.0000  29.0000\n",
       "40     guid   24.000000   24.000000  Default  28.0000  28.0000\n",
       "1     learn   68.000000   68.000000  Default  27.0000  27.0000\n",
       "48    model   35.000000   35.000000  Default  26.0000  26.0000\n",
       "..      ...         ...         ...      ...      ...      ...\n",
       "15   python    3.269479  128.767440  Topic15  -3.2555  -0.5874\n",
       "4      know    1.060011   36.960086  Topic15  -4.3819  -0.4656\n",
       "48    model    0.748079   35.071813  Topic15  -4.7304  -0.7617\n",
       "21  process    0.610533   21.752314  Topic15  -4.9336  -0.4872\n",
       "2    scienc    0.610600   51.352031  Topic15  -4.9335  -1.3461\n",
       "\n",
       "[539 rows x 6 columns], token_table=      Topic      Freq       Term\n",
       "term                            \n",
       "3         1  0.040646  algorithm\n",
       "3         4  0.731630  algorithm\n",
       "3         5  0.040646  algorithm\n",
       "3         7  0.081292  algorithm\n",
       "3        13  0.040646  algorithm\n",
       "...     ...       ...        ...\n",
       "27       13  0.050071      write\n",
       "28        2  0.121691       year\n",
       "28        4  0.060845       year\n",
       "28        5  0.060845       year\n",
       "28       13  0.669299       year\n",
       "\n",
       "[516 rows x 3 columns], R=30, lambda_step=0.01, plot_opts={'xlab': 'PC1', 'ylab': 'PC2'}, topic_order=[3, 9, 2, 15, 4, 8, 13, 7, 10, 1, 14, 6, 12, 5, 11])"
      ]
     },
     "execution_count": 105,
     "metadata": {},
     "output_type": "execute_result"
    }
   ],
   "source": [
    "import pyLDAvis.gensim\n",
    "import pickle \n",
    "import pyLDAvis\n",
    "import os\n",
    "\n",
    "# Visualize the topics\n",
    "pyLDAvis.enable_notebook()\n",
    "LDAvis_data_filepath = os.path.join('./results/ldavis_prepared_'+str(lda_model.num_topics))\n",
    "viz_prep = True\n",
    "if viz_prep:\n",
    "    LDAvis_prepared = pyLDAvis.gensim.prepare(lda_model, corpus_tfidf, dictionary)\n",
    "    with open(LDAvis_data_filepath, 'wb') as f:\n",
    "        pickle.dump(LDAvis_prepared, f)\n",
    "else:\n",
    "    # load the pre-prepared pyLDAvis data from disk\n",
    "    with open(LDAvis_data_filepath, 'rb') as f:\n",
    "        LDAvis_prepared = pickle.load(f)\n",
    "pyLDAvis.save_html(LDAvis_prepared, './results/ldavis_prepared_'+ str(lda_model.num_topics) +'.html')\n",
    "LDAvis_prepared"
   ]
  },
  {
   "cell_type": "code",
   "execution_count": null,
   "id": "e92820bb",
   "metadata": {},
   "outputs": [],
   "source": []
  }
 ],
 "metadata": {
  "kernelspec": {
   "display_name": "Python 3",
   "language": "python",
   "name": "python3"
  },
  "language_info": {
   "codemirror_mode": {
    "name": "ipython",
    "version": 3
   },
   "file_extension": ".py",
   "mimetype": "text/x-python",
   "name": "python",
   "nbconvert_exporter": "python",
   "pygments_lexer": "ipython3",
   "version": "3.8.8"
  }
 },
 "nbformat": 4,
 "nbformat_minor": 5
}
