{
 "cells": [
  {
   "cell_type": "code",
   "execution_count": 1,
   "id": "f13d31cd",
   "metadata": {},
   "outputs": [
    {
     "name": "stdout",
     "output_type": "stream",
     "text": [
      "Requirement already satisfied: tqdm in /Users/sejaldua/opt/anaconda3/lib/python3.8/site-packages (4.59.0)\n",
      "Requirement already satisfied: pyLDAvis in /Users/sejaldua/opt/anaconda3/lib/python3.8/site-packages (3.2.2)\n",
      "Requirement already satisfied: gensim in /Users/sejaldua/opt/anaconda3/lib/python3.8/site-packages (4.0.1)\n",
      "Requirement already satisfied: smart-open>=1.8.1 in /Users/sejaldua/opt/anaconda3/lib/python3.8/site-packages (from gensim) (5.1.0)\n",
      "Requirement already satisfied: scipy>=0.18.1 in /Users/sejaldua/opt/anaconda3/lib/python3.8/site-packages (from gensim) (1.6.2)\n",
      "Requirement already satisfied: numpy>=1.11.3 in /Users/sejaldua/opt/anaconda3/lib/python3.8/site-packages (from gensim) (1.19.5)\n",
      "Requirement already satisfied: joblib>=0.8.4 in /Users/sejaldua/opt/anaconda3/lib/python3.8/site-packages (from pyLDAvis) (1.0.1)\n",
      "Requirement already satisfied: future in /Users/sejaldua/opt/anaconda3/lib/python3.8/site-packages (from pyLDAvis) (0.18.2)\n",
      "Requirement already satisfied: jinja2>=2.7.2 in /Users/sejaldua/opt/anaconda3/lib/python3.8/site-packages (from pyLDAvis) (2.11.3)\n",
      "Requirement already satisfied: numexpr in /Users/sejaldua/opt/anaconda3/lib/python3.8/site-packages (from pyLDAvis) (2.7.3)\n",
      "Requirement already satisfied: funcy in /Users/sejaldua/opt/anaconda3/lib/python3.8/site-packages (from pyLDAvis) (1.16)\n",
      "Requirement already satisfied: wheel>=0.23.0 in /Users/sejaldua/opt/anaconda3/lib/python3.8/site-packages (from pyLDAvis) (0.36.2)\n",
      "Requirement already satisfied: pandas>=0.17.0 in /Users/sejaldua/opt/anaconda3/lib/python3.8/site-packages (from pyLDAvis) (1.2.4)\n",
      "Requirement already satisfied: MarkupSafe>=0.23 in /Users/sejaldua/opt/anaconda3/lib/python3.8/site-packages (from jinja2>=2.7.2->pyLDAvis) (1.1.1)\n",
      "Requirement already satisfied: python-dateutil>=2.7.3 in /Users/sejaldua/opt/anaconda3/lib/python3.8/site-packages (from pandas>=0.17.0->pyLDAvis) (2.8.1)\n",
      "Requirement already satisfied: pytz>=2017.3 in /Users/sejaldua/opt/anaconda3/lib/python3.8/site-packages (from pandas>=0.17.0->pyLDAvis) (2021.1)\n",
      "Requirement already satisfied: six>=1.5 in /Users/sejaldua/opt/anaconda3/lib/python3.8/site-packages (from python-dateutil>=2.7.3->pandas>=0.17.0->pyLDAvis) (1.15.0)\n"
     ]
    }
   ],
   "source": [
    "!pip install tqdm pyLDAvis gensim"
   ]
  },
  {
   "cell_type": "code",
   "execution_count": 2,
   "id": "b6675ace",
   "metadata": {},
   "outputs": [],
   "source": [
    "%load_ext autoreload\n",
    "%autoreload 2"
   ]
  },
  {
   "cell_type": "code",
   "execution_count": 3,
   "id": "872e57f9",
   "metadata": {},
   "outputs": [],
   "source": [
    "from quickstart import get_data\n",
    "service, messages = get_data()"
   ]
  },
  {
   "cell_type": "code",
   "execution_count": 8,
   "id": "bbd92f13",
   "metadata": {},
   "outputs": [
    {
     "name": "stdout",
     "output_type": "stream",
     "text": [
      "500\n"
     ]
    }
   ],
   "source": [
    "print(len(messages))"
   ]
  },
  {
   "cell_type": "code",
   "execution_count": 7,
   "id": "45a36a97",
   "metadata": {},
   "outputs": [
    {
     "name": "stderr",
     "output_type": "stream",
     "text": [
      "100%|██████████| 500/500 [01:15<00:00,  6.60it/s]\n"
     ]
    }
   ],
   "source": [
    "import base64\n",
    "import re\n",
    "from tqdm import tqdm\n",
    "import pandas as pd\n",
    "\n",
    "def parse_email_digest(content):\n",
    "    \"\"\" Returns a list of article information\n",
    "        title, subtitle, author, publication, minutes (reading time)\"\"\"\n",
    "    \n",
    "    msg_body = base64.urlsafe_b64decode(content).decode('utf-8')\n",
    "    text = re.sub(r'\\(https?:\\S+.*\\)', '', msg_body, flags=re.MULTILINE).strip('\\r')\n",
    "    # print(text.encode('utf=8'))\n",
    "    articles = [list(match) for match in re.findall('(.*)\\r\\n\\r\\n(.*)\\r\\n\\r\\n(.*) \\r\\n in (.*)\\r\\n*·(.*) min read', text, re.MULTILINE)]\n",
    "    return articles\n",
    "\n",
    "data = []\n",
    "for message in tqdm(messages):\n",
    "    \n",
    "    # Get an email by id\n",
    "    msg = service.users().messages().get(userId='me', id=message['id'], format='full').execute()\n",
    "    \n",
    "    # Get date of email for the purpose of topic modeling over time\n",
    "    for date_dict in msg['payload']['headers']:\n",
    "        if date_dict['name'] == 'Date':\n",
    "            date = date_dict['value']\n",
    "    date = pd.to_datetime(date).date()\n",
    "\n",
    "    # Get the email body\n",
    "    content = msg['payload']['parts'][0]['body']['data']\n",
    "    \n",
    "    # Extract article information for all articles featured in daily digest\n",
    "    for article in parse_email_digest(content):\n",
    "        data.append([date, *article])\n"
   ]
  },
  {
   "cell_type": "code",
   "execution_count": 9,
   "id": "9c97a8c5",
   "metadata": {},
   "outputs": [
    {
     "data": {
      "text/html": [
       "<div>\n",
       "<style scoped>\n",
       "    .dataframe tbody tr th:only-of-type {\n",
       "        vertical-align: middle;\n",
       "    }\n",
       "\n",
       "    .dataframe tbody tr th {\n",
       "        vertical-align: top;\n",
       "    }\n",
       "\n",
       "    .dataframe thead th {\n",
       "        text-align: right;\n",
       "    }\n",
       "</style>\n",
       "<table border=\"1\" class=\"dataframe\">\n",
       "  <thead>\n",
       "    <tr style=\"text-align: right;\">\n",
       "      <th></th>\n",
       "      <th>Date</th>\n",
       "      <th>Title</th>\n",
       "      <th>Subtitle</th>\n",
       "      <th>Author</th>\n",
       "      <th>Publication</th>\n",
       "      <th>Minutes</th>\n",
       "    </tr>\n",
       "  </thead>\n",
       "  <tbody>\n",
       "    <tr>\n",
       "      <th>0</th>\n",
       "      <td>2021-08-10</td>\n",
       "      <td>How To Plot Time Series</td>\n",
       "      <td>Produce elegant plots that tell a story</td>\n",
       "      <td>Nadim Kawwa</td>\n",
       "      <td>Towards Data Science</td>\n",
       "      <td>5</td>\n",
       "    </tr>\n",
       "    <tr>\n",
       "      <th>1</th>\n",
       "      <td>2021-08-10</td>\n",
       "      <td>Scraping Data from a Website</td>\n",
       "      <td>Using pandas to scrap data in a single line of...</td>\n",
       "      <td>Himanshu Sharma</td>\n",
       "      <td>MLearning.ai</td>\n",
       "      <td>2</td>\n",
       "    </tr>\n",
       "    <tr>\n",
       "      <th>2</th>\n",
       "      <td>2021-08-10</td>\n",
       "      <td>How to Web Scrape Tables Online, Using Python ...</td>\n",
       "      <td>Showing you how to create a universal code tha...</td>\n",
       "      <td>Christopher Zita</td>\n",
       "      <td>Analytics Vidhya</td>\n",
       "      <td>7</td>\n",
       "    </tr>\n",
       "    <tr>\n",
       "      <th>3</th>\n",
       "      <td>2021-08-10</td>\n",
       "      <td>Stop Using Exceptions Like This in Python</td>\n",
       "      <td>Four common error-handling mistakes to avoid i...</td>\n",
       "      <td>Jerry Ng</td>\n",
       "      <td>Better Programming</td>\n",
       "      <td>5</td>\n",
       "    </tr>\n",
       "    <tr>\n",
       "      <th>4</th>\n",
       "      <td>2021-08-10</td>\n",
       "      <td>Plotly Charts are Making Python Smarter</td>\n",
       "      <td>As data science has become a larger and larger...</td>\n",
       "      <td>Jake from Mito</td>\n",
       "      <td>trymito</td>\n",
       "      <td>3</td>\n",
       "    </tr>\n",
       "    <tr>\n",
       "      <th>...</th>\n",
       "      <td>...</td>\n",
       "      <td>...</td>\n",
       "      <td>...</td>\n",
       "      <td>...</td>\n",
       "      <td>...</td>\n",
       "      <td>...</td>\n",
       "    </tr>\n",
       "    <tr>\n",
       "      <th>1693</th>\n",
       "      <td>2021-03-23</td>\n",
       "      <td>Actually, Not a Ton of People Are Moving to Fl...</td>\n",
       "      <td>It turns out it's mostly tech moguls who have ...</td>\n",
       "      <td>Marker Editors</td>\n",
       "      <td>Marker</td>\n",
       "      <td>2</td>\n",
       "    </tr>\n",
       "    <tr>\n",
       "      <th>1694</th>\n",
       "      <td>2021-03-23</td>\n",
       "      <td>Why We Should All Care About the Messy Busines...</td>\n",
       "      <td>Marker readers weigh in on the relevance of st...</td>\n",
       "      <td>Marker Editors</td>\n",
       "      <td>Marker</td>\n",
       "      <td>2</td>\n",
       "    </tr>\n",
       "    <tr>\n",
       "      <th>1695</th>\n",
       "      <td>2021-03-23</td>\n",
       "      <td>Why the Pandemic Is Causing You Motivation Par...</td>\n",
       "      <td>It's time to reset your brain by being nice to it</td>\n",
       "      <td>Allison Hirschlag</td>\n",
       "      <td>The Bold Italic</td>\n",
       "      <td>5</td>\n",
       "    </tr>\n",
       "    <tr>\n",
       "      <th>1696</th>\n",
       "      <td>2021-03-23</td>\n",
       "      <td>The Key to Achieving Your Goals Is Controlled ...</td>\n",
       "      <td>3 strategies for making mistakes you can learn...</td>\n",
       "      <td>Kristin Wong</td>\n",
       "      <td>Forge</td>\n",
       "      <td>5</td>\n",
       "    </tr>\n",
       "    <tr>\n",
       "      <th>1697</th>\n",
       "      <td>2021-03-23</td>\n",
       "      <td>The 70–20–10 System Will Help You Make Really ...</td>\n",
       "      <td>Even you don't think you're aware of Jonathan ...</td>\n",
       "      <td>Amy Shearn</td>\n",
       "      <td>Forge</td>\n",
       "      <td>2</td>\n",
       "    </tr>\n",
       "  </tbody>\n",
       "</table>\n",
       "<p>1698 rows × 6 columns</p>\n",
       "</div>"
      ],
      "text/plain": [
       "            Date                                              Title  \\\n",
       "0     2021-08-10                            How To Plot Time Series   \n",
       "1     2021-08-10                       Scraping Data from a Website   \n",
       "2     2021-08-10  How to Web Scrape Tables Online, Using Python ...   \n",
       "3     2021-08-10          Stop Using Exceptions Like This in Python   \n",
       "4     2021-08-10            Plotly Charts are Making Python Smarter   \n",
       "...          ...                                                ...   \n",
       "1693  2021-03-23  Actually, Not a Ton of People Are Moving to Fl...   \n",
       "1694  2021-03-23  Why We Should All Care About the Messy Busines...   \n",
       "1695  2021-03-23  Why the Pandemic Is Causing You Motivation Par...   \n",
       "1696  2021-03-23  The Key to Achieving Your Goals Is Controlled ...   \n",
       "1697  2021-03-23  The 70–20–10 System Will Help You Make Really ...   \n",
       "\n",
       "                                               Subtitle             Author  \\\n",
       "0               Produce elegant plots that tell a story        Nadim Kawwa   \n",
       "1     Using pandas to scrap data in a single line of...    Himanshu Sharma   \n",
       "2     Showing you how to create a universal code tha...   Christopher Zita   \n",
       "3     Four common error-handling mistakes to avoid i...           Jerry Ng   \n",
       "4     As data science has become a larger and larger...     Jake from Mito   \n",
       "...                                                 ...                ...   \n",
       "1693  It turns out it's mostly tech moguls who have ...     Marker Editors   \n",
       "1694  Marker readers weigh in on the relevance of st...     Marker Editors   \n",
       "1695  It's time to reset your brain by being nice to it  Allison Hirschlag   \n",
       "1696  3 strategies for making mistakes you can learn...       Kristin Wong   \n",
       "1697  Even you don't think you're aware of Jonathan ...         Amy Shearn   \n",
       "\n",
       "                Publication  Minutes  \n",
       "0     Towards Data Science         5  \n",
       "1             MLearning.ai         2  \n",
       "2         Analytics Vidhya         7  \n",
       "3       Better Programming         5  \n",
       "4                  trymito         3  \n",
       "...                     ...      ...  \n",
       "1693                Marker         2  \n",
       "1694                Marker         2  \n",
       "1695       The Bold Italic         5  \n",
       "1696                 Forge         5  \n",
       "1697                 Forge         2  \n",
       "\n",
       "[1698 rows x 6 columns]"
      ]
     },
     "execution_count": 9,
     "metadata": {},
     "output_type": "execute_result"
    }
   ],
   "source": [
    "df = pd.DataFrame(data, columns = ['Date', 'Title', 'Subtitle', 'Author', 'Publication', 'Minutes'])\n",
    "df['Minutes'] = df['Minutes'].astype(int)\n",
    "df.to_csv('article_data_via_gmail_api.csv', index=False)\n",
    "df"
   ]
  },
  {
   "cell_type": "code",
   "execution_count": 10,
   "id": "ee3e4b1a",
   "metadata": {},
   "outputs": [
    {
     "data": {
      "image/png": "[encoded data removed]",
      "text/plain": [
       "<Figure size 432x288 with 1 Axes>"
      ]
     },
     "metadata": {
      "needs_background": "light"
     },
     "output_type": "display_data"
    }
   ],
   "source": [
    "df['Publication'].value_counts().iloc[:10].plot.bar();"
   ]
  },
  {
   "cell_type": "markdown",
   "id": "71bd0a37",
   "metadata": {},
   "source": [
    "## Data Preprocessing"
   ]
  },
  {
   "cell_type": "markdown",
   "id": "5b5ebd9b",
   "metadata": {},
   "source": [
    "### Lemmatization and Stemming"
   ]
  },
  {
   "cell_type": "code",
   "execution_count": 11,
   "id": "80a9a329",
   "metadata": {},
   "outputs": [
    {
     "name": "stderr",
     "output_type": "stream",
     "text": [
      "/Users/sejaldua/opt/anaconda3/lib/python3.8/site-packages/gensim/similarities/__init__.py:15: UserWarning: The gensim.similarities.levenshtein submodule is disabled, because the optional Levenshtein package <https://pypi.org/project/python-Levenshtein/> is unavailable. Install Levenhstein (e.g. `pip install python-Levenshtein`) to suppress this warning.\n",
      "  warnings.warn(msg)\n",
      "[nltk_data] Downloading package wordnet to\n",
      "[nltk_data]     /Users/sejaldua/nltk_data...\n",
      "[nltk_data]   Package wordnet is already up-to-date!\n"
     ]
    },
    {
     "data": {
      "text/plain": [
       "True"
      ]
     },
     "execution_count": 11,
     "metadata": {},
     "output_type": "execute_result"
    }
   ],
   "source": [
    "import gensim\n",
    "from gensim.utils import simple_preprocess\n",
    "from gensim.parsing.preprocessing import STOPWORDS\n",
    "from nltk.stem import WordNetLemmatizer, SnowballStemmer\n",
    "from nltk.stem.porter import *\n",
    "import numpy as np\n",
    "np.random.seed(2018)\n",
    "import nltk\n",
    "nltk.download('wordnet')"
   ]
  },
  {
   "cell_type": "code",
   "execution_count": 12,
   "id": "73bde11f",
   "metadata": {},
   "outputs": [],
   "source": [
    "stemmer = SnowballStemmer('english')\n",
    "\n",
    "def lemmatize_stemming(text):\n",
    "    return stemmer.stem(WordNetLemmatizer().lemmatize(text, pos='v'))\n",
    "\n",
    "def preprocess(text):\n",
    "    result = []\n",
    "    for token in gensim.utils.simple_preprocess(text):\n",
    "        if token not in gensim.parsing.preprocessing.STOPWORDS and len(token) > 3:\n",
    "            result.append(lemmatize_stemming(token))\n",
    "    return result"
   ]
  },
  {
   "cell_type": "code",
   "execution_count": 18,
   "id": "7c5d29ab",
   "metadata": {},
   "outputs": [
    {
     "name": "stdout",
     "output_type": "stream",
     "text": [
      "original document: \n",
      "['How', 'To', 'Plot', 'Time', 'Series']\n",
      "\n",
      "tokenized and lemmatized document: \n",
      "['plot', 'time', 'seri']\n"
     ]
    }
   ],
   "source": [
    "doc_sample = df['Title'].iloc[0]\n",
    "print('original document: ')\n",
    "words = []\n",
    "for word in doc_sample.split(' '):\n",
    "    words.append(word)\n",
    "print(words)\n",
    "print('\\ntokenized and lemmatized document: ')\n",
    "print(preprocess(doc_sample))"
   ]
  },
  {
   "cell_type": "code",
   "execution_count": 19,
   "id": "7ac1e386",
   "metadata": {},
   "outputs": [
    {
     "data": {
      "text/html": [
       "<div>\n",
       "<style scoped>\n",
       "    .dataframe tbody tr th:only-of-type {\n",
       "        vertical-align: middle;\n",
       "    }\n",
       "\n",
       "    .dataframe tbody tr th {\n",
       "        vertical-align: top;\n",
       "    }\n",
       "\n",
       "    .dataframe thead th {\n",
       "        text-align: right;\n",
       "    }\n",
       "</style>\n",
       "<table border=\"1\" class=\"dataframe\">\n",
       "  <thead>\n",
       "    <tr style=\"text-align: right;\">\n",
       "      <th></th>\n",
       "      <th>Title</th>\n",
       "      <th>Subtitle</th>\n",
       "      <th>Titles_combined</th>\n",
       "    </tr>\n",
       "  </thead>\n",
       "  <tbody>\n",
       "    <tr>\n",
       "      <th>0</th>\n",
       "      <td>How To Plot Time Series</td>\n",
       "      <td>Produce elegant plots that tell a story</td>\n",
       "      <td>How To Plot Time Series Produce elegant plots ...</td>\n",
       "    </tr>\n",
       "    <tr>\n",
       "      <th>1</th>\n",
       "      <td>Scraping Data from a Website</td>\n",
       "      <td>Using pandas to scrap data in a single line of...</td>\n",
       "      <td>Scraping Data from a Website Using pandas to s...</td>\n",
       "    </tr>\n",
       "    <tr>\n",
       "      <th>2</th>\n",
       "      <td>How to Web Scrape Tables Online, Using Python ...</td>\n",
       "      <td>Showing you how to create a universal code tha...</td>\n",
       "      <td>How to Web Scrape Tables Online, Using Python ...</td>\n",
       "    </tr>\n",
       "    <tr>\n",
       "      <th>3</th>\n",
       "      <td>Stop Using Exceptions Like This in Python</td>\n",
       "      <td>Four common error-handling mistakes to avoid i...</td>\n",
       "      <td>Stop Using Exceptions Like This in Python Four...</td>\n",
       "    </tr>\n",
       "    <tr>\n",
       "      <th>4</th>\n",
       "      <td>Plotly Charts are Making Python Smarter</td>\n",
       "      <td>As data science has become a larger and larger...</td>\n",
       "      <td>Plotly Charts are Making Python Smarter As dat...</td>\n",
       "    </tr>\n",
       "  </tbody>\n",
       "</table>\n",
       "</div>"
      ],
      "text/plain": [
       "                                               Title  \\\n",
       "0                            How To Plot Time Series   \n",
       "1                       Scraping Data from a Website   \n",
       "2  How to Web Scrape Tables Online, Using Python ...   \n",
       "3          Stop Using Exceptions Like This in Python   \n",
       "4            Plotly Charts are Making Python Smarter   \n",
       "\n",
       "                                            Subtitle  \\\n",
       "0            Produce elegant plots that tell a story   \n",
       "1  Using pandas to scrap data in a single line of...   \n",
       "2  Showing you how to create a universal code tha...   \n",
       "3  Four common error-handling mistakes to avoid i...   \n",
       "4  As data science has become a larger and larger...   \n",
       "\n",
       "                                     Titles_combined  \n",
       "0  How To Plot Time Series Produce elegant plots ...  \n",
       "1  Scraping Data from a Website Using pandas to s...  \n",
       "2  How to Web Scrape Tables Online, Using Python ...  \n",
       "3  Stop Using Exceptions Like This in Python Four...  \n",
       "4  Plotly Charts are Making Python Smarter As dat...  "
      ]
     },
     "execution_count": 19,
     "metadata": {},
     "output_type": "execute_result"
    }
   ],
   "source": [
    "df['Titles_combined'] = df[['Title', 'Subtitle']].agg(' '.join, axis=1)\n",
    "df[['Title', 'Subtitle', 'Titles_combined']].head()"
   ]
  },
  {
   "cell_type": "code",
   "execution_count": 20,
   "id": "3d36daf3",
   "metadata": {},
   "outputs": [
    {
     "data": {
      "text/plain": [
       "0                                   [plot, time, seri]\n",
       "1                                [scrap, data, websit]\n",
       "2         [scrape, tabl, onlin, python, beautifulsoup]\n",
       "3                         [stop, except, like, python]\n",
       "4                 [plot, chart, make, python, smarter]\n",
       "5    [perform, exploratori, data, analysi, line, code]\n",
       "6                                          [cod, trap]\n",
       "7                            [need, break, rule, data]\n",
       "8    [python, selenium, lifetim, suppli, garlic, pi...\n",
       "9                       [machin, learn, model, deploy]\n",
       "Name: Title, dtype: object"
      ]
     },
     "execution_count": 20,
     "metadata": {},
     "output_type": "execute_result"
    }
   ],
   "source": [
    "# processed_docs = df['Titles_combined'].map(preprocess)\n",
    "processed_docs = df['Title'].map(preprocess)\n",
    "processed_docs[:10]"
   ]
  },
  {
   "cell_type": "markdown",
   "id": "894092ca",
   "metadata": {},
   "source": [
    "### Bag of Words"
   ]
  },
  {
   "cell_type": "code",
   "execution_count": 21,
   "id": "05433a50",
   "metadata": {},
   "outputs": [
    {
     "name": "stdout",
     "output_type": "stream",
     "text": [
      "0 plot\n",
      "1 seri\n",
      "2 time\n",
      "3 data\n",
      "4 scrap\n",
      "5 websit\n",
      "6 beautifulsoup\n",
      "7 onlin\n",
      "8 python\n",
      "9 scrape\n"
     ]
    }
   ],
   "source": [
    "dictionary = gensim.corpora.Dictionary(processed_docs)\n",
    "for k, v in list(dictionary.items())[:10]:\n",
    "    print(k, v)"
   ]
  },
  {
   "cell_type": "code",
   "execution_count": 22,
   "id": "55189f41",
   "metadata": {},
   "outputs": [
    {
     "name": "stdout",
     "output_type": "stream",
     "text": [
      "Word 0 (\"plot\") appears 1 time.\n",
      "Word 1 (\"time\") appears 1 time.\n"
     ]
    }
   ],
   "source": [
    "dictionary.filter_extremes(no_below=15, no_above=0.5, keep_n=100000)\n",
    "bow_corpus = [dictionary.doc2bow(doc) for doc in processed_docs]\n",
    "bow_doc_1 = bow_corpus[0]\n",
    "\n",
    "for i in range(len(bow_doc_1)):\n",
    "    print(\"Word {} (\\\"{}\\\") appears {} time.\".format(bow_doc_1[i][0], \n",
    "                                                     dictionary[bow_doc_1[i][0]], \n",
    "                                                     bow_doc_1[i][1]))\n"
   ]
  },
  {
   "cell_type": "markdown",
   "id": "2d0f7240",
   "metadata": {},
   "source": [
    "### TF-IDF"
   ]
  },
  {
   "cell_type": "code",
   "execution_count": 23,
   "id": "3792d5e8",
   "metadata": {},
   "outputs": [
    {
     "name": "stdout",
     "output_type": "stream",
     "text": [
      "[(0, 0.6771504535941453), (1, 0.7358445917428784)]\n"
     ]
    }
   ],
   "source": [
    "from gensim import corpora, models\n",
    "\n",
    "tfidf = models.TfidfModel(bow_corpus)\n",
    "corpus_tfidf = tfidf[bow_corpus]\n",
    "print(corpus_tfidf[0])"
   ]
  },
  {
   "cell_type": "markdown",
   "id": "86cae5ab",
   "metadata": {},
   "source": [
    "### Latent Dirichlet Allocation (LDA)"
   ]
  },
  {
   "cell_type": "code",
   "execution_count": 24,
   "id": "4ee1d175",
   "metadata": {},
   "outputs": [],
   "source": [
    "lda_model = gensim.models.LdaMulticore(corpus_tfidf, num_topics=15, id2word=dictionary, passes=2, workers=4)"
   ]
  },
  {
   "cell_type": "code",
   "execution_count": 25,
   "id": "f9f0eb8f",
   "metadata": {},
   "outputs": [
    {
     "name": "stdout",
     "output_type": "stream",
     "text": [
      "Topic: 0 Word: 0.188*\"data\" + 0.173*\"scienc\" + 0.114*\"scientist\" + 0.064*\"word\" + 0.051*\"product\" + 0.046*\"intellig\" + 0.040*\"python\" + 0.022*\"book\" + 0.014*\"machin\" + 0.014*\"beginn\"\n",
      "Topic: 1 Word: 0.105*\"build\" + 0.094*\"write\" + 0.083*\"understand\" + 0.079*\"year\" + 0.079*\"featur\" + 0.069*\"want\" + 0.057*\"network\" + 0.049*\"import\" + 0.036*\"extract\" + 0.022*\"notebook\"\n",
      "Topic: 2 Word: 0.133*\"languag\" + 0.110*\"natur\" + 0.108*\"process\" + 0.084*\"use\" + 0.034*\"python\" + 0.033*\"librari\" + 0.030*\"data\" + 0.029*\"text\" + 0.026*\"beginn\" + 0.025*\"scientist\"\n",
      "Topic: 3 Word: 0.114*\"know\" + 0.087*\"person\" + 0.078*\"dataset\" + 0.076*\"effect\" + 0.066*\"introduct\" + 0.065*\"python\" + 0.044*\"plot\" + 0.041*\"data\" + 0.032*\"scienc\" + 0.027*\"creat\"\n",
      "Topic: 4 Word: 0.185*\"learn\" + 0.170*\"machin\" + 0.146*\"data\" + 0.087*\"visual\" + 0.026*\"deep\" + 0.026*\"scienc\" + 0.022*\"predict\" + 0.020*\"build\" + 0.019*\"algorithm\" + 0.018*\"understand\"\n",
      "Topic: 5 Word: 0.091*\"text\" + 0.086*\"model\" + 0.084*\"algorithm\" + 0.070*\"python\" + 0.063*\"classif\" + 0.052*\"learn\" + 0.049*\"machin\" + 0.047*\"summar\" + 0.044*\"plot\" + 0.031*\"exampl\"\n",
      "Topic: 6 Word: 0.083*\"best\" + 0.080*\"analysi\" + 0.070*\"sentiment\" + 0.056*\"twitter\" + 0.047*\"program\" + 0.046*\"scienc\" + 0.041*\"python\" + 0.040*\"know\" + 0.039*\"data\" + 0.038*\"beginn\"\n",
      "Topic: 7 Word: 0.181*\"scrap\" + 0.114*\"creat\" + 0.088*\"python\" + 0.084*\"data\" + 0.055*\"extract\" + 0.045*\"machin\" + 0.044*\"learn\" + 0.027*\"tutori\" + 0.027*\"project\" + 0.019*\"scientist\"\n",
      "Topic: 8 Word: 0.168*\"mathemat\" + 0.114*\"statist\" + 0.112*\"react\" + 0.081*\"need\" + 0.067*\"librari\" + 0.051*\"visual\" + 0.038*\"data\" + 0.036*\"know\" + 0.036*\"trend\" + 0.025*\"develop\"\n",
      "Topic: 9 Word: 0.122*\"detect\" + 0.108*\"onlin\" + 0.061*\"python\" + 0.058*\"book\" + 0.049*\"simpl\" + 0.044*\"develop\" + 0.042*\"creat\" + 0.038*\"method\" + 0.031*\"scienc\" + 0.031*\"learn\"\n",
      "Topic: 10 Word: 0.106*\"work\" + 0.095*\"guid\" + 0.071*\"generat\" + 0.069*\"time\" + 0.054*\"read\" + 0.049*\"googl\" + 0.048*\"python\" + 0.038*\"autom\" + 0.038*\"data\" + 0.037*\"explain\"\n",
      "Topic: 11 Word: 0.162*\"code\" + 0.078*\"regress\" + 0.075*\"python\" + 0.071*\"chang\" + 0.070*\"data\" + 0.055*\"start\" + 0.037*\"network\" + 0.029*\"analysi\" + 0.028*\"scientist\" + 0.028*\"introduct\"\n",
      "Topic: 12 Word: 0.347*\"python\" + 0.085*\"panda\" + 0.058*\"topic\" + 0.057*\"model\" + 0.043*\"compon\" + 0.037*\"data\" + 0.037*\"tweet\" + 0.031*\"analysi\" + 0.021*\"visual\" + 0.021*\"time\"\n",
      "Topic: 13 Word: 0.102*\"plot\" + 0.093*\"jupyt\" + 0.083*\"project\" + 0.075*\"react\" + 0.066*\"creat\" + 0.054*\"develop\" + 0.050*\"build\" + 0.048*\"notebook\" + 0.036*\"start\" + 0.031*\"simpl\"\n",
      "Topic: 14 Word: 0.137*\"learn\" + 0.109*\"predict\" + 0.077*\"probabl\" + 0.066*\"imag\" + 0.053*\"deep\" + 0.051*\"project\" + 0.044*\"scienc\" + 0.039*\"sentiment\" + 0.037*\"classif\" + 0.033*\"data\"\n"
     ]
    }
   ],
   "source": [
    "for idx, topic in lda_model.print_topics(-1):\n",
    "    print('Topic: {} Word: {}'.format(idx, topic))"
   ]
  },
  {
   "cell_type": "code",
   "execution_count": 26,
   "id": "1cb8bb67",
   "metadata": {},
   "outputs": [
    {
     "data": {
      "text/html": [
       "\n",
       "<link rel=\"stylesheet\" type=\"text/css\" href=\"https://cdn.jsdelivr.net/gh/bmabey/pyLDAvis@3.2.2/pyLDAvis/js/ldavis.v1.0.0.css\">\n",
       "\n",
       "\n",
       "<div id=\"ldavis_el466591405152641098081998016676\"></div>\n",
       "<script type=\"text/javascript\">\n",
       "\n",
       "var ldavis_el466591405152641098081998016676_data = {\"mdsDat\": {\"x\": [-0.0047397202330101045, -0.09713283350393925, -0.04579522323667912, -0.03600425281529071, -0.13647828880310706, -0.01985274836124268, 0.011958280997914473, 0.26331345577577675, 0.0021280623854113122, -0.036076574111168255, 0.14615641880551317, 0.030858410931919735, -0.10090639086507366, -0.014659697548673058, 0.037231100581648455], \"y\": [-0.1364353175712992, -0.0690459394322824, -0.04681223290167651, 0.04660233641135564, 0.09458270317102072, -0.09553627462595934, -0.005868976602479646, -0.03508705993740876, 0.26546624930341045, 0.02679158779072328, 0.04070904016101195, 0.05561527513281806, -0.07729777626326531, 0.0036919210339608367, -0.06737553566992997], \"topics\": [1, 2, 3, 4, 5, 6, 7, 8, 9, 10, 11, 12, 13, 14, 15], \"cluster\": [1, 1, 1, 1, 1, 1, 1, 1, 1, 1, 1, 1, 1, 1, 1], \"Freq\": [8.266304091059151, 8.230384565560831, 8.209843811533739, 7.646220619134908, 7.553039924635079, 6.895943023254287, 6.7554977202117215, 6.630336308047154, 6.344214411195452, 6.247822841020774, 6.041208600248501, 6.005744326425657, 5.551440211760824, 5.073152889484461, 4.548846656427456]}, \"tinfo\": {\"Term\": [\"python\", \"mathemat\", \"learn\", \"scrap\", \"code\", \"scienc\", \"machin\", \"languag\", \"react\", \"creat\", \"plot\", \"detect\", \"data\", \"predict\", \"know\", \"work\", \"natur\", \"statist\", \"scientist\", \"onlin\", \"process\", \"guid\", \"jupyt\", \"write\", \"best\", \"build\", \"person\", \"generat\", \"project\", \"sentiment\", \"summar\", \"algorithm\", \"text\", \"tree\", \"decis\", \"classif\", \"exampl\", \"model\", \"linear\", \"tutori\", \"plot\", \"explain\", \"autom\", \"method\", \"machin\", \"dataset\", \"simpl\", \"topic\", \"chang\", \"regress\", \"learn\", \"need\", \"python\", \"extract\", \"word\", \"write\", \"tweet\", \"analysi\", \"task\", \"code\", \"data\", \"mathemat\", \"creat\", \"intellig\", \"scientist\", \"product\", \"word\", \"scienc\", \"data\", \"book\", \"beginn\", \"program\", \"understand\", \"simpl\", \"process\", \"topic\", \"guid\", \"natur\", \"explain\", \"scrap\", \"code\", \"write\", \"googl\", \"build\", \"project\", \"python\", \"visual\", \"tutori\", \"machin\", \"import\", \"model\", \"network\", \"languag\", \"mathemat\", \"learn\", \"classif\", \"plot\", \"text\", \"generat\", \"work\", \"read\", \"time\", \"guid\", \"autom\", \"googl\", \"exploratori\", \"explain\", \"book\", \"trick\", \"analysi\", \"word\", \"task\", \"jupyt\", \"product\", \"tutori\", \"notebook\", \"beginn\", \"creat\", \"scrap\", \"start\", \"algorithm\", \"import\", \"learn\", \"predict\", \"visual\", \"python\", \"probabl\", \"data\", \"know\", \"text\", \"machin\", \"panda\", \"compon\", \"topic\", \"tweet\", \"python\", \"model\", \"time\", \"trick\", \"exploratori\", \"analysi\", \"get\", \"intellig\", \"explain\", \"visual\", \"react\", \"librari\", \"understand\", \"build\", \"know\", \"data\", \"imag\", \"task\", \"notebook\", \"probabl\", \"person\", \"plot\", \"code\", \"linear\", \"method\", \"creat\", \"text\", \"write\", \"machin\", \"scienc\", \"learn\", \"languag\", \"best\", \"twitter\", \"sentiment\", \"get\", \"program\", \"beginn\", \"analysi\", \"tweet\", \"librari\", \"decis\", \"tree\", \"start\", \"know\", \"googl\", \"statist\", \"trend\", \"work\", \"year\", \"guid\", \"regress\", \"scienc\", \"trick\", \"linear\", \"task\", \"tutori\", \"project\", \"process\", \"languag\", \"book\", \"model\", \"data\", \"python\", \"scrap\", \"learn\", \"machin\", \"learn\", \"visual\", \"deep\", \"data\", \"notebook\", \"predict\", \"tree\", \"summar\", \"understand\", \"algorithm\", \"extract\", \"program\", \"word\", \"build\", \"dataset\", \"exampl\", \"twitter\", \"scienc\", \"person\", \"featur\", \"topic\", \"tweet\", \"trend\", \"chang\", \"model\", \"time\", \"know\", \"introduct\", \"decis\", \"scientist\", \"statist\", \"python\", \"react\", \"analysi\", \"text\", \"code\", \"regress\", \"chang\", \"start\", \"network\", \"trick\", \"task\", \"exampl\", \"introduct\", \"linear\", \"explain\", \"exploratori\", \"scientist\", \"analysi\", \"data\", \"visual\", \"simpl\", \"python\", \"word\", \"dataset\", \"statist\", \"import\", \"build\", \"learn\", \"featur\", \"work\", \"program\", \"use\", \"twitter\", \"effect\", \"person\", \"mathemat\", \"scienc\", \"project\", \"machin\", \"year\", \"want\", \"write\", \"featur\", \"import\", \"understand\", \"network\", \"build\", \"extract\", \"notebook\", \"method\", \"jupyt\", \"text\", \"compon\", \"start\", \"introduct\", \"simpl\", \"intellig\", \"algorithm\", \"autom\", \"process\", \"visual\", \"get\", \"code\", \"best\", \"creat\", \"dataset\", \"read\", \"react\", \"tree\", \"natur\", \"data\", \"machin\", \"analysi\", \"learn\", \"python\", \"mathemat\", \"need\", \"statist\", \"react\", \"trend\", \"librari\", \"trick\", \"develop\", \"visual\", \"introduct\", \"get\", \"know\", \"linear\", \"compon\", \"scrap\", \"understand\", \"panda\", \"exploratori\", \"onlin\", \"imag\", \"detect\", \"data\", \"use\", \"start\", \"intellig\", \"machin\", \"analysi\", \"natur\", \"text\", \"dataset\", \"learn\", \"python\", \"guid\", \"languag\", \"natur\", \"use\", \"process\", \"beginn\", \"librari\", \"featur\", \"onlin\", \"text\", \"googl\", \"extract\", \"guid\", \"intellig\", \"best\", \"tutori\", \"panda\", \"scientist\", \"project\", \"exploratori\", \"imag\", \"program\", \"classif\", \"model\", \"method\", \"topic\", \"book\", \"visual\", \"summar\", \"tree\", \"autom\", \"data\", \"python\", \"machin\", \"learn\", \"scienc\", \"code\", \"statist\", \"analysi\", \"jupyt\", \"plot\", \"develop\", \"notebook\", \"project\", \"react\", \"task\", \"creat\", \"want\", \"start\", \"simpl\", \"build\", \"chang\", \"probabl\", \"compon\", \"product\", \"get\", \"analysi\", \"algorithm\", \"exampl\", \"summar\", \"statist\", \"visual\", \"sentiment\", \"effect\", \"twitter\", \"extract\", \"deep\", \"tutori\", \"beginn\", \"python\", \"data\", \"learn\", \"know\", \"topic\", \"understand\", \"mathemat\", \"effect\", \"person\", \"dataset\", \"introduct\", \"know\", \"plot\", \"trend\", \"method\", \"featur\", \"write\", \"probabl\", \"creat\", \"librari\", \"classif\", \"process\", \"chang\", \"scienc\", \"simpl\", \"import\", \"linear\", \"project\", \"python\", \"scientist\", \"need\", \"explain\", \"get\", \"work\", \"data\", \"sentiment\", \"build\", \"scrap\", \"model\", \"visual\", \"analysi\", \"imag\", \"predict\", \"probabl\", \"deep\", \"sentiment\", \"learn\", \"product\", \"project\", \"classif\", \"trend\", \"tutori\", \"topic\", \"program\", \"scienc\", \"simpl\", \"model\", \"read\", \"detect\", \"know\", \"start\", \"beginn\", \"machin\", \"need\", \"get\", \"book\", \"data\", \"statist\", \"method\", \"summar\", \"year\", \"creat\", \"python\", \"analysi\", \"build\", \"visual\", \"scrap\", \"extract\", \"creat\", \"tutori\", \"detect\", \"need\", \"project\", \"machin\", \"data\", \"python\", \"word\", \"develop\", \"learn\", \"scientist\", \"statist\", \"exampl\", \"tweet\", \"visual\", \"linear\", \"task\", \"analysi\", \"intellig\", \"start\", \"featur\", \"get\", \"librari\", \"trend\", \"text\", \"want\", \"person\", \"classif\", \"regress\", \"react\", \"know\", \"scienc\", \"algorithm\", \"onlin\", \"detect\", \"book\", \"method\", \"develop\", \"simpl\", \"decis\", \"network\", \"exampl\", \"deep\", \"import\", \"creat\", \"read\", \"sentiment\", \"write\", \"predict\", \"use\", \"tree\", \"scienc\", \"linear\", \"languag\", \"task\", \"python\", \"chang\", \"program\", \"build\", \"learn\", \"trend\", \"classif\", \"imag\", \"analysi\", \"process\", \"data\", \"model\", \"plot\", \"scrap\"], \"Freq\": [124.0, 24.0, 71.0, 29.0, 29.0, 53.0, 48.0, 21.0, 29.0, 32.0, 27.0, 15.0, 106.0, 18.0, 32.0, 25.0, 18.0, 25.0, 31.0, 12.0, 21.0, 25.0, 17.0, 18.0, 15.0, 33.0, 12.0, 12.0, 27.0, 18.0, 7.299816754969781, 13.002465650860799, 14.070605488659165, 4.605168423953691, 4.394725921882585, 9.798113108738319, 4.793180457075263, 13.294425759164971, 4.0186060174389695, 3.5891899701083907, 6.856640709139563, 3.744663779492737, 2.1805014997131384, 2.1783120875701356, 7.656606787184541, 2.460962467307111, 3.0940748156695745, 2.571085467026725, 2.2766874023307357, 2.081420388566535, 8.075788065244875, 1.7895118077285792, 10.852282508132998, 1.0628717677998523, 1.191187715794835, 0.9933436070465673, 0.528626626648602, 1.6278632181418595, 0.48716177456044674, 1.2195377813045232, 2.4006331861180685, 0.6311218293523672, 0.6634193029112995, 7.1152536679773855, 17.546029345197233, 7.854335400622061, 9.8785935475045, 26.75012789245746, 29.037412658758615, 3.4440620115474423, 2.1362703538960988, 1.993085267769333, 2.0770706394444907, 1.9007966226037192, 2.0416967600726985, 1.2590575828822488, 1.7759589556616662, 1.1791875618179741, 1.1302138548547374, 1.7279366639555915, 1.6642973948571278, 1.0064343778146727, 0.7158211708696014, 1.7070382935995347, 1.419521335793227, 6.242833828261303, 1.7156508255498373, 0.6228527894051618, 2.192131600280472, 0.5079996295603225, 1.5065096186100895, 0.6975611976759742, 0.8512561135300507, 0.9615143709607974, 2.0385179509965825, 0.775599882688645, 0.8674837039316811, 0.8105488909468053, 10.943699902224832, 16.24194183113788, 8.355964338084636, 10.555528529745523, 14.673466183229392, 5.857185310757653, 7.567809651277671, 5.707177089655089, 5.752102606345273, 2.7580015522102874, 1.7254232414981447, 5.597335778184487, 2.5449015065709744, 1.507253521885427, 2.063692169993185, 1.438525795580358, 1.3357383922951112, 1.310029500173857, 1.2225884469676922, 2.7429828975082113, 2.427013166367378, 1.8768843027782924, 1.79777941285255, 0.8505659628737503, 4.79025618163458, 1.2006528538671062, 2.2799228102687352, 7.383816294575527, 0.7669307488678602, 5.810504057856806, 1.4148773992373576, 1.2591719230762919, 1.4592558968730116, 12.122671403169115, 6.137406735124553, 8.320482037811997, 5.2694299782561895, 49.71423051455033, 8.160758874660248, 2.9868944440009364, 1.9186446584097658, 1.9374263753419811, 4.41306891740479, 1.0723949298366615, 1.3254112075718094, 1.5535049523893132, 3.0067518317391912, 2.3805950039890087, 1.7120065209183413, 1.2790481536879077, 2.098324271945678, 1.7809619994193027, 5.351163870541249, 0.5143169028726754, 0.5416766839471593, 0.6331660439786159, 0.6017228659278223, 0.5273418050799644, 1.135592225159704, 1.1821293729657947, 0.452620533467369, 0.43112043473057704, 1.255616099717592, 0.9865648238448247, 0.6271530615288431, 1.131927441291541, 0.8764604311310402, 0.892116467920398, 0.6334750473397401, 11.77059415539404, 7.89108416890044, 9.927652196366731, 4.244178358806871, 6.620681339946826, 5.375946171931388, 11.380887983974606, 2.8169512754155592, 4.439807430073446, 1.800314054960539, 1.6940785462201684, 4.09732164148463, 5.711364478196608, 2.36755936514337, 4.064073218857241, 1.7398739589722934, 3.5455199473223264, 1.9286386440671357, 3.4614879913246863, 2.0619574203002906, 6.546888858899151, 1.252690866301889, 1.2529742777501705, 1.252832769846957, 1.2096954109524936, 2.2170097267532936, 1.5280880613025443, 1.1959171833772426, 0.8215805110709675, 1.9709828729243888, 5.466825105859173, 5.868197436755101, 1.328263471932581, 1.3773392831791476, 22.01078013079638, 23.916764291043506, 11.278996896417732, 3.3190992942639888, 18.920631485626483, 2.237115343348013, 2.8518153767627186, 1.1998617452611477, 1.2947697980825426, 2.334271521075657, 2.4933148893964012, 1.494310118580112, 1.3305522019917773, 1.6939660300963735, 2.5908534807442183, 1.123054884744994, 0.8415929817651144, 0.6864057177872059, 3.3028378052656184, 0.7777697018125782, 1.0797845909707373, 1.0618687055173368, 0.6666931746406665, 0.6275385231684024, 0.9544781471576232, 1.5772629294786598, 0.753009924997775, 1.4202894832436812, 0.7568467039671729, 0.34279010263102344, 1.0882723431474455, 0.8351964035645877, 1.3948138247605097, 0.8141840032906628, 0.8404259941055693, 0.7597782005677833, 20.470129161657614, 9.860223242948015, 9.028662775773315, 6.949314794100694, 4.742568279279835, 2.961104221101856, 3.0556784583707666, 2.7018746398722815, 3.5521656615279746, 1.9192171575853911, 2.578908149836938, 1.492348323452084, 3.5551805926496427, 3.6664277764775437, 8.916600758448212, 3.019534199606054, 1.6418469150884176, 9.44489690039964, 1.3694421084481636, 1.1111999289564407, 1.6762941545242007, 0.6963771365238082, 1.9948421517074415, 3.3437511165744036, 0.7452905014561682, 1.029448703313808, 0.5716766482508246, 0.5255261444946319, 0.40404411878503943, 0.40983500409361445, 0.47316253532227376, 0.832599061404993, 1.618207779085629, 0.6750677897248392, 0.726250138031863, 9.822838777725789, 8.590603206643662, 11.65957626992352, 9.810039284314863, 6.112230907001026, 10.29445194974058, 7.112928550913018, 13.096607440209516, 4.4534100778442225, 2.729422276545624, 1.7733716643982589, 2.480044476585721, 2.5904803950960082, 1.0685310228215175, 1.741839945672136, 1.3472014405482386, 1.4750703014997104, 0.8559097420320977, 1.3993202460532874, 0.6408843885204342, 1.3484936614731007, 2.2052286096288696, 0.40749761990879757, 1.267213520993636, 0.6667389368627683, 1.2963195180714309, 0.5675786357524805, 0.45870699686383254, 1.0065458639657747, 0.3011553454549837, 0.5872172796065782, 2.6674023867924204, 1.1285212389271058, 0.925226882765983, 1.0529853573483583, 0.9030377175720145, 20.029067107777816, 9.614354790300498, 13.528303235431231, 13.380083462938739, 4.306222390503648, 7.996919981992616, 2.2496388180667792, 2.950182063846053, 6.122027814358093, 2.8906854570138827, 1.3435346295216588, 4.317636079540251, 1.430239718132514, 1.2886542991678296, 1.9937444770279826, 1.312956962680974, 1.2328351608771118, 0.7728388233772224, 0.7244316152884113, 0.47180720598873, 0.6874305636179485, 4.5617770990781965, 0.5808270669231806, 0.8562409142703001, 0.46393013660959714, 1.7052527304920664, 1.3250201184944475, 0.621228708027338, 0.7927738422013291, 0.4327529619748781, 1.0949169084906791, 1.275799332247232, 0.5783251299246488, 15.60966002974038, 12.921400556631808, 9.782331878577534, 12.621254395160447, 3.0576206565332247, 3.8834842726042456, 2.5842754858788544, 1.6226531309274297, 3.445565884407168, 1.643657135330809, 1.8449260654382376, 2.823750394214677, 1.3279147066820567, 1.6476101474976177, 1.398791398834179, 1.916214247873316, 2.8752276977036115, 2.1342478070166893, 0.8567911144654546, 0.720823739538881, 0.9436230368851246, 1.2550367448478474, 1.9878096298409516, 0.5097443879956168, 0.7706185364970538, 0.5970769278353522, 1.3507845991553415, 0.39236790296246427, 0.32572974072451744, 0.3588453539712748, 3.461415678471514, 3.936441282932528, 1.5456804480511306, 1.6813588961446158, 1.3734801646211598, 0.911115686349182, 0.8435440073498812, 0.8475638921422075, 10.552836539978532, 11.498119006139142, 6.142777833185085, 5.4486414271146435, 9.413277768784965, 8.521217028967294, 3.226849115958335, 7.464697112636244, 2.9638362032670873, 4.063878249815921, 3.4653097743257826, 5.6277066422588335, 2.0724049867945107, 1.3622219589290523, 1.0520436340467885, 1.1346380884647853, 0.550637677677136, 2.144637305521244, 1.1380906569313272, 0.5577405954869045, 0.46884030656296194, 1.0905911796541987, 1.5171198277062548, 0.7560322742490972, 0.4399778267789646, 0.42647643390061124, 0.609464830514719, 0.5049113191448774, 0.4931964677402249, 0.4758112122302393, 3.366864474809903, 2.470533566752258, 1.2267531341291442, 0.7879139186718614, 0.5617211597818438, 0.5731331163665496, 0.5581414313969855, 8.514029776428355, 9.760793675151286, 8.824062852744332, 7.457436991941896, 12.881531793464024, 4.938901250028795, 1.8035704801890042, 1.4186145544134554, 2.178894970726871, 1.886232181098332, 1.3282265857231748, 3.0404853510678733, 1.8878726720545778, 1.7280938444382066, 1.6396634751579997, 1.2906591960156792, 3.645328620093571, 1.263126338403179, 0.7171546103679531, 0.7034297601007052, 1.6414406037846614, 7.303386879547955, 1.7506132635358034, 0.8375439854661508, 0.8128737027784521, 0.43712461828240057, 1.1039123077882358, 4.577902637239366, 0.7608030055924014, 1.3813277805202602, 1.0665465713733036, 1.0127324068746384, 0.8991870270784641, 0.8752480652760157, 6.883573806786104, 11.309728231270022, 8.00522926551794, 5.549446474386751, 4.08073171548265, 14.28470590406086, 2.7129162336450485, 5.30961549557849, 3.9019361656123674, 1.3597114282103575, 1.4546033765737914, 1.755387683353325, 1.411075227566497, 4.562808817947345, 1.5960347474175236, 2.475850322341163, 0.8963216495590589, 1.0726121990957667, 1.8915064334377578, 1.1636432695314591, 0.5814712759178516, 1.992805455943086, 0.6764926762777832, 0.34717348546007804, 0.5280441445336721, 3.4617408309041156, 0.8226774701512791, 0.3444537576572096, 0.30328683536027395, 0.3671475747197535, 0.8467031015671581, 2.8969947432406147, 0.8542445648629364, 0.6831894786244933, 0.7046051329099369, 17.237325193296844, 5.24485264394659, 10.840014152691595, 2.5298680583715734, 1.527306661830679, 1.5202655909831273, 2.525211392026266, 4.2400700078151505, 7.990299463041735, 8.392486620373118, 1.2613146381477562, 0.9494191517142001, 4.203688307199882, 1.7631584413821968, 1.3097258977578532, 0.6040554150064508, 0.5789172560982974, 1.6980602477895677, 0.5055951789187426, 0.4817265528631848, 1.478023594912792, 0.4817255341897404, 0.8641410371884113, 0.6472614304763671, 0.3281280256246702, 0.7527960436042432, 0.3564793241722205, 0.8003945789663243, 0.3892284795749812, 0.36726315626994704, 0.5880677781984105, 0.4739589021088918, 0.7714867525420196, 0.8239756290795188, 1.010504923479867, 0.547903300182663, 9.22766718380286, 10.40105711775861, 4.971981084483524, 3.2657368898542214, 3.7387677905203147, 4.156415857481787, 1.6385370498178866, 2.149529573641554, 1.4127065662600435, 1.5782365008208834, 1.298913751054778, 3.6185276024411706, 1.324835486170065, 1.2107454603791012, 1.1964640231252759, 1.1512667280390247, 0.8612640153103556, 0.5207007543140973, 2.6777298120062945, 0.5521272790253974, 0.9492224635575409, 0.49869283465208625, 5.220551751999167, 0.7376045552605246, 0.5734573409258794, 1.2461822232189947, 2.6072934448149314, 0.3910201588591609, 0.7356139909369626, 0.35687211605086727, 1.178471107127706, 0.6848483260639311, 1.5904734437704708, 0.7832627570888407, 0.6428045448992626, 0.6407075105623045], \"Total\": [124.0, 24.0, 71.0, 29.0, 29.0, 53.0, 48.0, 21.0, 29.0, 32.0, 27.0, 15.0, 106.0, 18.0, 32.0, 25.0, 18.0, 25.0, 31.0, 12.0, 21.0, 25.0, 17.0, 18.0, 15.0, 33.0, 12.0, 12.0, 27.0, 18.0, 10.73002901356037, 22.156082435826907, 27.55159471918284, 9.25717736930092, 9.407016184938158, 21.00946403160661, 11.961243548873652, 35.26339596449554, 11.559635005371568, 13.532836138645273, 27.941100351671622, 17.34895125921594, 10.34659894091039, 11.19336627587608, 48.19718782538445, 15.701388344676214, 19.892330937937757, 17.93415376405416, 17.5649066860703, 16.822938390315496, 71.29749431301998, 16.49050122104343, 124.19663411015794, 15.851963611863688, 19.12447066051468, 18.599198682604687, 11.464658665151802, 37.509432236131595, 11.714342527991368, 29.532515322913724, 106.68531622925867, 24.740159631704078, 32.772606092182784, 12.541236011460523, 31.223321275731454, 14.104995086768808, 19.12447066051468, 53.78119567821143, 106.68531622925867, 14.638550970787916, 13.80602688928198, 14.776988880491981, 19.60339317126536, 19.892330937937757, 21.868755748118872, 17.93415376405416, 25.36560783900387, 18.08265116511063, 17.34895125921594, 29.056228579120933, 29.532515322913724, 18.599198682604687, 13.464516518936295, 33.07530466505099, 27.718462121421883, 124.19663411015794, 36.169325515291135, 13.532836138645273, 48.19718782538445, 11.503548771231728, 35.26339596449554, 16.768573238217805, 21.090665139848614, 24.740159631704078, 71.29749431301998, 21.00946403160661, 27.941100351671622, 27.55159471918284, 12.422416804193682, 25.12440266269871, 13.024924525460682, 16.936857944478803, 25.36560783900387, 10.34659894091039, 13.464516518936295, 11.725713996809956, 17.34895125921594, 14.638550970787916, 11.046341157732146, 37.509432236131595, 19.12447066051468, 11.714342527991368, 17.411241172472955, 14.104995086768808, 13.532836138645273, 13.966941969887475, 13.80602688928198, 32.772606092182784, 29.056228579120933, 22.854850767417165, 22.156082435826907, 11.503548771231728, 71.29749431301998, 18.12540427860394, 36.169325515291135, 124.19663411015794, 13.741464837169575, 106.68531622925867, 32.16462916171842, 27.55159471918284, 48.19718782538445, 18.560966182475987, 11.62705190198125, 17.93415376405416, 11.464658665151802, 124.19663411015794, 35.26339596449554, 16.936857944478803, 11.046341157732146, 11.725713996809956, 37.509432236131595, 9.443472153379904, 12.541236011460523, 17.34895125921594, 36.169325515291135, 29.361023944413006, 22.09747007346458, 19.60339317126536, 33.07530466505099, 32.16462916171842, 106.68531622925867, 10.8950994742554, 11.714342527991368, 13.966941969887475, 13.741464837169575, 12.834634246697236, 27.941100351671622, 29.532515322913724, 11.559635005371568, 11.19336627587608, 32.772606092182784, 27.55159471918284, 18.599198682604687, 48.19718782538445, 53.78119567821143, 71.29749431301998, 21.090665139848614, 15.731390445005248, 10.831929743362105, 18.210694180188575, 9.443472153379904, 14.776988880491981, 13.80602688928198, 37.509432236131595, 11.464658665151802, 22.09747007346458, 9.407016184938158, 9.25717736930092, 22.854850767417165, 32.16462916171842, 13.464516518936295, 25.400796751615196, 11.120696345531087, 25.12440266269871, 13.943431387440805, 25.36560783900387, 16.822938390315496, 53.78119567821143, 11.046341157732146, 11.559635005371568, 11.714342527991368, 13.532836138645273, 27.718462121421883, 21.868755748118872, 21.090665139848614, 14.638550970787916, 35.26339596449554, 106.68531622925867, 124.19663411015794, 29.056228579120933, 71.29749431301998, 48.19718782538445, 71.29749431301998, 36.169325515291135, 13.458411524463953, 106.68531622925867, 13.966941969887475, 18.12540427860394, 9.25717736930092, 10.73002901356037, 19.60339317126536, 22.156082435826907, 15.851963611863688, 14.776988880491981, 19.12447066051468, 33.07530466505099, 15.701388344676214, 11.961243548873652, 10.831929743362105, 53.78119567821143, 12.834634246697236, 17.915428495558977, 17.93415376405416, 11.464658665151802, 11.120696345531087, 17.5649066860703, 35.26339596449554, 16.936857944478803, 32.16462916171842, 18.07753149370679, 9.407016184938158, 31.223321275731454, 25.400796751615196, 124.19663411015794, 29.361023944413006, 37.509432236131595, 27.55159471918284, 29.532515322913724, 16.822938390315496, 17.5649066860703, 22.854850767417165, 16.768573238217805, 11.046341157732146, 11.714342527991368, 11.961243548873652, 18.07753149370679, 11.559635005371568, 17.34895125921594, 11.725713996809956, 31.223321275731454, 37.509432236131595, 106.68531622925867, 36.169325515291135, 19.892330937937757, 124.19663411015794, 19.12447066051468, 15.701388344676214, 25.400796751615196, 11.503548771231728, 33.07530466505099, 71.29749431301998, 17.915428495558977, 25.12440266269871, 14.776988880491981, 13.734652963866216, 10.831929743362105, 11.056734755190043, 12.834634246697236, 24.740159631704078, 53.78119567821143, 27.718462121421883, 48.19718782538445, 13.943431387440805, 13.489770050011547, 18.599198682604687, 17.915428495558977, 11.503548771231728, 19.60339317126536, 16.768573238217805, 33.07530466505099, 15.851963611863688, 13.966941969887475, 11.19336627587608, 17.411241172472955, 27.55159471918284, 11.62705190198125, 22.854850767417165, 18.07753149370679, 19.892330937937757, 12.541236011460523, 22.156082435826907, 10.34659894091039, 21.868755748118872, 36.169325515291135, 9.443472153379904, 29.532515322913724, 15.731390445005248, 32.772606092182784, 15.701388344676214, 13.024924525460682, 29.361023944413006, 9.25717736930092, 18.08265116511063, 106.68531622925867, 48.19718782538445, 37.509432236131595, 71.29749431301998, 124.19663411015794, 24.740159631704078, 16.49050122104343, 25.400796751615196, 29.361023944413006, 11.120696345531087, 22.09747007346458, 11.046341157732146, 15.591551170348291, 36.169325515291135, 18.07753149370679, 9.443472153379904, 32.16462916171842, 11.559635005371568, 11.62705190198125, 29.056228579120933, 19.60339317126536, 18.560966182475987, 11.725713996809956, 12.916149534077109, 10.8950994742554, 15.983795633119184, 106.68531622925867, 13.734652963866216, 22.854850767417165, 12.541236011460523, 48.19718782538445, 37.509432236131595, 18.08265116511063, 27.55159471918284, 15.701388344676214, 71.29749431301998, 124.19663411015794, 25.36560783900387, 21.090665139848614, 18.08265116511063, 13.734652963866216, 21.868755748118872, 13.80602688928198, 22.09747007346458, 17.915428495558977, 12.916149534077109, 27.55159471918284, 13.464516518936295, 15.851963611863688, 25.36560783900387, 12.541236011460523, 15.731390445005248, 13.532836138645273, 18.560966182475987, 31.223321275731454, 27.718462121421883, 11.725713996809956, 10.8950994742554, 14.776988880491981, 21.00946403160661, 35.26339596449554, 11.19336627587608, 17.93415376405416, 14.638550970787916, 36.169325515291135, 10.73002901356037, 9.25717736930092, 10.34659894091039, 106.68531622925867, 124.19663411015794, 48.19718782538445, 71.29749431301998, 53.78119567821143, 29.532515322913724, 25.400796751615196, 37.509432236131595, 17.411241172472955, 27.941100351671622, 15.591551170348291, 13.966941969887475, 27.718462121421883, 29.361023944413006, 11.714342527991368, 32.772606092182784, 13.489770050011547, 22.854850767417165, 19.892330937937757, 33.07530466505099, 17.5649066860703, 13.741464837169575, 11.62705190198125, 14.104995086768808, 9.443472153379904, 37.509432236131595, 22.156082435826907, 11.961243548873652, 10.73002901356037, 25.400796751615196, 36.169325515291135, 18.210694180188575, 11.056734755190043, 10.831929743362105, 15.851963611863688, 13.458411524463953, 13.532836138645273, 13.80602688928198, 124.19663411015794, 106.68531622925867, 71.29749431301998, 32.16462916171842, 17.93415376405416, 19.60339317126536, 24.740159631704078, 11.056734755190043, 12.834634246697236, 15.701388344676214, 18.07753149370679, 32.16462916171842, 27.941100351671622, 11.120696345531087, 11.19336627587608, 17.915428495558977, 18.599198682604687, 13.741464837169575, 32.772606092182784, 22.09747007346458, 21.00946403160661, 21.868755748118872, 17.5649066860703, 53.78119567821143, 19.892330937937757, 11.503548771231728, 11.559635005371568, 27.718462121421883, 124.19663411015794, 31.223321275731454, 16.49050122104343, 17.34895125921594, 9.443472153379904, 25.12440266269871, 106.68531622925867, 18.210694180188575, 33.07530466505099, 29.056228579120933, 35.26339596449554, 36.169325515291135, 37.509432236131595, 10.8950994742554, 18.12540427860394, 13.741464837169575, 13.458411524463953, 18.210694180188575, 71.29749431301998, 14.104995086768808, 27.718462121421883, 21.00946403160661, 11.120696345531087, 13.532836138645273, 17.93415376405416, 14.776988880491981, 53.78119567821143, 19.892330937937757, 35.26339596449554, 13.024924525460682, 15.983795633119184, 32.16462916171842, 22.854850767417165, 13.80602688928198, 48.19718782538445, 16.49050122104343, 9.443472153379904, 14.638550970787916, 106.68531622925867, 25.400796751615196, 11.19336627587608, 10.73002901356037, 13.943431387440805, 32.772606092182784, 124.19663411015794, 37.509432236131595, 33.07530466505099, 36.169325515291135, 29.056228579120933, 15.851963611863688, 32.772606092182784, 13.532836138645273, 15.983795633119184, 16.49050122104343, 27.718462121421883, 48.19718782538445, 106.68531622925867, 124.19663411015794, 19.12447066051468, 15.591551170348291, 71.29749431301998, 31.223321275731454, 25.400796751615196, 11.961243548873652, 11.464658665151802, 36.169325515291135, 11.559635005371568, 11.714342527991368, 37.509432236131595, 12.541236011460523, 22.854850767417165, 17.915428495558977, 9.443472153379904, 22.09747007346458, 11.120696345531087, 27.55159471918284, 13.489770050011547, 12.834634246697236, 21.00946403160661, 16.822938390315496, 29.361023944413006, 32.16462916171842, 53.78119567821143, 22.156082435826907, 12.916149534077109, 15.983795633119184, 14.638550970787916, 11.19336627587608, 15.591551170348291, 19.892330937937757, 9.407016184938158, 16.768573238217805, 11.961243548873652, 13.458411524463953, 11.503548771231728, 32.772606092182784, 13.024924525460682, 18.210694180188575, 18.599198682604687, 18.12540427860394, 13.734652963866216, 9.25717736930092, 53.78119567821143, 11.559635005371568, 21.090665139848614, 11.714342527991368, 124.19663411015794, 17.5649066860703, 14.776988880491981, 33.07530466505099, 71.29749431301998, 11.120696345531087, 21.00946403160661, 10.8950994742554, 37.509432236131595, 21.868755748118872, 106.68531622925867, 35.26339596449554, 27.941100351671622, 29.056228579120933], \"Category\": [\"Default\", \"Default\", \"Default\", \"Default\", \"Default\", \"Default\", \"Default\", \"Default\", \"Default\", \"Default\", \"Default\", \"Default\", \"Default\", \"Default\", \"Default\", \"Default\", \"Default\", \"Default\", \"Default\", \"Default\", \"Default\", \"Default\", \"Default\", \"Default\", \"Default\", \"Default\", \"Default\", \"Default\", \"Default\", \"Default\", \"Topic1\", \"Topic1\", \"Topic1\", \"Topic1\", \"Topic1\", \"Topic1\", \"Topic1\", \"Topic1\", \"Topic1\", \"Topic1\", \"Topic1\", \"Topic1\", \"Topic1\", \"Topic1\", \"Topic1\", \"Topic1\", \"Topic1\", \"Topic1\", \"Topic1\", \"Topic1\", \"Topic1\", \"Topic1\", \"Topic1\", \"Topic1\", \"Topic1\", \"Topic1\", \"Topic1\", \"Topic1\", \"Topic1\", \"Topic1\", \"Topic1\", \"Topic1\", \"Topic1\", \"Topic2\", \"Topic2\", \"Topic2\", \"Topic2\", \"Topic2\", \"Topic2\", \"Topic2\", \"Topic2\", \"Topic2\", \"Topic2\", \"Topic2\", \"Topic2\", \"Topic2\", \"Topic2\", \"Topic2\", \"Topic2\", \"Topic2\", \"Topic2\", \"Topic2\", \"Topic2\", \"Topic2\", \"Topic2\", \"Topic2\", \"Topic2\", \"Topic2\", \"Topic2\", \"Topic2\", \"Topic2\", \"Topic2\", \"Topic2\", \"Topic2\", \"Topic2\", \"Topic2\", \"Topic2\", \"Topic2\", \"Topic3\", \"Topic3\", \"Topic3\", \"Topic3\", \"Topic3\", \"Topic3\", \"Topic3\", \"Topic3\", \"Topic3\", \"Topic3\", \"Topic3\", \"Topic3\", \"Topic3\", \"Topic3\", \"Topic3\", \"Topic3\", \"Topic3\", \"Topic3\", \"Topic3\", \"Topic3\", \"Topic3\", \"Topic3\", \"Topic3\", \"Topic3\", \"Topic3\", \"Topic3\", \"Topic3\", \"Topic3\", \"Topic3\", \"Topic3\", \"Topic3\", \"Topic3\", \"Topic3\", \"Topic4\", \"Topic4\", \"Topic4\", \"Topic4\", \"Topic4\", \"Topic4\", \"Topic4\", \"Topic4\", \"Topic4\", \"Topic4\", \"Topic4\", \"Topic4\", \"Topic4\", \"Topic4\", \"Topic4\", \"Topic4\", \"Topic4\", \"Topic4\", \"Topic4\", \"Topic4\", \"Topic4\", \"Topic4\", \"Topic4\", \"Topic4\", \"Topic4\", \"Topic4\", \"Topic4\", \"Topic4\", \"Topic4\", \"Topic4\", \"Topic4\", \"Topic4\", \"Topic4\", \"Topic4\", \"Topic4\", \"Topic4\", \"Topic5\", \"Topic5\", \"Topic5\", \"Topic5\", \"Topic5\", \"Topic5\", \"Topic5\", \"Topic5\", \"Topic5\", \"Topic5\", \"Topic5\", \"Topic5\", \"Topic5\", \"Topic5\", \"Topic5\", \"Topic5\", \"Topic5\", \"Topic5\", \"Topic5\", \"Topic5\", \"Topic5\", \"Topic5\", \"Topic5\", \"Topic5\", \"Topic5\", \"Topic5\", \"Topic5\", \"Topic5\", \"Topic5\", \"Topic5\", \"Topic5\", \"Topic5\", \"Topic5\", \"Topic5\", \"Topic6\", \"Topic6\", \"Topic6\", \"Topic6\", \"Topic6\", \"Topic6\", \"Topic6\", \"Topic6\", \"Topic6\", \"Topic6\", \"Topic6\", \"Topic6\", \"Topic6\", \"Topic6\", \"Topic6\", \"Topic6\", \"Topic6\", \"Topic6\", \"Topic6\", \"Topic6\", \"Topic6\", \"Topic6\", \"Topic6\", \"Topic6\", \"Topic6\", \"Topic6\", \"Topic6\", \"Topic6\", \"Topic6\", \"Topic6\", \"Topic6\", \"Topic6\", \"Topic6\", \"Topic6\", \"Topic6\", \"Topic6\", \"Topic7\", \"Topic7\", \"Topic7\", \"Topic7\", \"Topic7\", \"Topic7\", \"Topic7\", \"Topic7\", \"Topic7\", \"Topic7\", \"Topic7\", \"Topic7\", \"Topic7\", \"Topic7\", \"Topic7\", \"Topic7\", \"Topic7\", \"Topic7\", \"Topic7\", \"Topic7\", \"Topic7\", \"Topic7\", \"Topic7\", \"Topic7\", \"Topic7\", \"Topic7\", \"Topic7\", \"Topic7\", \"Topic7\", \"Topic7\", \"Topic7\", \"Topic7\", \"Topic7\", \"Topic7\", \"Topic7\", \"Topic8\", \"Topic8\", \"Topic8\", \"Topic8\", \"Topic8\", \"Topic8\", \"Topic8\", \"Topic8\", \"Topic8\", \"Topic8\", \"Topic8\", \"Topic8\", \"Topic8\", \"Topic8\", \"Topic8\", \"Topic8\", \"Topic8\", \"Topic8\", \"Topic8\", \"Topic8\", \"Topic8\", \"Topic8\", \"Topic8\", \"Topic8\", \"Topic8\", \"Topic8\", \"Topic8\", \"Topic8\", \"Topic8\", \"Topic8\", \"Topic8\", \"Topic8\", \"Topic8\", \"Topic8\", \"Topic8\", \"Topic8\", \"Topic9\", \"Topic9\", \"Topic9\", \"Topic9\", \"Topic9\", \"Topic9\", \"Topic9\", \"Topic9\", \"Topic9\", \"Topic9\", \"Topic9\", \"Topic9\", \"Topic9\", \"Topic9\", \"Topic9\", \"Topic9\", \"Topic9\", \"Topic9\", \"Topic9\", \"Topic9\", \"Topic9\", \"Topic9\", \"Topic9\", \"Topic9\", \"Topic9\", \"Topic9\", \"Topic9\", \"Topic9\", \"Topic9\", \"Topic9\", \"Topic9\", \"Topic9\", \"Topic9\", \"Topic10\", \"Topic10\", \"Topic10\", \"Topic10\", \"Topic10\", \"Topic10\", \"Topic10\", \"Topic10\", \"Topic10\", \"Topic10\", \"Topic10\", \"Topic10\", \"Topic10\", \"Topic10\", \"Topic10\", \"Topic10\", \"Topic10\", \"Topic10\", \"Topic10\", \"Topic10\", \"Topic10\", \"Topic10\", \"Topic10\", \"Topic10\", \"Topic10\", \"Topic10\", \"Topic10\", \"Topic10\", \"Topic10\", \"Topic10\", \"Topic10\", \"Topic10\", \"Topic10\", \"Topic10\", \"Topic10\", \"Topic10\", \"Topic10\", \"Topic10\", \"Topic11\", \"Topic11\", \"Topic11\", \"Topic11\", \"Topic11\", \"Topic11\", \"Topic11\", \"Topic11\", \"Topic11\", \"Topic11\", \"Topic11\", \"Topic11\", \"Topic11\", \"Topic11\", \"Topic11\", \"Topic11\", \"Topic11\", \"Topic11\", \"Topic11\", \"Topic11\", \"Topic11\", \"Topic11\", \"Topic11\", \"Topic11\", \"Topic11\", \"Topic11\", \"Topic11\", \"Topic11\", \"Topic11\", \"Topic11\", \"Topic11\", \"Topic11\", \"Topic11\", \"Topic11\", \"Topic11\", \"Topic11\", \"Topic11\", \"Topic12\", \"Topic12\", \"Topic12\", \"Topic12\", \"Topic12\", \"Topic12\", \"Topic12\", \"Topic12\", \"Topic12\", \"Topic12\", \"Topic12\", \"Topic12\", \"Topic12\", \"Topic12\", \"Topic12\", \"Topic12\", \"Topic12\", \"Topic12\", \"Topic12\", \"Topic12\", \"Topic12\", \"Topic12\", \"Topic12\", \"Topic12\", \"Topic12\", \"Topic12\", \"Topic12\", \"Topic12\", \"Topic12\", \"Topic12\", \"Topic12\", \"Topic12\", \"Topic12\", \"Topic12\", \"Topic13\", \"Topic13\", \"Topic13\", \"Topic13\", \"Topic13\", \"Topic13\", \"Topic13\", \"Topic13\", \"Topic13\", \"Topic13\", \"Topic13\", \"Topic13\", \"Topic13\", \"Topic13\", \"Topic13\", \"Topic13\", \"Topic13\", \"Topic13\", \"Topic13\", \"Topic13\", \"Topic13\", \"Topic13\", \"Topic13\", \"Topic13\", \"Topic13\", \"Topic13\", \"Topic13\", \"Topic13\", \"Topic13\", \"Topic13\", \"Topic13\", \"Topic13\", \"Topic13\", \"Topic13\", \"Topic13\", \"Topic14\", \"Topic14\", \"Topic14\", \"Topic14\", \"Topic14\", \"Topic14\", \"Topic14\", \"Topic14\", \"Topic14\", \"Topic14\", \"Topic14\", \"Topic14\", \"Topic14\", \"Topic14\", \"Topic14\", \"Topic14\", \"Topic14\", \"Topic14\", \"Topic14\", \"Topic14\", \"Topic14\", \"Topic14\", \"Topic14\", \"Topic14\", \"Topic14\", \"Topic14\", \"Topic14\", \"Topic14\", \"Topic14\", \"Topic14\", \"Topic14\", \"Topic14\", \"Topic14\", \"Topic14\", \"Topic14\", \"Topic14\", \"Topic15\", \"Topic15\", \"Topic15\", \"Topic15\", \"Topic15\", \"Topic15\", \"Topic15\", \"Topic15\", \"Topic15\", \"Topic15\", \"Topic15\", \"Topic15\", \"Topic15\", \"Topic15\", \"Topic15\", \"Topic15\", \"Topic15\", \"Topic15\", \"Topic15\", \"Topic15\", \"Topic15\", \"Topic15\", \"Topic15\", \"Topic15\", \"Topic15\", \"Topic15\", \"Topic15\", \"Topic15\", \"Topic15\", \"Topic15\", \"Topic15\", \"Topic15\", \"Topic15\", \"Topic15\", \"Topic15\", \"Topic15\"], \"logprob\": [30.0, 29.0, 28.0, 27.0, 26.0, 25.0, 24.0, 23.0, 22.0, 21.0, 20.0, 19.0, 18.0, 17.0, 16.0, 15.0, 14.0, 13.0, 12.0, 11.0, 10.0, 9.0, 8.0, 7.0, 6.0, 5.0, 4.0, 3.0, 2.0, 1.0, -3.0554, -2.4781, -2.3992, -3.5161, -3.5629, -2.7611, -3.4761, -2.4559, -3.6523, -3.7654, -3.1181, -3.723, -4.2637, -4.2647, -3.0077, -4.1427, -3.9138, -4.099, -4.2206, -4.3102, -2.9544, -4.4613, -2.6589, -4.9823, -4.8683, -5.05, -5.6808, -4.556, -5.7624, -4.8448, -4.1676, -5.5035, -5.4536, -3.0767, -2.1741, -2.9779, -2.7486, -1.7524, -1.6703, -3.8023, -4.2799, -4.3492, -4.308, -4.3967, -4.3251, -4.8086, -4.4646, -4.8741, -4.9165, -4.492, -4.5295, -5.0325, -5.3733, -4.5042, -4.6886, -3.2075, -4.4991, -5.5124, -4.2541, -5.7162, -4.6291, -5.3991, -5.2, -5.0782, -4.3267, -5.293, -5.1811, -5.249, -2.6437, -2.2488, -2.9135, -2.6798, -2.3504, -3.2688, -3.0125, -3.2947, -3.2869, -4.0219, -4.491, -3.3141, -4.1023, -4.6261, -4.3119, -4.6728, -4.7469, -4.7664, -4.8355, -4.0274, -4.1498, -4.4068, -4.4499, -5.1983, -3.4698, -4.8536, -4.2123, -3.0371, -5.3018, -3.2768, -4.6894, -4.806, -4.6585, -2.4702, -3.1509, -2.8466, -3.3034, -1.059, -2.866, -3.8711, -4.3137, -4.3039, -3.4807, -4.8954, -4.6836, -4.5248, -3.8644, -4.098, -4.4276, -4.7192, -4.2242, -4.3882, -3.288, -5.6302, -5.5784, -5.4223, -5.4733, -5.6052, -4.8382, -4.798, -5.758, -5.8067, -4.7377, -4.9788, -5.4319, -4.8414, -5.0972, -5.0795, -5.4218, -2.4874, -2.8873, -2.6577, -3.5075, -3.0628, -3.2711, -2.5211, -3.9174, -3.4624, -4.3651, -4.4259, -3.5427, -3.2106, -4.0912, -3.5509, -4.3992, -3.6874, -4.2962, -3.7113, -4.2294, -3.0741, -4.7278, -4.7275, -4.7276, -4.7627, -4.1569, -4.529, -4.7741, -5.1496, -4.2745, -3.2543, -3.1835, -4.6692, -4.6329, -1.7705, -1.6875, -2.4391, -3.6623, -1.9218, -4.0568, -3.8141, -4.6798, -4.6037, -4.0143, -3.9484, -4.4604, -4.5764, -4.335, -3.91, -4.746, -5.0345, -5.2383, -3.6672, -5.1134, -4.7853, -4.802, -5.2675, -5.328, -4.9086, -4.4063, -5.1457, -4.5112, -5.1406, -5.9327, -4.7774, -5.0421, -4.5293, -5.0676, -5.0359, -5.1368, -1.8225, -2.5529, -2.641, -2.9028, -3.2849, -3.7559, -3.7245, -3.8475, -3.5739, -4.1895, -3.8941, -4.4411, -3.573, -3.5422, -2.6535, -3.7364, -4.3456, -2.596, -4.527, -4.736, -4.3249, -5.2033, -4.1509, -3.6344, -5.1354, -4.8124, -5.4006, -5.4848, -5.7477, -5.7335, -5.5898, -5.0247, -4.3601, -5.2344, -5.1613, -2.538, -2.6721, -2.3666, -2.5393, -3.0125, -2.4911, -2.8608, -2.2504, -3.3291, -3.8187, -4.2499, -3.9145, -3.8709, -4.7565, -4.2678, -4.5247, -4.434, -4.9783, -4.4868, -5.2677, -4.5238, -4.0319, -5.7205, -4.5859, -5.2281, -4.5632, -5.3891, -5.6021, -4.8162, -6.0229, -5.3551, -3.8416, -4.7018, -4.9005, -4.7711, -4.9247, -1.7815, -2.5154, -2.1739, -2.1849, -3.3186, -2.6996, -3.9679, -3.6968, -2.9667, -3.7171, -4.4833, -3.3159, -4.4208, -4.525, -4.0886, -4.5064, -4.5693, -5.0363, -5.101, -5.5298, -5.1534, -3.2609, -5.3219, -4.9338, -5.5467, -4.2449, -4.4972, -5.2547, -5.0109, -5.6162, -4.688, -4.5351, -5.3263, -2.0154, -2.2044, -2.4828, -2.2279, -3.6457, -3.4066, -3.8139, -4.2793, -3.5262, -4.2664, -4.1509, -3.7253, -4.4797, -4.264, -4.4277, -4.113, -3.7072, -4.0052, -4.9179, -5.0907, -4.8214, -4.5362, -4.0763, -5.4372, -5.0239, -5.279, -4.4626, -5.6989, -5.885, -5.7882, -3.5217, -3.3931, -4.3279, -4.2437, -4.446, -4.8564, -4.9335, -4.9287, -2.3733, -2.2875, -2.9144, -3.0343, -2.4876, -2.5871, -3.5582, -2.7195, -3.6432, -3.3276, -3.4869, -3.002, -4.001, -4.4206, -4.679, -4.6034, -5.3264, -3.9667, -4.6003, -5.3136, -5.4872, -4.643, -4.3129, -5.0094, -5.5507, -5.5819, -5.2249, -5.4131, -5.4365, -5.4724, -3.5157, -3.8253, -4.5253, -4.9681, -5.3065, -5.2863, -5.3128, -2.5821, -2.4454, -2.5463, -2.7146, -2.168, -3.1267, -4.134, -4.3741, -3.945, -4.0892, -4.44, -3.6118, -4.0884, -4.1768, -4.2293, -4.4687, -3.4304, -4.4902, -5.0563, -5.0756, -4.2282, -2.7355, -4.1638, -4.9011, -4.931, -5.5513, -4.625, -3.2026, -4.9972, -4.4008, -4.6594, -4.7112, -4.8301, -4.8571, -2.716, -2.2195, -2.5651, -2.9315, -3.2389, -1.986, -3.6471, -2.9756, -3.2837, -4.3379, -4.2704, -4.0825, -4.3008, -3.1272, -4.1776, -3.7386, -4.7546, -4.5751, -4.0078, -4.4936, -5.1873, -3.9556, -5.036, -5.7031, -5.2837, -3.4034, -4.8403, -5.7109, -5.8382, -5.6471, -4.8116, -3.5815, -4.8027, -5.0261, -4.9953, -1.708, -2.8978, -2.1718, -3.6269, -4.1316, -4.1362, -3.6287, -3.1105, -2.4768, -2.4277, -4.3229, -4.607, -3.1191, -3.988, -4.2852, -5.0591, -5.1017, -4.0256, -5.2371, -5.2854, -4.1644, -5.2854, -4.7011, -4.9901, -5.6694, -4.839, -5.5865, -4.7777, -5.4986, -5.5567, -5.086, -5.3017, -4.8145, -4.7487, -4.5446, -5.1567, -2.2238, -2.1041, -2.8422, -3.2625, -3.1272, -3.0213, -3.9522, -3.6807, -4.1005, -3.9897, -4.1844, -3.1599, -4.1647, -4.2547, -4.2666, -4.3051, -4.5953, -5.0986, -3.461, -5.0399, -4.4981, -5.1417, -2.7934, -4.7503, -5.002, -4.2259, -3.4877, -5.385, -4.753, -5.4763, -4.2818, -4.8245, -3.9819, -4.6903, -4.8879, -4.8912], \"loglift\": [30.0, 29.0, 28.0, 27.0, 26.0, 25.0, 24.0, 23.0, 22.0, 21.0, 20.0, 19.0, 18.0, 17.0, 16.0, 15.0, 14.0, 13.0, 12.0, 11.0, 10.0, 9.0, 8.0, 7.0, 6.0, 5.0, 4.0, 3.0, 2.0, 1.0, 2.1078, 1.96, 1.821, 1.7948, 1.7319, 1.7302, 1.5785, 1.5175, 1.4364, 1.1658, 1.0881, 0.9598, 0.9359, 0.8562, 0.6533, 0.6398, 0.6321, 0.5506, 0.4498, 0.4033, 0.315, 0.2721, 0.0555, -0.2093, -0.283, -0.4368, -0.5838, -0.6443, -0.687, -0.694, -1.3012, -1.1757, -1.407, 1.9306, 1.921, 1.9119, 1.8367, 1.799, 1.196, 1.0503, 0.6313, 0.494, 0.2526, 0.1493, 0.1261, -0.159, -0.1617, -0.2328, -0.2338, -0.325, -0.3788, -0.4194, -0.437, -0.4667, -0.4744, -0.4931, -0.5511, -0.5812, -0.5931, -0.6226, -0.6557, -0.6823, -0.7125, -0.7503, -1.0573, -0.8018, -0.9749, -1.0288, 2.3731, 2.0636, 2.0559, 2.027, 1.9525, 1.9308, 1.9237, 1.7798, 1.3959, 0.8307, 0.6432, 0.5975, 0.483, 0.4493, 0.3672, 0.2169, 0.1842, 0.1332, 0.0757, 0.0193, 0.0173, 0.0003, -0.0117, -0.1047, -0.2004, -0.2146, -0.2642, -0.3227, -0.3859, -0.4104, -0.624, -0.5858, -0.9975, 2.145, 1.932, 1.803, 1.7936, 1.6554, 1.1075, 0.8357, 0.8205, 0.7705, 0.4309, 0.3955, 0.3237, 0.1579, 0.0836, 0.0586, 0.0132, -0.1586, -0.1867, -0.3228, -0.4216, -0.4823, -0.5029, -0.5228, -0.5574, -0.6211, -0.632, -0.6472, -0.6693, -0.6857, -0.691, -0.7586, -0.8187, -1.1804, -1.5458, -1.8101, -0.9344, 2.2932, 2.2665, 1.9765, 1.7834, 1.7803, 1.64, 1.3906, 1.1796, 0.9784, 0.9297, 0.885, 0.8644, 0.8548, 0.845, 0.7506, 0.7282, 0.6251, 0.605, 0.5915, 0.4841, 0.4773, 0.4064, 0.3612, 0.3478, 0.1685, 0.0573, -0.0778, -0.2867, -0.297, -0.3011, -0.388, -0.4691, -0.5021, -1.3635, 1.8905, 1.582, 1.509, 1.2743, 0.9446, 0.8427, 0.8249, 0.631, 0.5595, 0.5462, 0.4897, 0.3126, 0.2668, 0.2503, 0.1274, 0.0365, 0.0201, -0.0845, -0.1159, -0.1292, -0.1347, -0.1524, -0.1705, -0.2005, -0.2383, -0.4329, -0.4389, -0.4458, -0.499, -0.6379, -0.6823, -0.7406, -1.8149, -0.911, -1.1242, -0.9166, 2.3283, 2.1606, 2.0293, 1.5043, 1.4319, 1.3783, 1.351, 1.2071, 1.0677, 0.8992, 0.7886, 0.6334, 0.5221, 0.3694, 0.2128, 0.2117, 0.2003, 0.1184, 0.0582, 0.0465, -0.0234, -0.1097, -0.1134, -0.365, -0.4848, -0.5, -0.5574, -0.5685, -0.5939, -0.6002, -0.6057, -0.6968, -0.8088, -1.0202, -1.5003, 2.3632, 2.2623, 2.2465, 2.1113, 2.0812, 2.0694, 1.8559, 1.7871, 1.4439, 1.0809, 0.8711, 0.7647, 0.3493, 0.3265, 0.1393, 0.1169, 0.1119, 0.0289, -0.0486, -0.068, -0.0726, -0.0839, -0.4295, -0.4352, -0.4475, -0.5165, -0.6066, -0.6327, -0.6596, -0.712, -0.7138, -0.9753, -1.0409, -0.9888, -1.5017, -2.2103, 2.5464, 2.2181, 2.1276, 1.9717, 1.8089, 1.7412, 1.1663, 1.0928, 0.9813, 0.9245, 0.8076, 0.7495, 0.6679, 0.5579, 0.0784, 0.0542, 0.0459, 0.0382, -0.1232, -0.3819, -0.3887, -0.3945, -0.4056, -0.5267, -0.5394, -0.584, -0.5855, -0.6134, -0.7907, -0.8337, -1.4186, -1.8207, -1.0234, 2.472, 2.4369, 2.4336, 2.2233, 1.2655, 1.0342, 0.8367, 0.6985, 0.694, 0.6698, 0.6221, 0.5776, 0.5275, 0.5166, 0.5034, 0.5022, 0.3879, 0.209, 0.1566, 0.0573, 0.0218, -0.0449, -0.1029, -0.3162, -0.3743, -0.4264, -0.5146, -0.5357, -0.5741, -0.5886, -0.6553, -0.6787, -0.6669, -0.9743, -0.8946, -0.7056, -0.632, -1.017, 2.3058, 1.9187, 1.8751, 1.8652, 1.7266, 1.5695, 1.5173, 1.3272, 1.2911, 1.0795, 1.059, 1.0355, 0.6694, 0.4953, 0.404, 0.2864, -0.0354, -0.0551, -0.1622, -0.259, -0.324, -0.3415, -0.3648, -0.3751, -0.4175, -0.4281, -0.4519, -0.4764, -0.5054, -0.5613, -0.8013, -0.9589, -1.2559, -0.9027, -0.6569, -0.7258, -0.985, 2.5511, 2.5387, 2.2362, 1.927, 1.8974, 1.0795, 0.9934, 0.7468, 0.7056, 0.5239, 0.4759, 0.4349, 0.3524, 0.3145, 0.2219, 0.2017, 0.121, 0.0557, 0.0373, 0.0131, -0.0141, -0.0211, -0.0687, -0.1676, -0.2483, -0.2604, -0.3125, -0.3362, -0.3629, -0.3633, -0.4924, -0.7377, -0.882, -0.9454, 2.4319, 2.4195, 2.3508, 2.0052, 1.3954, 1.2834, 1.2426, 1.2385, 1.2076, 0.7896, 0.6607, 0.5671, 0.5424, 0.4241, 0.3683, 0.2349, 0.2148, 0.1896, 0.0576, -0.0865, -0.2762, -0.2946, -0.3025, -0.4121, -0.4311, -0.537, -0.5389, -0.59, -0.675, -0.7459, -0.7649, -0.8671, -0.891, -0.9887, -1.0472, 2.4591, 1.8752, 1.8749, 1.3043, 0.6331, 0.5973, 0.5854, 0.5505, 0.3896, 0.2867, 0.2624, 0.1826, 0.1503, 0.1071, 0.0162, -0.0046, -0.0047, -0.0775, -0.1483, -0.21, -0.2527, -0.2782, -0.294, -0.3395, -0.3785, -0.3982, -0.4591, -0.5575, -0.5643, -0.5726, -0.5947, -0.5882, -0.6579, -0.6833, -0.9933, -0.7186, 2.754, 2.6606, 2.0105, 1.8585, 1.6623, 1.5246, 1.3426, 1.036, 0.9541, 0.947, 0.9092, 0.8868, 0.8047, 0.3795, 0.3465, 0.3338, 0.321, 0.2123, 0.0903, 0.0488, -0.0106, -0.0663, -0.079, -0.08, -0.1588, -0.1884, -0.2183, -0.2575, -0.2617, -0.3284, -0.3701, -0.3733, -1.1156, -0.7168, -0.6817, -0.7241]}, \"token.table\": {\"Topic\": [1, 3, 6, 8, 11, 14, 1, 3, 4, 5, 6, 7, 8, 9, 10, 11, 12, 13, 14, 15, 1, 3, 8, 2, 3, 5, 10, 13, 5, 8, 10, 2, 3, 5, 10, 13, 15, 2, 3, 4, 6, 7, 8, 10, 11, 12, 13, 15, 1, 2, 6, 7, 11, 12, 15, 1, 2, 7, 8, 10, 12, 13, 14, 15, 1, 2, 4, 6, 7, 8, 10, 4, 5, 8, 9, 11, 1, 3, 4, 8, 11, 12, 13, 14, 15, 1, 2, 3, 4, 5, 6, 7, 8, 9, 10, 11, 12, 13, 14, 15, 1, 6, 7, 8, 12, 1, 5, 15, 3, 6, 11, 13, 15, 3, 9, 13, 14, 15, 9, 11, 14, 15, 12, 1, 6, 7, 11, 14, 15, 1, 2, 3, 4, 6, 7, 12, 3, 4, 7, 9, 10, 1, 6, 8, 10, 11, 14, 6, 7, 8, 10, 12, 14, 3, 4, 5, 9, 11, 2, 3, 5, 10, 2, 3, 5, 9, 10, 4, 5, 10, 13, 2, 3, 7, 8, 12, 15, 2, 4, 8, 10, 5, 6, 7, 8, 9, 12, 3, 8, 11, 1, 3, 4, 5, 6, 9, 11, 12, 13, 14, 2, 4, 5, 8, 10, 15, 1, 2, 3, 4, 5, 6, 7, 8, 9, 10, 11, 12, 13, 14, 15, 4, 5, 9, 10, 12, 14, 1, 5, 7, 9, 12, 14, 15, 1, 2, 3, 4, 5, 6, 7, 8, 9, 10, 12, 13, 14, 15, 1, 2, 7, 9, 11, 1, 8, 10, 12, 15, 1, 2, 3, 4, 5, 6, 7, 10, 12, 13, 15, 2, 8, 9, 10, 12, 1, 9, 12, 13, 14, 2, 7, 8, 15, 3, 4, 6, 8, 11, 9, 10, 15, 4, 5, 9, 10, 11, 4, 6, 12, 1, 2, 3, 4, 11, 12, 15, 3, 6, 13, 15, 3, 4, 11, 12, 13, 2, 5, 8, 10, 12, 15, 2, 3, 11, 13, 2, 5, 6, 7, 10, 13, 15, 1, 2, 5, 6, 7, 10, 11, 12, 13, 14, 15, 1, 2, 3, 4, 5, 6, 7, 8, 9, 10, 11, 12, 13, 14, 15, 4, 6, 8, 9, 10, 11, 12, 14, 3, 13, 15, 1, 5, 6, 7, 2, 4, 5, 6, 7, 10, 12, 13, 14, 15, 2, 5, 6, 7, 10, 12, 14, 2, 3, 5, 9, 10, 12, 14, 15, 5, 11, 12, 13, 15, 1, 2, 7, 8, 11, 12, 13, 15, 3, 5, 7, 8, 9, 11, 13, 14, 5, 6, 7, 9, 10, 11, 13, 14, 1, 6, 3, 4, 5, 7, 11, 1, 2, 3, 4, 6, 8, 9, 10, 12, 14, 3, 4, 6, 1, 2, 4, 6, 8, 10, 11, 13, 1, 5, 6, 15, 5, 6, 9, 12, 13, 3, 4, 5, 7, 9, 1, 2, 3, 5, 10, 13, 14, 1, 4, 5, 6, 14, 5, 6, 2, 4, 6, 8, 9, 10, 11, 7, 9, 10, 15, 2, 3, 4, 6, 7, 8, 9, 10, 11, 12, 13, 14, 8, 11, 1, 2, 3, 6, 7, 14, 1, 3, 5, 7, 8, 10, 12, 1, 2, 4, 8, 12, 15, 5, 8], \"Freq\": [0.5867463274544734, 0.09026866576222667, 0.09026866576222667, 0.045134332881113334, 0.045134332881113334, 0.045134332881113334, 0.05331992197081208, 0.15995976591243624, 0.10663984394162417, 0.29325957083946647, 0.02665996098540604, 0.10663984394162417, 0.02665996098540604, 0.02665996098540604, 0.02665996098540604, 0.05331992197081208, 0.02665996098540604, 0.02665996098540604, 0.02665996098540604, 0.02665996098540604, 0.1933002343496675, 0.5799007030490025, 0.09665011717483375, 0.14486426949904452, 0.07243213474952226, 0.3621606737476113, 0.21729640424856678, 0.07243213474952226, 0.7628060623090076, 0.06356717185908396, 0.12713434371816792, 0.20493831704973225, 0.20493831704973225, 0.06831277234991076, 0.06831277234991076, 0.06831277234991076, 0.3415638617495538, 0.06046807490524189, 0.030234037452620946, 0.06046807490524189, 0.09070211235786284, 0.06046807490524189, 0.3930424868840723, 0.030234037452620946, 0.18140422471572568, 0.030234037452620946, 0.030234037452620946, 0.030234037452620946, 0.11386340023007824, 0.05693170011503912, 0.05693170011503912, 0.5123853010353521, 0.11386340023007824, 0.05693170011503912, 0.05693170011503912, 0.4759759689707464, 0.04759759689707464, 0.04759759689707464, 0.04759759689707464, 0.04759759689707464, 0.09519519379414929, 0.19039038758829857, 0.04759759689707464, 0.04759759689707464, 0.03386098302382387, 0.06772196604764774, 0.03386098302382387, 0.03386098302382387, 0.6772196604764774, 0.03386098302382387, 0.03386098302382387, 0.5160379475882102, 0.08600632459803503, 0.08600632459803503, 0.08600632459803503, 0.08600632459803503, 0.030513288970282073, 0.09153986691084622, 0.030513288970282073, 0.030513288970282073, 0.2135930227919745, 0.09153986691084622, 0.030513288970282073, 0.3356461786731028, 0.12205315588112829, 0.01874672232964236, 0.2718274737798142, 0.05624016698892708, 0.0468668058241059, 0.0468668058241059, 0.17809386213160242, 0.08436025048339062, 0.02812008349446354, 0.0468668058241059, 0.02812008349446354, 0.01874672232964236, 0.0468668058241059, 0.02812008349446354, 0.07498688931856944, 0.01874672232964236, 0.12737727111106895, 0.06368863555553447, 0.06368863555553447, 0.06368863555553447, 0.5731977199998102, 0.42521453363761763, 0.21260726681880882, 0.21260726681880882, 0.07430297388233786, 0.2229089216470136, 0.07430297388233786, 0.4458178432940272, 0.14860594776467573, 0.06256336247993265, 0.06256336247993265, 0.06256336247993265, 0.1251267249598653, 0.6256336247993264, 0.1924119009855377, 0.3848238019710754, 0.06413730032851257, 0.2565492013140503, 0.8139835312387674, 0.41801673710346215, 0.08360334742069243, 0.2508100422620773, 0.08360334742069243, 0.08360334742069243, 0.08360334742069243, 0.23056148698758716, 0.05764037174689679, 0.34584223048138074, 0.11528074349379358, 0.05764037174689679, 0.17292111524069037, 0.05764037174689679, 0.5116959190401823, 0.17056530634672745, 0.08528265317336373, 0.08528265317336373, 0.08528265317336373, 0.06308366739194349, 0.06308366739194349, 0.25233466956777395, 0.12616733478388698, 0.06308366739194349, 0.31541833695971744, 0.055817810902367655, 0.055817810902367655, 0.5581781090236765, 0.16745343270710294, 0.11163562180473531, 0.055817810902367655, 0.8854959685692169, 0.10589325448924959, 0.42357301795699837, 0.10589325448924959, 0.10589325448924959, 0.07426928390585841, 0.5941542712468673, 0.14853856781171682, 0.14853856781171682, 0.0788469179486669, 0.5913518846150017, 0.11827037692300034, 0.03942345897433345, 0.11827037692300034, 0.0917843845632573, 0.0917843845632573, 0.0917843845632573, 0.6424906919428011, 0.08692969620825333, 0.08692969620825333, 0.08692969620825333, 0.52157817724952, 0.08692969620825333, 0.08692969620825333, 0.5581587009129889, 0.07973695727328413, 0.07973695727328413, 0.07973695727328413, 0.05531728711677938, 0.05531728711677938, 0.2212691484671175, 0.05531728711677938, 0.16595186135033813, 0.3872210098174556, 0.11486831870217186, 0.11486831870217186, 0.6317757528619453, 0.031090052211457678, 0.031090052211457678, 0.062180104422915355, 0.18654031326874607, 0.031090052211457678, 0.12436020884583071, 0.031090052211457678, 0.4041706787489498, 0.062180104422915355, 0.031090052211457678, 0.047414341528309804, 0.047414341528309804, 0.047414341528309804, 0.047414341528309804, 0.7586294644529569, 0.047414341528309804, 0.11220590677250604, 0.02805147669312651, 0.07012869173281627, 0.014025738346563255, 0.014025738346563255, 0.33661772031751813, 0.042077215039689767, 0.014025738346563255, 0.014025738346563255, 0.02805147669312651, 0.014025738346563255, 0.014025738346563255, 0.1963603368518856, 0.05610295338625302, 0.042077215039689767, 0.09050809859005852, 0.18101619718011705, 0.3620323943602341, 0.18101619718011705, 0.09050809859005852, 0.04525404929502926, 0.3460316868258615, 0.08650792170646537, 0.17301584341293075, 0.08650792170646537, 0.08650792170646537, 0.08650792170646537, 0.08650792170646537, 0.1659847879296096, 0.0414961969824024, 0.0207480984912012, 0.0207480984912012, 0.0207480984912012, 0.4564581668064265, 0.0207480984912012, 0.0207480984912012, 0.0414961969824024, 0.0414961969824024, 0.0207480984912012, 0.0414961969824024, 0.0829923939648048, 0.0207480984912012, 0.04042011106179435, 0.04042011106179435, 0.04042011106179435, 0.808402221235887, 0.04042011106179435, 0.17867725853931857, 0.17867725853931857, 0.08933862926965928, 0.08933862926965928, 0.2680158878089779, 0.36865422754770616, 0.056716035007339405, 0.028358017503669702, 0.22686414002935762, 0.056716035007339405, 0.056716035007339405, 0.028358017503669702, 0.056716035007339405, 0.028358017503669702, 0.056716035007339405, 0.028358017503669702, 0.05530162534625669, 0.05530162534625669, 0.05530162534625669, 0.7189211295013369, 0.05530162534625669, 0.12128194123340605, 0.6064097061670303, 0.060640970616703024, 0.060640970616703024, 0.12128194123340605, 0.059635365859324704, 0.29817682929662354, 0.41744756101527297, 0.11927073171864941, 0.07159763405303649, 0.07159763405303649, 0.14319526810607297, 0.21479290215910946, 0.3579881702651824, 0.07742245452963104, 0.15484490905926207, 0.6968020907666793, 0.6465180681881524, 0.05387650568234603, 0.05387650568234603, 0.10775301136469206, 0.05387650568234603, 0.0779141797716076, 0.0779141797716076, 0.7791417977160761, 0.25052699828914266, 0.03578957118416324, 0.03578957118416324, 0.03578957118416324, 0.39368528302579564, 0.1789478559208162, 0.03578957118416324, 0.05517118319840435, 0.16551354959521303, 0.6068830151824478, 0.05517118319840435, 0.07277244543064136, 0.07277244543064136, 0.07277244543064136, 0.07277244543064136, 0.5821795634451309, 0.09145467730472219, 0.09145467730472219, 0.045727338652361095, 0.5944554024806943, 0.09145467730472219, 0.045727338652361095, 0.5671749582886705, 0.07089686978608381, 0.07089686978608381, 0.2126906093582514, 0.13534557115626744, 0.473709499046936, 0.06767278557813372, 0.06767278557813372, 0.06767278557813372, 0.06767278557813372, 0.06767278557813372, 0.036077037593913334, 0.036077037593913334, 0.07215407518782667, 0.036077037593913334, 0.036077037593913334, 0.07215407518782667, 0.32469333834522, 0.07215407518782667, 0.18038518796956668, 0.10823111278174, 0.036077037593913334, 0.08856922797314616, 0.04831048798535245, 0.056362235982911194, 0.4025873998779371, 0.04831048798535245, 0.008051747997558742, 0.07246573197802868, 0.008051747997558742, 0.008051747997558742, 0.03220699199023497, 0.024155243992676226, 0.056362235982911194, 0.024155243992676226, 0.06441398398046994, 0.04025873998779371, 0.06811751537638633, 0.034058757688193164, 0.034058757688193164, 0.44276384994651113, 0.034058757688193164, 0.3065288191937385, 0.034058757688193164, 0.034058757688193164, 0.6142070139724704, 0.0767758767465588, 0.0767758767465588, 0.11888529539829648, 0.11888529539829648, 0.05944264769914824, 0.5944264769914824, 0.50203420841643, 0.018593859570978886, 0.1301570169968522, 0.05578157871293666, 0.03718771914195777, 0.018593859570978886, 0.07437543828391555, 0.09296929785489444, 0.018593859570978886, 0.05578157871293666, 0.5764921624142089, 0.03202734235634493, 0.03202734235634493, 0.12810936942537973, 0.0960820270690348, 0.06405468471268987, 0.06405468471268987, 0.06883205762764233, 0.06883205762764233, 0.034416028813821165, 0.06883205762764233, 0.034416028813821165, 0.034416028813821165, 0.5850724898349597, 0.034416028813821165, 0.5491278861230345, 0.054912788612303455, 0.054912788612303455, 0.21965115444921382, 0.054912788612303455, 0.1508118887303717, 0.10054125915358116, 0.10054125915358116, 0.05027062957679058, 0.1508118887303717, 0.05027062957679058, 0.10054125915358116, 0.2010825183071623, 0.08750877528595741, 0.17501755057191482, 0.30628071350085095, 0.08750877528595741, 0.043754387642978704, 0.17501755057191482, 0.043754387642978704, 0.043754387642978704, 0.1574753752456858, 0.03936884381142145, 0.0787376876228429, 0.5511638133599003, 0.03936884381142145, 0.03936884381142145, 0.03936884381142145, 0.03936884381142145, 0.6523747504460199, 0.09319639292085999, 0.1707308792807628, 0.0853654396403814, 0.0853654396403814, 0.2560963189211442, 0.2560963189211442, 0.508137555836377, 0.036295539702598356, 0.036295539702598356, 0.036295539702598356, 0.036295539702598356, 0.10888661910779507, 0.036295539702598356, 0.10888661910779507, 0.036295539702598356, 0.036295539702598356, 0.649471114185371, 0.17712848568691936, 0.05904282856230645, 0.16727859253738359, 0.05575953084579453, 0.44607624676635627, 0.05575953084579453, 0.05575953084579453, 0.05575953084579453, 0.05575953084579453, 0.11151906169158907, 0.5401214431281431, 0.21604857725125726, 0.10802428862562863, 0.10802428862562863, 0.17984485304319195, 0.08992242652159597, 0.3596897060863839, 0.17984485304319195, 0.08992242652159597, 0.18105542563295296, 0.18105542563295296, 0.09052771281647648, 0.27158313844942944, 0.18105542563295296, 0.2955773615389706, 0.07389434038474264, 0.07389434038474264, 0.07389434038474264, 0.07389434038474264, 0.07389434038474264, 0.22168302115422792, 0.08722457678043388, 0.4361228839021694, 0.26167373034130165, 0.08722457678043388, 0.08722457678043388, 0.7385572275247138, 0.09231965344058922, 0.10202315397783271, 0.051011576988916355, 0.10202315397783271, 0.5101157698891635, 0.051011576988916355, 0.051011576988916355, 0.051011576988916355, 0.07280853783716618, 0.07280853783716618, 0.7280853783716618, 0.07280853783716618, 0.05529547403792392, 0.05529547403792392, 0.08294321105688587, 0.30412510720858155, 0.08294321105688587, 0.05529547403792392, 0.16588642211377175, 0.02764773701896196, 0.05529547403792392, 0.02764773701896196, 0.02764773701896196, 0.05529547403792392, 0.6671722324868167, 0.22239074416227222, 0.052289028948897864, 0.5228902894889786, 0.1568670868466936, 0.10457805789779573, 0.052289028948897864, 0.052289028948897864, 0.03980194130086379, 0.6368310608138207, 0.15920776520345517, 0.03980194130086379, 0.03980194130086379, 0.03980194130086379, 0.03980194130086379, 0.05376575717400515, 0.05376575717400515, 0.05376575717400515, 0.6451890860880618, 0.1075315143480103, 0.05376575717400515, 0.14343671542726918, 0.717183577136346], \"Term\": [\"algorithm\", \"algorithm\", \"algorithm\", \"algorithm\", \"algorithm\", \"algorithm\", \"analysi\", \"analysi\", \"analysi\", \"analysi\", \"analysi\", \"analysi\", \"analysi\", \"analysi\", \"analysi\", \"analysi\", \"analysi\", \"analysi\", \"analysi\", \"analysi\", \"autom\", \"autom\", \"autom\", \"beginn\", \"beginn\", \"beginn\", \"beginn\", \"beginn\", \"best\", \"best\", \"best\", \"book\", \"book\", \"book\", \"book\", \"book\", \"book\", \"build\", \"build\", \"build\", \"build\", \"build\", \"build\", \"build\", \"build\", \"build\", \"build\", \"build\", \"chang\", \"chang\", \"chang\", \"chang\", \"chang\", \"chang\", \"chang\", \"classif\", \"classif\", \"classif\", \"classif\", \"classif\", \"classif\", \"classif\", \"classif\", \"classif\", \"code\", \"code\", \"code\", \"code\", \"code\", \"code\", \"code\", \"compon\", \"compon\", \"compon\", \"compon\", \"compon\", \"creat\", \"creat\", \"creat\", \"creat\", \"creat\", \"creat\", \"creat\", \"creat\", \"creat\", \"data\", \"data\", \"data\", \"data\", \"data\", \"data\", \"data\", \"data\", \"data\", \"data\", \"data\", \"data\", \"data\", \"data\", \"data\", \"dataset\", \"dataset\", \"dataset\", \"dataset\", \"dataset\", \"decis\", \"decis\", \"decis\", \"deep\", \"deep\", \"deep\", \"deep\", \"deep\", \"detect\", \"detect\", \"detect\", \"detect\", \"detect\", \"develop\", \"develop\", \"develop\", \"develop\", \"effect\", \"exampl\", \"exampl\", \"exampl\", \"exampl\", \"exampl\", \"exampl\", \"explain\", \"explain\", \"explain\", \"explain\", \"explain\", \"explain\", \"explain\", \"exploratori\", \"exploratori\", \"exploratori\", \"exploratori\", \"exploratori\", \"extract\", \"extract\", \"extract\", \"extract\", \"extract\", \"extract\", \"featur\", \"featur\", \"featur\", \"featur\", \"featur\", \"featur\", \"generat\", \"get\", \"get\", \"get\", \"get\", \"googl\", \"googl\", \"googl\", \"googl\", \"guid\", \"guid\", \"guid\", \"guid\", \"guid\", \"imag\", \"imag\", \"imag\", \"imag\", \"import\", \"import\", \"import\", \"import\", \"import\", \"import\", \"intellig\", \"intellig\", \"intellig\", \"intellig\", \"introduct\", \"introduct\", \"introduct\", \"introduct\", \"introduct\", \"introduct\", \"jupyt\", \"jupyt\", \"jupyt\", \"know\", \"know\", \"know\", \"know\", \"know\", \"know\", \"know\", \"know\", \"know\", \"know\", \"languag\", \"languag\", \"languag\", \"languag\", \"languag\", \"languag\", \"learn\", \"learn\", \"learn\", \"learn\", \"learn\", \"learn\", \"learn\", \"learn\", \"learn\", \"learn\", \"learn\", \"learn\", \"learn\", \"learn\", \"learn\", \"librari\", \"librari\", \"librari\", \"librari\", \"librari\", \"librari\", \"linear\", \"linear\", \"linear\", \"linear\", \"linear\", \"linear\", \"linear\", \"machin\", \"machin\", \"machin\", \"machin\", \"machin\", \"machin\", \"machin\", \"machin\", \"machin\", \"machin\", \"machin\", \"machin\", \"machin\", \"machin\", \"mathemat\", \"mathemat\", \"mathemat\", \"mathemat\", \"mathemat\", \"method\", \"method\", \"method\", \"method\", \"method\", \"model\", \"model\", \"model\", \"model\", \"model\", \"model\", \"model\", \"model\", \"model\", \"model\", \"model\", \"natur\", \"natur\", \"natur\", \"natur\", \"natur\", \"need\", \"need\", \"need\", \"need\", \"need\", \"network\", \"network\", \"network\", \"network\", \"notebook\", \"notebook\", \"notebook\", \"notebook\", \"notebook\", \"onlin\", \"onlin\", \"onlin\", \"panda\", \"panda\", \"panda\", \"panda\", \"panda\", \"person\", \"person\", \"person\", \"plot\", \"plot\", \"plot\", \"plot\", \"plot\", \"plot\", \"plot\", \"predict\", \"predict\", \"predict\", \"predict\", \"probabl\", \"probabl\", \"probabl\", \"probabl\", \"probabl\", \"process\", \"process\", \"process\", \"process\", \"process\", \"process\", \"product\", \"product\", \"product\", \"product\", \"program\", \"program\", \"program\", \"program\", \"program\", \"program\", \"program\", \"project\", \"project\", \"project\", \"project\", \"project\", \"project\", \"project\", \"project\", \"project\", \"project\", \"project\", \"python\", \"python\", \"python\", \"python\", \"python\", \"python\", \"python\", \"python\", \"python\", \"python\", \"python\", \"python\", \"python\", \"python\", \"python\", \"react\", \"react\", \"react\", \"react\", \"react\", \"react\", \"react\", \"react\", \"read\", \"read\", \"read\", \"regress\", \"regress\", \"regress\", \"regress\", \"scienc\", \"scienc\", \"scienc\", \"scienc\", \"scienc\", \"scienc\", \"scienc\", \"scienc\", \"scienc\", \"scienc\", \"scientist\", \"scientist\", \"scientist\", \"scientist\", \"scientist\", \"scientist\", \"scientist\", \"scrap\", \"scrap\", \"scrap\", \"scrap\", \"scrap\", \"scrap\", \"scrap\", \"scrap\", \"sentiment\", \"sentiment\", \"sentiment\", \"sentiment\", \"sentiment\", \"simpl\", \"simpl\", \"simpl\", \"simpl\", \"simpl\", \"simpl\", \"simpl\", \"simpl\", \"start\", \"start\", \"start\", \"start\", \"start\", \"start\", \"start\", \"start\", \"statist\", \"statist\", \"statist\", \"statist\", \"statist\", \"statist\", \"statist\", \"statist\", \"summar\", \"summar\", \"task\", \"task\", \"task\", \"task\", \"task\", \"text\", \"text\", \"text\", \"text\", \"text\", \"text\", \"text\", \"text\", \"text\", \"text\", \"time\", \"time\", \"time\", \"topic\", \"topic\", \"topic\", \"topic\", \"topic\", \"topic\", \"topic\", \"topic\", \"tree\", \"tree\", \"tree\", \"tree\", \"trend\", \"trend\", \"trend\", \"trend\", \"trend\", \"trick\", \"trick\", \"trick\", \"trick\", \"trick\", \"tutori\", \"tutori\", \"tutori\", \"tutori\", \"tutori\", \"tutori\", \"tutori\", \"tweet\", \"tweet\", \"tweet\", \"tweet\", \"tweet\", \"twitter\", \"twitter\", \"understand\", \"understand\", \"understand\", \"understand\", \"understand\", \"understand\", \"understand\", \"use\", \"use\", \"use\", \"use\", \"visual\", \"visual\", \"visual\", \"visual\", \"visual\", \"visual\", \"visual\", \"visual\", \"visual\", \"visual\", \"visual\", \"visual\", \"want\", \"want\", \"word\", \"word\", \"word\", \"word\", \"word\", \"word\", \"work\", \"work\", \"work\", \"work\", \"work\", \"work\", \"work\", \"write\", \"write\", \"write\", \"write\", \"write\", \"write\", \"year\", \"year\"]}, \"R\": 30, \"lambda.step\": 0.01, \"plot.opts\": {\"xlab\": \"PC1\", \"ylab\": \"PC2\"}, \"topic.order\": [6, 1, 11, 13, 7, 5, 12, 2, 9, 3, 14, 4, 15, 8, 10]};\n",
       "\n",
       "function LDAvis_load_lib(url, callback){\n",
       "  var s = document.createElement('script');\n",
       "  s.src = url;\n",
       "  s.async = true;\n",
       "  s.onreadystatechange = s.onload = callback;\n",
       "  s.onerror = function(){console.warn(\"failed to load library \" + url);};\n",
       "  document.getElementsByTagName(\"head\")[0].appendChild(s);\n",
       "}\n",
       "\n",
       "if(typeof(LDAvis) !== \"undefined\"){\n",
       "   // already loaded: just create the visualization\n",
       "   !function(LDAvis){\n",
       "       new LDAvis(\"#\" + \"ldavis_el466591405152641098081998016676\", ldavis_el466591405152641098081998016676_data);\n",
       "   }(LDAvis);\n",
       "}else if(typeof define === \"function\" && define.amd){\n",
       "   // require.js is available: use it to load d3/LDAvis\n",
       "   require.config({paths: {d3: \"https://d3js.org/d3.v5\"}});\n",
       "   require([\"d3\"], function(d3){\n",
       "      window.d3 = d3;\n",
       "      LDAvis_load_lib(\"https://cdn.jsdelivr.net/gh/bmabey/pyLDAvis@3.2.2/pyLDAvis/js/ldavis.v3.0.0.js\", function(){\n",
       "        new LDAvis(\"#\" + \"ldavis_el466591405152641098081998016676\", ldavis_el466591405152641098081998016676_data);\n",
       "      });\n",
       "    });\n",
       "}else{\n",
       "    // require.js not available: dynamically load d3 & LDAvis\n",
       "    LDAvis_load_lib(\"https://d3js.org/d3.v5.js\", function(){\n",
       "         LDAvis_load_lib(\"https://cdn.jsdelivr.net/gh/bmabey/pyLDAvis@3.2.2/pyLDAvis/js/ldavis.v3.0.0.js\", function(){\n",
       "                 new LDAvis(\"#\" + \"ldavis_el466591405152641098081998016676\", ldavis_el466591405152641098081998016676_data);\n",
       "            })\n",
       "         });\n",
       "}\n",
       "</script>"
      ],
      "text/plain": [
       "PreparedData(topic_coordinates=              x         y  topics  cluster      Freq\n",
       "topic                                               \n",
       "5     -0.004740 -0.136435       1        1  8.266304\n",
       "0     -0.097133 -0.069046       2        1  8.230385\n",
       "10    -0.045795 -0.046812       3        1  8.209844\n",
       "12    -0.036004  0.046602       4        1  7.646221\n",
       "6     -0.136478  0.094583       5        1  7.553040\n",
       "4     -0.019853 -0.095536       6        1  6.895943\n",
       "11     0.011958 -0.005869       7        1  6.755498\n",
       "1      0.263313 -0.035087       8        1  6.630336\n",
       "8      0.002128  0.265466       9        1  6.344214\n",
       "2     -0.036077  0.026792      10        1  6.247823\n",
       "13     0.146156  0.040709      11        1  6.041209\n",
       "3      0.030858  0.055615      12        1  6.005744\n",
       "14    -0.100906 -0.077298      13        1  5.551440\n",
       "7     -0.014660  0.003692      14        1  5.073153\n",
       "9      0.037231 -0.067376      15        1  4.548847, topic_info=        Term        Freq       Total Category  logprob  loglift\n",
       "5     python  124.000000  124.000000  Default  30.0000  30.0000\n",
       "66  mathemat   24.000000   24.000000  Default  29.0000  29.0000\n",
       "10     learn   71.000000   71.000000  Default  28.0000  28.0000\n",
       "3      scrap   29.000000   29.000000  Default  27.0000  27.0000\n",
       "7       code   29.000000   29.000000  Default  26.0000  26.0000\n",
       "..       ...         ...         ...      ...      ...      ...\n",
       "28   process    0.684848   21.868756  Topic15  -4.8245  -0.3733\n",
       "2       data    1.590473  106.685316  Topic15  -3.9819  -1.1156\n",
       "12     model    0.783263   35.263396  Topic15  -4.6903  -0.7168\n",
       "0       plot    0.642805   27.941100  Topic15  -4.8879  -0.6817\n",
       "3      scrap    0.640708   29.056229  Topic15  -4.8912  -0.7241\n",
       "\n",
       "[557 rows x 6 columns], token_table=      Topic      Freq       Term\n",
       "term                            \n",
       "14        1  0.586746  algorithm\n",
       "14        3  0.090269  algorithm\n",
       "14        6  0.090269  algorithm\n",
       "14        8  0.045134  algorithm\n",
       "14       11  0.045134  algorithm\n",
       "...     ...       ...        ...\n",
       "33        8  0.645189      write\n",
       "33       12  0.107532      write\n",
       "33       15  0.053766      write\n",
       "34        5  0.143437       year\n",
       "34        8  0.717184       year\n",
       "\n",
       "[529 rows x 3 columns], R=30, lambda_step=0.01, plot_opts={'xlab': 'PC1', 'ylab': 'PC2'}, topic_order=[6, 1, 11, 13, 7, 5, 12, 2, 9, 3, 14, 4, 15, 8, 10])"
      ]
     },
     "execution_count": 26,
     "metadata": {},
     "output_type": "execute_result"
    }
   ],
   "source": [
    "import pyLDAvis.gensim\n",
    "import pickle \n",
    "import pyLDAvis\n",
    "import os\n",
    "\n",
    "# Visualize the topics\n",
    "pyLDAvis.enable_notebook()\n",
    "LDAvis_data_filepath = os.path.join('./results/ldavis_prepared_'+str(lda_model.num_topics))\n",
    "viz_prep = True\n",
    "if viz_prep:\n",
    "    LDAvis_prepared = pyLDAvis.gensim.prepare(lda_model, corpus_tfidf, dictionary)\n",
    "    with open(LDAvis_data_filepath, 'wb') as f:\n",
    "        pickle.dump(LDAvis_prepared, f)\n",
    "else:\n",
    "    # load the pre-prepared pyLDAvis data from disk\n",
    "    with open(LDAvis_data_filepath, 'rb') as f:\n",
    "        LDAvis_prepared = pickle.load(f)\n",
    "pyLDAvis.save_html(LDAvis_prepared, './results/ldavis_prepared_'+ str(lda_model.num_topics) +'.html')\n",
    "LDAvis_prepared"
   ]
  },
  {
   "cell_type": "markdown",
   "id": "e6bd9717",
   "metadata": {},
   "source": [
    "### BERTopic"
   ]
  },
  {
   "cell_type": "code",
   "execution_count": 47,
   "id": "7b6e9da0",
   "metadata": {},
   "outputs": [
    {
     "name": "stderr",
     "output_type": "stream",
     "text": [
      "/Users/sejaldua/opt/anaconda3/lib/python3.8/site-packages/ipykernel/ipkernel.py:287: DeprecationWarning: `should_run_async` will not call `transform_cell` automatically in the future. Please pass the result to `transformed_cell` argument and any exception that happen during thetransform in `preprocessing_exc_tuple` in IPython 7.17 and above.\n",
      "  and should_run_async(code)\n"
     ]
    },
    {
     "name": "stdout",
     "output_type": "stream",
     "text": [
      "Requirement already satisfied: bertopic in /Users/sejaldua/opt/anaconda3/lib/python3.8/site-packages (0.3.4)\n",
      "Collecting bertopic\n",
      "  Using cached bertopic-0.9.0-py2.py3-none-any.whl (55 kB)\n",
      "Collecting numpy>=1.20.0\n",
      "  Using cached numpy-1.21.1-cp38-cp38-macosx_10_9_x86_64.whl (16.9 MB)\n",
      "Requirement already satisfied: pandas>=1.1.5 in /Users/sejaldua/opt/anaconda3/lib/python3.8/site-packages (from bertopic) (1.2.4)\n",
      "Collecting plotly<4.14.3,>=4.7.0\n",
      "  Using cached plotly-4.14.2-py2.py3-none-any.whl (13.2 MB)\n",
      "Requirement already satisfied: sentence-transformers>=0.4.1 in /Users/sejaldua/opt/anaconda3/lib/python3.8/site-packages (from bertopic) (2.0.0)\n",
      "Collecting hdbscan>=0.8.27\n",
      "  Using cached hdbscan-0.8.27.tar.gz (6.4 MB)\n",
      "  Installing build dependencies ... \u001b[?25lerror\n",
      "\u001b[31m  ERROR: Command errored out with exit status 1:\n",
      "   command: /Users/sejaldua/opt/anaconda3/bin/python /Users/sejaldua/opt/anaconda3/lib/python3.8/site-packages/pip install --ignore-installed --no-user --prefix /private/var/folders/n2/m7q730ss09d_cds_rgg93lsh0000gn/T/pip-build-env-wcvzwik5/overlay --no-warn-script-location --no-binary :none: --only-binary :none: -i https://pypi.org/simple -- setuptools wheel cython numpy\n",
      "       cwd: None\n",
      "  Complete output (31 lines):\n",
      "  Traceback (most recent call last):\n",
      "    File \"/Users/sejaldua/opt/anaconda3/lib/python3.8/runpy.py\", line 194, in _run_module_as_main\n",
      "      return _run_code(code, main_globals, None,\n",
      "    File \"/Users/sejaldua/opt/anaconda3/lib/python3.8/runpy.py\", line 87, in _run_code\n",
      "      exec(code, run_globals)\n",
      "    File \"/Users/sejaldua/opt/anaconda3/lib/python3.8/site-packages/pip/__main__.py\", line 24, in <module>\n",
      "      sys.exit(_main())\n",
      "    File \"/Users/sejaldua/opt/anaconda3/lib/python3.8/site-packages/pip/_internal/cli/main.py\", line 71, in main\n",
      "      command = create_command(cmd_name, isolated=(\"--isolated\" in cmd_args))\n",
      "    File \"/Users/sejaldua/opt/anaconda3/lib/python3.8/site-packages/pip/_internal/commands/__init__.py\", line 96, in create_command\n",
      "      module = importlib.import_module(module_path)\n",
      "    File \"/Users/sejaldua/opt/anaconda3/lib/python3.8/importlib/__init__.py\", line 127, in import_module\n",
      "      return _bootstrap._gcd_import(name[level:], package, level)\n",
      "    File \"<frozen importlib._bootstrap>\", line 1014, in _gcd_import\n",
      "    File \"<frozen importlib._bootstrap>\", line 991, in _find_and_load\n",
      "    File \"<frozen importlib._bootstrap>\", line 975, in _find_and_load_unlocked\n",
      "    File \"<frozen importlib._bootstrap>\", line 671, in _load_unlocked\n",
      "    File \"<frozen importlib._bootstrap_external>\", line 783, in exec_module\n",
      "    File \"<frozen importlib._bootstrap>\", line 219, in _call_with_frames_removed\n",
      "    File \"/Users/sejaldua/opt/anaconda3/lib/python3.8/site-packages/pip/_internal/commands/install.py\", line 15, in <module>\n",
      "      from pip._internal.cli.req_command import RequirementCommand, with_cleanup\n",
      "    File \"/Users/sejaldua/opt/anaconda3/lib/python3.8/site-packages/pip/_internal/cli/req_command.py\", line 21, in <module>\n",
      "      from pip._internal.req.constructors import (\n",
      "    File \"/Users/sejaldua/opt/anaconda3/lib/python3.8/site-packages/pip/_internal/req/__init__.py\", line 8, in <module>\n",
      "      from .req_install import InstallRequirement\n",
      "    File \"/Users/sejaldua/opt/anaconda3/lib/python3.8/site-packages/pip/_internal/req/req_install.py\", line 8, in <module>\n",
      "      import uuid\n",
      "    File \"/Users/sejaldua/opt/anaconda3/lib/python3.8/site-packages/uuid.py\", line 138\n",
      "      if not 0 <= time_low < 1<<32L:\n",
      "                                  ^\n",
      "  SyntaxError: invalid syntax\n",
      "  ----------------------------------------\u001b[0m\n",
      "\u001b[33mWARNING: Discarding https://files.pythonhosted.org/packages/32/bb/59a75bc5ac66a9b4f9b8f979e4545af0e98bb1ca4e6ae96b3b956b554223/hdbscan-0.8.27.tar.gz#sha256=e3a418d0d36874f7b6a1bf0b7461f3857fc13a525fd48ba34caed2fe8973aa26 (from https://pypi.org/simple/hdbscan/). Command errored out with exit status 1: /Users/sejaldua/opt/anaconda3/bin/python /Users/sejaldua/opt/anaconda3/lib/python3.8/site-packages/pip install --ignore-installed --no-user --prefix /private/var/folders/n2/m7q730ss09d_cds_rgg93lsh0000gn/T/pip-build-env-wcvzwik5/overlay --no-warn-script-location --no-binary :none: --only-binary :none: -i https://pypi.org/simple -- setuptools wheel cython numpy Check the logs for full command output.\u001b[0m\n",
      "\u001b[?25hCollecting bertopic\n",
      "  Using cached bertopic-0.8.1-py2.py3-none-any.whl (53 kB)\n",
      "  Using cached bertopic-0.8.0-py2.py3-none-any.whl (53 kB)\n",
      "  Using cached bertopic-0.7.0-py2.py3-none-any.whl (40 kB)\n",
      "  Using cached bertopic-0.6.0-py2.py3-none-any.whl (25 kB)\n",
      "Requirement already satisfied: numpy>=1.19.2 in /Users/sejaldua/opt/anaconda3/lib/python3.8/site-packages (from bertopic) (1.19.5)\n",
      "  Using cached bertopic-0.5.0-py2.py3-none-any.whl (21 kB)\n",
      "  Using cached bertopic-0.4.3-py2.py3-none-any.whl (20 kB)\n",
      "Requirement already satisfied: scipy>=1.3.1 in /Users/sejaldua/opt/anaconda3/lib/python3.8/site-packages (from bertopic) (1.6.2)\n",
      "Collecting joblib==0.17.0\n",
      "  Using cached joblib-0.17.0-py3-none-any.whl (301 kB)\n",
      "Collecting hdbscan>=0.8.26\n",
      "  Using cached hdbscan-0.8.26.tar.gz (4.7 MB)\n",
      "  Installing build dependencies ... \u001b[?25lerror\n",
      "\u001b[31m  ERROR: Command errored out with exit status 1:\n",
      "   command: /Users/sejaldua/opt/anaconda3/bin/python /Users/sejaldua/opt/anaconda3/lib/python3.8/site-packages/pip install --ignore-installed --no-user --prefix /private/var/folders/n2/m7q730ss09d_cds_rgg93lsh0000gn/T/pip-build-env-ksf72uw_/overlay --no-warn-script-location --no-binary :none: --only-binary :none: -i https://pypi.org/simple -- setuptools wheel cython numpy\n",
      "       cwd: None\n",
      "  Complete output (31 lines):\n",
      "  Traceback (most recent call last):\n",
      "    File \"/Users/sejaldua/opt/anaconda3/lib/python3.8/runpy.py\", line 194, in _run_module_as_main\n",
      "      return _run_code(code, main_globals, None,\n",
      "    File \"/Users/sejaldua/opt/anaconda3/lib/python3.8/runpy.py\", line 87, in _run_code\n",
      "      exec(code, run_globals)\n",
      "    File \"/Users/sejaldua/opt/anaconda3/lib/python3.8/site-packages/pip/__main__.py\", line 24, in <module>\n",
      "      sys.exit(_main())\n",
      "    File \"/Users/sejaldua/opt/anaconda3/lib/python3.8/site-packages/pip/_internal/cli/main.py\", line 71, in main\n",
      "      command = create_command(cmd_name, isolated=(\"--isolated\" in cmd_args))\n",
      "    File \"/Users/sejaldua/opt/anaconda3/lib/python3.8/site-packages/pip/_internal/commands/__init__.py\", line 96, in create_command\n",
      "      module = importlib.import_module(module_path)\n",
      "    File \"/Users/sejaldua/opt/anaconda3/lib/python3.8/importlib/__init__.py\", line 127, in import_module\n",
      "      return _bootstrap._gcd_import(name[level:], package, level)\n",
      "    File \"<frozen importlib._bootstrap>\", line 1014, in _gcd_import\n",
      "    File \"<frozen importlib._bootstrap>\", line 991, in _find_and_load\n",
      "    File \"<frozen importlib._bootstrap>\", line 975, in _find_and_load_unlocked\n",
      "    File \"<frozen importlib._bootstrap>\", line 671, in _load_unlocked\n",
      "    File \"<frozen importlib._bootstrap_external>\", line 783, in exec_module\n",
      "    File \"<frozen importlib._bootstrap>\", line 219, in _call_with_frames_removed\n",
      "    File \"/Users/sejaldua/opt/anaconda3/lib/python3.8/site-packages/pip/_internal/commands/install.py\", line 15, in <module>\n",
      "      from pip._internal.cli.req_command import RequirementCommand, with_cleanup\n",
      "    File \"/Users/sejaldua/opt/anaconda3/lib/python3.8/site-packages/pip/_internal/cli/req_command.py\", line 21, in <module>\n",
      "      from pip._internal.req.constructors import (\n",
      "    File \"/Users/sejaldua/opt/anaconda3/lib/python3.8/site-packages/pip/_internal/req/__init__.py\", line 8, in <module>\n",
      "      from .req_install import InstallRequirement\n",
      "    File \"/Users/sejaldua/opt/anaconda3/lib/python3.8/site-packages/pip/_internal/req/req_install.py\", line 8, in <module>\n",
      "      import uuid\n",
      "    File \"/Users/sejaldua/opt/anaconda3/lib/python3.8/site-packages/uuid.py\", line 138\n",
      "      if not 0 <= time_low < 1<<32L:\n",
      "                                  ^\n",
      "  SyntaxError: invalid syntax\n",
      "  ----------------------------------------\u001b[0m\n",
      "\u001b[33mWARNING: Discarding https://files.pythonhosted.org/packages/22/2f/2423d844072f007a74214c1adc46260e45f034bb1679ccadfbb8a601f647/hdbscan-0.8.26.tar.gz#sha256=81a61cd011e010b20e7cbd8d235053a98892504d32881d379d1902278817927e (from https://pypi.org/simple/hdbscan/). Command errored out with exit status 1: /Users/sejaldua/opt/anaconda3/bin/python /Users/sejaldua/opt/anaconda3/lib/python3.8/site-packages/pip install --ignore-installed --no-user --prefix /private/var/folders/n2/m7q730ss09d_cds_rgg93lsh0000gn/T/pip-build-env-ksf72uw_/overlay --no-warn-script-location --no-binary :none: --only-binary :none: -i https://pypi.org/simple -- setuptools wheel cython numpy Check the logs for full command output.\u001b[0m\n",
      "\u001b[?25hCollecting bertopic\n",
      "  Using cached bertopic-0.4.2-py2.py3-none-any.whl (20 kB)\n"
     ]
    },
    {
     "name": "stdout",
     "output_type": "stream",
     "text": [
      "  Using cached bertopic-0.4.1-py2.py3-none-any.whl (20 kB)\n",
      "  Using cached bertopic-0.4.0-py2.py3-none-any.whl (20 kB)\n",
      "Requirement already satisfied: scikit-learn in /Users/sejaldua/opt/anaconda3/lib/python3.8/site-packages (from bertopic) (0.24.1)\n",
      "Requirement already satisfied: joblib in /Users/sejaldua/opt/anaconda3/lib/python3.8/site-packages (from bertopic) (1.0.1)\n",
      "Requirement already satisfied: tqdm in /Users/sejaldua/opt/anaconda3/lib/python3.8/site-packages (from bertopic) (4.59.0)\n",
      "Requirement already satisfied: torch in /Users/sejaldua/opt/anaconda3/lib/python3.8/site-packages (from bertopic) (1.9.0)\n",
      "Requirement already satisfied: matplotlib in /Users/sejaldua/opt/anaconda3/lib/python3.8/site-packages (from bertopic) (3.3.4)\n",
      "Requirement already satisfied: hdbscan in /Users/sejaldua/opt/anaconda3/lib/python3.8/site-packages (from bertopic) (0.8.16)\n",
      "Requirement already satisfied: umap-learn in /Users/sejaldua/opt/anaconda3/lib/python3.8/site-packages (from bertopic) (0.5.1)\n",
      "Requirement already satisfied: cython>=0.26 in /Users/sejaldua/opt/anaconda3/lib/python3.8/site-packages (from hdbscan->bertopic) (0.29.23)\n",
      "Requirement already satisfied: threadpoolctl>=2.0.0 in /Users/sejaldua/opt/anaconda3/lib/python3.8/site-packages (from scikit-learn->bertopic) (2.1.0)\n",
      "Requirement already satisfied: cycler>=0.10 in /Users/sejaldua/opt/anaconda3/lib/python3.8/site-packages (from matplotlib->bertopic) (0.10.0)\n",
      "Requirement already satisfied: pyparsing!=2.0.4,!=2.1.2,!=2.1.6,>=2.0.3 in /Users/sejaldua/opt/anaconda3/lib/python3.8/site-packages (from matplotlib->bertopic) (2.4.7)\n",
      "Requirement already satisfied: pillow>=6.2.0 in /Users/sejaldua/opt/anaconda3/lib/python3.8/site-packages (from matplotlib->bertopic) (8.2.0)\n",
      "Requirement already satisfied: python-dateutil>=2.1 in /Users/sejaldua/opt/anaconda3/lib/python3.8/site-packages (from matplotlib->bertopic) (2.8.1)\n",
      "Requirement already satisfied: kiwisolver>=1.0.1 in /Users/sejaldua/opt/anaconda3/lib/python3.8/site-packages (from matplotlib->bertopic) (1.3.1)\n",
      "Requirement already satisfied: six in /Users/sejaldua/opt/anaconda3/lib/python3.8/site-packages (from cycler>=0.10->matplotlib->bertopic) (1.15.0)\n",
      "Requirement already satisfied: pytz>=2017.3 in /Users/sejaldua/opt/anaconda3/lib/python3.8/site-packages (from pandas>=1.1.5->bertopic) (2021.1)\n",
      "Requirement already satisfied: transformers<5.0.0,>=4.6.0 in /Users/sejaldua/opt/anaconda3/lib/python3.8/site-packages/transformers-4.8.1-py3.8.egg (from sentence-transformers>=0.4.1->bertopic) (4.8.1)\n",
      "Requirement already satisfied: nltk in /Users/sejaldua/opt/anaconda3/lib/python3.8/site-packages (from sentence-transformers>=0.4.1->bertopic) (3.6.1)\n",
      "Requirement already satisfied: sentencepiece in /Users/sejaldua/opt/anaconda3/lib/python3.8/site-packages (from sentence-transformers>=0.4.1->bertopic) (0.1.96)\n",
      "Requirement already satisfied: huggingface-hub in /Users/sejaldua/opt/anaconda3/lib/python3.8/site-packages (from sentence-transformers>=0.4.1->bertopic) (0.0.12)\n",
      "Requirement already satisfied: torchvision in /Users/sejaldua/opt/anaconda3/lib/python3.8/site-packages (from sentence-transformers>=0.4.1->bertopic) (0.10.0)\n",
      "Requirement already satisfied: typing-extensions in /Users/sejaldua/opt/anaconda3/lib/python3.8/site-packages (from torch->bertopic) (3.7.4.3)\n",
      "Requirement already satisfied: filelock in /Users/sejaldua/opt/anaconda3/lib/python3.8/site-packages (from transformers<5.0.0,>=4.6.0->sentence-transformers>=0.4.1->bertopic) (3.0.12)\n",
      "Requirement already satisfied: packaging in /Users/sejaldua/opt/anaconda3/lib/python3.8/site-packages (from transformers<5.0.0,>=4.6.0->sentence-transformers>=0.4.1->bertopic) (20.9)\n",
      "Requirement already satisfied: pyyaml in /Users/sejaldua/opt/anaconda3/lib/python3.8/site-packages (from transformers<5.0.0,>=4.6.0->sentence-transformers>=0.4.1->bertopic) (5.4.1)\n",
      "Requirement already satisfied: regex!=2019.12.17 in /Users/sejaldua/opt/anaconda3/lib/python3.8/site-packages (from transformers<5.0.0,>=4.6.0->sentence-transformers>=0.4.1->bertopic) (2021.4.4)\n",
      "Requirement already satisfied: requests in /Users/sejaldua/opt/anaconda3/lib/python3.8/site-packages (from transformers<5.0.0,>=4.6.0->sentence-transformers>=0.4.1->bertopic) (2.25.1)\n",
      "Requirement already satisfied: sacremoses in /Users/sejaldua/opt/anaconda3/lib/python3.8/site-packages/sacremoses-0.0.43-py3.8.egg (from transformers<5.0.0,>=4.6.0->sentence-transformers>=0.4.1->bertopic) (0.0.43)\n",
      "Requirement already satisfied: tokenizers<0.11,>=0.10.1 in /Users/sejaldua/opt/anaconda3/lib/python3.8/site-packages (from transformers<5.0.0,>=4.6.0->sentence-transformers>=0.4.1->bertopic) (0.10.3)\n",
      "Requirement already satisfied: click in /Users/sejaldua/opt/anaconda3/lib/python3.8/site-packages (from nltk->sentence-transformers>=0.4.1->bertopic) (7.1.2)\n",
      "Requirement already satisfied: chardet<5,>=3.0.2 in /Users/sejaldua/opt/anaconda3/lib/python3.8/site-packages (from requests->transformers<5.0.0,>=4.6.0->sentence-transformers>=0.4.1->bertopic) (4.0.0)\n",
      "Requirement already satisfied: certifi>=2017.4.17 in /Users/sejaldua/opt/anaconda3/lib/python3.8/site-packages (from requests->transformers<5.0.0,>=4.6.0->sentence-transformers>=0.4.1->bertopic) (2020.12.5)\n",
      "Requirement already satisfied: urllib3<1.27,>=1.21.1 in /Users/sejaldua/opt/anaconda3/lib/python3.8/site-packages (from requests->transformers<5.0.0,>=4.6.0->sentence-transformers>=0.4.1->bertopic) (1.26.4)\n",
      "Requirement already satisfied: idna<3,>=2.5 in /Users/sejaldua/opt/anaconda3/lib/python3.8/site-packages (from requests->transformers<5.0.0,>=4.6.0->sentence-transformers>=0.4.1->bertopic) (2.10)\n",
      "Requirement already satisfied: numba>=0.49 in /Users/sejaldua/opt/anaconda3/lib/python3.8/site-packages (from umap-learn->bertopic) (0.53.1)\n",
      "Requirement already satisfied: pynndescent>=0.5 in /Users/sejaldua/opt/anaconda3/lib/python3.8/site-packages (from umap-learn->bertopic) (0.5.4)\n",
      "Requirement already satisfied: llvmlite<0.37,>=0.36.0rc1 in /Users/sejaldua/opt/anaconda3/lib/python3.8/site-packages (from numba>=0.49->umap-learn->bertopic) (0.36.0)\n",
      "Requirement already satisfied: setuptools in /Users/sejaldua/opt/anaconda3/lib/python3.8/site-packages (from numba>=0.49->umap-learn->bertopic) (52.0.0.post20210125)\n",
      "Found existing installation: huggingface-hub 0.0.12\n",
      "Uninstalling huggingface-hub-0.0.12:\n",
      "  Successfully uninstalled huggingface-hub-0.0.12\n",
      "Collecting huggingface-hub==0.0.8\n",
      "  Using cached huggingface_hub-0.0.8-py3-none-any.whl (34 kB)\n",
      "Requirement already satisfied: filelock in /Users/sejaldua/opt/anaconda3/lib/python3.8/site-packages (from huggingface-hub==0.0.8) (3.0.12)\n",
      "Requirement already satisfied: tqdm in /Users/sejaldua/opt/anaconda3/lib/python3.8/site-packages (from huggingface-hub==0.0.8) (4.59.0)\n",
      "Requirement already satisfied: requests in /Users/sejaldua/opt/anaconda3/lib/python3.8/site-packages (from huggingface-hub==0.0.8) (2.25.1)\n",
      "Requirement already satisfied: idna<3,>=2.5 in /Users/sejaldua/opt/anaconda3/lib/python3.8/site-packages (from requests->huggingface-hub==0.0.8) (2.10)\n",
      "Requirement already satisfied: urllib3<1.27,>=1.21.1 in /Users/sejaldua/opt/anaconda3/lib/python3.8/site-packages (from requests->huggingface-hub==0.0.8) (1.26.4)\n",
      "Requirement already satisfied: chardet<5,>=3.0.2 in /Users/sejaldua/opt/anaconda3/lib/python3.8/site-packages (from requests->huggingface-hub==0.0.8) (4.0.0)\n",
      "Requirement already satisfied: certifi>=2017.4.17 in /Users/sejaldua/opt/anaconda3/lib/python3.8/site-packages (from requests->huggingface-hub==0.0.8) (2020.12.5)\n",
      "Installing collected packages: huggingface-hub\n",
      "\u001b[31mERROR: pip's dependency resolver does not currently take into account all the packages that are installed. This behaviour is the source of the following dependency conflicts.\n",
      "transformers 4.8.1 requires huggingface-hub==0.0.12, but you have huggingface-hub 0.0.8 which is incompatible.\u001b[0m\n",
      "Successfully installed huggingface-hub-0.0.8\n"
     ]
    }
   ],
   "source": [
    "!pip install bertopic --upgrade\n",
    "!pip uninstall huggingface-hub -y\n",
    "!pip install huggingface-hub==0.0.8"
   ]
  },
  {
   "cell_type": "code",
   "execution_count": 48,
   "id": "6ef736de",
   "metadata": {},
   "outputs": [
    {
     "name": "stderr",
     "output_type": "stream",
     "text": [
      "/Users/sejaldua/opt/anaconda3/lib/python3.8/site-packages/ipykernel/ipkernel.py:287: DeprecationWarning: `should_run_async` will not call `transform_cell` automatically in the future. Please pass the result to `transformed_cell` argument and any exception that happen during thetransform in `preprocessing_exc_tuple` in IPython 7.17 and above.\n",
      "  and should_run_async(code)\n"
     ]
    },
    {
     "ename": "FileNotFoundError",
     "evalue": "[Errno 2] No such file or directory: '/Users/sejaldua/opt/anaconda3/lib/python3.8/site-packages/huggingface_hub-0.0.8-py3.8.egg'",
     "output_type": "error",
     "traceback": [
      "\u001b[0;31m---------------------------------------------------------------------------\u001b[0m",
      "\u001b[0;31mAttributeError\u001b[0m                            Traceback (most recent call last)",
      "\u001b[0;32m~/opt/anaconda3/lib/python3.8/site-packages/pkg_resources/__init__.py\u001b[0m in \u001b[0;36m_index\u001b[0;34m(self)\u001b[0m\n\u001b[1;32m   1832\u001b[0m         \u001b[0;32mtry\u001b[0m\u001b[0;34m:\u001b[0m\u001b[0;34m\u001b[0m\u001b[0;34m\u001b[0m\u001b[0m\n\u001b[0;32m-> 1833\u001b[0;31m             \u001b[0;32mreturn\u001b[0m \u001b[0mself\u001b[0m\u001b[0;34m.\u001b[0m\u001b[0m_dirindex\u001b[0m\u001b[0;34m\u001b[0m\u001b[0;34m\u001b[0m\u001b[0m\n\u001b[0m\u001b[1;32m   1834\u001b[0m         \u001b[0;32mexcept\u001b[0m \u001b[0mAttributeError\u001b[0m\u001b[0;34m:\u001b[0m\u001b[0;34m\u001b[0m\u001b[0;34m\u001b[0m\u001b[0m\n",
      "\u001b[0;31mAttributeError\u001b[0m: 'EggMetadata' object has no attribute '_dirindex'",
      "\nDuring handling of the above exception, another exception occurred:\n",
      "\u001b[0;31mFileNotFoundError\u001b[0m                         Traceback (most recent call last)",
      "\u001b[0;32m<ipython-input-48-1d2f5f7c9d67>\u001b[0m in \u001b[0;36m<module>\u001b[0;34m\u001b[0m\n\u001b[0;32m----> 1\u001b[0;31m \u001b[0;32mfrom\u001b[0m \u001b[0mbertopic\u001b[0m \u001b[0;32mimport\u001b[0m \u001b[0mBERTopic\u001b[0m\u001b[0;34m\u001b[0m\u001b[0;34m\u001b[0m\u001b[0m\n\u001b[0m",
      "\u001b[0;32m~/opt/anaconda3/lib/python3.8/site-packages/bertopic/__init__.py\u001b[0m in \u001b[0;36m<module>\u001b[0;34m\u001b[0m\n\u001b[0;32m----> 1\u001b[0;31m \u001b[0;32mfrom\u001b[0m \u001b[0mbertopic\u001b[0m\u001b[0;34m.\u001b[0m\u001b[0mmodel\u001b[0m \u001b[0;32mimport\u001b[0m \u001b[0mBERTopic\u001b[0m\u001b[0;34m\u001b[0m\u001b[0;34m\u001b[0m\u001b[0m\n\u001b[0m\u001b[1;32m      2\u001b[0m \u001b[0m__version__\u001b[0m \u001b[0;34m=\u001b[0m \u001b[0;34m\"0.3.4\"\u001b[0m\u001b[0;34m\u001b[0m\u001b[0;34m\u001b[0m\u001b[0m\n",
      "\u001b[0;32m~/opt/anaconda3/lib/python3.8/site-packages/bertopic/model.py\u001b[0m in \u001b[0;36m<module>\u001b[0;34m\u001b[0m\n\u001b[1;32m     10\u001b[0m \u001b[0;34m\u001b[0m\u001b[0m\n\u001b[1;32m     11\u001b[0m \u001b[0;31m# Models\u001b[0m\u001b[0;34m\u001b[0m\u001b[0;34m\u001b[0m\u001b[0;34m\u001b[0m\u001b[0m\n\u001b[0;32m---> 12\u001b[0;31m \u001b[0;32mimport\u001b[0m \u001b[0mumap\u001b[0m\u001b[0;34m\u001b[0m\u001b[0;34m\u001b[0m\u001b[0m\n\u001b[0m\u001b[1;32m     13\u001b[0m \u001b[0;32mimport\u001b[0m \u001b[0mhdbscan\u001b[0m\u001b[0;34m\u001b[0m\u001b[0;34m\u001b[0m\u001b[0m\n\u001b[1;32m     14\u001b[0m \u001b[0;32mfrom\u001b[0m \u001b[0msentence_transformers\u001b[0m \u001b[0;32mimport\u001b[0m \u001b[0mSentenceTransformer\u001b[0m\u001b[0;34m\u001b[0m\u001b[0;34m\u001b[0m\u001b[0m\n",
      "\u001b[0;32m~/opt/anaconda3/lib/python3.8/site-packages/umap/__init__.py\u001b[0m in \u001b[0;36m<module>\u001b[0;34m\u001b[0m\n\u001b[1;32m      1\u001b[0m \u001b[0;32mfrom\u001b[0m \u001b[0mwarnings\u001b[0m \u001b[0;32mimport\u001b[0m \u001b[0mwarn\u001b[0m\u001b[0;34m,\u001b[0m \u001b[0mcatch_warnings\u001b[0m\u001b[0;34m,\u001b[0m \u001b[0msimplefilter\u001b[0m\u001b[0;34m\u001b[0m\u001b[0;34m\u001b[0m\u001b[0m\n\u001b[0;32m----> 2\u001b[0;31m \u001b[0;32mfrom\u001b[0m \u001b[0;34m.\u001b[0m\u001b[0mumap_\u001b[0m \u001b[0;32mimport\u001b[0m \u001b[0mUMAP\u001b[0m\u001b[0;34m\u001b[0m\u001b[0;34m\u001b[0m\u001b[0m\n\u001b[0m\u001b[1;32m      3\u001b[0m \u001b[0;34m\u001b[0m\u001b[0m\n\u001b[1;32m      4\u001b[0m \u001b[0;32mtry\u001b[0m\u001b[0;34m:\u001b[0m\u001b[0;34m\u001b[0m\u001b[0;34m\u001b[0m\u001b[0m\n\u001b[1;32m      5\u001b[0m     \u001b[0;32mwith\u001b[0m \u001b[0mcatch_warnings\u001b[0m\u001b[0;34m(\u001b[0m\u001b[0;34m)\u001b[0m\u001b[0;34m:\u001b[0m\u001b[0;34m\u001b[0m\u001b[0;34m\u001b[0m\u001b[0m\n",
      "\u001b[0;32m~/opt/anaconda3/lib/python3.8/site-packages/umap/umap_.py\u001b[0m in \u001b[0;36m<module>\u001b[0;34m\u001b[0m\n\u001b[1;32m     45\u001b[0m )\n\u001b[1;32m     46\u001b[0m \u001b[0;34m\u001b[0m\u001b[0m\n\u001b[0;32m---> 47\u001b[0;31m \u001b[0;32mfrom\u001b[0m \u001b[0mpynndescent\u001b[0m \u001b[0;32mimport\u001b[0m \u001b[0mNNDescent\u001b[0m\u001b[0;34m\u001b[0m\u001b[0;34m\u001b[0m\u001b[0m\n\u001b[0m\u001b[1;32m     48\u001b[0m \u001b[0;32mfrom\u001b[0m \u001b[0mpynndescent\u001b[0m\u001b[0;34m.\u001b[0m\u001b[0mdistances\u001b[0m \u001b[0;32mimport\u001b[0m \u001b[0mnamed_distances\u001b[0m \u001b[0;32mas\u001b[0m \u001b[0mpynn_named_distances\u001b[0m\u001b[0;34m\u001b[0m\u001b[0;34m\u001b[0m\u001b[0m\n\u001b[1;32m     49\u001b[0m \u001b[0;32mfrom\u001b[0m \u001b[0mpynndescent\u001b[0m\u001b[0;34m.\u001b[0m\u001b[0msparse\u001b[0m \u001b[0;32mimport\u001b[0m \u001b[0msparse_named_distances\u001b[0m \u001b[0;32mas\u001b[0m \u001b[0mpynn_sparse_named_distances\u001b[0m\u001b[0;34m\u001b[0m\u001b[0;34m\u001b[0m\u001b[0m\n",
      "\u001b[0;32m~/opt/anaconda3/lib/python3.8/site-packages/pynndescent/__init__.py\u001b[0m in \u001b[0;36m<module>\u001b[0;34m\u001b[0m\n\u001b[1;32m     13\u001b[0m         \u001b[0mnumba\u001b[0m\u001b[0;34m.\u001b[0m\u001b[0mconfig\u001b[0m\u001b[0;34m.\u001b[0m\u001b[0mTHREADING_LAYER\u001b[0m \u001b[0;34m=\u001b[0m \u001b[0;34m\"workqueue\"\u001b[0m\u001b[0;34m\u001b[0m\u001b[0;34m\u001b[0m\u001b[0m\n\u001b[1;32m     14\u001b[0m \u001b[0;34m\u001b[0m\u001b[0m\n\u001b[0;32m---> 15\u001b[0;31m \u001b[0m__version__\u001b[0m \u001b[0;34m=\u001b[0m \u001b[0mpkg_resources\u001b[0m\u001b[0;34m.\u001b[0m\u001b[0mget_distribution\u001b[0m\u001b[0;34m(\u001b[0m\u001b[0;34m\"pynndescent\"\u001b[0m\u001b[0;34m)\u001b[0m\u001b[0;34m.\u001b[0m\u001b[0mversion\u001b[0m\u001b[0;34m\u001b[0m\u001b[0;34m\u001b[0m\u001b[0m\n\u001b[0m",
      "\u001b[0;32m~/opt/anaconda3/lib/python3.8/site-packages/pkg_resources/__init__.py\u001b[0m in \u001b[0;36mget_distribution\u001b[0;34m(dist)\u001b[0m\n\u001b[1;32m    464\u001b[0m         \u001b[0mdist\u001b[0m \u001b[0;34m=\u001b[0m \u001b[0mRequirement\u001b[0m\u001b[0;34m.\u001b[0m\u001b[0mparse\u001b[0m\u001b[0;34m(\u001b[0m\u001b[0mdist\u001b[0m\u001b[0;34m)\u001b[0m\u001b[0;34m\u001b[0m\u001b[0;34m\u001b[0m\u001b[0m\n\u001b[1;32m    465\u001b[0m     \u001b[0;32mif\u001b[0m \u001b[0misinstance\u001b[0m\u001b[0;34m(\u001b[0m\u001b[0mdist\u001b[0m\u001b[0;34m,\u001b[0m \u001b[0mRequirement\u001b[0m\u001b[0;34m)\u001b[0m\u001b[0;34m:\u001b[0m\u001b[0;34m\u001b[0m\u001b[0;34m\u001b[0m\u001b[0m\n\u001b[0;32m--> 466\u001b[0;31m         \u001b[0mdist\u001b[0m \u001b[0;34m=\u001b[0m \u001b[0mget_provider\u001b[0m\u001b[0;34m(\u001b[0m\u001b[0mdist\u001b[0m\u001b[0;34m)\u001b[0m\u001b[0;34m\u001b[0m\u001b[0;34m\u001b[0m\u001b[0m\n\u001b[0m\u001b[1;32m    467\u001b[0m     \u001b[0;32mif\u001b[0m \u001b[0;32mnot\u001b[0m \u001b[0misinstance\u001b[0m\u001b[0;34m(\u001b[0m\u001b[0mdist\u001b[0m\u001b[0;34m,\u001b[0m \u001b[0mDistribution\u001b[0m\u001b[0;34m)\u001b[0m\u001b[0;34m:\u001b[0m\u001b[0;34m\u001b[0m\u001b[0;34m\u001b[0m\u001b[0m\n\u001b[1;32m    468\u001b[0m         \u001b[0;32mraise\u001b[0m \u001b[0mTypeError\u001b[0m\u001b[0;34m(\u001b[0m\u001b[0;34m\"Expected string, Requirement, or Distribution\"\u001b[0m\u001b[0;34m,\u001b[0m \u001b[0mdist\u001b[0m\u001b[0;34m)\u001b[0m\u001b[0;34m\u001b[0m\u001b[0;34m\u001b[0m\u001b[0m\n",
      "\u001b[0;32m~/opt/anaconda3/lib/python3.8/site-packages/pkg_resources/__init__.py\u001b[0m in \u001b[0;36mget_provider\u001b[0;34m(moduleOrReq)\u001b[0m\n\u001b[1;32m    340\u001b[0m     \u001b[0;34m\"\"\"Return an IResourceProvider for the named module or requirement\"\"\"\u001b[0m\u001b[0;34m\u001b[0m\u001b[0;34m\u001b[0m\u001b[0m\n\u001b[1;32m    341\u001b[0m     \u001b[0;32mif\u001b[0m \u001b[0misinstance\u001b[0m\u001b[0;34m(\u001b[0m\u001b[0mmoduleOrReq\u001b[0m\u001b[0;34m,\u001b[0m \u001b[0mRequirement\u001b[0m\u001b[0;34m)\u001b[0m\u001b[0;34m:\u001b[0m\u001b[0;34m\u001b[0m\u001b[0;34m\u001b[0m\u001b[0m\n\u001b[0;32m--> 342\u001b[0;31m         \u001b[0;32mreturn\u001b[0m \u001b[0mworking_set\u001b[0m\u001b[0;34m.\u001b[0m\u001b[0mfind\u001b[0m\u001b[0;34m(\u001b[0m\u001b[0mmoduleOrReq\u001b[0m\u001b[0;34m)\u001b[0m \u001b[0;32mor\u001b[0m \u001b[0mrequire\u001b[0m\u001b[0;34m(\u001b[0m\u001b[0mstr\u001b[0m\u001b[0;34m(\u001b[0m\u001b[0mmoduleOrReq\u001b[0m\u001b[0;34m)\u001b[0m\u001b[0;34m)\u001b[0m\u001b[0;34m[\u001b[0m\u001b[0;36m0\u001b[0m\u001b[0;34m]\u001b[0m\u001b[0;34m\u001b[0m\u001b[0;34m\u001b[0m\u001b[0m\n\u001b[0m\u001b[1;32m    343\u001b[0m     \u001b[0;32mtry\u001b[0m\u001b[0;34m:\u001b[0m\u001b[0;34m\u001b[0m\u001b[0;34m\u001b[0m\u001b[0m\n\u001b[1;32m    344\u001b[0m         \u001b[0mmodule\u001b[0m \u001b[0;34m=\u001b[0m \u001b[0msys\u001b[0m\u001b[0;34m.\u001b[0m\u001b[0mmodules\u001b[0m\u001b[0;34m[\u001b[0m\u001b[0mmoduleOrReq\u001b[0m\u001b[0;34m]\u001b[0m\u001b[0;34m\u001b[0m\u001b[0;34m\u001b[0m\u001b[0m\n",
      "\u001b[0;32m~/opt/anaconda3/lib/python3.8/site-packages/pkg_resources/__init__.py\u001b[0m in \u001b[0;36mrequire\u001b[0;34m(self, *requirements)\u001b[0m\n\u001b[1;32m    884\u001b[0m         \u001b[0mincluded\u001b[0m\u001b[0;34m,\u001b[0m \u001b[0meven\u001b[0m \u001b[0;32mif\u001b[0m \u001b[0mthey\u001b[0m \u001b[0mwere\u001b[0m \u001b[0malready\u001b[0m \u001b[0mactivated\u001b[0m \u001b[0;32min\u001b[0m \u001b[0mthis\u001b[0m \u001b[0mworking\u001b[0m \u001b[0mset\u001b[0m\u001b[0;34m.\u001b[0m\u001b[0;34m\u001b[0m\u001b[0;34m\u001b[0m\u001b[0m\n\u001b[1;32m    885\u001b[0m         \"\"\"\n\u001b[0;32m--> 886\u001b[0;31m         \u001b[0mneeded\u001b[0m \u001b[0;34m=\u001b[0m \u001b[0mself\u001b[0m\u001b[0;34m.\u001b[0m\u001b[0mresolve\u001b[0m\u001b[0;34m(\u001b[0m\u001b[0mparse_requirements\u001b[0m\u001b[0;34m(\u001b[0m\u001b[0mrequirements\u001b[0m\u001b[0;34m)\u001b[0m\u001b[0;34m)\u001b[0m\u001b[0;34m\u001b[0m\u001b[0;34m\u001b[0m\u001b[0m\n\u001b[0m\u001b[1;32m    887\u001b[0m \u001b[0;34m\u001b[0m\u001b[0m\n\u001b[1;32m    888\u001b[0m         \u001b[0;32mfor\u001b[0m \u001b[0mdist\u001b[0m \u001b[0;32min\u001b[0m \u001b[0mneeded\u001b[0m\u001b[0;34m:\u001b[0m\u001b[0;34m\u001b[0m\u001b[0;34m\u001b[0m\u001b[0m\n",
      "\u001b[0;32m~/opt/anaconda3/lib/python3.8/site-packages/pkg_resources/__init__.py\u001b[0m in \u001b[0;36mresolve\u001b[0;34m(self, requirements, env, installer, replace_conflicting, extras)\u001b[0m\n\u001b[1;32m    757\u001b[0m                     \u001b[0;32mif\u001b[0m \u001b[0menv\u001b[0m \u001b[0;32mis\u001b[0m \u001b[0;32mNone\u001b[0m\u001b[0;34m:\u001b[0m\u001b[0;34m\u001b[0m\u001b[0;34m\u001b[0m\u001b[0m\n\u001b[1;32m    758\u001b[0m                         \u001b[0;32mif\u001b[0m \u001b[0mdist\u001b[0m \u001b[0;32mis\u001b[0m \u001b[0;32mNone\u001b[0m\u001b[0;34m:\u001b[0m\u001b[0;34m\u001b[0m\u001b[0;34m\u001b[0m\u001b[0m\n\u001b[0;32m--> 759\u001b[0;31m                             \u001b[0menv\u001b[0m \u001b[0;34m=\u001b[0m \u001b[0mEnvironment\u001b[0m\u001b[0;34m(\u001b[0m\u001b[0mself\u001b[0m\u001b[0;34m.\u001b[0m\u001b[0mentries\u001b[0m\u001b[0;34m)\u001b[0m\u001b[0;34m\u001b[0m\u001b[0;34m\u001b[0m\u001b[0m\n\u001b[0m\u001b[1;32m    760\u001b[0m                         \u001b[0;32melse\u001b[0m\u001b[0;34m:\u001b[0m\u001b[0;34m\u001b[0m\u001b[0;34m\u001b[0m\u001b[0m\n\u001b[1;32m    761\u001b[0m                             \u001b[0;31m# Use an empty environment and workingset to avoid\u001b[0m\u001b[0;34m\u001b[0m\u001b[0;34m\u001b[0m\u001b[0;34m\u001b[0m\u001b[0m\n",
      "\u001b[0;32m~/opt/anaconda3/lib/python3.8/site-packages/pkg_resources/__init__.py\u001b[0m in \u001b[0;36m__init__\u001b[0;34m(self, search_path, platform, python)\u001b[0m\n\u001b[1;32m    968\u001b[0m         \u001b[0mself\u001b[0m\u001b[0;34m.\u001b[0m\u001b[0mplatform\u001b[0m \u001b[0;34m=\u001b[0m \u001b[0mplatform\u001b[0m\u001b[0;34m\u001b[0m\u001b[0;34m\u001b[0m\u001b[0m\n\u001b[1;32m    969\u001b[0m         \u001b[0mself\u001b[0m\u001b[0;34m.\u001b[0m\u001b[0mpython\u001b[0m \u001b[0;34m=\u001b[0m \u001b[0mpython\u001b[0m\u001b[0;34m\u001b[0m\u001b[0;34m\u001b[0m\u001b[0m\n\u001b[0;32m--> 970\u001b[0;31m         \u001b[0mself\u001b[0m\u001b[0;34m.\u001b[0m\u001b[0mscan\u001b[0m\u001b[0;34m(\u001b[0m\u001b[0msearch_path\u001b[0m\u001b[0;34m)\u001b[0m\u001b[0;34m\u001b[0m\u001b[0;34m\u001b[0m\u001b[0m\n\u001b[0m\u001b[1;32m    971\u001b[0m \u001b[0;34m\u001b[0m\u001b[0m\n\u001b[1;32m    972\u001b[0m     \u001b[0;32mdef\u001b[0m \u001b[0mcan_add\u001b[0m\u001b[0;34m(\u001b[0m\u001b[0mself\u001b[0m\u001b[0;34m,\u001b[0m \u001b[0mdist\u001b[0m\u001b[0;34m)\u001b[0m\u001b[0;34m:\u001b[0m\u001b[0;34m\u001b[0m\u001b[0;34m\u001b[0m\u001b[0m\n",
      "\u001b[0;32m~/opt/anaconda3/lib/python3.8/site-packages/pkg_resources/__init__.py\u001b[0m in \u001b[0;36mscan\u001b[0;34m(self, search_path)\u001b[0m\n\u001b[1;32m   1000\u001b[0m \u001b[0;34m\u001b[0m\u001b[0m\n\u001b[1;32m   1001\u001b[0m         \u001b[0;32mfor\u001b[0m \u001b[0mitem\u001b[0m \u001b[0;32min\u001b[0m \u001b[0msearch_path\u001b[0m\u001b[0;34m:\u001b[0m\u001b[0;34m\u001b[0m\u001b[0;34m\u001b[0m\u001b[0m\n\u001b[0;32m-> 1002\u001b[0;31m             \u001b[0;32mfor\u001b[0m \u001b[0mdist\u001b[0m \u001b[0;32min\u001b[0m \u001b[0mfind_distributions\u001b[0m\u001b[0;34m(\u001b[0m\u001b[0mitem\u001b[0m\u001b[0;34m)\u001b[0m\u001b[0;34m:\u001b[0m\u001b[0;34m\u001b[0m\u001b[0;34m\u001b[0m\u001b[0m\n\u001b[0m\u001b[1;32m   1003\u001b[0m                 \u001b[0mself\u001b[0m\u001b[0;34m.\u001b[0m\u001b[0madd\u001b[0m\u001b[0;34m(\u001b[0m\u001b[0mdist\u001b[0m\u001b[0;34m)\u001b[0m\u001b[0;34m\u001b[0m\u001b[0;34m\u001b[0m\u001b[0m\n\u001b[1;32m   1004\u001b[0m \u001b[0;34m\u001b[0m\u001b[0m\n",
      "\u001b[0;32m~/opt/anaconda3/lib/python3.8/site-packages/pkg_resources/__init__.py\u001b[0m in \u001b[0;36mfind_eggs_in_zip\u001b[0;34m(importer, path_item, only)\u001b[0m\n\u001b[1;32m   1981\u001b[0m         \u001b[0;31m# don't yield nested distros\u001b[0m\u001b[0;34m\u001b[0m\u001b[0;34m\u001b[0m\u001b[0;34m\u001b[0m\u001b[0m\n\u001b[1;32m   1982\u001b[0m         \u001b[0;32mreturn\u001b[0m\u001b[0;34m\u001b[0m\u001b[0;34m\u001b[0m\u001b[0m\n\u001b[0;32m-> 1983\u001b[0;31m     \u001b[0;32mfor\u001b[0m \u001b[0msubitem\u001b[0m \u001b[0;32min\u001b[0m \u001b[0mmetadata\u001b[0m\u001b[0;34m.\u001b[0m\u001b[0mresource_listdir\u001b[0m\u001b[0;34m(\u001b[0m\u001b[0;34m''\u001b[0m\u001b[0;34m)\u001b[0m\u001b[0;34m:\u001b[0m\u001b[0;34m\u001b[0m\u001b[0;34m\u001b[0m\u001b[0m\n\u001b[0m\u001b[1;32m   1984\u001b[0m         \u001b[0;32mif\u001b[0m \u001b[0m_is_egg_path\u001b[0m\u001b[0;34m(\u001b[0m\u001b[0msubitem\u001b[0m\u001b[0;34m)\u001b[0m\u001b[0;34m:\u001b[0m\u001b[0;34m\u001b[0m\u001b[0;34m\u001b[0m\u001b[0m\n\u001b[1;32m   1985\u001b[0m             \u001b[0msubpath\u001b[0m \u001b[0;34m=\u001b[0m \u001b[0mos\u001b[0m\u001b[0;34m.\u001b[0m\u001b[0mpath\u001b[0m\u001b[0;34m.\u001b[0m\u001b[0mjoin\u001b[0m\u001b[0;34m(\u001b[0m\u001b[0mpath_item\u001b[0m\u001b[0;34m,\u001b[0m \u001b[0msubitem\u001b[0m\u001b[0;34m)\u001b[0m\u001b[0;34m\u001b[0m\u001b[0;34m\u001b[0m\u001b[0m\n",
      "\u001b[0;32m~/opt/anaconda3/lib/python3.8/site-packages/pkg_resources/__init__.py\u001b[0m in \u001b[0;36mresource_listdir\u001b[0;34m(self, resource_name)\u001b[0m\n\u001b[1;32m   1424\u001b[0m \u001b[0;34m\u001b[0m\u001b[0m\n\u001b[1;32m   1425\u001b[0m     \u001b[0;32mdef\u001b[0m \u001b[0mresource_listdir\u001b[0m\u001b[0;34m(\u001b[0m\u001b[0mself\u001b[0m\u001b[0;34m,\u001b[0m \u001b[0mresource_name\u001b[0m\u001b[0;34m)\u001b[0m\u001b[0;34m:\u001b[0m\u001b[0;34m\u001b[0m\u001b[0;34m\u001b[0m\u001b[0m\n\u001b[0;32m-> 1426\u001b[0;31m         \u001b[0;32mreturn\u001b[0m \u001b[0mself\u001b[0m\u001b[0;34m.\u001b[0m\u001b[0m_listdir\u001b[0m\u001b[0;34m(\u001b[0m\u001b[0mself\u001b[0m\u001b[0;34m.\u001b[0m\u001b[0m_fn\u001b[0m\u001b[0;34m(\u001b[0m\u001b[0mself\u001b[0m\u001b[0;34m.\u001b[0m\u001b[0mmodule_path\u001b[0m\u001b[0;34m,\u001b[0m \u001b[0mresource_name\u001b[0m\u001b[0;34m)\u001b[0m\u001b[0;34m)\u001b[0m\u001b[0;34m\u001b[0m\u001b[0;34m\u001b[0m\u001b[0m\n\u001b[0m\u001b[1;32m   1427\u001b[0m \u001b[0;34m\u001b[0m\u001b[0m\n\u001b[1;32m   1428\u001b[0m     \u001b[0;32mdef\u001b[0m \u001b[0mmetadata_listdir\u001b[0m\u001b[0;34m(\u001b[0m\u001b[0mself\u001b[0m\u001b[0;34m,\u001b[0m \u001b[0mname\u001b[0m\u001b[0;34m)\u001b[0m\u001b[0;34m:\u001b[0m\u001b[0;34m\u001b[0m\u001b[0;34m\u001b[0m\u001b[0m\n",
      "\u001b[0;32m~/opt/anaconda3/lib/python3.8/site-packages/pkg_resources/__init__.py\u001b[0m in \u001b[0;36m_listdir\u001b[0;34m(self, fspath)\u001b[0m\n\u001b[1;32m   1854\u001b[0m \u001b[0;34m\u001b[0m\u001b[0m\n\u001b[1;32m   1855\u001b[0m     \u001b[0;32mdef\u001b[0m \u001b[0m_listdir\u001b[0m\u001b[0;34m(\u001b[0m\u001b[0mself\u001b[0m\u001b[0;34m,\u001b[0m \u001b[0mfspath\u001b[0m\u001b[0;34m)\u001b[0m\u001b[0;34m:\u001b[0m\u001b[0;34m\u001b[0m\u001b[0;34m\u001b[0m\u001b[0m\n\u001b[0;32m-> 1856\u001b[0;31m         \u001b[0;32mreturn\u001b[0m \u001b[0mlist\u001b[0m\u001b[0;34m(\u001b[0m\u001b[0mself\u001b[0m\u001b[0;34m.\u001b[0m\u001b[0m_index\u001b[0m\u001b[0;34m(\u001b[0m\u001b[0;34m)\u001b[0m\u001b[0;34m.\u001b[0m\u001b[0mget\u001b[0m\u001b[0;34m(\u001b[0m\u001b[0mself\u001b[0m\u001b[0;34m.\u001b[0m\u001b[0m_zipinfo_name\u001b[0m\u001b[0;34m(\u001b[0m\u001b[0mfspath\u001b[0m\u001b[0;34m)\u001b[0m\u001b[0;34m,\u001b[0m \u001b[0;34m(\u001b[0m\u001b[0;34m)\u001b[0m\u001b[0;34m)\u001b[0m\u001b[0;34m)\u001b[0m\u001b[0;34m\u001b[0m\u001b[0;34m\u001b[0m\u001b[0m\n\u001b[0m\u001b[1;32m   1857\u001b[0m \u001b[0;34m\u001b[0m\u001b[0m\n\u001b[1;32m   1858\u001b[0m     \u001b[0;32mdef\u001b[0m \u001b[0m_eager_to_zip\u001b[0m\u001b[0;34m(\u001b[0m\u001b[0mself\u001b[0m\u001b[0;34m,\u001b[0m \u001b[0mresource_name\u001b[0m\u001b[0;34m)\u001b[0m\u001b[0;34m:\u001b[0m\u001b[0;34m\u001b[0m\u001b[0;34m\u001b[0m\u001b[0m\n",
      "\u001b[0;32m~/opt/anaconda3/lib/python3.8/site-packages/pkg_resources/__init__.py\u001b[0m in \u001b[0;36m_index\u001b[0;34m(self)\u001b[0m\n\u001b[1;32m   1834\u001b[0m         \u001b[0;32mexcept\u001b[0m \u001b[0mAttributeError\u001b[0m\u001b[0;34m:\u001b[0m\u001b[0;34m\u001b[0m\u001b[0;34m\u001b[0m\u001b[0m\n\u001b[1;32m   1835\u001b[0m             \u001b[0mind\u001b[0m \u001b[0;34m=\u001b[0m \u001b[0;34m{\u001b[0m\u001b[0;34m}\u001b[0m\u001b[0;34m\u001b[0m\u001b[0;34m\u001b[0m\u001b[0m\n\u001b[0;32m-> 1836\u001b[0;31m             \u001b[0;32mfor\u001b[0m \u001b[0mpath\u001b[0m \u001b[0;32min\u001b[0m \u001b[0mself\u001b[0m\u001b[0;34m.\u001b[0m\u001b[0mzipinfo\u001b[0m\u001b[0;34m:\u001b[0m\u001b[0;34m\u001b[0m\u001b[0;34m\u001b[0m\u001b[0m\n\u001b[0m\u001b[1;32m   1837\u001b[0m                 \u001b[0mparts\u001b[0m \u001b[0;34m=\u001b[0m \u001b[0mpath\u001b[0m\u001b[0;34m.\u001b[0m\u001b[0msplit\u001b[0m\u001b[0;34m(\u001b[0m\u001b[0mos\u001b[0m\u001b[0;34m.\u001b[0m\u001b[0msep\u001b[0m\u001b[0;34m)\u001b[0m\u001b[0;34m\u001b[0m\u001b[0;34m\u001b[0m\u001b[0m\n\u001b[1;32m   1838\u001b[0m                 \u001b[0;32mwhile\u001b[0m \u001b[0mparts\u001b[0m\u001b[0;34m:\u001b[0m\u001b[0;34m\u001b[0m\u001b[0;34m\u001b[0m\u001b[0m\n",
      "\u001b[0;32m~/opt/anaconda3/lib/python3.8/site-packages/pkg_resources/__init__.py\u001b[0m in \u001b[0;36mzipinfo\u001b[0;34m(self)\u001b[0m\n\u001b[1;32m   1724\u001b[0m     \u001b[0;34m@\u001b[0m\u001b[0mproperty\u001b[0m\u001b[0;34m\u001b[0m\u001b[0;34m\u001b[0m\u001b[0m\n\u001b[1;32m   1725\u001b[0m     \u001b[0;32mdef\u001b[0m \u001b[0mzipinfo\u001b[0m\u001b[0;34m(\u001b[0m\u001b[0mself\u001b[0m\u001b[0;34m)\u001b[0m\u001b[0;34m:\u001b[0m\u001b[0;34m\u001b[0m\u001b[0;34m\u001b[0m\u001b[0m\n\u001b[0;32m-> 1726\u001b[0;31m         \u001b[0;32mreturn\u001b[0m \u001b[0mself\u001b[0m\u001b[0;34m.\u001b[0m\u001b[0m_zip_manifests\u001b[0m\u001b[0;34m.\u001b[0m\u001b[0mload\u001b[0m\u001b[0;34m(\u001b[0m\u001b[0mself\u001b[0m\u001b[0;34m.\u001b[0m\u001b[0mloader\u001b[0m\u001b[0;34m.\u001b[0m\u001b[0marchive\u001b[0m\u001b[0;34m)\u001b[0m\u001b[0;34m\u001b[0m\u001b[0;34m\u001b[0m\u001b[0m\n\u001b[0m\u001b[1;32m   1727\u001b[0m \u001b[0;34m\u001b[0m\u001b[0m\n\u001b[1;32m   1728\u001b[0m     \u001b[0;32mdef\u001b[0m \u001b[0mget_resource_filename\u001b[0m\u001b[0;34m(\u001b[0m\u001b[0mself\u001b[0m\u001b[0;34m,\u001b[0m \u001b[0mmanager\u001b[0m\u001b[0;34m,\u001b[0m \u001b[0mresource_name\u001b[0m\u001b[0;34m)\u001b[0m\u001b[0;34m:\u001b[0m\u001b[0;34m\u001b[0m\u001b[0;34m\u001b[0m\u001b[0m\n",
      "\u001b[0;32m~/opt/anaconda3/lib/python3.8/site-packages/pkg_resources/__init__.py\u001b[0m in \u001b[0;36mload\u001b[0;34m(self, path)\u001b[0m\n\u001b[1;32m   1681\u001b[0m         \"\"\"\n\u001b[1;32m   1682\u001b[0m         \u001b[0mpath\u001b[0m \u001b[0;34m=\u001b[0m \u001b[0mos\u001b[0m\u001b[0;34m.\u001b[0m\u001b[0mpath\u001b[0m\u001b[0;34m.\u001b[0m\u001b[0mnormpath\u001b[0m\u001b[0;34m(\u001b[0m\u001b[0mpath\u001b[0m\u001b[0;34m)\u001b[0m\u001b[0;34m\u001b[0m\u001b[0;34m\u001b[0m\u001b[0m\n\u001b[0;32m-> 1683\u001b[0;31m         \u001b[0mmtime\u001b[0m \u001b[0;34m=\u001b[0m \u001b[0mos\u001b[0m\u001b[0;34m.\u001b[0m\u001b[0mstat\u001b[0m\u001b[0;34m(\u001b[0m\u001b[0mpath\u001b[0m\u001b[0;34m)\u001b[0m\u001b[0;34m.\u001b[0m\u001b[0mst_mtime\u001b[0m\u001b[0;34m\u001b[0m\u001b[0;34m\u001b[0m\u001b[0m\n\u001b[0m\u001b[1;32m   1684\u001b[0m \u001b[0;34m\u001b[0m\u001b[0m\n\u001b[1;32m   1685\u001b[0m         \u001b[0;32mif\u001b[0m \u001b[0mpath\u001b[0m \u001b[0;32mnot\u001b[0m \u001b[0;32min\u001b[0m \u001b[0mself\u001b[0m \u001b[0;32mor\u001b[0m \u001b[0mself\u001b[0m\u001b[0;34m[\u001b[0m\u001b[0mpath\u001b[0m\u001b[0;34m]\u001b[0m\u001b[0;34m.\u001b[0m\u001b[0mmtime\u001b[0m \u001b[0;34m!=\u001b[0m \u001b[0mmtime\u001b[0m\u001b[0;34m:\u001b[0m\u001b[0;34m\u001b[0m\u001b[0;34m\u001b[0m\u001b[0m\n",
      "\u001b[0;31mFileNotFoundError\u001b[0m: [Errno 2] No such file or directory: '/Users/sejaldua/opt/anaconda3/lib/python3.8/site-packages/huggingface_hub-0.0.8-py3.8.egg'"
     ]
    }
   ],
   "source": [
    "from bertopic import BERTopic"
   ]
  },
  {
   "cell_type": "code",
   "execution_count": null,
   "id": "8d716349",
   "metadata": {},
   "outputs": [],
   "source": []
  }
 ],
 "metadata": {
  "kernelspec": {
   "display_name": "Python 3",
   "language": "python",
   "name": "python3"
  },
  "language_info": {
   "codemirror_mode": {
    "name": "ipython",
    "version": 3
   },
   "file_extension": ".py",
   "mimetype": "text/x-python",
   "name": "python",
   "nbconvert_exporter": "python",
   "pygments_lexer": "ipython3",
   "version": "3.8.8"
  }
 },
 "nbformat": 4,
 "nbformat_minor": 5
}
