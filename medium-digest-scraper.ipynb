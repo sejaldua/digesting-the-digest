{
 "cells": [
  {
   "cell_type": "code",
   "execution_count": 1,
   "id": "f13d31cd",
   "metadata": {},
   "outputs": [
    {
     "name": "stdout",
     "output_type": "stream",
     "text": [
      "Requirement already satisfied: tqdm in /Users/sejaldua/opt/anaconda3/lib/python3.8/site-packages (4.59.0)\n",
      "Requirement already satisfied: pyLDAvis in /Users/sejaldua/opt/anaconda3/lib/python3.8/site-packages (3.2.2)\n",
      "Requirement already satisfied: gensim in /Users/sejaldua/opt/anaconda3/lib/python3.8/site-packages (3.8.3)\n",
      "Requirement already satisfied: numpy in /Users/sejaldua/opt/anaconda3/lib/python3.8/site-packages (1.21.1)\n",
      "Requirement already satisfied: six>=1.5.0 in /Users/sejaldua/opt/anaconda3/lib/python3.8/site-packages (from gensim) (1.15.0)\n",
      "Requirement already satisfied: scipy>=0.18.1 in /Users/sejaldua/opt/anaconda3/lib/python3.8/site-packages (from gensim) (1.6.2)\n",
      "Requirement already satisfied: smart-open>=1.8.1 in /Users/sejaldua/opt/anaconda3/lib/python3.8/site-packages (from gensim) (5.1.0)\n",
      "Requirement already satisfied: wheel>=0.23.0 in /Users/sejaldua/opt/anaconda3/lib/python3.8/site-packages (from pyLDAvis) (0.36.2)\n",
      "Requirement already satisfied: joblib>=0.8.4 in /Users/sejaldua/opt/anaconda3/lib/python3.8/site-packages (from pyLDAvis) (1.0.1)\n",
      "Requirement already satisfied: numexpr in /Users/sejaldua/opt/anaconda3/lib/python3.8/site-packages (from pyLDAvis) (2.7.3)\n",
      "Requirement already satisfied: pandas>=0.17.0 in /Users/sejaldua/opt/anaconda3/lib/python3.8/site-packages (from pyLDAvis) (1.2.4)\n",
      "Requirement already satisfied: jinja2>=2.7.2 in /Users/sejaldua/opt/anaconda3/lib/python3.8/site-packages (from pyLDAvis) (2.11.3)\n",
      "Requirement already satisfied: future in /Users/sejaldua/opt/anaconda3/lib/python3.8/site-packages (from pyLDAvis) (0.18.2)\n",
      "Requirement already satisfied: funcy in /Users/sejaldua/opt/anaconda3/lib/python3.8/site-packages (from pyLDAvis) (1.16)\n",
      "Requirement already satisfied: MarkupSafe>=0.23 in /Users/sejaldua/opt/anaconda3/lib/python3.8/site-packages (from jinja2>=2.7.2->pyLDAvis) (1.1.1)\n",
      "Requirement already satisfied: python-dateutil>=2.7.3 in /Users/sejaldua/opt/anaconda3/lib/python3.8/site-packages (from pandas>=0.17.0->pyLDAvis) (2.8.1)\n",
      "Requirement already satisfied: pytz>=2017.3 in /Users/sejaldua/opt/anaconda3/lib/python3.8/site-packages (from pandas>=0.17.0->pyLDAvis) (2021.1)\n"
     ]
    }
   ],
   "source": [
    "!pip install tqdm pyLDAvis gensim numpy"
   ]
  },
  {
   "cell_type": "code",
   "execution_count": 2,
   "id": "73508cfe",
   "metadata": {},
   "outputs": [
    {
     "name": "stdout",
     "output_type": "stream",
     "text": [
      "Collecting package metadata (current_repodata.json): done\n",
      "Solving environment: done\n",
      "\n",
      "# All requested packages already installed.\n",
      "\n"
     ]
    }
   ],
   "source": [
    "!conda install -c conda-forge huggingface_hub -y"
   ]
  },
  {
   "cell_type": "code",
   "execution_count": 31,
   "id": "b6675ace",
   "metadata": {},
   "outputs": [
    {
     "name": "stdout",
     "output_type": "stream",
     "text": [
      "The autoreload extension is already loaded. To reload it, use:\n",
      "  %reload_ext autoreload\n"
     ]
    },
    {
     "name": "stderr",
     "output_type": "stream",
     "text": [
      "/Users/sejaldua/opt/anaconda3/lib/python3.8/site-packages/ipykernel/ipkernel.py:287: DeprecationWarning: `should_run_async` will not call `transform_cell` automatically in the future. Please pass the result to `transformed_cell` argument and any exception that happen during thetransform in `preprocessing_exc_tuple` in IPython 7.17 and above.\n",
      "  and should_run_async(code)\n"
     ]
    }
   ],
   "source": [
    "%load_ext autoreload\n",
    "%autoreload 2"
   ]
  },
  {
   "cell_type": "code",
   "execution_count": 32,
   "id": "4fdb0125",
   "metadata": {},
   "outputs": [
    {
     "name": "stderr",
     "output_type": "stream",
     "text": [
      "/Users/sejaldua/opt/anaconda3/lib/python3.8/site-packages/ipykernel/ipkernel.py:287: DeprecationWarning: `should_run_async` will not call `transform_cell` automatically in the future. Please pass the result to `transformed_cell` argument and any exception that happen during thetransform in `preprocessing_exc_tuple` in IPython 7.17 and above.\n",
      "  and should_run_async(code)\n"
     ]
    }
   ],
   "source": [
    "import warnings\n",
    "warnings.filterwarnings(\"ignore\")"
   ]
  },
  {
   "cell_type": "code",
   "execution_count": 42,
   "id": "872e57f9",
   "metadata": {},
   "outputs": [
    {
     "name": "stdout",
     "output_type": "stream",
     "text": [
      "11581918370519256241 1021\n"
     ]
    }
   ],
   "source": [
    "from quickstart import get_data\n",
    "service, messages = get_data()"
   ]
  },
  {
   "cell_type": "code",
   "execution_count": 43,
   "id": "bbd92f13",
   "metadata": {},
   "outputs": [
    {
     "name": "stdout",
     "output_type": "stream",
     "text": [
      "591\n"
     ]
    }
   ],
   "source": [
    "print(len(messages))"
   ]
  },
  {
   "cell_type": "code",
   "execution_count": 53,
   "id": "45a36a97",
   "metadata": {},
   "outputs": [
    {
     "name": "stderr",
     "output_type": "stream",
     "text": [
      "100%|██████████| 591/591 [01:35<00:00,  6.16it/s]\n"
     ]
    }
   ],
   "source": [
    "import base64\n",
    "import re\n",
    "from tqdm import tqdm\n",
    "import pandas as pd\n",
    "\n",
    "def parse_email_digest(content):\n",
    "    \"\"\" Returns a list of article information\n",
    "        title, subtitle, author, publication, minutes (reading time)\"\"\"\n",
    "    \n",
    "    msg_body = base64.urlsafe_b64decode(content).decode('utf-8')\n",
    "    text = re.sub(r'\\(https?:\\S+.*\\)', '', msg_body, flags=re.MULTILINE).strip('\\r')\n",
    "    # print(text.encode('utf=8'))\n",
    "    articles = [list(match) for match in re.findall('(.*)\\r\\n\\r\\n(.*)\\r\\n\\r\\n(.*) \\r\\n in (.*)\\r\\n*·(.*) min read', text, re.MULTILINE)]\n",
    "    return articles\n",
    "\n",
    "data = []\n",
    "num_articles_fetched = []\n",
    "for message in tqdm(messages):\n",
    "    \n",
    "    # Get an email by id\n",
    "    msg = service.users().messages().get(userId='me', id=message['id'], format='full').execute()\n",
    "    \n",
    "    # Get date of email for the purpose of topic modeling over time\n",
    "    for date_dict in msg['payload']['headers']:\n",
    "        if date_dict['name'] == 'Date':\n",
    "            date = date_dict['value']\n",
    "    date = pd.to_datetime(date)\n",
    "\n",
    "    # Get the email body\n",
    "    content = msg['payload']['parts'][0]['body']['data']\n",
    "    \n",
    "    # Extract article information for all articles featured in daily digest\n",
    "    fetched_articles = parse_email_digest(content)\n",
    "    num_articles_fetched.append(len(fetched_articles))\n",
    "    for articles in fetched_articles:\n",
    "        data.append([date, *articles])\n"
   ]
  },
  {
   "cell_type": "code",
   "execution_count": 54,
   "id": "5dbf9659",
   "metadata": {},
   "outputs": [
    {
     "name": "stdout",
     "output_type": "stream",
     "text": [
      "[13, 11, 11, 11, 11, 12, 10, 10, 14, 12, 12, 12, 12, 12, 12, 8, 13, 13, 10, 12, 11, 10, 8, 14, 14, 14, 11, 13, 9, 12, 12, 10, 13, 12, 12, 13, 12, 10, 12, 13, 14, 13, 10, 13, 13, 13, 11, 13, 12, 11, 12, 11, 12, 14, 10, 8, 13, 7, 13, 14, 15, 13, 13, 14, 13, 11, 12, 12, 14, 11, 12, 13, 13, 9, 9, 14, 13, 14, 11, 12, 13, 11, 13, 12, 13, 10, 13, 14, 13, 13, 12, 14, 14, 14, 11, 15, 12, 12, 12, 15, 12, 14, 14, 14, 15, 11, 13, 12, 12, 12, 14, 12, 16, 12, 10, 11, 10, 13, 13, 0, 11, 10, 15, 14, 9, 12, 14, 13, 10, 12, 14, 14, 14, 12, 14, 12, 8, 14, 15, 14, 13, 0, 0, 0, 0, 0, 0, 0, 0, 0, 0, 0, 0, 0, 0, 0, 0, 0, 0, 0, 0, 0, 0, 0, 0, 0, 0, 0, 0, 0, 0, 0, 0, 0, 0, 0, 0, 0, 0, 0, 0, 0, 0, 0, 0, 0, 0, 0, 0, 0, 0, 0, 0, 0, 0, 0, 0, 0, 0, 0, 0, 0, 0, 0, 0, 0, 0, 0, 0, 0, 0, 0, 0, 0, 0, 0, 0, 0, 0, 0, 0, 0, 0, 0, 0, 0, 0, 0, 0, 0, 0, 0, 0, 0, 0, 0, 0, 0, 0, 0, 0, 0, 0, 0, 0, 0, 0, 0, 0, 0, 0, 0, 0, 0, 0, 0, 0, 0, 0, 0, 0, 0, 0, 0, 0, 0, 0, 0, 0, 0, 0, 0, 0, 0, 0, 0, 0, 0, 0, 0, 0, 0, 0, 0, 0, 0, 0, 0, 0, 0, 0, 0, 0, 0, 0, 0, 0, 0, 0, 0, 0, 0, 0, 0, 0, 0, 0, 0, 0, 0, 0, 0, 0, 0, 0, 0, 0, 0, 0, 0, 0, 0, 0, 0, 0, 0, 0, 0, 0, 0, 0, 0, 0, 0, 0, 0, 0, 0, 0, 0, 0, 0, 0, 0, 0, 0, 0, 0, 0, 0, 0, 0, 0, 0, 0, 0, 0, 0, 0, 0, 0, 0, 0, 0, 0, 0, 0, 0, 0, 0, 0, 0, 0, 0, 0, 0, 0, 0, 0, 0, 0, 0, 0, 0, 0, 0, 0, 0, 0, 0, 0, 0, 0, 0, 0, 0, 0, 0, 0, 0, 0, 0, 0, 0, 0, 0, 0, 0, 0, 0, 0, 0, 0, 0, 0, 0, 0, 0, 0, 0, 0, 0, 0, 0, 0, 0, 0, 0, 0, 0, 0, 0, 0, 0, 0, 0, 0, 0, 0, 0, 0, 0, 0, 0, 0, 0, 0, 0, 0, 0, 0, 0, 0, 0, 0, 0, 0, 0, 0, 0, 0, 0, 0, 0, 0, 0, 0, 0, 0, 0, 0, 0, 0, 0, 0, 0, 0, 0, 0, 0, 0, 0, 0, 0, 0, 0, 0, 0, 0, 0, 0, 0, 0, 0, 0, 0, 0, 0, 0, 0, 0, 0, 0, 0, 0, 0, 0, 0, 0, 0, 0, 0, 0, 0, 0, 0, 0, 0, 0, 0, 0, 0, 0, 0, 0, 0, 0, 0, 0, 0, 0, 0, 0, 0, 0, 0, 0, 0, 0, 0, 0, 0, 0, 0, 0, 0, 0, 0, 0, 0, 0, 0, 0, 0, 0, 0, 0, 0, 0, 0, 0, 0, 0, 0, 0, 0, 0, 0, 0, 0, 0, 0, 0, 0, 0, 0, 0, 0, 0, 0, 0, 0, 0, 0, 0, 0, 0, 0, 0, 0, 0]\n"
     ]
    }
   ],
   "source": [
    "print(num_articles_fetched)"
   ]
  },
  {
   "cell_type": "code",
   "execution_count": 45,
   "id": "9c97a8c5",
   "metadata": {},
   "outputs": [
    {
     "data": {
      "text/html": [
       "<div>\n",
       "<style scoped>\n",
       "    .dataframe tbody tr th:only-of-type {\n",
       "        vertical-align: middle;\n",
       "    }\n",
       "\n",
       "    .dataframe tbody tr th {\n",
       "        vertical-align: top;\n",
       "    }\n",
       "\n",
       "    .dataframe thead th {\n",
       "        text-align: right;\n",
       "    }\n",
       "</style>\n",
       "<table border=\"1\" class=\"dataframe\">\n",
       "  <thead>\n",
       "    <tr style=\"text-align: right;\">\n",
       "      <th></th>\n",
       "      <th>Date</th>\n",
       "      <th>Title</th>\n",
       "      <th>Subtitle</th>\n",
       "      <th>Author</th>\n",
       "      <th>Publication</th>\n",
       "      <th>Minutes</th>\n",
       "    </tr>\n",
       "  </thead>\n",
       "  <tbody>\n",
       "    <tr>\n",
       "      <th>0</th>\n",
       "      <td>2021-08-11 11:40:00+00:00</td>\n",
       "      <td>Stop One-Hot Encoding your Categorical Feature...</td>\n",
       "      <td>Techniques to Encode Categorical Features with...</td>\n",
       "      <td>Satyam Kumar</td>\n",
       "      <td>The Startup</td>\n",
       "      <td>5</td>\n",
       "    </tr>\n",
       "    <tr>\n",
       "      <th>1</th>\n",
       "      <td>2021-08-11 11:40:00+00:00</td>\n",
       "      <td>Encoding Categorical Features</td>\n",
       "      <td>Introduction</td>\n",
       "      <td>Yang Liu</td>\n",
       "      <td>Towards Data Science</td>\n",
       "      <td>6</td>\n",
       "    </tr>\n",
       "    <tr>\n",
       "      <th>2</th>\n",
       "      <td>2021-08-11 11:40:00+00:00</td>\n",
       "      <td>How to Write a Headline</td>\n",
       "      <td>Insights from Medium's editorial team</td>\n",
       "      <td>Medium Creators</td>\n",
       "      <td>Creators Hub</td>\n",
       "      <td>5</td>\n",
       "    </tr>\n",
       "    <tr>\n",
       "      <th>3</th>\n",
       "      <td>2021-08-11 11:40:00+00:00</td>\n",
       "      <td>Topic Areas to Avoid</td>\n",
       "      <td>The following topics have been covered at leng...</td>\n",
       "      <td>Zack Shapiro</td>\n",
       "      <td>Better Programming</td>\n",
       "      <td>2</td>\n",
       "    </tr>\n",
       "    <tr>\n",
       "      <th>4</th>\n",
       "      <td>2021-08-11 11:40:00+00:00</td>\n",
       "      <td>How to Calculate Molecular Similarity</td>\n",
       "      <td>Day 15 of the 66 Days of Data</td>\n",
       "      <td>Chanin Nantasenamat</td>\n",
       "      <td>Data Professor</td>\n",
       "      <td>5</td>\n",
       "    </tr>\n",
       "    <tr>\n",
       "      <th>...</th>\n",
       "      <td>...</td>\n",
       "      <td>...</td>\n",
       "      <td>...</td>\n",
       "      <td>...</td>\n",
       "      <td>...</td>\n",
       "      <td>...</td>\n",
       "    </tr>\n",
       "    <tr>\n",
       "      <th>1706</th>\n",
       "      <td>2021-03-23 11:10:00+00:00</td>\n",
       "      <td>Actually, Not a Ton of People Are Moving to Fl...</td>\n",
       "      <td>It turns out it's mostly tech moguls who have ...</td>\n",
       "      <td>Marker Editors</td>\n",
       "      <td>Marker</td>\n",
       "      <td>2</td>\n",
       "    </tr>\n",
       "    <tr>\n",
       "      <th>1707</th>\n",
       "      <td>2021-03-23 11:10:00+00:00</td>\n",
       "      <td>Why We Should All Care About the Messy Busines...</td>\n",
       "      <td>Marker readers weigh in on the relevance of st...</td>\n",
       "      <td>Marker Editors</td>\n",
       "      <td>Marker</td>\n",
       "      <td>2</td>\n",
       "    </tr>\n",
       "    <tr>\n",
       "      <th>1708</th>\n",
       "      <td>2021-03-23 11:10:00+00:00</td>\n",
       "      <td>Why the Pandemic Is Causing You Motivation Par...</td>\n",
       "      <td>It's time to reset your brain by being nice to it</td>\n",
       "      <td>Allison Hirschlag</td>\n",
       "      <td>The Bold Italic</td>\n",
       "      <td>5</td>\n",
       "    </tr>\n",
       "    <tr>\n",
       "      <th>1709</th>\n",
       "      <td>2021-03-23 11:10:00+00:00</td>\n",
       "      <td>The Key to Achieving Your Goals Is Controlled ...</td>\n",
       "      <td>3 strategies for making mistakes you can learn...</td>\n",
       "      <td>Kristin Wong</td>\n",
       "      <td>Forge</td>\n",
       "      <td>5</td>\n",
       "    </tr>\n",
       "    <tr>\n",
       "      <th>1710</th>\n",
       "      <td>2021-03-23 11:10:00+00:00</td>\n",
       "      <td>The 70–20–10 System Will Help You Make Really ...</td>\n",
       "      <td>Even you don't think you're aware of Jonathan ...</td>\n",
       "      <td>Amy Shearn</td>\n",
       "      <td>Forge</td>\n",
       "      <td>2</td>\n",
       "    </tr>\n",
       "  </tbody>\n",
       "</table>\n",
       "<p>1711 rows × 6 columns</p>\n",
       "</div>"
      ],
      "text/plain": [
       "                          Date  \\\n",
       "0    2021-08-11 11:40:00+00:00   \n",
       "1    2021-08-11 11:40:00+00:00   \n",
       "2    2021-08-11 11:40:00+00:00   \n",
       "3    2021-08-11 11:40:00+00:00   \n",
       "4    2021-08-11 11:40:00+00:00   \n",
       "...                        ...   \n",
       "1706 2021-03-23 11:10:00+00:00   \n",
       "1707 2021-03-23 11:10:00+00:00   \n",
       "1708 2021-03-23 11:10:00+00:00   \n",
       "1709 2021-03-23 11:10:00+00:00   \n",
       "1710 2021-03-23 11:10:00+00:00   \n",
       "\n",
       "                                                  Title  \\\n",
       "0     Stop One-Hot Encoding your Categorical Feature...   \n",
       "1                         Encoding Categorical Features   \n",
       "2                               How to Write a Headline   \n",
       "3                                  Topic Areas to Avoid   \n",
       "4                 How to Calculate Molecular Similarity   \n",
       "...                                                 ...   \n",
       "1706  Actually, Not a Ton of People Are Moving to Fl...   \n",
       "1707  Why We Should All Care About the Messy Busines...   \n",
       "1708  Why the Pandemic Is Causing You Motivation Par...   \n",
       "1709  The Key to Achieving Your Goals Is Controlled ...   \n",
       "1710  The 70–20–10 System Will Help You Make Really ...   \n",
       "\n",
       "                                               Subtitle               Author  \\\n",
       "0     Techniques to Encode Categorical Features with...         Satyam Kumar   \n",
       "1                                          Introduction             Yang Liu   \n",
       "2                 Insights from Medium's editorial team      Medium Creators   \n",
       "3     The following topics have been covered at leng...         Zack Shapiro   \n",
       "4                         Day 15 of the 66 Days of Data  Chanin Nantasenamat   \n",
       "...                                                 ...                  ...   \n",
       "1706  It turns out it's mostly tech moguls who have ...       Marker Editors   \n",
       "1707  Marker readers weigh in on the relevance of st...       Marker Editors   \n",
       "1708  It's time to reset your brain by being nice to it    Allison Hirschlag   \n",
       "1709  3 strategies for making mistakes you can learn...         Kristin Wong   \n",
       "1710  Even you don't think you're aware of Jonathan ...           Amy Shearn   \n",
       "\n",
       "                Publication  Minutes  \n",
       "0              The Startup         5  \n",
       "1     Towards Data Science         6  \n",
       "2             Creators Hub         5  \n",
       "3       Better Programming         2  \n",
       "4           Data Professor         5  \n",
       "...                     ...      ...  \n",
       "1706                Marker         2  \n",
       "1707                Marker         2  \n",
       "1708       The Bold Italic         5  \n",
       "1709                 Forge         5  \n",
       "1710                 Forge         2  \n",
       "\n",
       "[1711 rows x 6 columns]"
      ]
     },
     "execution_count": 45,
     "metadata": {},
     "output_type": "execute_result"
    }
   ],
   "source": [
    "df = pd.DataFrame(data, columns = ['Date', 'Title', 'Subtitle', 'Author', 'Publication', 'Minutes'])\n",
    "df['Minutes'] = df['Minutes'].astype(int)\n",
    "df.to_csv('article_data_via_gmail_api.csv', index=False)\n",
    "df"
   ]
  },
  {
   "cell_type": "code",
   "execution_count": 9,
   "id": "ee3e4b1a",
   "metadata": {},
   "outputs": [
    {
     "data": {
      "image/png": "[encoded data removed]",
      "text/plain": [
       "<Figure size 432x288 with 1 Axes>"
      ]
     },
     "metadata": {
      "needs_background": "light"
     },
     "output_type": "display_data"
    }
   ],
   "source": [
    "df['Publication'].value_counts().iloc[:10].plot.bar();"
   ]
  },
  {
   "cell_type": "markdown",
   "id": "71bd0a37",
   "metadata": {},
   "source": [
    "## Data Preprocessing"
   ]
  },
  {
   "cell_type": "markdown",
   "id": "5b5ebd9b",
   "metadata": {},
   "source": [
    "### Lemmatization and Stemming"
   ]
  },
  {
   "cell_type": "code",
   "execution_count": 10,
   "id": "80a9a329",
   "metadata": {},
   "outputs": [
    {
     "name": "stderr",
     "output_type": "stream",
     "text": [
      "[nltk_data] Downloading package wordnet to\n",
      "[nltk_data]     /Users/sejaldua/nltk_data...\n",
      "[nltk_data]   Package wordnet is already up-to-date!\n"
     ]
    },
    {
     "data": {
      "text/plain": [
       "True"
      ]
     },
     "execution_count": 10,
     "metadata": {},
     "output_type": "execute_result"
    }
   ],
   "source": [
    "import gensim\n",
    "from gensim.utils import simple_preprocess\n",
    "from gensim.parsing.preprocessing import STOPWORDS\n",
    "from nltk.stem import WordNetLemmatizer, SnowballStemmer\n",
    "from nltk.stem.porter import *\n",
    "import numpy as np\n",
    "np.random.seed(2018)\n",
    "import nltk\n",
    "nltk.download('wordnet')"
   ]
  },
  {
   "cell_type": "code",
   "execution_count": 11,
   "id": "73bde11f",
   "metadata": {},
   "outputs": [],
   "source": [
    "stemmer = SnowballStemmer('english')\n",
    "\n",
    "def lemmatize_stemming(text):\n",
    "    return stemmer.stem(WordNetLemmatizer().lemmatize(text, pos='v'))\n",
    "\n",
    "def preprocess(text):\n",
    "    result = []\n",
    "    for token in gensim.utils.simple_preprocess(text):\n",
    "        if token not in gensim.parsing.preprocessing.STOPWORDS and len(token) > 3:\n",
    "            result.append(lemmatize_stemming(token))\n",
    "    return result"
   ]
  },
  {
   "cell_type": "code",
   "execution_count": 12,
   "id": "7c5d29ab",
   "metadata": {},
   "outputs": [
    {
     "name": "stdout",
     "output_type": "stream",
     "text": [
      "original document: \n",
      "['Stop', 'One-Hot', 'Encoding', 'your', 'Categorical', 'Features\\u200a-\\u200aAvoid', 'Curse', 'of', 'Dimensionality']\n",
      "\n",
      "tokenized and lemmatized document: \n",
      "['stop', 'encod', 'categor', 'featur', 'avoid', 'curs', 'dimension']\n"
     ]
    }
   ],
   "source": [
    "doc_sample = df['Title'].iloc[0]\n",
    "print('original document: ')\n",
    "words = []\n",
    "for word in doc_sample.split(' '):\n",
    "    words.append(word)\n",
    "print(words)\n",
    "print('\\ntokenized and lemmatized document: ')\n",
    "print(preprocess(doc_sample))"
   ]
  },
  {
   "cell_type": "code",
   "execution_count": 13,
   "id": "7ac1e386",
   "metadata": {},
   "outputs": [
    {
     "data": {
      "text/html": [
       "<div>\n",
       "<style scoped>\n",
       "    .dataframe tbody tr th:only-of-type {\n",
       "        vertical-align: middle;\n",
       "    }\n",
       "\n",
       "    .dataframe tbody tr th {\n",
       "        vertical-align: top;\n",
       "    }\n",
       "\n",
       "    .dataframe thead th {\n",
       "        text-align: right;\n",
       "    }\n",
       "</style>\n",
       "<table border=\"1\" class=\"dataframe\">\n",
       "  <thead>\n",
       "    <tr style=\"text-align: right;\">\n",
       "      <th></th>\n",
       "      <th>Title</th>\n",
       "      <th>Subtitle</th>\n",
       "      <th>Titles_combined</th>\n",
       "    </tr>\n",
       "  </thead>\n",
       "  <tbody>\n",
       "    <tr>\n",
       "      <th>0</th>\n",
       "      <td>Stop One-Hot Encoding your Categorical Feature...</td>\n",
       "      <td>Techniques to Encode Categorical Features with...</td>\n",
       "      <td>Stop One-Hot Encoding your Categorical Feature...</td>\n",
       "    </tr>\n",
       "    <tr>\n",
       "      <th>1</th>\n",
       "      <td>Encoding Categorical Features</td>\n",
       "      <td>Introduction</td>\n",
       "      <td>Encoding Categorical Features Introduction</td>\n",
       "    </tr>\n",
       "    <tr>\n",
       "      <th>2</th>\n",
       "      <td>How to Write a Headline</td>\n",
       "      <td>Insights from Medium's editorial team</td>\n",
       "      <td>How to Write a Headline Insights from Medium's...</td>\n",
       "    </tr>\n",
       "    <tr>\n",
       "      <th>3</th>\n",
       "      <td>Topic Areas to Avoid</td>\n",
       "      <td>The following topics have been covered at leng...</td>\n",
       "      <td>Topic Areas to Avoid The following topics have...</td>\n",
       "    </tr>\n",
       "    <tr>\n",
       "      <th>4</th>\n",
       "      <td>How to Calculate Molecular Similarity</td>\n",
       "      <td>Day 15 of the 66 Days of Data</td>\n",
       "      <td>How to Calculate Molecular Similarity Day 15 o...</td>\n",
       "    </tr>\n",
       "  </tbody>\n",
       "</table>\n",
       "</div>"
      ],
      "text/plain": [
       "                                               Title  \\\n",
       "0  Stop One-Hot Encoding your Categorical Feature...   \n",
       "1                      Encoding Categorical Features   \n",
       "2                            How to Write a Headline   \n",
       "3                               Topic Areas to Avoid   \n",
       "4              How to Calculate Molecular Similarity   \n",
       "\n",
       "                                            Subtitle  \\\n",
       "0  Techniques to Encode Categorical Features with...   \n",
       "1                                       Introduction   \n",
       "2              Insights from Medium's editorial team   \n",
       "3  The following topics have been covered at leng...   \n",
       "4                      Day 15 of the 66 Days of Data   \n",
       "\n",
       "                                     Titles_combined  \n",
       "0  Stop One-Hot Encoding your Categorical Feature...  \n",
       "1         Encoding Categorical Features Introduction  \n",
       "2  How to Write a Headline Insights from Medium's...  \n",
       "3  Topic Areas to Avoid The following topics have...  \n",
       "4  How to Calculate Molecular Similarity Day 15 o...  "
      ]
     },
     "execution_count": 13,
     "metadata": {},
     "output_type": "execute_result"
    }
   ],
   "source": [
    "df['Titles_combined'] = df[['Title', 'Subtitle']].agg(' '.join, axis=1)\n",
    "df[['Title', 'Subtitle', 'Titles_combined']].head()"
   ]
  },
  {
   "cell_type": "code",
   "execution_count": 14,
   "id": "3d36daf3",
   "metadata": {},
   "outputs": [
    {
     "data": {
      "text/plain": [
       "0    [stop, encod, categor, featur, avoid, curs, di...\n",
       "1                             [encod, categor, featur]\n",
       "2                                     [write, headlin]\n",
       "3                                 [topic, area, avoid]\n",
       "4                         [calcul, molecular, similar]\n",
       "5             [storytel, scrollytel, short, introduct]\n",
       "6                                [introduc, say, titl]\n",
       "7                        [data, process, plot, python]\n",
       "8             [make, money, linkedin, secret, societi]\n",
       "9              [master, data, visual, python, seaborn]\n",
       "Name: Title, dtype: object"
      ]
     },
     "execution_count": 14,
     "metadata": {},
     "output_type": "execute_result"
    }
   ],
   "source": [
    "# processed_docs = df['Titles_combined'].map(preprocess)\n",
    "processed_docs = df['Title'].map(preprocess)\n",
    "processed_docs[:10]"
   ]
  },
  {
   "cell_type": "markdown",
   "id": "894092ca",
   "metadata": {},
   "source": [
    "### Bag of Words"
   ]
  },
  {
   "cell_type": "code",
   "execution_count": 15,
   "id": "05433a50",
   "metadata": {},
   "outputs": [
    {
     "name": "stdout",
     "output_type": "stream",
     "text": [
      "0 avoid\n",
      "1 categor\n",
      "2 curs\n",
      "3 dimension\n",
      "4 encod\n",
      "5 featur\n",
      "6 stop\n",
      "7 headlin\n",
      "8 write\n",
      "9 area\n"
     ]
    }
   ],
   "source": [
    "dictionary = gensim.corpora.Dictionary(processed_docs)\n",
    "for k, v in list(dictionary.items())[:10]:\n",
    "    print(k, v)"
   ]
  },
  {
   "cell_type": "code",
   "execution_count": 16,
   "id": "55189f41",
   "metadata": {},
   "outputs": [
    {
     "name": "stdout",
     "output_type": "stream",
     "text": [
      "Word 0 (\"featur\") appears 1 time.\n"
     ]
    }
   ],
   "source": [
    "dictionary.filter_extremes(no_below=15, no_above=0.5, keep_n=100000)\n",
    "bow_corpus = [dictionary.doc2bow(doc) for doc in processed_docs]\n",
    "bow_doc_1 = bow_corpus[0]\n",
    "\n",
    "for i in range(len(bow_doc_1)):\n",
    "    print(\"Word {} (\\\"{}\\\") appears {} time.\".format(bow_doc_1[i][0], \n",
    "                                                     dictionary[bow_doc_1[i][0]], \n",
    "                                                     bow_doc_1[i][1]))\n"
   ]
  },
  {
   "cell_type": "markdown",
   "id": "2d0f7240",
   "metadata": {},
   "source": [
    "### TF-IDF"
   ]
  },
  {
   "cell_type": "code",
   "execution_count": 17,
   "id": "3792d5e8",
   "metadata": {},
   "outputs": [
    {
     "name": "stdout",
     "output_type": "stream",
     "text": [
      "[(0, 1.0)]\n"
     ]
    }
   ],
   "source": [
    "from gensim import corpora, models\n",
    "\n",
    "tfidf = models.TfidfModel(bow_corpus)\n",
    "corpus_tfidf = tfidf[bow_corpus]\n",
    "print(corpus_tfidf[0])"
   ]
  },
  {
   "cell_type": "markdown",
   "id": "86cae5ab",
   "metadata": {},
   "source": [
    "### Latent Dirichlet Allocation (LDA)"
   ]
  },
  {
   "cell_type": "code",
   "execution_count": 18,
   "id": "4ee1d175",
   "metadata": {},
   "outputs": [],
   "source": [
    "lda_model = gensim.models.LdaMulticore(corpus_tfidf, num_topics=15, id2word=dictionary, passes=2, workers=4)"
   ]
  },
  {
   "cell_type": "code",
   "execution_count": 19,
   "id": "f9f0eb8f",
   "metadata": {},
   "outputs": [
    {
     "name": "stdout",
     "output_type": "stream",
     "text": [
      "Topic: 0 Word: 0.153*\"guid\" + 0.077*\"import\" + 0.075*\"learn\" + 0.075*\"probabl\" + 0.067*\"effect\" + 0.066*\"generat\" + 0.060*\"machin\" + 0.038*\"python\" + 0.031*\"algorithm\" + 0.030*\"explain\"\n",
      "Topic: 1 Word: 0.151*\"learn\" + 0.066*\"tutori\" + 0.061*\"languag\" + 0.059*\"want\" + 0.043*\"linear\" + 0.041*\"python\" + 0.041*\"product\" + 0.040*\"natur\" + 0.039*\"process\" + 0.038*\"jupyt\"\n",
      "Topic: 2 Word: 0.327*\"work\" + 0.054*\"learn\" + 0.048*\"simpl\" + 0.037*\"deep\" + 0.035*\"creat\" + 0.032*\"tutori\" + 0.029*\"sentiment\" + 0.025*\"know\" + 0.022*\"analysi\" + 0.022*\"model\"\n",
      "Topic: 3 Word: 0.151*\"statist\" + 0.100*\"time\" + 0.081*\"analysi\" + 0.065*\"tweet\" + 0.057*\"librari\" + 0.050*\"data\" + 0.044*\"visual\" + 0.034*\"topic\" + 0.033*\"python\" + 0.029*\"model\"\n",
      "Topic: 4 Word: 0.098*\"plot\" + 0.091*\"python\" + 0.073*\"text\" + 0.060*\"code\" + 0.050*\"analysi\" + 0.050*\"summar\" + 0.049*\"exampl\" + 0.045*\"year\" + 0.045*\"compon\" + 0.041*\"start\"\n",
      "Topic: 5 Word: 0.244*\"python\" + 0.159*\"data\" + 0.066*\"scienc\" + 0.062*\"visual\" + 0.059*\"word\" + 0.059*\"creat\" + 0.026*\"scientist\" + 0.024*\"code\" + 0.024*\"project\" + 0.022*\"chang\"\n",
      "Topic: 6 Word: 0.115*\"best\" + 0.089*\"python\" + 0.079*\"program\" + 0.068*\"process\" + 0.060*\"natur\" + 0.059*\"languag\" + 0.034*\"librari\" + 0.030*\"extract\" + 0.028*\"scrap\" + 0.028*\"text\"\n",
      "Topic: 7 Word: 0.111*\"know\" + 0.063*\"topic\" + 0.057*\"exploratori\" + 0.055*\"model\" + 0.054*\"analysi\" + 0.054*\"decis\" + 0.053*\"tree\" + 0.053*\"deep\" + 0.048*\"introduct\" + 0.042*\"trick\"\n",
      "Topic: 8 Word: 0.134*\"write\" + 0.123*\"network\" + 0.122*\"build\" + 0.085*\"need\" + 0.062*\"classif\" + 0.038*\"python\" + 0.034*\"code\" + 0.033*\"autom\" + 0.032*\"task\" + 0.026*\"understand\"\n",
      "Topic: 9 Word: 0.159*\"react\" + 0.132*\"scrap\" + 0.076*\"develop\" + 0.066*\"data\" + 0.042*\"python\" + 0.038*\"intellig\" + 0.031*\"visual\" + 0.027*\"creat\" + 0.026*\"scienc\" + 0.026*\"read\"\n",
      "Topic: 10 Word: 0.082*\"project\" + 0.082*\"sentiment\" + 0.075*\"featur\" + 0.065*\"twitter\" + 0.060*\"notebook\" + 0.059*\"analysi\" + 0.057*\"extract\" + 0.054*\"explain\" + 0.051*\"data\" + 0.040*\"jupyt\"\n",
      "Topic: 11 Word: 0.101*\"start\" + 0.075*\"googl\" + 0.072*\"person\" + 0.068*\"predict\" + 0.060*\"use\" + 0.058*\"python\" + 0.049*\"book\" + 0.049*\"know\" + 0.046*\"get\" + 0.039*\"simpl\"\n",
      "Topic: 12 Word: 0.178*\"machin\" + 0.126*\"model\" + 0.107*\"learn\" + 0.087*\"scientist\" + 0.060*\"data\" + 0.046*\"regress\" + 0.038*\"beginn\" + 0.033*\"build\" + 0.032*\"guid\" + 0.024*\"onlin\"\n",
      "Topic: 13 Word: 0.189*\"scienc\" + 0.115*\"data\" + 0.109*\"panda\" + 0.101*\"algorithm\" + 0.066*\"understand\" + 0.036*\"learn\" + 0.027*\"plot\" + 0.023*\"dataset\" + 0.022*\"python\" + 0.021*\"librari\"\n",
      "Topic: 14 Word: 0.126*\"mathemat\" + 0.087*\"detect\" + 0.084*\"method\" + 0.076*\"master\" + 0.063*\"know\" + 0.057*\"machin\" + 0.048*\"imag\" + 0.047*\"learn\" + 0.029*\"python\" + 0.022*\"intellig\"\n"
     ]
    }
   ],
   "source": [
    "for idx, topic in lda_model.print_topics(-1):\n",
    "    print('Topic: {} Word: {}'.format(idx, topic))"
   ]
  },
  {
   "cell_type": "code",
   "execution_count": 20,
   "id": "1cb8bb67",
   "metadata": {},
   "outputs": [
    {
     "data": {
      "text/html": [
       "\n",
       "<link rel=\"stylesheet\" type=\"text/css\" href=\"https://cdn.jsdelivr.net/gh/bmabey/pyLDAvis@3.2.2/pyLDAvis/js/ldavis.v1.0.0.css\">\n",
       "\n",
       "\n",
       "<div id=\"ldavis_el48471140673122143024656454017\"></div>\n",
       "<script type=\"text/javascript\">\n",
       "\n",
       "var ldavis_el48471140673122143024656454017_data = {\"mdsDat\": {\"x\": [0.14972587933179662, 0.12047613153407533, 0.121745611859068, -0.14377925939573113, -0.09446930098529586, 0.05934528906980554, -0.1776875028713967, -0.015443079735227098, 0.06105021470161625, 0.053192244225454245, 0.11502256058898852, 0.0733164450957273, -0.12571913250297437, -0.12929410462335755, -0.06748199629254906], \"y\": [0.09966418120221332, -0.1349032334726728, 0.025057638637483254, 0.10534278714121724, -0.027417843491107614, 0.19037962559121743, -0.03983955435759083, -0.10614337302163095, -0.08869882638330448, -0.013572849560956038, 0.07454558551807926, -0.07820059281434225, 0.027683130195429617, 0.07590398192089294, -0.1098006571049281], \"topics\": [1, 2, 3, 4, 5, 6, 7, 8, 9, 10, 11, 12, 13, 14, 15], \"cluster\": [1, 1, 1, 1, 1, 1, 1, 1, 1, 1, 1, 1, 1, 1, 1], \"Freq\": [9.114327716186825, 8.40852119356651, 8.027988835281459, 7.60619639764368, 7.571981691080415, 7.116466381505224, 6.85502479423199, 6.41286245636679, 6.210596798302858, 6.112357640920658, 6.0853987428842435, 5.797874429312219, 5.428411950283205, 5.39900640380681, 3.852984568627123]}, \"tinfo\": {\"Term\": [\"work\", \"scienc\", \"machin\", \"react\", \"statist\", \"learn\", \"guid\", \"write\", \"mathemat\", \"network\", \"know\", \"scrap\", \"model\", \"best\", \"start\", \"python\", \"analysi\", \"panda\", \"build\", \"data\", \"time\", \"algorithm\", \"plot\", \"detect\", \"project\", \"sentiment\", \"languag\", \"need\", \"method\", \"scientist\", \"word\", \"creat\", \"visual\", \"python\", \"data\", \"read\", \"chang\", \"onlin\", \"scienc\", \"book\", \"project\", \"code\", \"scientist\", \"trick\", \"mathemat\", \"predict\", \"program\", \"task\", \"trend\", \"dataset\", \"generat\", \"plot\", \"exploratori\", \"learn\", \"text\", \"jupyt\", \"deep\", \"machin\", \"get\", \"notebook\", \"featur\", \"classif\", \"guid\", \"analysi\", \"summar\", \"exampl\", \"compon\", \"plot\", \"year\", \"chang\", \"text\", \"code\", \"start\", \"creat\", \"effect\", \"analysi\", \"introduct\", \"simpl\", \"classif\", \"python\", \"linear\", \"sentiment\", \"process\", \"natur\", \"regress\", \"extract\", \"languag\", \"algorithm\", \"project\", \"panda\", \"import\", \"time\", \"data\", \"autom\", \"scienc\", \"build\", \"work\", \"twitter\", \"notebook\", \"sentiment\", \"extract\", \"featur\", \"project\", \"jupyt\", \"explain\", \"analysi\", \"task\", \"classif\", \"understand\", \"time\", \"build\", \"autom\", \"dataset\", \"imag\", \"scienc\", \"summar\", \"data\", \"visual\", \"onlin\", \"googl\", \"read\", \"get\", \"book\", \"beginn\", \"process\", \"text\", \"scrap\", \"python\", \"learn\", \"machin\", \"model\", \"scientist\", \"regress\", \"beginn\", \"onlin\", \"learn\", \"read\", \"guid\", \"build\", \"probabl\", \"featur\", \"intellig\", \"simpl\", \"data\", \"scrap\", \"product\", \"googl\", \"use\", \"know\", \"topic\", \"statist\", \"best\", \"year\", \"classif\", \"deep\", \"generat\", \"natur\", \"code\", \"import\", \"python\", \"scienc\", \"process\", \"visual\", \"tree\", \"decis\", \"exploratori\", \"deep\", \"trick\", \"know\", \"topic\", \"introduct\", \"analysi\", \"dataset\", \"model\", \"imag\", \"task\", \"product\", \"notebook\", \"librari\", \"jupyt\", \"regress\", \"compon\", \"learn\", \"algorithm\", \"use\", \"code\", \"detect\", \"method\", \"linear\", \"need\", \"effect\", \"python\", \"simpl\", \"machin\", \"data\", \"text\", \"classif\", \"creat\", \"panda\", \"algorithm\", \"scienc\", \"understand\", \"dataset\", \"data\", \"read\", \"plot\", \"product\", \"autom\", \"beginn\", \"want\", \"librari\", \"explain\", \"generat\", \"googl\", \"trend\", \"visual\", \"twitter\", \"guid\", \"exampl\", \"write\", \"learn\", \"regress\", \"intellig\", \"trick\", \"chang\", \"exploratori\", \"master\", \"linear\", \"machin\", \"python\", \"know\", \"tutori\", \"want\", \"linear\", \"languag\", \"trend\", \"product\", \"jupyt\", \"natur\", \"learn\", \"predict\", \"process\", \"tweet\", \"regress\", \"autom\", \"probabl\", \"topic\", \"intellig\", \"machin\", \"exploratori\", \"beginn\", \"model\", \"person\", \"text\", \"trick\", \"master\", \"exampl\", \"extract\", \"detect\", \"python\", \"use\", \"analysi\", \"algorithm\", \"data\", \"best\", \"program\", \"natur\", \"process\", \"languag\", \"extract\", \"detect\", \"librari\", \"trend\", \"beginn\", \"person\", \"onlin\", \"scrap\", \"featur\", \"text\", \"python\", \"year\", \"import\", \"introduct\", \"code\", \"statist\", \"tree\", \"decis\", \"network\", \"predict\", \"explain\", \"build\", \"classif\", \"guid\", \"panda\", \"model\", \"scientist\", \"learn\", \"visual\", \"network\", \"write\", \"need\", \"build\", \"task\", \"autom\", \"classif\", \"understand\", \"code\", \"person\", \"dataset\", \"generat\", \"year\", \"explain\", \"exampl\", \"introduct\", \"simpl\", \"develop\", \"predict\", \"panda\", \"master\", \"python\", \"product\", \"natur\", \"method\", \"regress\", \"intellig\", \"scientist\", \"tutori\", \"probabl\", \"model\", \"data\", \"algorithm\", \"learn\", \"machin\", \"statist\", \"time\", \"tweet\", \"librari\", \"linear\", \"analysi\", \"topic\", \"visual\", \"dataset\", \"project\", \"mathemat\", \"simpl\", \"task\", \"sentiment\", \"use\", \"model\", \"regress\", \"data\", \"text\", \"detect\", \"twitter\", \"exploratori\", \"beginn\", \"tree\", \"best\", \"decis\", \"word\", \"master\", \"scienc\", \"extract\", \"python\", \"build\", \"code\", \"react\", \"learn\", \"know\", \"react\", \"develop\", \"scrap\", \"intellig\", \"read\", \"imag\", \"use\", \"onlin\", \"get\", \"year\", \"book\", \"introduct\", \"visual\", \"creat\", \"start\", \"data\", \"librari\", \"regress\", \"understand\", \"scientist\", \"scienc\", \"build\", \"generat\", \"write\", \"dataset\", \"autom\", \"code\", \"beginn\", \"python\", \"time\", \"text\", \"learn\", \"googl\", \"person\", \"use\", \"start\", \"get\", \"predict\", \"book\", \"simpl\", \"know\", \"trend\", \"scientist\", \"librari\", \"chang\", \"word\", \"need\", \"product\", \"code\", \"trick\", \"compon\", \"decis\", \"build\", \"python\", \"featur\", \"probabl\", \"panda\", \"project\", \"write\", \"network\", \"want\", \"summar\", \"data\", \"text\", \"creat\", \"guid\", \"method\", \"mathemat\", \"master\", \"detect\", \"imag\", \"intellig\", \"know\", \"machin\", \"need\", \"process\", \"book\", \"compon\", \"product\", \"scientist\", \"understand\", \"best\", \"learn\", \"introduct\", \"creat\", \"algorithm\", \"topic\", \"get\", \"featur\", \"deep\", \"googl\", \"model\", \"probabl\", \"program\", \"classif\", \"explain\", \"python\", \"data\", \"work\", \"import\", \"effect\", \"probabl\", \"guid\", \"generat\", \"explain\", \"algorithm\", \"machin\", \"program\", \"learn\", \"want\", \"get\", \"dataset\", \"googl\", \"scrap\", \"introduct\", \"text\", \"autom\", \"exploratori\", \"panda\", \"tutori\", \"plot\", \"simpl\", \"notebook\", \"model\", \"product\", \"python\", \"decis\", \"topic\", \"data\", \"languag\", \"analysi\", \"classif\", \"build\", \"work\", \"deep\", \"simpl\", \"tutori\", \"effect\", \"creat\", \"sentiment\", \"generat\", \"classif\", \"year\", \"import\", \"learn\", \"guid\", \"read\", \"text\", \"know\", \"react\", \"compon\", \"analysi\", \"visual\", \"model\", \"exampl\", \"tree\", \"algorithm\", \"build\", \"person\", \"topic\", \"tweet\", \"googl\", \"plot\", \"chang\", \"featur\", \"python\", \"data\", \"machin\"], \"Freq\": [28.0, 51.0, 50.0, 21.0, 22.0, 72.0, 29.0, 21.0, 19.0, 18.0, 35.0, 27.0, 42.0, 19.0, 22.0, 115.0, 40.0, 22.0, 33.0, 94.0, 18.0, 25.0, 25.0, 16.0, 23.0, 21.0, 20.0, 15.0, 12.0, 30.0, 10.182220107454933, 10.11872441565966, 10.718459231481852, 42.12620677128336, 27.469449564108814, 3.449850417403132, 3.8267744790074816, 2.887872138967846, 11.374207762677582, 2.8335721203817674, 4.188607801810119, 4.2005664459776275, 4.407965484284288, 1.407301507583167, 2.3999349342823466, 2.1383018381856025, 1.5532732305879775, 1.0103803313260302, 0.8258383137175299, 1.2794736576453436, 0.9612469207825286, 1.2210012576132698, 0.6110830417717674, 3.3686765903267126, 1.2369570297250028, 0.6177643809160702, 0.5628940261286027, 1.8987017343027337, 0.3749653790380889, 0.4750927038179939, 0.7549815736265139, 0.8121130115395011, 0.820490674585212, 0.8054569092204305, 7.8703004004704065, 7.76850055342877, 7.155879143226919, 15.517882357768313, 7.167580064042105, 6.438480094321804, 11.644625865185745, 9.61354156990457, 6.5004587886696354, 5.514872526299713, 2.5027047828895355, 7.9875938846758885, 3.155277342855544, 2.9931970547655427, 3.2989205521432177, 14.406674507305521, 1.2762192911743748, 2.2578181377110003, 2.1262671729935683, 1.5045218340146473, 1.5387480786282246, 1.2350523430694538, 1.4513283061466602, 1.8329957070664926, 1.6292907420071154, 1.421135820285537, 0.6599839476107089, 0.9595083022337777, 4.679501876352887, 0.5935605157313488, 1.866399327849919, 1.302360695211027, 1.0946935586241555, 9.926570511842726, 9.03781094117921, 12.419236100982575, 8.636510581061634, 11.374653266383387, 12.516543722888517, 6.1047821665042745, 8.2546568177213, 8.980262766208268, 2.4353577259748613, 3.7806184094623934, 3.146102509661939, 2.6319757566495334, 4.255512422474492, 1.5024212119433884, 1.9981824885855675, 1.0466926308955675, 4.815349873616376, 0.9821271391509767, 7.753704523350769, 2.232627717915495, 0.8988209312191584, 1.1444047541148827, 0.930658852870641, 0.707684483518212, 0.9212110648995504, 0.9963985505070829, 1.2179007980082224, 1.553781923350589, 1.4000449899702445, 3.3338145848080014, 1.6009462251863105, 25.56352070565456, 18.17750801001868, 12.44067314534961, 6.642702777271391, 5.47015107988821, 3.4217991165174397, 15.349471853797644, 2.127854341845669, 4.595311647835953, 4.800023652779983, 1.8541228789896627, 2.502520780124085, 1.3137551774981868, 1.976651438589897, 8.610154237627128, 2.3534991065129756, 0.9044883377555281, 1.020349119678941, 0.7779412583064381, 2.0269683858294942, 1.0194492921357954, 0.8998990632627617, 0.7717041415606256, 0.568753352988161, 0.8996368897990857, 0.5077327639247787, 0.5323077258010931, 0.6238927517321518, 0.983966407426515, 0.43804662199808325, 3.409542389899383, 0.9380301343375766, 0.5830520861012043, 0.5840056876651242, 7.638630013417361, 7.726783233231162, 8.118572299138162, 7.603367872177675, 5.9702498902480725, 15.871476012291524, 8.957676117011742, 6.857236365866615, 7.739878405740905, 3.2640024140314474, 7.80919684864039, 1.6593252599020594, 1.568395035801453, 1.8133396669423616, 1.42428987283642, 2.245028503247294, 1.3765302789937388, 1.622723148762124, 0.9514534941622625, 5.479904104887801, 1.8699769280326275, 0.9396326263611393, 1.8601046164610764, 1.109306148317335, 0.7590889485813062, 0.6798924609057221, 0.8327634269644781, 0.6109528094974425, 5.26111701950315, 0.8949088309919693, 2.2707708583299815, 4.1248169442171925, 0.999261286922251, 0.8819965877064189, 0.8931131379952963, 14.65188878483208, 13.592051520652014, 25.492070573420918, 8.933227572247672, 3.153920595173529, 15.5317305507991, 1.9378566547979434, 3.632586157999736, 1.921190497785218, 1.5823308100473013, 2.071280143607067, 1.642812920393738, 2.796774875146921, 2.1900062121916375, 1.4992587890004505, 1.6277855603841136, 0.9822955251440617, 2.6581435255449484, 1.1090289929712651, 2.4128034090401904, 0.8977069464637786, 1.4801276697727077, 4.841939651952852, 1.1499238576875055, 0.5379436373105626, 0.5032974850163962, 0.6232431591623622, 0.5379426348349527, 0.48575782714655447, 0.4797446338380552, 1.5647868603287551, 2.967043603137095, 0.8361528764168504, 8.595462432768091, 7.594006235943239, 5.521202718935336, 7.956528506538543, 4.232697780788666, 5.289480245683655, 4.9134514690276125, 5.193211023175662, 19.54487122617037, 4.415211843205343, 5.091904019719727, 2.748256768286287, 3.13053690288976, 2.0462221491424604, 2.3497424159616, 2.7421683632878633, 1.1467262160402258, 4.1243903186434245, 1.0605690086063406, 1.279617122190207, 3.3353212016706175, 1.1090711692897621, 1.9162162344252176, 0.7584192967942309, 0.8008459680092608, 0.6565181186038634, 0.8412794832461684, 0.851954229170844, 5.352034382336377, 0.5520560442904475, 1.6186917911882888, 0.7766262108455256, 0.8652906606351757, 13.890039019595982, 9.519820592439444, 7.290511731753004, 8.304903931200993, 7.213087370350531, 3.640872080773817, 3.180122061129836, 4.1435109500827325, 1.9400034346562676, 2.8851202664610027, 2.4470475438916677, 1.6514001459649355, 3.4504268693636972, 2.6281955897089664, 3.3861301500429772, 10.735061560277632, 1.3061395231868216, 1.03352233662797, 1.5747089749357497, 2.093227914379531, 1.5383043169941182, 0.6168545271618961, 0.6094006132336903, 0.9946970099612275, 0.9377524070757949, 1.0347103692657875, 1.7222025324620247, 1.159324389773084, 1.4290325280650928, 1.0481965327452272, 1.894342149446782, 1.2085756316047058, 1.5520049157914189, 1.0061906978305264, 14.497998643493, 15.790915087714179, 9.938548300702411, 14.319295392164914, 3.76432354019156, 3.8693055653319037, 7.311443493795123, 3.0367849173273056, 3.9435000953434836, 2.082390065704345, 2.0664816767825283, 1.6739006512256274, 1.634283546407254, 2.2595520175654342, 1.1796239344493942, 1.895016649459097, 1.8533543209546315, 0.9334285201973769, 1.3388812663349863, 1.6933848461621934, 0.8511638209778507, 4.43917824199552, 0.5019461415612468, 0.589022070385608, 0.4142467049384549, 0.5900375739226121, 0.37755786679405046, 0.8449212519325593, 0.3581465046547753, 0.3719607319373654, 1.0539665809969674, 2.162905738882618, 0.6347058956936511, 0.9063999519828576, 0.6866654256889965, 17.456753597777816, 11.526658132144266, 7.479373894276504, 6.569556449265399, 2.770624841597556, 9.385452729675134, 3.9154661758783957, 5.134578001307215, 2.596590059183288, 2.784184123250226, 2.0448568163236494, 2.057203337537032, 1.0719670029144037, 1.899646512458128, 1.128601666935943, 3.3279644645852096, 1.222793265864196, 5.7769742354449445, 1.6562939897953022, 0.9395779705549256, 0.74695258662152, 0.709120714144505, 0.8072604574812042, 0.5275392210023403, 0.8050041289535846, 0.4378477672903963, 0.5383573605492252, 0.4366572052750177, 1.8720950664329785, 0.5753257816041439, 3.826014222980041, 1.0160676583214416, 0.8493120754465859, 0.6800331371848747, 1.1505799901081701, 0.7560862828550338, 18.33564031915214, 8.792167313332875, 15.147700229731608, 4.382165635390162, 2.948786462373851, 2.2582945334610978, 2.288017129679809, 1.9506011237315317, 1.5327856353834064, 1.9567500499827468, 1.794713027642507, 2.50531948046738, 3.5753653048548517, 3.1414313874413677, 2.051868529954142, 7.54619837722668, 1.5319935528717483, 1.1967779547125537, 1.302354559826712, 1.8078781847782377, 2.967621567293926, 1.8912105798440209, 0.7763676246298084, 1.1572626598117657, 0.9251478731477012, 0.5912551985124416, 1.2212431461217428, 0.7135687256921329, 4.858236370789892, 0.7702668641103291, 0.9583448312925484, 0.8328046822796531, 8.24675823481335, 7.907665233077465, 6.5827430272289655, 11.088618191394334, 5.070969456835743, 7.403226986786331, 5.391639083907246, 4.324406046724194, 5.33671116955543, 1.5776115609773549, 4.260954743787761, 3.0898228983580576, 1.5539773503036356, 1.3885816727045863, 1.5447993530614321, 1.1748059028796745, 1.947406239628183, 0.7381997942264215, 0.7398222272873013, 0.6291211346441051, 1.8980322897476725, 6.359277272885213, 1.0967789398290406, 0.69916084095125, 1.077374162634187, 1.107589272976757, 0.9829465575038173, 0.7275152374146607, 0.487959096092608, 0.4224302631297062, 3.4257063575210798, 1.0007685130163224, 0.7677101180955591, 0.7541873753846673, 8.611503688446165, 12.902124723127717, 7.8099806535649705, 8.96730673563963, 4.969000064015741, 2.2729688370399233, 6.500233860323097, 5.804014744740163, 1.6710727732656667, 2.184443813262088, 1.2789433952858051, 1.0788076223191259, 1.1507804794909273, 2.152027122465759, 1.4560468751615199, 1.3240700005078168, 4.865869377684429, 1.2167959675272109, 1.496254457030912, 1.488428294891487, 1.1319287158265334, 0.565657145969399, 1.1084052086162361, 0.7036247969068408, 0.8300711874721056, 2.1865071228514865, 0.6058566986529526, 0.6625001673120391, 0.8919927465862195, 0.7566305664533657, 3.009971055062886, 2.204694758144383, 0.7312837649589128, 7.841703866336101, 6.804601288738617, 7.684599446716984, 15.576350785486198, 6.71111621520308, 3.0879138382813003, 3.1218615852821756, 6.101222299944921, 1.8118095769943856, 7.700227065644962, 1.3546655025338283, 0.9583300007164645, 1.6193929978594621, 1.3425094730573353, 2.288484847743259, 1.548743485871018, 1.8898820748787533, 0.7199640351490616, 0.6849832343164212, 1.0859484885913422, 0.5531411234616744, 0.9909137154734557, 0.7179357644546606, 0.46421977782324214, 1.434275816530342, 0.4642189697472683, 3.838262385657539, 0.36112233160835633, 0.6712384799414286, 3.0872481738143587, 0.592623620476955, 0.6684589837946181, 0.4925615215223697, 0.4929862842813378, 23.786024874213858, 2.7214104230294702, 3.4678961241395934, 2.304490705527523, 1.2736774041370391, 2.5262705378215955, 2.09098984094861, 1.1395491444972645, 1.4741397154868998, 0.8886404778892215, 0.6973263620904812, 3.9446644713023633, 1.505082516757636, 0.6813089463424209, 1.4337077305988912, 1.811386546875656, 1.03513569488323, 0.5316282454295904, 1.6362378163777571, 1.1594014887051816, 1.5975322107836807, 0.415969143726608, 0.36189712735636964, 0.776533561358056, 1.0116593517613508, 0.4515745463408103, 0.5128133842116447, 0.31263323946885246, 0.40046443128453857, 0.6367574239739613, 0.3574571927126868, 0.4515741731942994, 1.1695738696615208, 0.8653985386210143, 0.5401932129841578], \"Total\": [28.0, 51.0, 50.0, 21.0, 22.0, 72.0, 29.0, 21.0, 19.0, 18.0, 35.0, 27.0, 42.0, 19.0, 22.0, 115.0, 40.0, 22.0, 33.0, 94.0, 18.0, 25.0, 25.0, 16.0, 23.0, 21.0, 20.0, 15.0, 12.0, 30.0, 13.660448449382772, 25.662256810759075, 29.196099477032888, 115.09200823758313, 94.4792972731823, 13.326679901421485, 15.03407527849049, 11.995345086982955, 51.38104426172319, 13.74847289164622, 23.790520660204557, 27.114468716073603, 30.07052023937127, 11.225601711659921, 19.30923492817346, 17.89410274644684, 15.768882843745711, 11.315114591112042, 10.756035142406308, 17.64051617292588, 14.346423401861538, 25.792353421584814, 13.096831358503634, 72.23100651717894, 28.244140431592324, 14.619277565862083, 13.489265240656456, 50.895925513253395, 10.268312662521339, 13.037458437439367, 21.186936869962665, 23.086452625423796, 29.30427532232353, 40.94141057621026, 11.086114652691716, 12.015571760829307, 11.690330109800396, 25.792353421584814, 14.311305661456533, 15.03407527849049, 28.244140431592324, 27.114468716073603, 22.351570147761446, 25.662256810759075, 12.307225850439531, 40.94141057621026, 20.118253078299198, 19.770954129687187, 23.086452625423796, 115.09200823758313, 11.886855315218884, 21.29352269466144, 21.903307989947155, 16.924788772796397, 18.291248486582603, 16.070980506650734, 20.089425871680053, 25.65975584734782, 23.790520660204557, 22.713910254970926, 12.164320323106937, 18.721211614136248, 94.4792972731823, 12.128059857078275, 51.38104426172319, 33.9973115669299, 28.537879346282466, 13.345033582460264, 13.037458437439367, 21.29352269466144, 16.070980506650734, 21.186936869962665, 23.790520660204557, 14.619277565862083, 20.22773617862881, 40.94141057621026, 11.315114591112042, 23.086452625423796, 20.78269603841942, 18.721211614136248, 33.9973115669299, 12.128059857078275, 17.64051617292588, 11.11598169870652, 51.38104426172319, 11.086114652691716, 94.4792972731823, 29.196099477032888, 11.995345086982955, 16.051470645231543, 13.326679901421485, 10.268312662521339, 13.74847289164622, 16.097144287251265, 21.903307989947155, 28.244140431592324, 27.570866832500982, 115.09200823758313, 72.23100651717894, 50.895925513253395, 42.40467591179864, 30.07052023937127, 18.291248486582603, 16.097144287251265, 11.995345086982955, 72.23100651717894, 13.326679901421485, 29.30427532232353, 33.9973115669299, 14.418670331693464, 21.186936869962665, 11.754349051361196, 19.770954129687187, 94.4792972731823, 27.570866832500982, 13.895059495483753, 16.051470645231543, 13.082008285931087, 35.79270773555793, 20.464418999238035, 22.39226916441729, 19.318307856963028, 14.311305661456533, 23.086452625423796, 13.489265240656456, 14.346423401861538, 16.924788772796397, 27.114468716073603, 12.164320323106937, 115.09200823758313, 51.38104426172319, 21.903307989947155, 29.196099477032888, 10.658111585468776, 10.941125088502828, 13.096831358503634, 13.489265240656456, 11.225601711659921, 35.79270773555793, 20.464418999238035, 20.118253078299198, 40.94141057621026, 17.64051617292588, 42.40467591179864, 11.11598169870652, 11.315114591112042, 13.895059495483753, 13.037458437439367, 22.785086049586077, 14.619277565862083, 18.291248486582603, 11.690330109800396, 72.23100651717894, 25.65975584734782, 13.082008285931087, 27.114468716073603, 16.430497898424907, 12.02095701917544, 11.886855315218884, 15.947538081940953, 12.307225850439531, 115.09200823758313, 19.770954129687187, 50.895925513253395, 94.4792972731823, 28.244140431592324, 23.086452625423796, 25.662256810759075, 22.713910254970926, 25.65975584734782, 51.38104426172319, 20.78269603841942, 17.64051617292588, 94.4792972731823, 13.326679901421485, 25.792353421584814, 13.895059495483753, 12.128059857078275, 16.097144287251265, 12.786434129542876, 22.785086049586077, 20.22773617862881, 14.346423401861538, 16.051470645231543, 10.756035142406308, 29.196099477032888, 13.345033582460264, 29.30427532232353, 12.015571760829307, 21.6883740361032, 72.23100651717894, 18.291248486582603, 11.754349051361196, 11.225601711659921, 15.03407527849049, 13.096831358503634, 11.886274337434616, 11.886855315218884, 50.895925513253395, 115.09200823758313, 35.79270773555793, 13.769848412094344, 12.786434129542876, 11.886855315218884, 20.089425871680053, 10.756035142406308, 13.895059495483753, 14.619277565862083, 16.924788772796397, 72.23100651717894, 17.89410274644684, 21.903307989947155, 12.507150518432123, 18.291248486582603, 12.128059857078275, 14.418670331693464, 20.464418999238035, 11.754349051361196, 50.895925513253395, 13.096831358503634, 16.097144287251265, 42.40467591179864, 15.435162972531922, 28.244140431592324, 11.225601711659921, 11.886274337434616, 12.015571760829307, 16.070980506650734, 16.430497898424907, 115.09200823758313, 13.082008285931087, 40.94141057621026, 25.65975584734782, 94.4792972731823, 19.318307856963028, 15.768882843745711, 16.924788772796397, 21.903307989947155, 20.089425871680053, 16.070980506650734, 16.430497898424907, 22.785086049586077, 10.756035142406308, 16.097144287251265, 15.435162972531922, 11.995345086982955, 27.570866832500982, 21.186936869962665, 28.244140431592324, 115.09200823758313, 14.311305661456533, 12.164320323106937, 20.118253078299198, 27.114468716073603, 22.39226916441729, 10.658111585468776, 10.941125088502828, 18.063076322751474, 17.89410274644684, 20.22773617862881, 33.9973115669299, 23.086452625423796, 29.30427532232353, 22.713910254970926, 42.40467591179864, 30.07052023937127, 72.23100651717894, 29.196099477032888, 18.063076322751474, 21.6883740361032, 15.947538081940953, 33.9973115669299, 11.315114591112042, 12.128059857078275, 23.086452625423796, 20.78269603841942, 27.114468716073603, 15.435162972531922, 17.64051617292588, 14.346423401861538, 14.311305661456533, 20.22773617862881, 12.015571760829307, 20.118253078299198, 19.770954129687187, 12.06938566899317, 17.89410274644684, 22.713910254970926, 11.886274337434616, 115.09200823758313, 13.895059495483753, 16.924788772796397, 12.02095701917544, 18.291248486582603, 11.754349051361196, 30.07052023937127, 13.769848412094344, 14.418670331693464, 42.40467591179864, 94.4792972731823, 25.65975584734782, 72.23100651717894, 50.895925513253395, 22.39226916441729, 18.721211614136248, 12.507150518432123, 22.785086049586077, 11.886855315218884, 40.94141057621026, 20.464418999238035, 29.196099477032888, 17.64051617292588, 23.790520660204557, 19.30923492817346, 19.770954129687187, 11.315114591112042, 21.29352269466144, 13.082008285931087, 42.40467591179864, 18.291248486582603, 94.4792972731823, 28.244140431592324, 16.430497898424907, 13.345033582460264, 13.096831358503634, 16.097144287251265, 10.658111585468776, 19.318307856963028, 10.941125088502828, 13.660448449382772, 11.886274337434616, 51.38104426172319, 16.070980506650734, 115.09200823758313, 33.9973115669299, 27.114468716073603, 21.94838263111584, 72.23100651717894, 35.79270773555793, 21.94838263111584, 12.06938566899317, 27.570866832500982, 11.754349051361196, 13.326679901421485, 11.11598169870652, 13.082008285931087, 11.995345086982955, 10.268312662521339, 14.311305661456533, 13.74847289164622, 20.118253078299198, 29.196099477032888, 25.662256810759075, 22.351570147761446, 94.4792972731823, 22.785086049586077, 18.291248486582603, 20.78269603841942, 30.07052023937127, 51.38104426172319, 33.9973115669299, 14.346423401861538, 21.6883740361032, 17.64051617292588, 12.128059857078275, 27.114468716073603, 16.097144287251265, 115.09200823758313, 18.721211614136248, 28.244140431592324, 72.23100651717894, 16.051470645231543, 15.435162972531922, 13.082008285931087, 22.351570147761446, 10.268312662521339, 17.89410274644684, 13.74847289164622, 19.770954129687187, 35.79270773555793, 10.756035142406308, 30.07052023937127, 22.785086049586077, 15.03407527849049, 13.660448449382772, 15.947538081940953, 13.895059495483753, 27.114468716073603, 11.225601711659921, 11.690330109800396, 10.941125088502828, 33.9973115669299, 115.09200823758313, 21.186936869962665, 14.418670331693464, 22.713910254970926, 23.790520660204557, 21.6883740361032, 18.063076322751474, 12.786434129542876, 11.086114652691716, 94.4792972731823, 28.244140431592324, 25.662256810759075, 29.30427532232353, 12.02095701917544, 19.30923492817346, 11.886274337434616, 16.430497898424907, 11.11598169870652, 11.754349051361196, 35.79270773555793, 50.895925513253395, 15.947538081940953, 21.903307989947155, 13.74847289164622, 11.690330109800396, 13.895059495483753, 30.07052023937127, 20.78269603841942, 19.318307856963028, 72.23100651717894, 20.118253078299198, 25.662256810759075, 25.65975584734782, 20.464418999238035, 10.268312662521339, 21.186936869962665, 13.489265240656456, 16.051470645231543, 42.40467591179864, 14.418670331693464, 15.768882843745711, 23.086452625423796, 20.22773617862881, 115.09200823758313, 94.4792972731823, 28.537879346282466, 12.164320323106937, 12.307225850439531, 14.418670331693464, 29.30427532232353, 14.346423401861538, 20.22773617862881, 25.65975584734782, 50.895925513253395, 15.768882843745711, 72.23100651717894, 12.786434129542876, 10.268312662521339, 17.64051617292588, 16.051470645231543, 27.570866832500982, 20.118253078299198, 28.244140431592324, 12.128059857078275, 13.096831358503634, 22.713910254970926, 13.769848412094344, 25.792353421584814, 19.770954129687187, 13.037458437439367, 42.40467591179864, 13.895059495483753, 115.09200823758313, 10.941125088502828, 20.464418999238035, 94.4792972731823, 20.089425871680053, 40.94141057621026, 23.086452625423796, 33.9973115669299, 28.537879346282466, 13.489265240656456, 19.770954129687187, 13.769848412094344, 12.307225850439531, 25.662256810759075, 21.29352269466144, 14.346423401861538, 23.086452625423796, 14.311305661456533, 12.164320323106937, 72.23100651717894, 29.30427532232353, 13.326679901421485, 28.244140431592324, 35.79270773555793, 21.94838263111584, 11.690330109800396, 40.94141057621026, 29.196099477032888, 42.40467591179864, 12.015571760829307, 10.658111585468776, 25.65975584734782, 33.9973115669299, 15.435162972531922, 20.464418999238035, 12.507150518432123, 16.051470645231543, 25.792353421584814, 15.03407527849049, 21.186936869962665, 115.09200823758313, 94.4792972731823, 50.895925513253395], \"Category\": [\"Default\", \"Default\", \"Default\", \"Default\", \"Default\", \"Default\", \"Default\", \"Default\", \"Default\", \"Default\", \"Default\", \"Default\", \"Default\", \"Default\", \"Default\", \"Default\", \"Default\", \"Default\", \"Default\", \"Default\", \"Default\", \"Default\", \"Default\", \"Default\", \"Default\", \"Default\", \"Default\", \"Default\", \"Default\", \"Default\", \"Topic1\", \"Topic1\", \"Topic1\", \"Topic1\", \"Topic1\", \"Topic1\", \"Topic1\", \"Topic1\", \"Topic1\", \"Topic1\", \"Topic1\", \"Topic1\", \"Topic1\", \"Topic1\", \"Topic1\", \"Topic1\", \"Topic1\", \"Topic1\", \"Topic1\", \"Topic1\", \"Topic1\", \"Topic1\", \"Topic1\", \"Topic1\", \"Topic1\", \"Topic1\", \"Topic1\", \"Topic1\", \"Topic1\", \"Topic1\", \"Topic1\", \"Topic1\", \"Topic1\", \"Topic1\", \"Topic2\", \"Topic2\", \"Topic2\", \"Topic2\", \"Topic2\", \"Topic2\", \"Topic2\", \"Topic2\", \"Topic2\", \"Topic2\", \"Topic2\", \"Topic2\", \"Topic2\", \"Topic2\", \"Topic2\", \"Topic2\", \"Topic2\", \"Topic2\", \"Topic2\", \"Topic2\", \"Topic2\", \"Topic2\", \"Topic2\", \"Topic2\", \"Topic2\", \"Topic2\", \"Topic2\", \"Topic2\", \"Topic2\", \"Topic2\", \"Topic2\", \"Topic2\", \"Topic2\", \"Topic3\", \"Topic3\", \"Topic3\", \"Topic3\", \"Topic3\", \"Topic3\", \"Topic3\", \"Topic3\", \"Topic3\", \"Topic3\", \"Topic3\", \"Topic3\", \"Topic3\", \"Topic3\", \"Topic3\", \"Topic3\", \"Topic3\", \"Topic3\", \"Topic3\", \"Topic3\", \"Topic3\", \"Topic3\", \"Topic3\", \"Topic3\", \"Topic3\", \"Topic3\", \"Topic3\", \"Topic3\", \"Topic3\", \"Topic3\", \"Topic3\", \"Topic3\", \"Topic4\", \"Topic4\", \"Topic4\", \"Topic4\", \"Topic4\", \"Topic4\", \"Topic4\", \"Topic4\", \"Topic4\", \"Topic4\", \"Topic4\", \"Topic4\", \"Topic4\", \"Topic4\", \"Topic4\", \"Topic4\", \"Topic4\", \"Topic4\", \"Topic4\", \"Topic4\", \"Topic4\", \"Topic4\", \"Topic4\", \"Topic4\", \"Topic4\", \"Topic4\", \"Topic4\", \"Topic4\", \"Topic4\", \"Topic4\", \"Topic4\", \"Topic4\", \"Topic4\", \"Topic4\", \"Topic5\", \"Topic5\", \"Topic5\", \"Topic5\", \"Topic5\", \"Topic5\", \"Topic5\", \"Topic5\", \"Topic5\", \"Topic5\", \"Topic5\", \"Topic5\", \"Topic5\", \"Topic5\", \"Topic5\", \"Topic5\", \"Topic5\", \"Topic5\", \"Topic5\", \"Topic5\", \"Topic5\", \"Topic5\", \"Topic5\", \"Topic5\", \"Topic5\", \"Topic5\", \"Topic5\", \"Topic5\", \"Topic5\", \"Topic5\", \"Topic5\", \"Topic5\", \"Topic5\", \"Topic5\", \"Topic5\", \"Topic6\", \"Topic6\", \"Topic6\", \"Topic6\", \"Topic6\", \"Topic6\", \"Topic6\", \"Topic6\", \"Topic6\", \"Topic6\", \"Topic6\", \"Topic6\", \"Topic6\", \"Topic6\", \"Topic6\", \"Topic6\", \"Topic6\", \"Topic6\", \"Topic6\", \"Topic6\", \"Topic6\", \"Topic6\", \"Topic6\", \"Topic6\", \"Topic6\", \"Topic6\", \"Topic6\", \"Topic6\", \"Topic6\", \"Topic6\", \"Topic6\", \"Topic6\", \"Topic6\", \"Topic7\", \"Topic7\", \"Topic7\", \"Topic7\", \"Topic7\", \"Topic7\", \"Topic7\", \"Topic7\", \"Topic7\", \"Topic7\", \"Topic7\", \"Topic7\", \"Topic7\", \"Topic7\", \"Topic7\", \"Topic7\", \"Topic7\", \"Topic7\", \"Topic7\", \"Topic7\", \"Topic7\", \"Topic7\", \"Topic7\", \"Topic7\", \"Topic7\", \"Topic7\", \"Topic7\", \"Topic7\", \"Topic7\", \"Topic7\", \"Topic7\", \"Topic7\", \"Topic7\", \"Topic8\", \"Topic8\", \"Topic8\", \"Topic8\", \"Topic8\", \"Topic8\", \"Topic8\", \"Topic8\", \"Topic8\", \"Topic8\", \"Topic8\", \"Topic8\", \"Topic8\", \"Topic8\", \"Topic8\", \"Topic8\", \"Topic8\", \"Topic8\", \"Topic8\", \"Topic8\", \"Topic8\", \"Topic8\", \"Topic8\", \"Topic8\", \"Topic8\", \"Topic8\", \"Topic8\", \"Topic8\", \"Topic8\", \"Topic8\", \"Topic8\", \"Topic8\", \"Topic8\", \"Topic8\", \"Topic9\", \"Topic9\", \"Topic9\", \"Topic9\", \"Topic9\", \"Topic9\", \"Topic9\", \"Topic9\", \"Topic9\", \"Topic9\", \"Topic9\", \"Topic9\", \"Topic9\", \"Topic9\", \"Topic9\", \"Topic9\", \"Topic9\", \"Topic9\", \"Topic9\", \"Topic9\", \"Topic9\", \"Topic9\", \"Topic9\", \"Topic9\", \"Topic9\", \"Topic9\", \"Topic9\", \"Topic9\", \"Topic9\", \"Topic9\", \"Topic9\", \"Topic9\", \"Topic9\", \"Topic9\", \"Topic9\", \"Topic10\", \"Topic10\", \"Topic10\", \"Topic10\", \"Topic10\", \"Topic10\", \"Topic10\", \"Topic10\", \"Topic10\", \"Topic10\", \"Topic10\", \"Topic10\", \"Topic10\", \"Topic10\", \"Topic10\", \"Topic10\", \"Topic10\", \"Topic10\", \"Topic10\", \"Topic10\", \"Topic10\", \"Topic10\", \"Topic10\", \"Topic10\", \"Topic10\", \"Topic10\", \"Topic10\", \"Topic10\", \"Topic10\", \"Topic10\", \"Topic10\", \"Topic10\", \"Topic10\", \"Topic10\", \"Topic10\", \"Topic10\", \"Topic11\", \"Topic11\", \"Topic11\", \"Topic11\", \"Topic11\", \"Topic11\", \"Topic11\", \"Topic11\", \"Topic11\", \"Topic11\", \"Topic11\", \"Topic11\", \"Topic11\", \"Topic11\", \"Topic11\", \"Topic11\", \"Topic11\", \"Topic11\", \"Topic11\", \"Topic11\", \"Topic11\", \"Topic11\", \"Topic11\", \"Topic11\", \"Topic11\", \"Topic11\", \"Topic11\", \"Topic11\", \"Topic11\", \"Topic11\", \"Topic11\", \"Topic11\", \"Topic12\", \"Topic12\", \"Topic12\", \"Topic12\", \"Topic12\", \"Topic12\", \"Topic12\", \"Topic12\", \"Topic12\", \"Topic12\", \"Topic12\", \"Topic12\", \"Topic12\", \"Topic12\", \"Topic12\", \"Topic12\", \"Topic12\", \"Topic12\", \"Topic12\", \"Topic12\", \"Topic12\", \"Topic12\", \"Topic12\", \"Topic12\", \"Topic12\", \"Topic12\", \"Topic12\", \"Topic12\", \"Topic12\", \"Topic12\", \"Topic12\", \"Topic12\", \"Topic12\", \"Topic12\", \"Topic13\", \"Topic13\", \"Topic13\", \"Topic13\", \"Topic13\", \"Topic13\", \"Topic13\", \"Topic13\", \"Topic13\", \"Topic13\", \"Topic13\", \"Topic13\", \"Topic13\", \"Topic13\", \"Topic13\", \"Topic13\", \"Topic13\", \"Topic13\", \"Topic13\", \"Topic13\", \"Topic13\", \"Topic13\", \"Topic13\", \"Topic13\", \"Topic13\", \"Topic13\", \"Topic13\", \"Topic13\", \"Topic13\", \"Topic13\", \"Topic13\", \"Topic13\", \"Topic13\", \"Topic14\", \"Topic14\", \"Topic14\", \"Topic14\", \"Topic14\", \"Topic14\", \"Topic14\", \"Topic14\", \"Topic14\", \"Topic14\", \"Topic14\", \"Topic14\", \"Topic14\", \"Topic14\", \"Topic14\", \"Topic14\", \"Topic14\", \"Topic14\", \"Topic14\", \"Topic14\", \"Topic14\", \"Topic14\", \"Topic14\", \"Topic14\", \"Topic14\", \"Topic14\", \"Topic14\", \"Topic14\", \"Topic14\", \"Topic14\", \"Topic14\", \"Topic14\", \"Topic14\", \"Topic14\", \"Topic15\", \"Topic15\", \"Topic15\", \"Topic15\", \"Topic15\", \"Topic15\", \"Topic15\", \"Topic15\", \"Topic15\", \"Topic15\", \"Topic15\", \"Topic15\", \"Topic15\", \"Topic15\", \"Topic15\", \"Topic15\", \"Topic15\", \"Topic15\", \"Topic15\", \"Topic15\", \"Topic15\", \"Topic15\", \"Topic15\", \"Topic15\", \"Topic15\", \"Topic15\", \"Topic15\", \"Topic15\", \"Topic15\", \"Topic15\", \"Topic15\", \"Topic15\", \"Topic15\", \"Topic15\", \"Topic15\"], \"logprob\": [30.0, 29.0, 28.0, 27.0, 26.0, 25.0, 24.0, 23.0, 22.0, 21.0, 20.0, 19.0, 18.0, 17.0, 16.0, 15.0, 14.0, 13.0, 12.0, 11.0, 10.0, 9.0, 8.0, 7.0, 6.0, 5.0, 4.0, 3.0, 2.0, 1.0, -2.8287, -2.835, -2.7774, -1.4087, -1.8363, -3.911, -3.8073, -4.0889, -2.718, -4.1078, -3.717, -3.7142, -3.666, -4.8077, -4.2739, -4.3894, -4.709, -5.139, -5.3407, -4.9029, -5.1889, -4.9497, -5.6419, -3.9349, -4.9367, -5.631, -5.724, -4.5082, -6.1303, -5.8936, -5.4304, -5.3575, -5.3472, -5.3657, -3.0057, -3.0187, -3.1008, -2.3268, -3.0992, -3.2065, -2.6139, -2.8056, -3.1969, -3.3613, -4.1514, -2.9909, -3.9197, -3.9724, -3.8752, -2.4011, -4.8249, -4.2544, -4.3144, -4.6603, -4.6378, -4.8577, -4.6963, -4.4628, -4.5806, -4.7173, -5.4843, -5.1101, -3.5256, -5.5904, -4.4448, -4.8046, -4.9783, -2.7272, -2.821, -2.5032, -2.8665, -2.5911, -2.4954, -3.2134, -2.9117, -2.8274, -4.1324, -3.6926, -3.8763, -4.0547, -3.5742, -4.6154, -4.3302, -4.9768, -3.4506, -5.0405, -2.9743, -4.2193, -5.1291, -4.8876, -5.0943, -5.3682, -5.1045, -5.0261, -4.8253, -4.5818, -4.686, -3.8183, -4.5519, -1.7273, -2.0683, -2.4475, -3.075, -3.2692, -3.7383, -2.2374, -4.2134, -3.4435, -3.3999, -4.3511, -4.0512, -4.6956, -4.2871, -2.8155, -4.1126, -5.0689, -4.9483, -5.2196, -4.2619, -4.9492, -5.074, -5.2276, -5.5328, -5.0743, -5.6463, -5.599, -5.4403, -4.9847, -5.7939, -3.7419, -5.0325, -5.508, -5.5063, -2.9308, -2.9193, -2.8698, -2.9354, -3.1772, -2.1995, -2.7715, -3.0387, -2.9176, -3.781, -2.9087, -4.4576, -4.5139, -4.3688, -4.6103, -4.1553, -4.6444, -4.4799, -5.0137, -3.2629, -4.3381, -5.0262, -4.3433, -4.8602, -5.2396, -5.3498, -5.147, -5.4567, -3.3036, -5.075, -4.1439, -3.547, -4.9647, -5.0895, -5.077, -2.2174, -2.2925, -1.6636, -2.7122, -3.7533, -2.1591, -4.2404, -3.612, -4.249, -4.443, -4.1738, -4.4055, -3.8735, -4.118, -4.497, -4.4147, -4.9198, -3.9243, -4.7985, -4.0211, -5.0098, -4.5098, -3.3246, -4.7622, -5.5219, -5.5885, -5.3748, -5.5219, -5.624, -5.6364, -4.4542, -3.8144, -5.0809, -2.7133, -2.8371, -3.1559, -2.7905, -3.4217, -3.1988, -3.2725, -3.2172, -1.8918, -3.3795, -3.2369, -3.8535, -3.7233, -4.1485, -4.0102, -3.8558, -4.7276, -3.4476, -4.8057, -4.6179, -3.6599, -4.761, -4.2142, -5.141, -5.0866, -5.2853, -5.0373, -5.0247, -3.187, -5.4586, -4.3829, -5.1173, -5.0092, -2.1667, -2.5445, -2.8113, -2.681, -2.8219, -3.5056, -3.6409, -3.3763, -4.1351, -3.7383, -3.9029, -4.2962, -3.5593, -3.8315, -3.5781, -2.4243, -4.5308, -4.7649, -4.3438, -4.0591, -4.3671, -5.281, -5.2931, -4.8031, -4.8621, -4.7637, -4.2542, -4.65, -4.4408, -4.7508, -4.159, -4.6084, -4.3583, -4.7917, -2.0918, -2.0063, -2.4694, -2.1042, -3.4402, -3.4127, -2.7763, -3.655, -3.3937, -4.0323, -4.0399, -4.2506, -4.2746, -3.9506, -4.6006, -4.1266, -4.1488, -4.8347, -4.4739, -4.2391, -4.9269, -3.2753, -5.455, -5.2951, -5.6471, -5.2934, -5.7398, -4.9343, -5.7926, -5.7547, -4.7132, -3.9943, -5.2204, -4.8641, -5.1417, -1.8901, -2.3052, -2.7377, -2.8674, -3.7308, -2.5107, -3.3849, -3.1138, -3.7956, -3.7259, -4.0345, -4.0285, -4.6803, -4.1082, -4.6289, -3.5475, -4.5487, -2.996, -4.2453, -4.8122, -5.0416, -5.0936, -4.9639, -5.3894, -4.9667, -5.5757, -5.3691, -5.5784, -4.1228, -5.3027, -3.408, -4.7339, -4.9132, -5.1355, -4.6096, -5.0294, -1.8366, -2.5716, -2.0276, -3.2679, -3.664, -3.9308, -3.9177, -4.0773, -4.3183, -4.0741, -4.1606, -3.827, -3.4713, -3.6007, -4.0267, -2.7244, -4.3188, -4.5658, -4.4812, -4.1533, -3.6577, -4.1082, -4.9985, -4.5994, -4.8232, -5.2709, -4.5455, -5.0829, -3.1647, -5.0064, -4.788, -4.9284, -2.5872, -2.6292, -2.8126, -2.2911, -3.0735, -2.6951, -3.0122, -3.2327, -3.0224, -4.2411, -3.2475, -3.5689, -4.2562, -4.3687, -4.2621, -4.5359, -4.0305, -5.0006, -4.9984, -5.1604, -4.0562, -2.8471, -4.6046, -5.0549, -4.6225, -4.5948, -4.7142, -5.0151, -5.4145, -5.5587, -3.4657, -4.6962, -4.9614, -4.9791, -2.4781, -2.0738, -2.5758, -2.4376, -3.028, -3.8101, -2.7593, -2.8726, -4.1177, -3.8498, -4.3851, -4.5553, -4.4907, -3.8648, -4.2554, -4.3505, -3.0489, -4.435, -4.2282, -4.2335, -4.5072, -5.2009, -4.5282, -4.9827, -4.8174, -3.8489, -5.1323, -5.0429, -4.7455, -4.9101, -3.5292, -3.8406, -4.9441, -2.5663, -2.7081, -2.5865, -1.88, -2.722, -3.4982, -3.4873, -2.8173, -4.0314, -2.5845, -4.3222, -4.6683, -4.1437, -4.3312, -3.7978, -4.1883, -3.9892, -4.9543, -5.0041, -4.5433, -5.2179, -4.6349, -4.9571, -5.3931, -4.2651, -5.3931, -3.2807, -5.6443, -5.0244, -3.4985, -5.1489, -5.0285, -5.3339, -5.333, -1.1193, -3.2872, -3.0448, -3.4535, -4.0465, -3.3616, -3.5507, -4.1577, -3.9003, -4.4064, -4.6489, -2.916, -3.8795, -4.6721, -3.9281, -3.6943, -4.2538, -4.9202, -3.796, -4.1405, -3.8199, -5.1655, -5.3048, -4.5413, -4.2768, -5.0834, -4.9562, -5.4511, -5.2035, -4.7397, -5.3171, -5.0834, -4.1317, -4.4329, -4.9042], \"loglift\": [30.0, 29.0, 28.0, 27.0, 26.0, 25.0, 24.0, 23.0, 22.0, 21.0, 20.0, 19.0, 18.0, 17.0, 16.0, 15.0, 14.0, 13.0, 12.0, 11.0, 10.0, 9.0, 8.0, 7.0, 6.0, 5.0, 4.0, 3.0, 2.0, 1.0, 2.1015, 1.4647, 1.3933, 1.3903, 1.16, 1.0439, 1.027, 0.9713, 0.8874, 0.8159, 0.6584, 0.5305, 0.4752, 0.3188, 0.3102, 0.2709, 0.0776, -0.0205, -0.1715, -0.2284, -0.3077, -0.6551, -0.6696, -0.67, -0.7329, -0.7687, -0.7812, -0.8933, -0.9147, -0.9167, -0.9391, -0.952, -1.1803, -1.5332, 2.1333, 2.0398, 1.9851, 1.9678, 1.7844, 1.6279, 1.5899, 1.439, 1.2409, 0.9384, 0.8831, 0.8417, 0.6234, 0.5881, 0.5303, 0.3979, 0.2444, 0.2319, 0.1437, 0.0556, 0.0005, -0.09, -0.1518, -0.163, -0.2052, -0.2956, -0.4381, -0.4951, -0.5293, -0.5412, -0.8393, -0.7862, -0.7848, 2.2263, 2.1558, 1.9831, 1.9012, 1.9002, 1.88, 1.649, 1.626, 1.0051, 0.9862, 0.7129, 0.6343, 0.5603, 0.4442, 0.4338, 0.3443, 0.1595, 0.1548, 0.0985, 0.022, -0.0486, -0.069, -0.1187, -0.1394, -0.1526, -0.1808, -0.26, -0.3673, -0.378, -0.458, -1.0194, -1.287, 1.8876, 1.7291, 1.6936, 1.5633, 1.4969, 1.3219, 1.0274, 0.7416, 0.7235, 0.6185, 0.5251, 0.4401, 0.3849, 0.2734, 0.1808, 0.1154, -0.1557, -0.1794, -0.2461, -0.295, -0.4232, -0.638, -0.644, -0.6492, -0.6688, -0.7035, -0.7178, -0.7243, -0.74, -0.7477, -0.9429, -1.427, -1.0499, -1.3357, 2.2476, 2.2329, 2.1025, 2.0074, 1.9493, 1.7675, 1.7545, 1.5044, 0.915, 0.8935, 0.8888, 0.6787, 0.6046, 0.5444, 0.3666, 0.2633, 0.2179, 0.1584, 0.0722, 0.0019, -0.0383, -0.0528, -0.0987, -0.1147, -0.1816, -0.2805, -0.3716, -0.4222, -0.5047, -0.5145, -0.5289, -0.5506, -0.7609, -0.6841, -0.7773, 2.2044, 2.0073, 1.9419, 1.7984, 0.9212, 0.8373, 0.7146, 0.6826, 0.6642, 0.6061, 0.5923, 0.5908, 0.5451, 0.4196, 0.3842, 0.3542, 0.2494, 0.2464, 0.1551, 0.1458, 0.0486, -0.0419, -0.0598, -0.124, -0.4415, -0.462, -0.5404, -0.5496, -0.5547, -0.5672, -0.8393, -1.0154, -1.1139, 2.2089, 2.1592, 1.9134, 1.754, 1.7476, 1.7144, 1.5898, 1.4988, 1.373, 1.2808, 1.2212, 1.1649, 0.915, 0.9007, 0.866, 0.6702, 0.3529, 0.1673, 0.1666, 0.1481, 0.1375, 0.0471, -0.0103, -0.0145, -0.0173, -0.2268, -0.2697, -0.2792, -0.3881, -0.4852, -0.5503, -0.8175, -2.0129, 2.417, 2.2422, 1.9047, 1.7771, 1.7226, 1.2621, 1.1046, 1.0423, 1.0341, 1.0278, 0.9051, 0.764, 0.6686, 0.6598, 0.6257, 0.3746, 0.3529, 0.2813, 0.1993, 0.1855, 0.0688, -0.1026, -0.1409, -0.1523, -0.2019, -0.2261, -0.2358, -0.2445, -0.2739, -0.329, -0.3615, -0.4672, -1.0935, -0.621, 2.5591, 2.4616, 2.306, 1.9142, 1.6783, 1.6365, 1.6291, 0.8556, 0.8509, 0.7758, 0.6346, 0.6306, 0.6091, 0.587, 0.4579, 0.4165, 0.4117, 0.2194, 0.1863, 0.1827, 0.1424, -0.4763, -0.5419, -0.5792, -0.589, -0.6551, -0.6593, -0.7931, -0.8704, -0.8786, -0.9158, -0.998, -0.9206, -1.5992, -1.5268, 2.5459, 2.3099, 2.2807, 1.5512, 1.3385, 1.3219, 1.1411, 1.0568, 0.8789, 0.6495, 0.5496, 0.532, 0.4382, 0.3781, 0.3446, 0.25, 0.0896, 0.0004, -0.0414, -0.0666, -0.088, -0.1212, -0.1979, -0.211, -0.3831, -0.4236, -0.4389, -0.5091, -0.5174, -0.535, -0.6091, -0.7155, -0.6685, -0.6794, -1.3447, -1.0625, 2.6194, 2.4825, 2.2004, 1.8126, 1.2909, 1.2055, 1.0557, 0.9829, 0.8973, 0.8095, 0.7632, 0.7161, 0.6993, 0.6989, 0.4111, 0.2719, 0.0997, 0.0725, 0.0293, -0.0121, -0.0522, -0.0898, -0.1174, -0.1314, -0.1487, -0.2218, -0.3009, -0.3168, -0.3658, -0.3914, -0.5842, -1.6635, 2.1817, 2.1789, 2.1609, 2.1467, 2.1421, 1.9651, 1.9116, 1.3277, 0.9445, 0.9281, 0.8936, 0.8497, 0.5782, 0.5615, 0.5133, 0.3772, 0.2141, 0.1259, 0.0876, -0.0083, -0.0378, -0.0481, -0.1133, -0.1787, -0.2008, -0.2194, -0.2463, -0.3643, -0.4182, -0.4197, -0.4694, -0.4924, -0.6617, -0.8122, 2.58, 2.5103, 2.4935, 2.308, 2.1084, 1.2704, 1.2076, 0.7423, 0.6577, 0.6082, 0.5386, 0.5306, 0.4224, 0.2764, 0.2551, 0.2332, 0.2159, 0.1081, 0.0715, 0.0663, 0.0188, 0.0147, -0.0369, -0.0399, -0.0485, -0.0514, -0.2561, -0.2562, -0.34, -0.3724, -0.7303, -0.8443, -0.7507, 2.4799, 2.3264, 2.2896, 2.287, 2.1592, 1.0394, 0.8125, 0.7977, 0.7552, 0.6803, 0.6741, 0.5473, 0.5308, 0.4377, 0.4301, 0.3548, 0.2146, 0.0949, -0.0318, -0.1216, -0.2957, -0.3403, -0.3966, -0.4163, -0.4676, -0.48, -0.4818, -0.4921, -0.4984, -0.5021, -0.6044, -1.196, -0.9284, -1.3146, 3.0742, 1.6556, 1.5157, 1.4687, 0.988, 0.938, 0.9356, 0.7235, 0.5052, 0.4772, 0.3973, 0.3488, 0.2874, 0.2828, 0.2757, 0.2727, 0.2022, 0.1657, 0.0366, 0.0302, -0.0225, -0.107, -0.1264, -0.2415, -0.2584, -0.2753, -0.4302, -0.4327, -0.4346, -0.4451, -0.4827, -0.5921, -1.3328, -1.4366, -1.2893]}, \"token.table\": {\"Topic\": [2, 5, 6, 7, 9, 13, 14, 15, 1, 2, 3, 5, 7, 10, 12, 14, 15, 2, 3, 6, 7, 9, 11, 14, 3, 4, 6, 7, 8, 10, 11, 12, 2, 4, 8, 10, 13, 1, 3, 11, 12, 13, 2, 3, 4, 8, 9, 10, 11, 12, 15, 1, 2, 3, 6, 12, 1, 2, 3, 4, 5, 7, 8, 9, 11, 13, 15, 1, 2, 4, 5, 8, 9, 10, 11, 12, 2, 5, 12, 13, 15, 1, 2, 5, 11, 12, 13, 15, 1, 2, 3, 4, 5, 6, 7, 9, 10, 11, 12, 13, 14, 15, 1, 3, 5, 6, 9, 10, 11, 14, 5, 8, 12, 1, 4, 5, 13, 15, 5, 7, 8, 10, 13, 9, 11, 2, 5, 14, 15, 2, 6, 7, 9, 3, 5, 6, 8, 9, 11, 13, 14, 1, 2, 5, 6, 7, 10, 14, 2, 3, 7, 8, 10, 1, 3, 4, 8, 12, 13, 1, 2, 4, 6, 9, 11, 14, 15, 3, 11, 12, 13, 14, 3, 4, 6, 12, 13, 14, 1, 2, 4, 6, 8, 11, 12, 14, 15, 3, 5, 11, 13, 2, 8, 14, 15, 4, 6, 7, 11, 13, 2, 5, 8, 9, 11, 13, 14, 1, 3, 5, 7, 3, 4, 5, 6, 10, 12, 13, 15, 2, 4, 5, 7, 8, 11, 14, 1, 2, 3, 4, 5, 6, 7, 8, 9, 10, 11, 13, 14, 15, 2, 5, 6, 8, 10, 11, 12, 2, 5, 7, 10, 1, 3, 4, 5, 6, 7, 9, 12, 13, 14, 15, 7, 9, 13, 1, 10, 12, 13, 5, 13, 4, 5, 7, 8, 9, 10, 11, 13, 14, 15, 2, 4, 7, 8, 9, 3, 5, 9, 12, 13, 8, 9, 12, 3, 5, 1, 3, 4, 8, 11, 2, 6, 8, 9, 12, 14, 7, 8, 9, 12, 1, 2, 4, 5, 6, 11, 14, 15, 1, 5, 7, 8, 9, 12, 13, 4, 7, 12, 13, 14, 2, 3, 4, 5, 7, 8, 11, 13, 4, 5, 6, 7, 9, 12, 13, 1, 3, 8, 13, 14, 1, 2, 3, 10, 11, 12, 1, 2, 3, 4, 5, 6, 7, 8, 9, 10, 11, 12, 13, 14, 15, 10, 11, 15, 1, 3, 4, 6, 11, 15, 2, 4, 5, 6, 7, 9, 10, 11, 1, 2, 3, 4, 6, 10, 11, 13, 1, 3, 4, 5, 8, 9, 11, 12, 13, 3, 4, 8, 10, 11, 14, 2, 3, 10, 15, 2, 4, 5, 7, 9, 10, 12, 14, 15, 2, 11, 12, 4, 8, 10, 11, 13, 2, 3, 1, 3, 5, 9, 10, 1, 2, 3, 5, 7, 8, 10, 11, 12, 14, 15, 2, 3, 5, 10, 11, 1, 4, 5, 7, 10, 13, 14, 15, 5, 8, 10, 1, 6, 7, 8, 12, 1, 5, 6, 7, 12, 7, 14, 15, 7, 10, 3, 6, 10, 2, 3, 6, 9, 11, 13, 4, 5, 7, 10, 11, 12, 1, 3, 4, 5, 6, 8, 10, 11, 15, 6, 7, 14, 1, 10, 12, 2, 7, 8, 10, 13, 15, 6, 8, 9, 11, 12, 2, 4, 8, 9, 11, 15], \"Freq\": [0.07794306430264492, 0.07794306430264492, 0.5456014501185144, 0.03897153215132246, 0.03897153215132246, 0.03897153215132246, 0.11691459645396737, 0.03897153215132246, 0.024425147690955912, 0.1954011815276473, 0.2198263292186032, 0.1954011815276473, 0.048850295381911824, 0.2198263292186032, 0.024425147690955912, 0.024425147690955912, 0.048850295381911824, 0.08245341891319674, 0.16490683782639348, 0.16490683782639348, 0.16490683782639348, 0.32981367565278696, 0.08245341891319674, 0.08245341891319674, 0.06212282018196155, 0.3106141009098078, 0.1242456403639231, 0.06212282018196155, 0.18636846054588466, 0.06212282018196155, 0.06212282018196155, 0.06212282018196155, 0.05176436815295721, 0.05176436815295721, 0.7247011541414009, 0.05176436815295721, 0.05176436815295721, 0.21820605267533716, 0.07273535089177906, 0.14547070178355812, 0.36367675445889525, 0.07273535089177906, 0.0294140905239321, 0.1176563620957284, 0.1470704526196605, 0.0588281810478642, 0.4117972673350494, 0.0294140905239321, 0.0588281810478642, 0.0588281810478642, 0.0294140905239321, 0.2660622569665371, 0.39909338544980566, 0.06651556424163428, 0.06651556424163428, 0.13303112848326856, 0.04331544634530629, 0.12994633903591887, 0.17326178538122516, 0.04331544634530629, 0.04331544634530629, 0.04331544634530629, 0.04331544634530629, 0.30320812441714406, 0.04331544634530629, 0.04331544634530629, 0.04331544634530629, 0.14752271349608923, 0.368806783740223, 0.036880678374022306, 0.07376135674804461, 0.07376135674804461, 0.14752271349608923, 0.036880678374022306, 0.036880678374022306, 0.07376135674804461, 0.598785486316735, 0.08554078375953357, 0.08554078375953357, 0.08554078375953357, 0.08554078375953357, 0.3896773410749842, 0.2338064046449905, 0.03896773410749842, 0.11690320232249525, 0.03896773410749842, 0.03896773410749842, 0.11690320232249525, 0.28577689270836565, 0.05292164679784549, 0.08467463487655279, 0.09525896423612189, 0.042337317438276394, 0.16934926975310557, 0.010584329359569098, 0.021168658719138197, 0.06350597615741459, 0.08467463487655279, 0.031752988078707294, 0.021168658719138197, 0.031752988078707294, 0.010584329359569098, 0.05668768363676167, 0.11337536727352333, 0.170063050910285, 0.170063050910285, 0.11337536727352333, 0.170063050910285, 0.05668768363676167, 0.11337536727352333, 0.7311862295045483, 0.09139827868806853, 0.09139827868806853, 0.074133022233562, 0.074133022233562, 0.593064177868496, 0.074133022233562, 0.22239906670068596, 0.06086242828319061, 0.06086242828319061, 0.18258728484957185, 0.06086242828319061, 0.5477618545487155, 0.08285425848716127, 0.7456883263844514, 0.24375923839025512, 0.08125307946341838, 0.5687715562439286, 0.08125307946341838, 0.6658026899793443, 0.08322533624741804, 0.08322533624741804, 0.08322533624741804, 0.3954965562805902, 0.04943706953507378, 0.09887413907014755, 0.04943706953507378, 0.09887413907014755, 0.04943706953507378, 0.04943706953507378, 0.14831120860522135, 0.07635434653059883, 0.07635434653059883, 0.6108347722447907, 0.07635434653059883, 0.07635434653059883, 0.07635434653059883, 0.07635434653059883, 0.06222395700039366, 0.560015613003543, 0.06222395700039366, 0.24889582800157464, 0.06222395700039366, 0.04719889458951138, 0.5191878404846252, 0.14159668376853415, 0.14159668376853415, 0.04719889458951138, 0.04719889458951138, 0.0697037841410873, 0.0697037841410873, 0.0697037841410873, 0.0697037841410873, 0.1394075682821746, 0.0697037841410873, 0.48792648898761115, 0.0697037841410873, 0.09738698390534345, 0.1947739678106869, 0.48693491952671725, 0.09738698390534345, 0.09738698390534345, 0.0622995875021005, 0.0622995875021005, 0.124599175004201, 0.498396700016804, 0.0622995875021005, 0.0622995875021005, 0.034124713510257525, 0.034124713510257525, 0.17062356755128763, 0.06824942702051505, 0.034124713510257525, 0.034124713510257525, 0.034124713510257525, 0.5459954161641204, 0.06824942702051505, 0.08996056552669228, 0.17992113105338456, 0.17992113105338456, 0.44980282763346136, 0.08220763457703703, 0.08220763457703703, 0.6576610766162962, 0.08220763457703703, 0.08507489403542907, 0.08507489403542907, 0.08507489403542907, 0.3402995761417163, 0.17014978807085815, 0.14911831501095824, 0.3479427350255692, 0.09941221000730549, 0.09941221000730549, 0.14911831501095824, 0.049706105003652745, 0.09941221000730549, 0.06840283286878213, 0.41041699721269276, 0.06840283286878213, 0.34201416434391063, 0.027938651844620275, 0.05587730368924055, 0.4470184295139244, 0.027938651844620275, 0.027938651844620275, 0.13969325922310138, 0.19557056291234193, 0.05587730368924055, 0.04977743049440224, 0.04977743049440224, 0.04977743049440224, 0.3982194439552179, 0.3484420134608157, 0.04977743049440224, 0.04977743049440224, 0.04153340988383569, 0.013844469961278564, 0.027688939922557127, 0.20766704941917846, 0.06922234980639282, 0.06922234980639282, 0.27688939922557126, 0.027688939922557127, 0.013844469961278564, 0.013844469961278564, 0.013844469961278564, 0.06922234980639282, 0.11075575969022851, 0.055377879845114254, 0.04388835740289716, 0.08777671480579433, 0.1316650722086915, 0.17555342961158865, 0.30721850182028015, 0.08777671480579433, 0.1316650722086915, 0.08412653923024435, 0.08412653923024435, 0.504759235381466, 0.252379617690733, 0.03929587643472946, 0.01964793821736473, 0.510846393651483, 0.03929587643472946, 0.03929587643472946, 0.07859175286945892, 0.01964793821736473, 0.01964793821736473, 0.11788762930418838, 0.11788762930418838, 0.01964793821736473, 0.08413065117053553, 0.08413065117053553, 0.6730452093642842, 0.10357738188175787, 0.10357738188175787, 0.051788690940878936, 0.6732529822314262, 0.08318805219957384, 0.7486924697961646, 0.4244814896696733, 0.18865843985318814, 0.07074691494494556, 0.047164609963297036, 0.023582304981648518, 0.07074691494494556, 0.023582304981648518, 0.047164609963297036, 0.023582304981648518, 0.047164609963297036, 0.11816986473796624, 0.05908493236898312, 0.2954246618449156, 0.41359452658288187, 0.05908493236898312, 0.06270560351458909, 0.06270560351458909, 0.6270560351458909, 0.12541120702917818, 0.12541120702917818, 0.05536155537030218, 0.7750617751842305, 0.05536155537030218, 0.690318595697679, 0.076702066188631, 0.25009701498754916, 0.08336567166251638, 0.25009701498754916, 0.16673134332503275, 0.16673134332503275, 0.044025884965410156, 0.6603882744811523, 0.044025884965410156, 0.08805176993082031, 0.044025884965410156, 0.044025884965410156, 0.0647871358261379, 0.1295742716522758, 0.1295742716522758, 0.5182970866091032, 0.03877118088662399, 0.6203388941859839, 0.03877118088662399, 0.03877118088662399, 0.15508472354649597, 0.03877118088662399, 0.03877118088662399, 0.03877118088662399, 0.111768666377929, 0.0558843331889645, 0.223537332755858, 0.0558843331889645, 0.0558843331889645, 0.3911903323227515, 0.0558843331889645, 0.13870904556322575, 0.13870904556322575, 0.06935452278161287, 0.06935452278161287, 0.554836182252903, 0.09131040849710598, 0.04565520424855299, 0.04565520424855299, 0.04565520424855299, 0.22827602124276494, 0.3652416339884239, 0.04565520424855299, 0.09131040849710598, 0.07196802578103573, 0.14393605156207145, 0.14393605156207145, 0.35984012890517864, 0.07196802578103573, 0.07196802578103573, 0.07196802578103573, 0.1268320666605272, 0.0634160333302636, 0.6341603333026361, 0.0634160333302636, 0.1268320666605272, 0.16813419332562043, 0.08406709666281022, 0.5464361283082664, 0.12610064499421533, 0.04203354833140511, 0.04203354833140511, 0.3649254248244576, 0.12164180827481921, 0.026066101773175546, 0.026066101773175546, 0.043443502955292576, 0.026066101773175546, 0.043443502955292576, 0.09557570650164367, 0.03475480236423406, 0.03475480236423406, 0.043443502955292576, 0.05213220354635109, 0.026066101773175546, 0.03475480236423406, 0.008688700591058515, 0.0455614437203367, 0.8201059869660606, 0.0455614437203367, 0.22511233271836942, 0.07503744423945648, 0.15007488847891295, 0.15007488847891295, 0.22511233271836942, 0.07503744423945648, 0.10934190749565749, 0.3826966762348012, 0.10934190749565749, 0.054670953747828745, 0.16401286124348624, 0.054670953747828745, 0.054670953747828745, 0.054670953747828745, 0.21408673486604393, 0.038924860884735256, 0.09731215221183814, 0.019462430442367628, 0.4865607610591907, 0.038924860884735256, 0.05838729132710289, 0.019462430442367628, 0.13302064507559827, 0.03325516126889957, 0.3990619352267948, 0.03325516126889957, 0.03325516126889957, 0.03325516126889957, 0.06651032253779914, 0.13302064507559827, 0.06651032253779914, 0.03627016901845044, 0.07254033803690088, 0.10881050705535132, 0.03627016901845044, 0.5440525352767567, 0.07254033803690088, 0.09392527618276264, 0.5635516570965758, 0.09392527618276264, 0.09392527618276264, 0.15173774519537897, 0.10115849679691931, 0.050579248398459654, 0.050579248398459654, 0.10115849679691931, 0.10115849679691931, 0.20231699359383862, 0.050579248398459654, 0.15173774519537897, 0.3131771036094779, 0.08947917245985083, 0.49213544852917956, 0.044658269899196384, 0.08931653979839277, 0.7591905882863386, 0.044658269899196384, 0.044658269899196384, 0.721623422689174, 0.09020292783614675, 0.0883773639186557, 0.1767547278373114, 0.1767547278373114, 0.3535094556746228, 0.0883773639186557, 0.03540557385423051, 0.42486688625076613, 0.07081114770846102, 0.03540557385423051, 0.07081114770846102, 0.10621672156269153, 0.07081114770846102, 0.03540557385423051, 0.03540557385423051, 0.07081114770846102, 0.03540557385423051, 0.05341534621855924, 0.16024603865567771, 0.05341534621855924, 0.6409841546227109, 0.05341534621855924, 0.04886530128401073, 0.04886530128401073, 0.4397877115560966, 0.1465959038520322, 0.19546120513604293, 0.04886530128401073, 0.04886530128401073, 0.04886530128401073, 0.7506020119837332, 0.09382525149796665, 0.09382525149796665, 0.09297106106110054, 0.09297106106110054, 0.37188424424440214, 0.18594212212220107, 0.18594212212220107, 0.08908208447849258, 0.5344925068709555, 0.08908208447849258, 0.08908208447849258, 0.08908208447849258, 0.6536019664599294, 0.07262244071776994, 0.14524488143553987, 0.239862788536751, 0.5596798399190857, 0.749342438009543, 0.0749342438009543, 0.0749342438009543, 0.04811695259129877, 0.1443508577738963, 0.43305257332168895, 0.1443508577738963, 0.04811695259129877, 0.04811695259129877, 0.07644086275923245, 0.07644086275923245, 0.07644086275923245, 0.07644086275923245, 0.1528817255184649, 0.5350860393146272, 0.3767626565546247, 0.06850230119174995, 0.034251150595874975, 0.034251150595874975, 0.10275345178762492, 0.034251150595874975, 0.17125575297937487, 0.1370046023834999, 0.034251150595874975, 0.15641577469820364, 0.6256630987928146, 0.07820788734910182, 0.7320403892342082, 0.07320403892342082, 0.07320403892342082, 0.035041146115514246, 0.035041146115514246, 0.035041146115514246, 0.035041146115514246, 0.035041146115514246, 0.8409875067723418, 0.04610765188461644, 0.04610765188461644, 0.7377224301538631, 0.04610765188461644, 0.04610765188461644, 0.48912378545952845, 0.06987482649421835, 0.06987482649421835, 0.1397496529884367, 0.1397496529884367, 0.06987482649421835], \"Term\": [\"algorithm\", \"algorithm\", \"algorithm\", \"algorithm\", \"algorithm\", \"algorithm\", \"algorithm\", \"algorithm\", \"analysi\", \"analysi\", \"analysi\", \"analysi\", \"analysi\", \"analysi\", \"analysi\", \"analysi\", \"analysi\", \"autom\", \"autom\", \"autom\", \"autom\", \"autom\", \"autom\", \"autom\", \"beginn\", \"beginn\", \"beginn\", \"beginn\", \"beginn\", \"beginn\", \"beginn\", \"beginn\", \"best\", \"best\", \"best\", \"best\", \"best\", \"book\", \"book\", \"book\", \"book\", \"book\", \"build\", \"build\", \"build\", \"build\", \"build\", \"build\", \"build\", \"build\", \"build\", \"chang\", \"chang\", \"chang\", \"chang\", \"chang\", \"classif\", \"classif\", \"classif\", \"classif\", \"classif\", \"classif\", \"classif\", \"classif\", \"classif\", \"classif\", \"classif\", \"code\", \"code\", \"code\", \"code\", \"code\", \"code\", \"code\", \"code\", \"code\", \"compon\", \"compon\", \"compon\", \"compon\", \"compon\", \"creat\", \"creat\", \"creat\", \"creat\", \"creat\", \"creat\", \"creat\", \"data\", \"data\", \"data\", \"data\", \"data\", \"data\", \"data\", \"data\", \"data\", \"data\", \"data\", \"data\", \"data\", \"data\", \"dataset\", \"dataset\", \"dataset\", \"dataset\", \"dataset\", \"dataset\", \"dataset\", \"dataset\", \"decis\", \"decis\", \"decis\", \"deep\", \"deep\", \"deep\", \"deep\", \"deep\", \"detect\", \"detect\", \"detect\", \"detect\", \"detect\", \"develop\", \"develop\", \"effect\", \"effect\", \"effect\", \"effect\", \"exampl\", \"exampl\", \"exampl\", \"exampl\", \"explain\", \"explain\", \"explain\", \"explain\", \"explain\", \"explain\", \"explain\", \"explain\", \"exploratori\", \"exploratori\", \"exploratori\", \"exploratori\", \"exploratori\", \"exploratori\", \"exploratori\", \"extract\", \"extract\", \"extract\", \"extract\", \"extract\", \"featur\", \"featur\", \"featur\", \"featur\", \"featur\", \"featur\", \"generat\", \"generat\", \"generat\", \"generat\", \"generat\", \"generat\", \"generat\", \"generat\", \"get\", \"get\", \"get\", \"get\", \"get\", \"googl\", \"googl\", \"googl\", \"googl\", \"googl\", \"googl\", \"guid\", \"guid\", \"guid\", \"guid\", \"guid\", \"guid\", \"guid\", \"guid\", \"guid\", \"imag\", \"imag\", \"imag\", \"imag\", \"import\", \"import\", \"import\", \"import\", \"intellig\", \"intellig\", \"intellig\", \"intellig\", \"intellig\", \"introduct\", \"introduct\", \"introduct\", \"introduct\", \"introduct\", \"introduct\", \"introduct\", \"jupyt\", \"jupyt\", \"jupyt\", \"jupyt\", \"know\", \"know\", \"know\", \"know\", \"know\", \"know\", \"know\", \"know\", \"languag\", \"languag\", \"languag\", \"languag\", \"languag\", \"languag\", \"languag\", \"learn\", \"learn\", \"learn\", \"learn\", \"learn\", \"learn\", \"learn\", \"learn\", \"learn\", \"learn\", \"learn\", \"learn\", \"learn\", \"learn\", \"librari\", \"librari\", \"librari\", \"librari\", \"librari\", \"librari\", \"librari\", \"linear\", \"linear\", \"linear\", \"linear\", \"machin\", \"machin\", \"machin\", \"machin\", \"machin\", \"machin\", \"machin\", \"machin\", \"machin\", \"machin\", \"machin\", \"master\", \"master\", \"master\", \"mathemat\", \"mathemat\", \"mathemat\", \"mathemat\", \"method\", \"method\", \"model\", \"model\", \"model\", \"model\", \"model\", \"model\", \"model\", \"model\", \"model\", \"model\", \"natur\", \"natur\", \"natur\", \"natur\", \"natur\", \"need\", \"need\", \"need\", \"need\", \"need\", \"network\", \"network\", \"network\", \"notebook\", \"notebook\", \"onlin\", \"onlin\", \"onlin\", \"onlin\", \"onlin\", \"panda\", \"panda\", \"panda\", \"panda\", \"panda\", \"panda\", \"person\", \"person\", \"person\", \"person\", \"plot\", \"plot\", \"plot\", \"plot\", \"plot\", \"plot\", \"plot\", \"plot\", \"predict\", \"predict\", \"predict\", \"predict\", \"predict\", \"predict\", \"predict\", \"probabl\", \"probabl\", \"probabl\", \"probabl\", \"probabl\", \"process\", \"process\", \"process\", \"process\", \"process\", \"process\", \"process\", \"process\", \"product\", \"product\", \"product\", \"product\", \"product\", \"product\", \"product\", \"program\", \"program\", \"program\", \"program\", \"program\", \"project\", \"project\", \"project\", \"project\", \"project\", \"project\", \"python\", \"python\", \"python\", \"python\", \"python\", \"python\", \"python\", \"python\", \"python\", \"python\", \"python\", \"python\", \"python\", \"python\", \"python\", \"react\", \"react\", \"react\", \"read\", \"read\", \"read\", \"read\", \"read\", \"read\", \"regress\", \"regress\", \"regress\", \"regress\", \"regress\", \"regress\", \"regress\", \"regress\", \"scienc\", \"scienc\", \"scienc\", \"scienc\", \"scienc\", \"scienc\", \"scienc\", \"scienc\", \"scientist\", \"scientist\", \"scientist\", \"scientist\", \"scientist\", \"scientist\", \"scientist\", \"scientist\", \"scientist\", \"scrap\", \"scrap\", \"scrap\", \"scrap\", \"scrap\", \"scrap\", \"sentiment\", \"sentiment\", \"sentiment\", \"sentiment\", \"simpl\", \"simpl\", \"simpl\", \"simpl\", \"simpl\", \"simpl\", \"simpl\", \"simpl\", \"simpl\", \"start\", \"start\", \"start\", \"statist\", \"statist\", \"statist\", \"statist\", \"statist\", \"summar\", \"summar\", \"task\", \"task\", \"task\", \"task\", \"task\", \"text\", \"text\", \"text\", \"text\", \"text\", \"text\", \"text\", \"text\", \"text\", \"text\", \"text\", \"time\", \"time\", \"time\", \"time\", \"time\", \"topic\", \"topic\", \"topic\", \"topic\", \"topic\", \"topic\", \"topic\", \"topic\", \"tree\", \"tree\", \"tree\", \"trend\", \"trend\", \"trend\", \"trend\", \"trend\", \"trick\", \"trick\", \"trick\", \"trick\", \"trick\", \"tutori\", \"tutori\", \"tutori\", \"tweet\", \"tweet\", \"twitter\", \"twitter\", \"twitter\", \"understand\", \"understand\", \"understand\", \"understand\", \"understand\", \"understand\", \"use\", \"use\", \"use\", \"use\", \"use\", \"use\", \"visual\", \"visual\", \"visual\", \"visual\", \"visual\", \"visual\", \"visual\", \"visual\", \"visual\", \"want\", \"want\", \"want\", \"word\", \"word\", \"word\", \"work\", \"work\", \"work\", \"work\", \"work\", \"work\", \"write\", \"write\", \"write\", \"write\", \"write\", \"year\", \"year\", \"year\", \"year\", \"year\", \"year\"]}, \"R\": 30, \"lambda.step\": 0.01, \"plot.opts\": {\"xlab\": \"PC1\", \"ylab\": \"PC2\"}, \"topic.order\": [6, 5, 11, 13, 8, 14, 2, 7, 9, 4, 10, 12, 15, 1, 3]};\n",
       "\n",
       "function LDAvis_load_lib(url, callback){\n",
       "  var s = document.createElement('script');\n",
       "  s.src = url;\n",
       "  s.async = true;\n",
       "  s.onreadystatechange = s.onload = callback;\n",
       "  s.onerror = function(){console.warn(\"failed to load library \" + url);};\n",
       "  document.getElementsByTagName(\"head\")[0].appendChild(s);\n",
       "}\n",
       "\n",
       "if(typeof(LDAvis) !== \"undefined\"){\n",
       "   // already loaded: just create the visualization\n",
       "   !function(LDAvis){\n",
       "       new LDAvis(\"#\" + \"ldavis_el48471140673122143024656454017\", ldavis_el48471140673122143024656454017_data);\n",
       "   }(LDAvis);\n",
       "}else if(typeof define === \"function\" && define.amd){\n",
       "   // require.js is available: use it to load d3/LDAvis\n",
       "   require.config({paths: {d3: \"https://d3js.org/d3.v5\"}});\n",
       "   require([\"d3\"], function(d3){\n",
       "      window.d3 = d3;\n",
       "      LDAvis_load_lib(\"https://cdn.jsdelivr.net/gh/bmabey/pyLDAvis@3.2.2/pyLDAvis/js/ldavis.v3.0.0.js\", function(){\n",
       "        new LDAvis(\"#\" + \"ldavis_el48471140673122143024656454017\", ldavis_el48471140673122143024656454017_data);\n",
       "      });\n",
       "    });\n",
       "}else{\n",
       "    // require.js not available: dynamically load d3 & LDAvis\n",
       "    LDAvis_load_lib(\"https://d3js.org/d3.v5.js\", function(){\n",
       "         LDAvis_load_lib(\"https://cdn.jsdelivr.net/gh/bmabey/pyLDAvis@3.2.2/pyLDAvis/js/ldavis.v3.0.0.js\", function(){\n",
       "                 new LDAvis(\"#\" + \"ldavis_el48471140673122143024656454017\", ldavis_el48471140673122143024656454017_data);\n",
       "            })\n",
       "         });\n",
       "}\n",
       "</script>"
      ],
      "text/plain": [
       "PreparedData(topic_coordinates=              x         y  topics  cluster      Freq\n",
       "topic                                               \n",
       "5      0.149726  0.099664       1        1  9.114328\n",
       "4      0.120476 -0.134903       2        1  8.408521\n",
       "10     0.121746  0.025058       3        1  8.027989\n",
       "12    -0.143779  0.105343       4        1  7.606196\n",
       "7     -0.094469 -0.027418       5        1  7.571982\n",
       "13     0.059345  0.190380       6        1  7.116466\n",
       "1     -0.177688 -0.039840       7        1  6.855025\n",
       "6     -0.015443 -0.106143       8        1  6.412862\n",
       "8      0.061050 -0.088699       9        1  6.210597\n",
       "3      0.053192 -0.013573      10        1  6.112358\n",
       "9      0.115023  0.074546      11        1  6.085399\n",
       "11     0.073316 -0.078201      12        1  5.797874\n",
       "14    -0.125719  0.027683      13        1  5.428412\n",
       "0     -0.129294  0.075904      14        1  5.399006\n",
       "2     -0.067482 -0.109801      15        1  3.852985, topic_info=       Term       Freq       Total Category  logprob  loglift\n",
       "77     work  28.000000   28.000000  Default  30.0000  30.0000\n",
       "11   scienc  51.000000   51.000000  Default  29.0000  29.0000\n",
       "20   machin  50.000000   50.000000  Default  28.0000  28.0000\n",
       "78    react  21.000000   21.000000  Default  27.0000  27.0000\n",
       "41  statist  22.000000   22.000000  Default  26.0000  26.0000\n",
       "..      ...        ...         ...      ...      ...      ...\n",
       "73    chang   0.357457   15.034075  Topic15  -5.3171  -0.4827\n",
       "0    featur   0.451574   21.186937  Topic15  -5.0834  -0.5921\n",
       "7    python   1.169574  115.092008  Topic15  -4.1317  -1.3328\n",
       "4      data   0.865399   94.479297  Topic15  -4.4329  -1.4366\n",
       "20   machin   0.540193   50.895926  Topic15  -4.9042  -1.2893\n",
       "\n",
       "[537 rows x 6 columns], token_table=      Topic      Freq       Term\n",
       "term                            \n",
       "22        2  0.077943  algorithm\n",
       "22        5  0.077943  algorithm\n",
       "22        6  0.545601  algorithm\n",
       "22        7  0.038972  algorithm\n",
       "22        9  0.038972  algorithm\n",
       "...     ...       ...        ...\n",
       "38        4  0.069875       year\n",
       "38        8  0.069875       year\n",
       "38        9  0.139750       year\n",
       "38       11  0.139750       year\n",
       "38       15  0.069875       year\n",
       "\n",
       "[529 rows x 3 columns], R=30, lambda_step=0.01, plot_opts={'xlab': 'PC1', 'ylab': 'PC2'}, topic_order=[6, 5, 11, 13, 8, 14, 2, 7, 9, 4, 10, 12, 15, 1, 3])"
      ]
     },
     "execution_count": 20,
     "metadata": {},
     "output_type": "execute_result"
    }
   ],
   "source": [
    "import pyLDAvis.gensim\n",
    "import pickle \n",
    "import pyLDAvis\n",
    "import os\n",
    "\n",
    "# Visualize the topics\n",
    "pyLDAvis.enable_notebook()\n",
    "LDAvis_data_filepath = os.path.join('./results/ldavis_prepared_'+str(lda_model.num_topics))\n",
    "viz_prep = True\n",
    "if viz_prep:\n",
    "    LDAvis_prepared = pyLDAvis.gensim.prepare(lda_model, corpus_tfidf, dictionary)\n",
    "    with open(LDAvis_data_filepath, 'wb') as f:\n",
    "        pickle.dump(LDAvis_prepared, f)\n",
    "else:\n",
    "    # load the pre-prepared pyLDAvis data from disk\n",
    "    with open(LDAvis_data_filepath, 'rb') as f:\n",
    "        LDAvis_prepared = pickle.load(f)\n",
    "pyLDAvis.save_html(LDAvis_prepared, './results/ldavis_prepared_'+ str(lda_model.num_topics) +'.html')\n",
    "LDAvis_prepared"
   ]
  },
  {
   "cell_type": "markdown",
   "id": "e6bd9717",
   "metadata": {},
   "source": [
    "### BERTopic"
   ]
  },
  {
   "cell_type": "code",
   "execution_count": 21,
   "id": "7b6e9da0",
   "metadata": {},
   "outputs": [
    {
     "name": "stderr",
     "output_type": "stream",
     "text": [
      "/Users/sejaldua/opt/anaconda3/lib/python3.8/site-packages/ipykernel/ipkernel.py:287: DeprecationWarning: `should_run_async` will not call `transform_cell` automatically in the future. Please pass the result to `transformed_cell` argument and any exception that happen during thetransform in `preprocessing_exc_tuple` in IPython 7.17 and above.\n",
      "  and should_run_async(code)\n"
     ]
    },
    {
     "data": {
      "text/html": [
       "<div>\n",
       "<style scoped>\n",
       "    .dataframe tbody tr th:only-of-type {\n",
       "        vertical-align: middle;\n",
       "    }\n",
       "\n",
       "    .dataframe tbody tr th {\n",
       "        vertical-align: top;\n",
       "    }\n",
       "\n",
       "    .dataframe thead th {\n",
       "        text-align: right;\n",
       "    }\n",
       "</style>\n",
       "<table border=\"1\" class=\"dataframe\">\n",
       "  <thead>\n",
       "    <tr style=\"text-align: right;\">\n",
       "      <th></th>\n",
       "      <th>Date</th>\n",
       "      <th>Title</th>\n",
       "      <th>Subtitle</th>\n",
       "      <th>Author</th>\n",
       "      <th>Publication</th>\n",
       "      <th>Minutes</th>\n",
       "      <th>Titles_combined</th>\n",
       "    </tr>\n",
       "  </thead>\n",
       "  <tbody>\n",
       "    <tr>\n",
       "      <th>0</th>\n",
       "      <td>2021-08-11</td>\n",
       "      <td>Stop One-Hot Encoding your Categorical Feature...</td>\n",
       "      <td>Techniques to Encode Categorical Features with...</td>\n",
       "      <td>Satyam Kumar</td>\n",
       "      <td>The Startup</td>\n",
       "      <td>5</td>\n",
       "      <td>Stop One-Hot Encoding your Categorical Feature...</td>\n",
       "    </tr>\n",
       "    <tr>\n",
       "      <th>1</th>\n",
       "      <td>2021-08-11</td>\n",
       "      <td>Encoding Categorical Features</td>\n",
       "      <td>Introduction</td>\n",
       "      <td>Yang Liu</td>\n",
       "      <td>Towards Data Science</td>\n",
       "      <td>6</td>\n",
       "      <td>Encoding Categorical Features Introduction</td>\n",
       "    </tr>\n",
       "    <tr>\n",
       "      <th>2</th>\n",
       "      <td>2021-08-11</td>\n",
       "      <td>How to Write a Headline</td>\n",
       "      <td>Insights from Medium's editorial team</td>\n",
       "      <td>Medium Creators</td>\n",
       "      <td>Creators Hub</td>\n",
       "      <td>5</td>\n",
       "      <td>How to Write a Headline Insights from Medium's...</td>\n",
       "    </tr>\n",
       "    <tr>\n",
       "      <th>3</th>\n",
       "      <td>2021-08-11</td>\n",
       "      <td>Topic Areas to Avoid</td>\n",
       "      <td>The following topics have been covered at leng...</td>\n",
       "      <td>Zack Shapiro</td>\n",
       "      <td>Better Programming</td>\n",
       "      <td>2</td>\n",
       "      <td>Topic Areas to Avoid The following topics have...</td>\n",
       "    </tr>\n",
       "    <tr>\n",
       "      <th>4</th>\n",
       "      <td>2021-08-11</td>\n",
       "      <td>How to Calculate Molecular Similarity</td>\n",
       "      <td>Day 15 of the 66 Days of Data</td>\n",
       "      <td>Chanin Nantasenamat</td>\n",
       "      <td>Data Professor</td>\n",
       "      <td>5</td>\n",
       "      <td>How to Calculate Molecular Similarity Day 15 o...</td>\n",
       "    </tr>\n",
       "  </tbody>\n",
       "</table>\n",
       "</div>"
      ],
      "text/plain": [
       "         Date                                              Title  \\\n",
       "0  2021-08-11  Stop One-Hot Encoding your Categorical Feature...   \n",
       "1  2021-08-11                      Encoding Categorical Features   \n",
       "2  2021-08-11                            How to Write a Headline   \n",
       "3  2021-08-11                               Topic Areas to Avoid   \n",
       "4  2021-08-11              How to Calculate Molecular Similarity   \n",
       "\n",
       "                                            Subtitle               Author  \\\n",
       "0  Techniques to Encode Categorical Features with...         Satyam Kumar   \n",
       "1                                       Introduction             Yang Liu   \n",
       "2              Insights from Medium's editorial team      Medium Creators   \n",
       "3  The following topics have been covered at leng...         Zack Shapiro   \n",
       "4                      Day 15 of the 66 Days of Data  Chanin Nantasenamat   \n",
       "\n",
       "             Publication  Minutes  \\\n",
       "0           The Startup         5   \n",
       "1  Towards Data Science         6   \n",
       "2          Creators Hub         5   \n",
       "3    Better Programming         2   \n",
       "4        Data Professor         5   \n",
       "\n",
       "                                     Titles_combined  \n",
       "0  Stop One-Hot Encoding your Categorical Feature...  \n",
       "1         Encoding Categorical Features Introduction  \n",
       "2  How to Write a Headline Insights from Medium's...  \n",
       "3  Topic Areas to Avoid The following topics have...  \n",
       "4  How to Calculate Molecular Similarity Day 15 o...  "
      ]
     },
     "execution_count": 21,
     "metadata": {},
     "output_type": "execute_result"
    }
   ],
   "source": [
    "df.head()"
   ]
  },
  {
   "cell_type": "code",
   "execution_count": 22,
   "id": "ef9dc6d3",
   "metadata": {},
   "outputs": [
    {
     "name": "stderr",
     "output_type": "stream",
     "text": [
      "/Users/sejaldua/opt/anaconda3/lib/python3.8/site-packages/ipykernel/ipkernel.py:287: DeprecationWarning: `should_run_async` will not call `transform_cell` automatically in the future. Please pass the result to `transformed_cell` argument and any exception that happen during thetransform in `preprocessing_exc_tuple` in IPython 7.17 and above.\n",
      "  and should_run_async(code)\n"
     ]
    },
    {
     "name": "stdout",
     "output_type": "stream",
     "text": [
      "Collecting package metadata (current_repodata.json): done\n",
      "Solving environment: done\n",
      "\n",
      "# All requested packages already installed.\n",
      "\n"
     ]
    }
   ],
   "source": [
    "!conda install -c conda-forge hdbscan -y"
   ]
  },
  {
   "cell_type": "code",
   "execution_count": 29,
   "id": "e409780e",
   "metadata": {},
   "outputs": [
    {
     "name": "stderr",
     "output_type": "stream",
     "text": [
      "/Users/sejaldua/opt/anaconda3/lib/python3.8/site-packages/ipykernel/ipkernel.py:287: DeprecationWarning: `should_run_async` will not call `transform_cell` automatically in the future. Please pass the result to `transformed_cell` argument and any exception that happen during thetransform in `preprocessing_exc_tuple` in IPython 7.17 and above.\n",
      "  and should_run_async(code)\n"
     ]
    },
    {
     "name": "stdout",
     "output_type": "stream",
     "text": [
      "Requirement already satisfied: bertopic in /Users/sejaldua/opt/anaconda3/lib/python3.8/site-packages (0.6.0)\n",
      "Requirement already satisfied: hdbscan>=0.8.27 in /Users/sejaldua/opt/anaconda3/lib/python3.8/site-packages (from bertopic) (0.8.27)\n",
      "Requirement already satisfied: tqdm>=4.41.1 in /Users/sejaldua/opt/anaconda3/lib/python3.8/site-packages (from bertopic) (4.59.0)\n",
      "Requirement already satisfied: numpy>=1.19.2 in /Users/sejaldua/opt/anaconda3/lib/python3.8/site-packages (from bertopic) (1.21.1)\n",
      "Requirement already satisfied: scikit-learn>=0.22.2.post1 in /Users/sejaldua/opt/anaconda3/lib/python3.8/site-packages (from bertopic) (0.24.1)\n",
      "Requirement already satisfied: torch>=1.4.0 in /Users/sejaldua/opt/anaconda3/lib/python3.8/site-packages (from bertopic) (1.9.0)\n",
      "Requirement already satisfied: umap-learn>=0.5.0 in /Users/sejaldua/opt/anaconda3/lib/python3.8/site-packages (from bertopic) (0.5.1)\n",
      "Requirement already satisfied: pandas>=1.1.5 in /Users/sejaldua/opt/anaconda3/lib/python3.8/site-packages (from bertopic) (1.2.4)\n",
      "Requirement already satisfied: sentence-transformers>=0.4.1 in /Users/sejaldua/opt/anaconda3/lib/python3.8/site-packages (from bertopic) (1.2.1)\n",
      "Requirement already satisfied: cython>=0.27 in /Users/sejaldua/opt/anaconda3/lib/python3.8/site-packages (from hdbscan>=0.8.27->bertopic) (0.29.23)\n",
      "Requirement already satisfied: joblib>=1.0 in /Users/sejaldua/opt/anaconda3/lib/python3.8/site-packages (from hdbscan>=0.8.27->bertopic) (1.0.1)\n",
      "Requirement already satisfied: scipy>=1.0 in /Users/sejaldua/opt/anaconda3/lib/python3.8/site-packages (from hdbscan>=0.8.27->bertopic) (1.6.2)\n",
      "Requirement already satisfied: six in /Users/sejaldua/opt/anaconda3/lib/python3.8/site-packages (from hdbscan>=0.8.27->bertopic) (1.15.0)\n",
      "Requirement already satisfied: python-dateutil>=2.7.3 in /Users/sejaldua/opt/anaconda3/lib/python3.8/site-packages (from pandas>=1.1.5->bertopic) (2.8.1)\n",
      "Requirement already satisfied: pytz>=2017.3 in /Users/sejaldua/opt/anaconda3/lib/python3.8/site-packages (from pandas>=1.1.5->bertopic) (2021.1)\n",
      "Requirement already satisfied: threadpoolctl>=2.0.0 in /Users/sejaldua/opt/anaconda3/lib/python3.8/site-packages (from scikit-learn>=0.22.2.post1->bertopic) (2.1.0)\n",
      "Requirement already satisfied: nltk in /Users/sejaldua/opt/anaconda3/lib/python3.8/site-packages (from sentence-transformers>=0.4.1->bertopic) (3.6.1)\n",
      "Requirement already satisfied: transformers<5.0.0,>=3.1.0 in /Users/sejaldua/opt/anaconda3/lib/python3.8/site-packages (from sentence-transformers>=0.4.1->bertopic) (4.4.2)\n",
      "Requirement already satisfied: torchvision in /Users/sejaldua/opt/anaconda3/lib/python3.8/site-packages (from sentence-transformers>=0.4.1->bertopic) (0.10.0)\n",
      "Requirement already satisfied: sentencepiece in /Users/sejaldua/opt/anaconda3/lib/python3.8/site-packages (from sentence-transformers>=0.4.1->bertopic) (0.1.91)\n",
      "Requirement already satisfied: typing-extensions in /Users/sejaldua/opt/anaconda3/lib/python3.8/site-packages (from torch>=1.4.0->bertopic) (3.7.4.3)\n",
      "Requirement already satisfied: packaging in /Users/sejaldua/opt/anaconda3/lib/python3.8/site-packages (from transformers<5.0.0,>=3.1.0->sentence-transformers>=0.4.1->bertopic) (20.9)\n",
      "Requirement already satisfied: filelock in /Users/sejaldua/opt/anaconda3/lib/python3.8/site-packages (from transformers<5.0.0,>=3.1.0->sentence-transformers>=0.4.1->bertopic) (3.0.12)\n",
      "Requirement already satisfied: tokenizers<0.11,>=0.10.1 in /Users/sejaldua/opt/anaconda3/lib/python3.8/site-packages (from transformers<5.0.0,>=3.1.0->sentence-transformers>=0.4.1->bertopic) (0.10.3)\n",
      "Requirement already satisfied: regex!=2019.12.17 in /Users/sejaldua/opt/anaconda3/lib/python3.8/site-packages (from transformers<5.0.0,>=3.1.0->sentence-transformers>=0.4.1->bertopic) (2021.4.4)\n",
      "Requirement already satisfied: sacremoses in /Users/sejaldua/opt/anaconda3/lib/python3.8/site-packages/sacremoses-0.0.43-py3.8.egg (from transformers<5.0.0,>=3.1.0->sentence-transformers>=0.4.1->bertopic) (0.0.43)\n",
      "Requirement already satisfied: requests in /Users/sejaldua/opt/anaconda3/lib/python3.8/site-packages (from transformers<5.0.0,>=3.1.0->sentence-transformers>=0.4.1->bertopic) (2.25.1)\n",
      "Requirement already satisfied: numba>=0.49 in /Users/sejaldua/opt/anaconda3/lib/python3.8/site-packages (from umap-learn>=0.5.0->bertopic) (0.53.1)\n",
      "Requirement already satisfied: pynndescent>=0.5 in /Users/sejaldua/opt/anaconda3/lib/python3.8/site-packages (from umap-learn>=0.5.0->bertopic) (0.5.4)\n",
      "Requirement already satisfied: setuptools in /Users/sejaldua/opt/anaconda3/lib/python3.8/site-packages (from numba>=0.49->umap-learn>=0.5.0->bertopic) (52.0.0.post20210125)\n",
      "Requirement already satisfied: llvmlite<0.37,>=0.36.0rc1 in /Users/sejaldua/opt/anaconda3/lib/python3.8/site-packages (from numba>=0.49->umap-learn>=0.5.0->bertopic) (0.36.0)\n",
      "Requirement already satisfied: click in /Users/sejaldua/opt/anaconda3/lib/python3.8/site-packages (from nltk->sentence-transformers>=0.4.1->bertopic) (7.1.2)\n",
      "Requirement already satisfied: pyparsing>=2.0.2 in /Users/sejaldua/opt/anaconda3/lib/python3.8/site-packages (from packaging->transformers<5.0.0,>=3.1.0->sentence-transformers>=0.4.1->bertopic) (2.4.7)\n",
      "Requirement already satisfied: chardet<5,>=3.0.2 in /Users/sejaldua/opt/anaconda3/lib/python3.8/site-packages (from requests->transformers<5.0.0,>=3.1.0->sentence-transformers>=0.4.1->bertopic) (4.0.0)\n",
      "Requirement already satisfied: idna<3,>=2.5 in /Users/sejaldua/opt/anaconda3/lib/python3.8/site-packages (from requests->transformers<5.0.0,>=3.1.0->sentence-transformers>=0.4.1->bertopic) (2.10)\n",
      "Requirement already satisfied: certifi>=2017.4.17 in /Users/sejaldua/opt/anaconda3/lib/python3.8/site-packages (from requests->transformers<5.0.0,>=3.1.0->sentence-transformers>=0.4.1->bertopic) (2020.12.5)\n",
      "Requirement already satisfied: urllib3<1.27,>=1.21.1 in /Users/sejaldua/opt/anaconda3/lib/python3.8/site-packages (from requests->transformers<5.0.0,>=3.1.0->sentence-transformers>=0.4.1->bertopic) (1.26.4)\n",
      "Requirement already satisfied: pillow>=5.3.0 in /Users/sejaldua/opt/anaconda3/lib/python3.8/site-packages (from torchvision->sentence-transformers>=0.4.1->bertopic) (8.2.0)\n"
     ]
    }
   ],
   "source": [
    "!pip install bertopic"
   ]
  },
  {
   "cell_type": "code",
   "execution_count": 30,
   "id": "6ef736de",
   "metadata": {},
   "outputs": [
    {
     "name": "stderr",
     "output_type": "stream",
     "text": [
      "/Users/sejaldua/opt/anaconda3/lib/python3.8/site-packages/ipykernel/ipkernel.py:287: DeprecationWarning: `should_run_async` will not call `transform_cell` automatically in the future. Please pass the result to `transformed_cell` argument and any exception that happen during thetransform in `preprocessing_exc_tuple` in IPython 7.17 and above.\n",
      "  and should_run_async(code)\n"
     ]
    },
    {
     "ename": "ImportError",
     "evalue": "cannot import name '_BaseLazyModule' from 'transformers.file_utils' (/Users/sejaldua/opt/anaconda3/lib/python3.8/site-packages/transformers/file_utils.py)",
     "output_type": "error",
     "traceback": [
      "\u001b[0;31m---------------------------------------------------------------------------\u001b[0m",
      "\u001b[0;31mImportError\u001b[0m                               Traceback (most recent call last)",
      "\u001b[0;32m<ipython-input-30-1d2f5f7c9d67>\u001b[0m in \u001b[0;36m<module>\u001b[0;34m\u001b[0m\n\u001b[0;32m----> 1\u001b[0;31m \u001b[0;32mfrom\u001b[0m \u001b[0mbertopic\u001b[0m \u001b[0;32mimport\u001b[0m \u001b[0mBERTopic\u001b[0m\u001b[0;34m\u001b[0m\u001b[0;34m\u001b[0m\u001b[0m\n\u001b[0m",
      "\u001b[0;32m~/opt/anaconda3/lib/python3.8/site-packages/bertopic/__init__.py\u001b[0m in \u001b[0;36m<module>\u001b[0;34m\u001b[0m\n\u001b[0;32m----> 1\u001b[0;31m \u001b[0;32mfrom\u001b[0m \u001b[0mbertopic\u001b[0m\u001b[0;34m.\u001b[0m\u001b[0m_bertopic\u001b[0m \u001b[0;32mimport\u001b[0m \u001b[0mBERTopic\u001b[0m\u001b[0;34m\u001b[0m\u001b[0;34m\u001b[0m\u001b[0m\n\u001b[0m\u001b[1;32m      2\u001b[0m \u001b[0;32mfrom\u001b[0m \u001b[0mbertopic\u001b[0m\u001b[0;34m.\u001b[0m\u001b[0m_ctfidf\u001b[0m \u001b[0;32mimport\u001b[0m \u001b[0mClassTFIDF\u001b[0m\u001b[0;34m\u001b[0m\u001b[0;34m\u001b[0m\u001b[0m\n\u001b[1;32m      3\u001b[0m \u001b[0;32mfrom\u001b[0m \u001b[0mbertopic\u001b[0m\u001b[0;34m.\u001b[0m\u001b[0m_embeddings\u001b[0m \u001b[0;32mimport\u001b[0m \u001b[0mlanguages\u001b[0m\u001b[0;34m\u001b[0m\u001b[0;34m\u001b[0m\u001b[0m\n\u001b[1;32m      4\u001b[0m \u001b[0;34m\u001b[0m\u001b[0m\n\u001b[1;32m      5\u001b[0m \u001b[0m__version__\u001b[0m \u001b[0;34m=\u001b[0m \u001b[0;34m\"0.6.0\"\u001b[0m\u001b[0;34m\u001b[0m\u001b[0;34m\u001b[0m\u001b[0m\n",
      "\u001b[0;32m~/opt/anaconda3/lib/python3.8/site-packages/bertopic/_bertopic.py\u001b[0m in \u001b[0;36m<module>\u001b[0;34m\u001b[0m\n\u001b[1;32m     14\u001b[0m \u001b[0;32mimport\u001b[0m \u001b[0mumap\u001b[0m\u001b[0;34m\u001b[0m\u001b[0;34m\u001b[0m\u001b[0m\n\u001b[1;32m     15\u001b[0m \u001b[0;32mimport\u001b[0m \u001b[0mhdbscan\u001b[0m\u001b[0;34m\u001b[0m\u001b[0;34m\u001b[0m\u001b[0m\n\u001b[0;32m---> 16\u001b[0;31m \u001b[0;32mfrom\u001b[0m \u001b[0msentence_transformers\u001b[0m \u001b[0;32mimport\u001b[0m \u001b[0mSentenceTransformer\u001b[0m\u001b[0;34m\u001b[0m\u001b[0;34m\u001b[0m\u001b[0m\n\u001b[0m\u001b[1;32m     17\u001b[0m \u001b[0;32mfrom\u001b[0m \u001b[0msklearn\u001b[0m\u001b[0;34m.\u001b[0m\u001b[0mfeature_extraction\u001b[0m\u001b[0;34m.\u001b[0m\u001b[0mtext\u001b[0m \u001b[0;32mimport\u001b[0m \u001b[0mCountVectorizer\u001b[0m\u001b[0;34m\u001b[0m\u001b[0;34m\u001b[0m\u001b[0m\n\u001b[1;32m     18\u001b[0m \u001b[0;32mfrom\u001b[0m \u001b[0msklearn\u001b[0m\u001b[0;34m.\u001b[0m\u001b[0mmetrics\u001b[0m\u001b[0;34m.\u001b[0m\u001b[0mpairwise\u001b[0m \u001b[0;32mimport\u001b[0m \u001b[0mcosine_similarity\u001b[0m\u001b[0;34m\u001b[0m\u001b[0;34m\u001b[0m\u001b[0m\n",
      "\u001b[0;32m~/opt/anaconda3/lib/python3.8/site-packages/sentence_transformers/__init__.py\u001b[0m in \u001b[0;36m<module>\u001b[0;34m\u001b[0m\n\u001b[1;32m      1\u001b[0m \u001b[0m__version__\u001b[0m \u001b[0;34m=\u001b[0m \u001b[0;34m\"1.2.1\"\u001b[0m\u001b[0;34m\u001b[0m\u001b[0;34m\u001b[0m\u001b[0m\n\u001b[1;32m      2\u001b[0m \u001b[0m__DOWNLOAD_SERVER__\u001b[0m \u001b[0;34m=\u001b[0m \u001b[0;34m'http://sbert.net/models/'\u001b[0m\u001b[0;34m\u001b[0m\u001b[0;34m\u001b[0m\u001b[0m\n\u001b[0;32m----> 3\u001b[0;31m \u001b[0;32mfrom\u001b[0m \u001b[0;34m.\u001b[0m\u001b[0mdatasets\u001b[0m \u001b[0;32mimport\u001b[0m \u001b[0mSentencesDataset\u001b[0m\u001b[0;34m,\u001b[0m \u001b[0mParallelSentencesDataset\u001b[0m\u001b[0;34m\u001b[0m\u001b[0;34m\u001b[0m\u001b[0m\n\u001b[0m\u001b[1;32m      4\u001b[0m \u001b[0;32mfrom\u001b[0m \u001b[0;34m.\u001b[0m\u001b[0mLoggingHandler\u001b[0m \u001b[0;32mimport\u001b[0m \u001b[0mLoggingHandler\u001b[0m\u001b[0;34m\u001b[0m\u001b[0;34m\u001b[0m\u001b[0m\n\u001b[1;32m      5\u001b[0m \u001b[0;32mfrom\u001b[0m \u001b[0;34m.\u001b[0m\u001b[0mSentenceTransformer\u001b[0m \u001b[0;32mimport\u001b[0m \u001b[0mSentenceTransformer\u001b[0m\u001b[0;34m\u001b[0m\u001b[0;34m\u001b[0m\u001b[0m\n",
      "\u001b[0;32m~/opt/anaconda3/lib/python3.8/site-packages/sentence_transformers/datasets/__init__.py\u001b[0m in \u001b[0;36m<module>\u001b[0;34m\u001b[0m\n\u001b[1;32m      1\u001b[0m \u001b[0;32mfrom\u001b[0m \u001b[0;34m.\u001b[0m\u001b[0mDenoisingAutoEncoderDataset\u001b[0m \u001b[0;32mimport\u001b[0m \u001b[0mDenoisingAutoEncoderDataset\u001b[0m\u001b[0;34m\u001b[0m\u001b[0;34m\u001b[0m\u001b[0m\n\u001b[1;32m      2\u001b[0m \u001b[0;32mfrom\u001b[0m \u001b[0;34m.\u001b[0m\u001b[0mNoDuplicatesDataLoader\u001b[0m \u001b[0;32mimport\u001b[0m \u001b[0mNoDuplicatesDataLoader\u001b[0m\u001b[0;34m\u001b[0m\u001b[0;34m\u001b[0m\u001b[0m\n\u001b[0;32m----> 3\u001b[0;31m \u001b[0;32mfrom\u001b[0m \u001b[0;34m.\u001b[0m\u001b[0mParallelSentencesDataset\u001b[0m \u001b[0;32mimport\u001b[0m \u001b[0mParallelSentencesDataset\u001b[0m\u001b[0;34m\u001b[0m\u001b[0;34m\u001b[0m\u001b[0m\n\u001b[0m\u001b[1;32m      4\u001b[0m \u001b[0;32mfrom\u001b[0m \u001b[0;34m.\u001b[0m\u001b[0mSentencesDataset\u001b[0m \u001b[0;32mimport\u001b[0m \u001b[0mSentencesDataset\u001b[0m\u001b[0;34m\u001b[0m\u001b[0;34m\u001b[0m\u001b[0m\n\u001b[1;32m      5\u001b[0m \u001b[0;32mfrom\u001b[0m \u001b[0;34m.\u001b[0m\u001b[0mSentenceLabelDataset\u001b[0m \u001b[0;32mimport\u001b[0m \u001b[0mSentenceLabelDataset\u001b[0m\u001b[0;34m\u001b[0m\u001b[0;34m\u001b[0m\u001b[0m\n",
      "\u001b[0;32m~/opt/anaconda3/lib/python3.8/site-packages/sentence_transformers/datasets/ParallelSentencesDataset.py\u001b[0m in \u001b[0;36m<module>\u001b[0;34m\u001b[0m\n\u001b[1;32m      2\u001b[0m \u001b[0;32mimport\u001b[0m \u001b[0mlogging\u001b[0m\u001b[0;34m\u001b[0m\u001b[0;34m\u001b[0m\u001b[0m\n\u001b[1;32m      3\u001b[0m \u001b[0;32mimport\u001b[0m \u001b[0mgzip\u001b[0m\u001b[0;34m\u001b[0m\u001b[0;34m\u001b[0m\u001b[0m\n\u001b[0;32m----> 4\u001b[0;31m \u001b[0;32mfrom\u001b[0m \u001b[0;34m.\u001b[0m\u001b[0;34m.\u001b[0m \u001b[0;32mimport\u001b[0m \u001b[0mSentenceTransformer\u001b[0m\u001b[0;34m\u001b[0m\u001b[0;34m\u001b[0m\u001b[0m\n\u001b[0m\u001b[1;32m      5\u001b[0m \u001b[0;32mfrom\u001b[0m \u001b[0;34m.\u001b[0m\u001b[0;34m.\u001b[0m\u001b[0mreaders\u001b[0m \u001b[0;32mimport\u001b[0m \u001b[0mInputExample\u001b[0m\u001b[0;34m\u001b[0m\u001b[0;34m\u001b[0m\u001b[0m\n\u001b[1;32m      6\u001b[0m \u001b[0;32mfrom\u001b[0m \u001b[0mtyping\u001b[0m \u001b[0;32mimport\u001b[0m \u001b[0mList\u001b[0m\u001b[0;34m\u001b[0m\u001b[0;34m\u001b[0m\u001b[0m\n",
      "\u001b[0;32m~/opt/anaconda3/lib/python3.8/site-packages/sentence_transformers/SentenceTransformer.py\u001b[0m in \u001b[0;36m<module>\u001b[0;34m\u001b[0m\n\u001b[1;32m      9\u001b[0m \u001b[0;32mimport\u001b[0m \u001b[0mnumpy\u001b[0m \u001b[0;32mas\u001b[0m \u001b[0mnp\u001b[0m\u001b[0;34m\u001b[0m\u001b[0;34m\u001b[0m\u001b[0m\n\u001b[1;32m     10\u001b[0m \u001b[0;32mfrom\u001b[0m \u001b[0mnumpy\u001b[0m \u001b[0;32mimport\u001b[0m \u001b[0mndarray\u001b[0m\u001b[0;34m\u001b[0m\u001b[0;34m\u001b[0m\u001b[0m\n\u001b[0;32m---> 11\u001b[0;31m \u001b[0;32mimport\u001b[0m \u001b[0mtransformers\u001b[0m\u001b[0;34m\u001b[0m\u001b[0;34m\u001b[0m\u001b[0m\n\u001b[0m\u001b[1;32m     12\u001b[0m \u001b[0;32mimport\u001b[0m \u001b[0mtorch\u001b[0m\u001b[0;34m\u001b[0m\u001b[0;34m\u001b[0m\u001b[0m\n\u001b[1;32m     13\u001b[0m \u001b[0;32mfrom\u001b[0m \u001b[0mtorch\u001b[0m \u001b[0;32mimport\u001b[0m \u001b[0mnn\u001b[0m\u001b[0;34m,\u001b[0m \u001b[0mTensor\u001b[0m\u001b[0;34m,\u001b[0m \u001b[0mdevice\u001b[0m\u001b[0;34m\u001b[0m\u001b[0;34m\u001b[0m\u001b[0m\n",
      "\u001b[0;32m~/opt/anaconda3/lib/python3.8/site-packages/transformers/__init__.py\u001b[0m in \u001b[0;36m<module>\u001b[0;34m\u001b[0m\n\u001b[1;32m     42\u001b[0m \u001b[0;31m# Check the dependencies satisfy the minimal versions required.\u001b[0m\u001b[0;34m\u001b[0m\u001b[0;34m\u001b[0m\u001b[0;34m\u001b[0m\u001b[0m\n\u001b[1;32m     43\u001b[0m \u001b[0;32mfrom\u001b[0m \u001b[0;34m.\u001b[0m \u001b[0;32mimport\u001b[0m \u001b[0mdependency_versions_check\u001b[0m\u001b[0;34m\u001b[0m\u001b[0;34m\u001b[0m\u001b[0m\n\u001b[0;32m---> 44\u001b[0;31m from .file_utils import (\n\u001b[0m\u001b[1;32m     45\u001b[0m     \u001b[0m_BaseLazyModule\u001b[0m\u001b[0;34m,\u001b[0m\u001b[0;34m\u001b[0m\u001b[0;34m\u001b[0m\u001b[0m\n\u001b[1;32m     46\u001b[0m     \u001b[0mis_flax_available\u001b[0m\u001b[0;34m,\u001b[0m\u001b[0;34m\u001b[0m\u001b[0;34m\u001b[0m\u001b[0m\n",
      "\u001b[0;31mImportError\u001b[0m: cannot import name '_BaseLazyModule' from 'transformers.file_utils' (/Users/sejaldua/opt/anaconda3/lib/python3.8/site-packages/transformers/file_utils.py)"
     ]
    }
   ],
   "source": [
    "from bertopic import BERTopic"
   ]
  },
  {
   "cell_type": "code",
   "execution_count": null,
   "id": "8d716349",
   "metadata": {},
   "outputs": [],
   "source": [
    "titles = df.Title.to_list()"
   ]
  },
  {
   "cell_type": "code",
   "execution_count": null,
   "id": "2a7bd5b3",
   "metadata": {},
   "outputs": [],
   "source": [
    "topic_model = BERTopic(verbose=True)\n",
    "topics, probs = topic_model.fit_transform(titles)"
   ]
  },
  {
   "cell_type": "code",
   "execution_count": null,
   "id": "9cbd9e5a",
   "metadata": {},
   "outputs": [],
   "source": [
    "dates = df['Date'].apply(lambda x: pd.Timestamp(x))\n",
    "topics_over_time = topic_model.topics_over_time(titles, topics, dates, nr_bins=20)\n"
   ]
  },
  {
   "cell_type": "code",
   "execution_count": null,
   "id": "2a859029",
   "metadata": {},
   "outputs": [],
   "source": [
    "topic_model.visualize_topics_over_time(topics_over_time)"
   ]
  },
  {
   "cell_type": "code",
   "execution_count": null,
   "id": "18a3f1d4",
   "metadata": {},
   "outputs": [],
   "source": []
  }
 ],
 "metadata": {
  "kernelspec": {
   "display_name": "Python 3",
   "language": "python",
   "name": "python3"
  },
  "language_info": {
   "codemirror_mode": {
    "name": "ipython",
    "version": 3
   },
   "file_extension": ".py",
   "mimetype": "text/x-python",
   "name": "python",
   "nbconvert_exporter": "python",
   "pygments_lexer": "ipython3",
   "version": "3.8.8"
  }
 },
 "nbformat": 4,
 "nbformat_minor": 5
}
